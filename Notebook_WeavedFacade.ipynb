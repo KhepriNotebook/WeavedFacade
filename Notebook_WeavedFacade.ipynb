{
 "cells": [
  {
   "cell_type": "markdown",
   "metadata": {},
   "source": [
    "# Packages"
   ]
  },
  {
   "cell_type": "markdown",
   "metadata": {},
   "source": [
    "## Install Packages"
   ]
  },
  {
   "cell_type": "code",
   "execution_count": null,
   "metadata": {},
   "outputs": [],
   "source": [
    "using Pkg"
   ]
  },
  {
   "cell_type": "code",
   "execution_count": null,
   "metadata": {},
   "outputs": [],
   "source": [
    "Pkg.add(\"CSV\")"
   ]
  },
  {
   "cell_type": "code",
   "execution_count": null,
   "metadata": {},
   "outputs": [],
   "source": [
    "Pkg.add(\"DataFrames\")"
   ]
  },
  {
   "cell_type": "code",
   "execution_count": null,
   "metadata": {},
   "outputs": [],
   "source": [
    "Pkg.add(\"WebIO\")"
   ]
  },
  {
   "cell_type": "code",
   "execution_count": null,
   "metadata": {},
   "outputs": [],
   "source": [
    "Pkg.add(\"PlotlyJS\")"
   ]
  },
  {
   "cell_type": "code",
   "execution_count": null,
   "metadata": {},
   "outputs": [],
   "source": [
    "Pkg.add(\"Interact\")"
   ]
  },
  {
   "cell_type": "code",
   "execution_count": null,
   "metadata": {},
   "outputs": [],
   "source": [
    "Pkg.add(PackageSpec(url=\"https://github.com/aptmcl/Khepri.jl#17885373412daf334663a8b68672542bc8e7861a\"))"
   ]
  },
  {
   "cell_type": "markdown",
   "metadata": {},
   "source": [
    "## Using Packages"
   ]
  },
  {
   "cell_type": "code",
   "execution_count": null,
   "metadata": {},
   "outputs": [],
   "source": [
    "using Logging"
   ]
  },
  {
   "cell_type": "code",
   "execution_count": null,
   "metadata": {},
   "outputs": [],
   "source": [
    "Logging.disable_logging(Logging.Info)"
   ]
  },
  {
   "cell_type": "code",
   "execution_count": null,
   "metadata": {},
   "outputs": [],
   "source": [
    "using CSV"
   ]
  },
  {
   "cell_type": "code",
   "execution_count": null,
   "metadata": {},
   "outputs": [],
   "source": [
    "using DataFrames"
   ]
  },
  {
   "cell_type": "code",
   "execution_count": null,
   "metadata": {},
   "outputs": [],
   "source": [
    "using WebIO"
   ]
  },
  {
   "cell_type": "code",
   "execution_count": null,
   "metadata": {},
   "outputs": [],
   "source": [
    "using PlotlyJS"
   ]
  },
  {
   "cell_type": "code",
   "execution_count": null,
   "metadata": {},
   "outputs": [],
   "source": [
    "using Interact"
   ]
  },
  {
   "cell_type": "code",
   "execution_count": null,
   "metadata": {},
   "outputs": [],
   "source": [
    "using Base.Iterators"
   ]
  },
  {
   "cell_type": "code",
   "execution_count": null,
   "metadata": {},
   "outputs": [],
   "source": [
    "using Khepri"
   ]
  },
  {
   "cell_type": "code",
   "execution_count": null,
   "metadata": {},
   "outputs": [],
   "source": [
    "# Read the Julia file that contains the facade function\n",
    "include(\"resources/optimization_facade.jl\")"
   ]
  },
  {
   "cell_type": "code",
   "execution_count": null,
   "metadata": {},
   "outputs": [],
   "source": [
    "# Read the Julia file that contains the optimzation functios\n",
    "include(\"resources/optimization_main_functions.jl\")"
   ]
  },
  {
   "cell_type": "markdown",
   "metadata": {},
   "source": [
    "# Macros"
   ]
  },
  {
   "cell_type": "code",
   "execution_count": null,
   "metadata": {},
   "outputs": [],
   "source": [
    "avoid_tests = Parameter(true)\n",
    "\n",
    "macro test(expr...)\n",
    "  quote\n",
    "    if !avoid_tests() \n",
    "        begin\n",
    "            $(esc(expr...))\n",
    "        end\n",
    "    end\n",
    "  end\n",
    "end  "
   ]
  },
  {
   "cell_type": "code",
   "execution_count": null,
   "metadata": {},
   "outputs": [],
   "source": [
    "# avoid_tests(true)"
   ]
  },
  {
   "cell_type": "code",
   "execution_count": null,
   "metadata": {},
   "outputs": [],
   "source": [
    "avoid_tests(false)"
   ]
  },
  {
   "cell_type": "markdown",
   "metadata": {},
   "source": [
    "# Weaved Façade"
   ]
  },
  {
   "cell_type": "markdown",
   "metadata": {},
   "source": [
    "This design consists of a building envelope inspired by weaving techniques. Weaving is a traditional art technique wherein elements are interweaved following different strategies, creating 2D or 3D structures that benefit from both the material’s stiffness and color to create different textures/patterns."
   ]
  },
  {
   "cell_type": "markdown",
   "metadata": {},
   "source": [
    "| inspiration 1                                     | inspiration 2                                     |\n",
    "|---------------------------------------------------|---------------------------------------------------|\n",
    "| <img src=\"./figures/weave_01.png\" width=\"300\">    | <img src=\"./figures/weave_02.jpg\" width=\"400\">    |"
   ]
  },
  {
   "cell_type": "markdown",
   "metadata": {},
   "source": [
    "Our weaving façade explores the application of this technique in architecture, namely, the tectonic and visual expressivities of weaving to generate a building skin with multiple geometric patterns and performance behaviors. Our façade design plays with the flexible nature of the weave-based patterns to manipulate shading, ventilation, and lighting proprieties inside the building."
   ]
  },
  {
   "cell_type": "markdown",
   "metadata": {},
   "source": [
    "|                                               |                                               |\n",
    "|-----------------------------------------------|-----------------------------------------------|\n",
    "| <img src=\"./figures/draw_01.png\" width=\"500\"> | <img src=\"./figures/draw_02.png\" width=\"280\"> |"
   ]
  },
  {
   "cell_type": "markdown",
   "metadata": {},
   "source": [
    "|                                               |                                               |\n",
    "|-----------------------------------------------|-----------------------------------------------|\n",
    "| <img src=\"./figures/draw_03.png\" width=\"500\"> | <img src=\"./figures/draw_04.png\" width=\"300\"> |"
   ]
  },
  {
   "cell_type": "markdown",
   "metadata": {},
   "source": [
    "# Algorithmic Description"
   ]
  },
  {
   "cell_type": "markdown",
   "metadata": {},
   "source": [
    "## Main Functions\n",
    "\n",
    "This section contains the main functions used to describe the weaved façade."
   ]
  },
  {
   "cell_type": "code",
   "execution_count": null,
   "metadata": {},
   "outputs": [],
   "source": [
    "transpose_matrix(matrix) =\n",
    "    [[row[i] for row in matrix]\n",
    "    for i in 1:length(matrix[1])]"
   ]
  },
  {
   "cell_type": "code",
   "execution_count": null,
   "metadata": {},
   "outputs": [],
   "source": [
    "normals_surface(ptss)=\n",
    "    [[quad_normal(p0,p1,p2,p3)\n",
    "        for (p0,p1,p2,p3) in zip(pts[1:end-1],pts[2:end], next_pts[2:end], next_pts[1:end-1])]\n",
    "    for (pts,next_pts) in zip(ptss[1:end-1],ptss[2:end])]"
   ]
  },
  {
   "cell_type": "code",
   "execution_count": null,
   "metadata": {},
   "outputs": [],
   "source": [
    "normals_surface_extra_row(ptss)=\n",
    "    let ptss1 = [vcat(pts,pts[end]) for pts in normals_surface(ptss)]\n",
    "      [ptss1..., ptss1[end]]\n",
    "  end"
   ]
  },
  {
   "cell_type": "markdown",
   "metadata": {},
   "source": [
    "Description of parametric surfaces:"
   ]
  },
  {
   "cell_type": "code",
   "execution_count": null,
   "metadata": {},
   "outputs": [],
   "source": [
    "struct Surf\n",
    "    f::Function\n",
    "    u0::Real\n",
    "    u1::Real\n",
    "    v0::Real\n",
    "    v1::Real\n",
    "end"
   ]
  },
  {
   "cell_type": "code",
   "execution_count": null,
   "metadata": {},
   "outputs": [],
   "source": [
    "sub_surf(f::Function, u0::Real, u1::Real, v0::Real, v1::Real)=\n",
    "    Surf(f, u0, u1, v0, v1)"
   ]
  },
  {
   "cell_type": "code",
   "execution_count": null,
   "metadata": {},
   "outputs": [],
   "source": [
    "surf_pts(f::Function, u0::Real, u1::Real, v0::Real, v1::Real, n::Int, m::Int)=\n",
    "    map_division(f, u0, u1, n, v0, v1, m)"
   ]
  },
  {
   "cell_type": "markdown",
   "metadata": {},
   "source": [
    "## Function that Creates the Axis of One Stripe"
   ]
  },
  {
   "cell_type": "code",
   "execution_count": null,
   "metadata": {},
   "outputs": [],
   "source": [
    "backend(notebook)"
   ]
  },
  {
   "cell_type": "code",
   "execution_count": null,
   "metadata": {},
   "outputs": [],
   "source": [
    "render_size(600, 400)"
   ]
  },
  {
   "cell_type": "markdown",
   "metadata": {},
   "source": [
    "* Façade composed of stripe-shaped elements\n",
    "* Undulating movement on the stripe's axis\n",
    "* Stripe’s original and undulating axes, represented by points"
   ]
  },
  {
   "cell_type": "markdown",
   "metadata": {},
   "source": [
    "| Spatial locations of the undulating shape.        |\n",
    "|---------------------------------------------------|\n",
    "| <img src=\"./figures/sketches/01.png\" width=\"200\"> |"
   ]
  },
  {
   "cell_type": "code",
   "execution_count": null,
   "metadata": {},
   "outputs": [],
   "source": [
    "@test begin\n",
    "ptss = map_division(xz, 0, 10, 10, 0, 10, 10)\n",
    "nothing\n",
    "end"
   ]
  },
  {
   "cell_type": "markdown",
   "metadata": {},
   "source": [
    "### Version 1 (only amplitude)"
   ]
  },
  {
   "cell_type": "markdown",
   "metadata": {},
   "source": [
    "__Parameters:__ points and an amplitude value of the sinusoid\n",
    "\n",
    "The algorithm moves the points in opposite perpendicular directions alternately, returning them as a new list of points"
   ]
  },
  {
   "cell_type": "markdown",
   "metadata": {},
   "source": [
    "| Sinusodial movement.                              |\n",
    "|---------------------------------------------------|\n",
    "| <img src=\"./figures/sketches/02.png\" width=\"400\"> |"
   ]
  },
  {
   "cell_type": "code",
   "execution_count": null,
   "metadata": {},
   "outputs": [],
   "source": [
    "stripe_2D_pts(pts, amp) =\n",
    "    [let p1 = pt1 + vy(amp),\n",
    "         p2 = pt2 - vy(amp)\n",
    "      [p1, intermediate_loc(p1, p2, 0.5)]\n",
    "     end\n",
    "     for (pt1, pt2)\n",
    "     in zip(pts, [pts[2:end]...,pts[end]])]"
   ]
  },
  {
   "cell_type": "markdown",
   "metadata": {},
   "source": [
    "Test `stripe_2D_pts` function.\n",
    "The expected result is a 2D undulating spline:"
   ]
  },
  {
   "cell_type": "code",
   "execution_count": null,
   "metadata": {
    "scrolled": false
   },
   "outputs": [],
   "source": [
    "@test begin\n",
    "new_backend()\n",
    "\n",
    "pts = ptss[1]\n",
    "\n",
    "@manipulate for amp=widget(0:0.01:1, label=\"Spline Amplitude\")\n",
    "                delete_all_shapes()\n",
    "                spline(vcat(stripe_2D_pts(pts, amp)...)[1:end-1])\n",
    "                nothing\n",
    "            end\n",
    "end"
   ]
  },
  {
   "cell_type": "markdown",
   "metadata": {},
   "source": [
    "Expected result:\n",
    "\n",
    "<img src=\"./figures/examples/spline01.png\" width=\"400\">"
   ]
  },
  {
   "cell_type": "markdown",
   "metadata": {},
   "source": [
    "### Version 2 (amplitude and undulating movement)"
   ]
  },
  {
   "cell_type": "markdown",
   "metadata": {},
   "source": [
    "__Parameters:__ points, amplitude, and bending pattern\n",
    "\n",
    "The algorithm creates undulating movements passing every one, two, or three stripes, and so on. The undulating movement is defined by the bending pattern rule (this can include irregular patterns)."
   ]
  },
  {
   "cell_type": "markdown",
   "metadata": {},
   "source": [
    "| Double and triple space undulating patterns.      | Irregular undulating patterns.                    |\n",
    "|---------------------------------------------------|---------------------------------------------------|\n",
    "| <img src=\"./figures/sketches/03.png\" width=\"360\"> | <img src=\"./figures/sketches/04.png\" width=\"200\"> |"
   ]
  },
  {
   "cell_type": "code",
   "execution_count": null,
   "metadata": {},
   "outputs": [],
   "source": [
    "stripe_2D_pts(pts, amp, bending_pattern) =\n",
    "    [let p1 = pt1 + up_or_down*vy(amp),\n",
    "         p2 = pt2 + next_up_or_down*vy(amp)\n",
    "      [p1, intermediate_loc(p1, p2, 0.5)]\n",
    "     end\n",
    "     for (pt1, pt2, up_or_down, next_up_or_down)\n",
    "     in zip(pts,\n",
    "            [pts[2:end]...,pts[end]],\n",
    "            cycle(bending_pattern),\n",
    "            cycle([bending_pattern[2:end]...,bending_pattern[1]]))]"
   ]
  },
  {
   "cell_type": "markdown",
   "metadata": {},
   "source": [
    "Test `stripe_2D_pts` function.\n",
    "The expected results are 2D splines with different undulating movements."
   ]
  },
  {
   "cell_type": "code",
   "execution_count": null,
   "metadata": {},
   "outputs": [],
   "source": [
    "@test begin\n",
    "    \n",
    "new_backend()\n",
    "\n",
    "@manipulate for amp0=widget(0:0.01:1, label=\"Spline1 Amplitude\"),\n",
    "                amp1=widget(0:0.01:1, label=\"Spline2 Amplitude\"),\n",
    "                amp2=widget(0:0.01:1, label=\"Spline3 Amplitude\"),\n",
    "                amp3=widget(0:0.01:1, label=\"Spline4 Amplitude\")\n",
    "                delete_all_shapes()\n",
    "        \n",
    "                pts = ptss[2]\n",
    "                spline(vcat(stripe_2D_pts(pts, amp0, [+1,-1])...)[1:end-1])\n",
    "    \n",
    "                pts = ptss[3]\n",
    "                spline(vcat(stripe_2D_pts(pts, amp1, [+1,+1,-1,-1])...)[1:end-1])\n",
    "    \n",
    "                pts = ptss[4]\n",
    "                spline(vcat(stripe_2D_pts(pts, amp2, [+1,+1,+1,-1,-1])...)[1:end-1])\n",
    "\n",
    "                pts = ptss[5]\n",
    "                spline(vcat(stripe_2D_pts(pts, amp3, [+1,+1,-1,-1,-1,-1])...)[1:end-1])\n",
    "                nothing\n",
    "            end\n",
    "    \n",
    "end"
   ]
  },
  {
   "cell_type": "markdown",
   "metadata": {},
   "source": [
    "Expected result:\n",
    "\n",
    "<img src=\"./figures/examples/splines01.png\" width=\"400\">"
   ]
  },
  {
   "cell_type": "markdown",
   "metadata": {},
   "source": [
    "### Version 3 (amplitude, undulating movement, and undulating direction)"
   ]
  },
  {
   "cell_type": "markdown",
   "metadata": {},
   "source": [
    "__Parameters:__ points, amplitude, bending pattern, and normal vectors\n",
    "\n",
    "This version of the algorithm adapts to any plan or surface. The additional argument describes the direction in which each point should move. `nvs_stripe` should be an array of vector functions."
   ]
  },
  {
   "cell_type": "markdown",
   "metadata": {},
   "source": [
    "| Normal vectors.                                   |\n",
    "|---------------------------------------------------|\n",
    "| <img src=\"./figures/sketches/05.png\" width=\"400\"> |"
   ]
  },
  {
   "cell_type": "code",
   "execution_count": null,
   "metadata": {},
   "outputs": [],
   "source": [
    "stripe_2D_pts(pts, amp, bending_pattern, nvs_stripe) =\n",
    "    [let p1 = pt1 + nv*up_or_down*amp,\n",
    "         p2 = pt2 + nv*next_up_or_down*amp\n",
    "      [p1, intermediate_loc(p1, p2, 0.5)]\n",
    "     end\n",
    "     for (pt1, pt2, nv, up_or_down, next_up_or_down)\n",
    "     in zip(pts,\n",
    "            [pts[2:end]...,pts[end]],\n",
    "            nvs_stripe,\n",
    "            cycle(bending_pattern),\n",
    "            cycle([bending_pattern[2:end]...,bending_pattern[1]]))]"
   ]
  },
  {
   "cell_type": "markdown",
   "metadata": {},
   "source": [
    "Test `stripe_2D_pts` function.\n",
    "The expected results are 2D splines oriented according to different normal vectors."
   ]
  },
  {
   "cell_type": "code",
   "execution_count": null,
   "metadata": {},
   "outputs": [],
   "source": [
    "@test begin\n",
    "new_backend()\n",
    "\n",
    "ptss = map_division((i,j)->xyz(i,i,j), 0, 10, 10, 0, 10, 10)\n",
    "vss = normals_surface_extra_row(ptss)\n",
    "\n",
    "pts = ptss[1]\n",
    "vs = vss[1]\n",
    "spline(vcat(stripe_2D_pts(pts, 1, [+1,-1], vs)...))\n",
    "\n",
    "pts = ptss[2]\n",
    "vs = vss[2]\n",
    "spline(vcat(stripe_2D_pts(pts, 1, [+1,+1,-1,-1], vs)...)[1:end-1])\n",
    "\n",
    "pts = ptss[3]\n",
    "vs = vss[3]\n",
    "spline(vcat(stripe_2D_pts(pts, 1, [+1,+1,+1,-1,-1], vs)...)[1:end-1])\n",
    "\n",
    "pts = ptss[4]\n",
    "vs = vss[4]\n",
    "spline(vcat(stripe_2D_pts(pts, 1, [+1,+1,-1,-1,-1,-1], vs)...)[1:end-1])\n",
    "\n",
    "end"
   ]
  },
  {
   "cell_type": "markdown",
   "metadata": {},
   "source": [
    "Expected result:\n",
    "\n",
    "<img src=\"./figures/examples/splines02.png\" width=\"400\">"
   ]
  },
  {
   "cell_type": "markdown",
   "metadata": {},
   "source": [
    "## Function that Creates the Axes of n Stripes in One of the Domain's Direction"
   ]
  },
  {
   "cell_type": "markdown",
   "metadata": {},
   "source": [
    "__Parameters:__ Points, amplitude, and the weave pattern.\n",
    "\n",
    "* two-dimensional distribution of points: matrix of points instead of an array of points\n",
    "* Stripes’ movement: all-ones matrix\n",
    "* Amplitude of the undulating movement\n",
    "* Normal vectors are calculated automatically\n",
    "* The output is another matrix of points containing the moved points\n"
   ]
  },
  {
   "cell_type": "markdown",
   "metadata": {},
   "source": [
    "| Matrix of points.                                 | Weave pattern matrix.                             |\n",
    "|---------------------------------------------------|---------------------------------------------------|\n",
    "| <img src=\"./figures/sketches/06.png\" width=\"200\"> | <img src=\"./figures/sketches/07.png\" width=\"300\"> |\n",
    "\n",
    "| Application of the stripe_2d_pts function.        | Calculate normal vector.                          |\n",
    "|---------------------------------------------------|---------------------------------------------------|\n",
    "| <img src=\"./figures/sketches/08.png\" width=\"350\"> | <img src=\"./figures/sketches/09.png\" width=\"200\"> | "
   ]
  },
  {
   "cell_type": "code",
   "execution_count": null,
   "metadata": {},
   "outputs": [],
   "source": [
    "stripes_2D_ptss(ptss, amp, weave_pattern)=\n",
    "    let nvs = normals_surface_extra_row(ptss)\n",
    "      [vcat(stripe_2D_pts(pts, amp, bending_pattern, nv_surf)...)[1:end-1]\n",
    "       for (pts, nv_surf, bending_pattern) in zip(ptss, nvs, cycle(weave_pattern))]\n",
    "    end"
   ]
  },
  {
   "cell_type": "markdown",
   "metadata": {},
   "source": [
    "Test `stripes_2D_ptss` function.\n",
    "The expected result is a set of parallel splines representing a façade, using the weaving patterns shown below."
   ]
  },
  {
   "cell_type": "markdown",
   "metadata": {},
   "source": [
    "| Weaving pattern examples.                          | \n",
    "|----------------------------------------------------|\n",
    "| <img src=\"./figures/weave_matrix.svg\" width=\"400\"> |"
   ]
  },
  {
   "cell_type": "code",
   "execution_count": null,
   "metadata": {},
   "outputs": [],
   "source": [
    "@test begin\n",
    "new_backend()\n",
    "\n",
    "ptss = map_division(xz, 0, 10, 10, 0, 10, 10)\n",
    "map(i->spline(i), stripes_2D_ptss(ptss, 1, [[+1,-1],[-1,+1]]))\n",
    "nothing\n",
    "    \n",
    "end"
   ]
  },
  {
   "cell_type": "markdown",
   "metadata": {},
   "source": [
    "Expected result:\n",
    "\n",
    "<img src=\"./figures/examples/splines03.png\" width=\"400\">"
   ]
  },
  {
   "cell_type": "code",
   "execution_count": null,
   "metadata": {},
   "outputs": [],
   "source": [
    "@test begin\n",
    "new_backend()\n",
    "\n",
    "ptss = map_division(xz, 12, 22, 10, 0, 10, 10)\n",
    "map(i->spline(i), stripes_2D_ptss(ptss, 1, [[+1,-1,-1],[-1,+1,+1]]))\n",
    "nothing\n",
    "    \n",
    "end"
   ]
  },
  {
   "cell_type": "markdown",
   "metadata": {},
   "source": [
    "Expected result:\n",
    "\n",
    "<img src=\"./figures/examples/splines04.png\" width=\"400\">"
   ]
  },
  {
   "cell_type": "code",
   "execution_count": null,
   "metadata": {},
   "outputs": [],
   "source": [
    "@test begin\n",
    "new_backend()\n",
    "\n",
    "ptss = map_division(xz, 24, 34, 10, 0, 10, 10)\n",
    "map(i->spline(i), stripes_2D_ptss(ptss, 1, [[+1,-1,-1,-1],[-1,+1,+1,+1]]))\n",
    "nothing\n",
    "    \n",
    "end"
   ]
  },
  {
   "cell_type": "markdown",
   "metadata": {},
   "source": [
    "Expected result:\n",
    "\n",
    "<img src=\"./figures/examples/splines05.png\" width=\"400\">"
   ]
  },
  {
   "cell_type": "markdown",
   "metadata": {},
   "source": [
    "## Function that Creates the Axes of n Stripes in Both Domain Directions"
   ]
  },
  {
   "cell_type": "markdown",
   "metadata": {},
   "source": [
    "* Produces n parallel undulating stripes in both domain’s directions\n",
    "* Ensures the stripes do not intersect each other: algorithm applies opposite movement"
   ]
  },
  {
   "cell_type": "markdown",
   "metadata": {},
   "source": [
    "| Domain, and domain sub-division.                  |\n",
    "|---------------------------------------------------|\n",
    "| <img src=\"./figures/sketches/10.png\" width=\"500\"> |"
   ]
  },
  {
   "cell_type": "markdown",
   "metadata": {},
   "source": [
    "| Alternate movement at each intersection point.    |\n",
    "|---------------------------------------------------|\n",
    "| <img src=\"./figures/sketches/12.png\" width=\"500\"> |"
   ]
  },
  {
   "cell_type": "markdown",
   "metadata": {},
   "source": [
    "### Version 1 (different width values)"
   ]
  },
  {
   "cell_type": "markdown",
   "metadata": {},
   "source": [
    "__Parameters:__ matrix of points, number of stripes (vertical and horizontal), amplitude, weave pattern, and set of width values\n",
    "\n",
    "* Spatial surface defined by the matrix of points\n",
    "* Width values are used to center the stripes' axes\n",
    "* Width set should be composed of two arrays: vertical and horizontal values"
   ]
  },
  {
   "cell_type": "markdown",
   "metadata": {},
   "source": [
    "| Weaving with different stripe widths.             |\n",
    "|---------------------------------------------------|\n",
    "| <img src=\"./figures/sketches/11.png\" width=\"400\"> |"
   ]
  },
  {
   "cell_type": "code",
   "execution_count": null,
   "metadata": {},
   "outputs": [],
   "source": [
    "weave_ptss_centered(s, nu, nv, amp, weave_pattern, stripes_widths) =\n",
    "    let Δu_ini = maximum(stripes_widths[1])/2,\n",
    "        Δv_ini = maximum(stripes_widths[2])/2,\n",
    "        ptss_v = surf_pts(s.f, s.u0 + Δu_ini, s.u1 - Δu_ini, s.v0, s.v1, nu - 1, nv - 1),\n",
    "        ptss_u = transpose_matrix(surf_pts(s.f, s.u0, s.u1, s.v0 + Δv_ini, s.v1 - Δv_ini, nu - 1, nv - 1)),\n",
    "        inverse_weave_pattern = transpose_matrix(weave_pattern)\n",
    "      [stripes_2D_ptss(ptss_v, amp, weave_pattern),\n",
    "       stripes_2D_ptss(ptss_u, amp, inverse_weave_pattern)]\n",
    "   end"
   ]
  },
  {
   "cell_type": "markdown",
   "metadata": {},
   "source": [
    "Test `weave_ptss_centered` function.\n",
    "The expected result is a set of weaved splines."
   ]
  },
  {
   "cell_type": "code",
   "execution_count": null,
   "metadata": {},
   "outputs": [],
   "source": [
    "@test begin\n",
    "new_backend()\n",
    "\n",
    "facade = Surf((i,j)-> xz(i,j), 0, 10, 0, 10)\n",
    "\n",
    "ptss = weave_ptss_centered(facade, 10, 10, 0.1, [[+1,-1],[-1,+1]], [[0.3], [0.3]])\n",
    "\n",
    "map(i->spline(i), ptss[1])\n",
    "map(i->spline(i), ptss[2])\n",
    "nothing    \n",
    "    \n",
    "end"
   ]
  },
  {
   "cell_type": "markdown",
   "metadata": {},
   "source": [
    "Expected result:\n",
    "\n",
    "<img src=\"./figures/examples/splines06.png\" width=\"400\">"
   ]
  },
  {
   "cell_type": "code",
   "execution_count": null,
   "metadata": {},
   "outputs": [],
   "source": [
    "@test begin\n",
    "new_backend()\n",
    "\n",
    "facade = Surf((i,j)-> xz(i,j), 12, 22, 0, 10)\n",
    "\n",
    "ptss = weave_ptss_centered(facade, \n",
    "                           10, 10, 0.1, \n",
    "                           [[+1,+1,-1,-1],\n",
    "                            [-1,-1,+1,+1]], \n",
    "                           [[0.3], \n",
    "                            [0.3]])\n",
    "\n",
    "map(i->spline(i), ptss[1])\n",
    "map(i->spline(i), ptss[2])\n",
    "nothing \n",
    "    \n",
    "end"
   ]
  },
  {
   "cell_type": "markdown",
   "metadata": {},
   "source": [
    "Expected result:\n",
    "\n",
    "<img src=\"./figures/examples/splines07.png\" width=\"400\">"
   ]
  },
  {
   "cell_type": "code",
   "execution_count": null,
   "metadata": {},
   "outputs": [],
   "source": [
    "@test begin\n",
    "new_backend()\n",
    "\n",
    "facade = Surf((i,j)-> xz(i,j), 24, 34, 0, 10)\n",
    "\n",
    "ptss = weave_ptss_centered(facade, \n",
    "                           10, 10, 0.1,\n",
    "                           [[+1,+1,+1,-1,-1],\n",
    "                            [-1,-1,-1,+1,+1]],\n",
    "                           [[0.3],\n",
    "                            [0.3]])\n",
    "\n",
    "map(i->spline(i), ptss[1])\n",
    "map(i->spline(i), ptss[2])\n",
    "nothing\n",
    "    \n",
    "end"
   ]
  },
  {
   "cell_type": "markdown",
   "metadata": {},
   "source": [
    "Expected result:\n",
    "\n",
    "<img src=\"./figures/examples/splines08.png\" width=\"400\">"
   ]
  },
  {
   "cell_type": "markdown",
   "metadata": {},
   "source": [
    "### Version 2 (straight verticals)"
   ]
  },
  {
   "cell_type": "markdown",
   "metadata": {},
   "source": [
    "__Parameters:__ matrix of points, number of stripes (vertical and horizontal), amplitude, weave pattern, set of width values, and a boolean value\n",
    "\n",
    "* Allow vertical stripes not to undulate -> structurally active elements\n",
    "* Use `is_vertical_straight=true` for static stripes"
   ]
  },
  {
   "cell_type": "markdown",
   "metadata": {},
   "source": [
    "| sketch 13                                         |\n",
    "|---------------------------------------------------|\n",
    "| <img src=\"./figures/sketches/13.png\" width=\"350\"> |"
   ]
  },
  {
   "cell_type": "code",
   "execution_count": null,
   "metadata": {},
   "outputs": [],
   "source": [
    "weave_ptss_centered(s, nu, nv, amp, weave_pattern, stripes_widths,is_vertical_straight=false) =\n",
    "    let Δu_ini = maximum(stripes_widths[1])/2,\n",
    "        Δv_ini = maximum(stripes_widths[2])/2,\n",
    "        ptss_v = surf_pts(s.f, s.u0 + Δu_ini, s.u1 - Δu_ini, s.v0, s.v1, nu - 1, nv - 1),\n",
    "        ptss_u = transpose_matrix(surf_pts(s.f, s.u0, s.u1, s.v0 + Δv_ini, s.v1 - Δv_ini, nu - 1, nv - 1)),\n",
    "        inverse_weave_pattern = transpose_matrix(weave_pattern),\n",
    "        amp_v = is_vertical_straight ? 0 : amp\n",
    "      [stripes_2D_ptss(ptss_v, amp_v, weave_pattern),\n",
    "       stripes_2D_ptss(ptss_u, amp, inverse_weave_pattern)]\n",
    "   end"
   ]
  },
  {
   "cell_type": "markdown",
   "metadata": {},
   "source": [
    "Test `weave_ptss_centered` function.\n",
    "The expected result is a set of weaved splines with straight verticals."
   ]
  },
  {
   "cell_type": "code",
   "execution_count": null,
   "metadata": {},
   "outputs": [],
   "source": [
    "@test begin\n",
    "new_backend()\n",
    "\n",
    "facade = Surf((i,j)-> xz(i,j), 0, 10, 0, 10)\n",
    "\n",
    "ptss = weave_ptss_centered(facade, 10, 10, 0.2, [[+1,-1],[-1,+1]], [[0.3], [0.3]], true)\n",
    "\n",
    "map(i->spline(i), ptss[1])\n",
    "map(i->spline(i), ptss[2])\n",
    "nothing \n",
    "    \n",
    "end"
   ]
  },
  {
   "cell_type": "markdown",
   "metadata": {},
   "source": [
    "Expected result:\n",
    "\n",
    "<img src=\"./figures/examples/splines09.png\" width=\"400\">"
   ]
  },
  {
   "cell_type": "code",
   "execution_count": null,
   "metadata": {},
   "outputs": [],
   "source": [
    "@test begin\n",
    "new_backend()\n",
    "\n",
    "facade = Surf((i,j)-> xz(i,j), 12, 22, 0, 10)\n",
    "\n",
    "ptss = weave_ptss_centered(facade, 10, 10, 0.2, [[+1,+1,-1,-1],[-1,-1,+1,+1]], [[0.3], [0.3]], true)\n",
    "\n",
    "map(i->spline(i), ptss[1])\n",
    "map(i->spline(i), ptss[2])\n",
    "nothing  \n",
    "\n",
    "end"
   ]
  },
  {
   "cell_type": "markdown",
   "metadata": {},
   "source": [
    "Expected result:\n",
    "\n",
    "<img src=\"./figures/examples/splines10.png\" width=\"400\">"
   ]
  },
  {
   "cell_type": "code",
   "execution_count": null,
   "metadata": {},
   "outputs": [],
   "source": [
    "@test begin\n",
    "new_backend()\n",
    "\n",
    "facade = Surf((i,j)-> xz(i,j), 24, 34, 0, 10)\n",
    "\n",
    "ptss = weave_ptss_centered(facade, 10, 10, 0.2, [[+1,+1,+1,-1,-1],[-1,-1,-1,+1,+1]], [[0.3], [0.3]], true)\n",
    "\n",
    "map(i->spline(i), ptss[1])\n",
    "map(i->spline(i), ptss[2])\n",
    "nothing \n",
    "    \n",
    "end"
   ]
  },
  {
   "cell_type": "markdown",
   "metadata": {},
   "source": [
    "Expected result:\n",
    "\n",
    "<img src=\"./figures/examples/splines11.png\" width=\"400\">"
   ]
  },
  {
   "cell_type": "markdown",
   "metadata": {},
   "source": [
    "### Version 3 (straight horizontals)"
   ]
  },
  {
   "cell_type": "markdown",
   "metadata": {},
   "source": [
    "__Parameters:__ matrix of points, number of stripes (vertical and horizontal), amplitude, weave pattern, set of width values, and two boolean values (vertical and horizontal)\n",
    "\n",
    "* Allow horizontal stripes not to undulate -> structurally active elements\n",
    "* Use `is_horizotal_straight=true` for static stripes"
   ]
  },
  {
   "cell_type": "markdown",
   "metadata": {},
   "source": [
    "| sketch 14                                         |\n",
    "|---------------------------------------------------|\n",
    "| <img src=\"./figures/sketches/14.png\" width=\"300\"> |"
   ]
  },
  {
   "cell_type": "code",
   "execution_count": null,
   "metadata": {},
   "outputs": [],
   "source": [
    "weave_ptss_centered(s, nu, nv, amp, weave_pattern, stripes_widths,\n",
    "                    is_vertical_straight=false, is_horizotal_straight=false) =\n",
    "    let Δu_ini = maximum(stripes_widths[1])/2,\n",
    "        Δv_ini = maximum(stripes_widths[2])/2,\n",
    "        ptss_v = surf_pts(s.f, s.u0 + Δu_ini, s.u1 - Δu_ini, s.v0, s.v1, nu - 1, nv - 1),\n",
    "        ptss_u = transpose_matrix(surf_pts(s.f, s.u0, s.u1, s.v0 + Δv_ini, s.v1 - Δv_ini, nu - 1, nv - 1)),\n",
    "        inverse_weave_pattern = transpose_matrix(weave_pattern),\n",
    "        amp_v = is_vertical_straight ? 0 : amp,\n",
    "        amp_u = is_horizotal_straight ? 0 : amp\n",
    "      [stripes_2D_ptss(ptss_v, amp_v, weave_pattern),\n",
    "       stripes_2D_ptss(ptss_u, amp_u, inverse_weave_pattern)]\n",
    "   end"
   ]
  },
  {
   "cell_type": "markdown",
   "metadata": {},
   "source": [
    "Test `weave_ptss_centered` function.\n",
    "The expected result is a set of weaved splines with straight horizontals."
   ]
  },
  {
   "cell_type": "code",
   "execution_count": null,
   "metadata": {},
   "outputs": [],
   "source": [
    "@test begin \n",
    "new_backend()\n",
    "\n",
    "facade = Surf((i,j)-> xz(i,j), 0, 10, 0, 10)\n",
    "\n",
    "ptss = weave_ptss_centered(facade, 10, 10, 0.2, [[+1,-1],[-1,+1]], [[0.3], [0.3]], false, true)\n",
    "\n",
    "map(i->spline(i), ptss[1])\n",
    "map(i->spline(i), ptss[2])\n",
    "nothing\n",
    "\n",
    "end"
   ]
  },
  {
   "cell_type": "markdown",
   "metadata": {},
   "source": [
    "Expected result:\n",
    "\n",
    "<img src=\"./figures/examples/splines12.png\" width=\"400\">"
   ]
  },
  {
   "cell_type": "code",
   "execution_count": null,
   "metadata": {},
   "outputs": [],
   "source": [
    "@test begin \n",
    "new_backend()\n",
    "\n",
    "facade = Surf((i,j)-> xz(i,j), 12, 22, 0, 10)\n",
    "\n",
    "ptss = weave_ptss_centered(facade, 10, 10, 0.2, [[+1,+1,-1,-1],[-1,-1,+1,+1]], [[0.3], [0.3]], false, true)\n",
    "\n",
    "map(i->spline(i), ptss[1])\n",
    "map(i->spline(i), ptss[2])\n",
    "nothing\n",
    "    \n",
    "end"
   ]
  },
  {
   "cell_type": "markdown",
   "metadata": {},
   "source": [
    "Expected result:\n",
    "\n",
    "<img src=\"./figures/examples/splines13.png\" width=\"400\">"
   ]
  },
  {
   "cell_type": "code",
   "execution_count": null,
   "metadata": {},
   "outputs": [],
   "source": [
    "@test begin \n",
    "new_backend()\n",
    "\n",
    "facade = Surf((i,j)-> xz(i,j), 24, 34, 0, 10)\n",
    "\n",
    "ptss = weave_ptss_centered(facade, 10, 10, 0.2, [[+1,+1,+1,-1,-1],[-1,-1,-1,+1,+1]], [[0.3], [0.3]], false, true)\n",
    "nothing\n",
    "\n",
    "map(i->spline(i), ptss[1])\n",
    "map(i->spline(i), ptss[2])\n",
    "nothing\n",
    "    \n",
    "end"
   ]
  },
  {
   "cell_type": "markdown",
   "metadata": {},
   "source": [
    "Expected result:\n",
    "\n",
    "<img src=\"./figures/examples/splines14.png\" width=\"400\">"
   ]
  },
  {
   "cell_type": "markdown",
   "metadata": {},
   "source": [
    "## Function that Creates a Stripe"
   ]
  },
  {
   "cell_type": "markdown",
   "metadata": {},
   "source": [
    "Materializes the stripes to a physical elements, with the appropriate width and thickness."
   ]
  },
  {
   "cell_type": "code",
   "execution_count": null,
   "metadata": {},
   "outputs": [],
   "source": [
    "backend(meshcat)"
   ]
  },
  {
   "cell_type": "code",
   "execution_count": null,
   "metadata": {},
   "outputs": [],
   "source": [
    "Khepri.meshcat_material(color) =\n",
    "  (uuid=string(Khepri.uuid1()),\n",
    "   type=\"MeshLambertMaterial\",\n",
    "   side=2,\n",
    "   color=\"0x$(Khepri.hex(color))\",\n",
    "   emissive=\"0x$(Khepri.hex(color))\",\n",
    "   emissiveIntensity=0.2)"
   ]
  },
  {
   "cell_type": "code",
   "execution_count": null,
   "metadata": {},
   "outputs": [],
   "source": [
    "vertical=create_layer(\"vertical\", true, RGB(211/255, 146/255, 212/255))\n",
    "horizontal=create_layer(\"horizontal\", true, RGB(124/255, 70/255, 156/255))\n",
    "nothing"
   ]
  },
  {
   "cell_type": "markdown",
   "metadata": {},
   "source": [
    "### Version 1 (materialize stripe)"
   ]
  },
  {
   "cell_type": "markdown",
   "metadata": {},
   "source": [
    "__Parameters:__ points, stripe width, and thickness\n",
    "\n",
    "* Calculate the points delimiting the contour of the stripe\n",
    "* Materialize those points in the form of a surface with the desired thickness"
   ]
  },
  {
   "cell_type": "markdown",
   "metadata": {},
   "source": [
    "| Materializing a stripe.                           |\n",
    "|---------------------------------------------------|\n",
    "| <img src=\"./figures/sketches/15.png\" width=\"400\"> |"
   ]
  },
  {
   "cell_type": "code",
   "execution_count": null,
   "metadata": {},
   "outputs": [],
   "source": [
    "smooth_pts(pts) = map_division(in_world, open_spline_path(pts), 50)"
   ]
  },
  {
   "cell_type": "code",
   "execution_count": null,
   "metadata": {},
   "outputs": [],
   "source": [
    "smooth_surface_grid(ptss)=surface_grid(smooth_pts.(ptss))"
   ]
  },
  {
   "cell_type": "code",
   "execution_count": null,
   "metadata": {},
   "outputs": [],
   "source": [
    "stripe_centered(pts, stripe_width, stripe_thick) =\n",
    "    with(current_layer, vertical) do    \n",
    "        thicken(\n",
    "            smooth_surface_grid([map(pt-> pt-vpol(stripe_width/2, 0), pts),\n",
    "                          map(pt-> pt+vpol(stripe_width/2, 0), pts)]),\n",
    "            stripe_thick)\n",
    "        end"
   ]
  },
  {
   "cell_type": "markdown",
   "metadata": {},
   "source": [
    "Test `stripe_centered` function.\n",
    "The expected result is a stripe."
   ]
  },
  {
   "cell_type": "code",
   "execution_count": null,
   "metadata": {},
   "outputs": [],
   "source": [
    "@test begin\n",
    "new_backend()\n",
    "set_view(xyz(7.229,6.523,0.167), u0(), 20)\n",
    "\n",
    "facade = Surf((i,j)-> xz(i,j-5), 0, 10, 0, 10)\n",
    "\n",
    "ptss = weave_ptss_centered(facade, 10, 10, 0.2, [[+1,-1],[-1,+1]], [[0.3], [0.3]], false, true)\n",
    "stripe_centered(ptss[1][1], 0.3, 0.01)\n",
    "\n",
    "ptss = weave_ptss_centered(facade, 10, 10, 0.2, [[+1,-1,-1],[-1,+1,+1]], [[0.3], [0.3]], false, true)\n",
    "stripe_centered(ptss[1][2], 0.3, 0.01)\n",
    "\n",
    "ptss = weave_ptss_centered(facade, 10, 10, 0.2, [[+1,+1,-1,-1,-1],[-1,-1,+1,+1,+1]], [[0.3], [0.3]], false, true)\n",
    "stripe_centered(ptss[1][3], 0.3, 0.01)\n",
    "\n",
    "ptss = weave_ptss_centered(facade, 10, 10, 0.2, [[+1,-1,-1,-1,-1],[-1,+1,+1,+1,+1]], [[0.3], [0.3]], false, true)\n",
    "stripe_centered(ptss[1][4], 0.3, 0.01)\n",
    "    \n",
    "end"
   ]
  },
  {
   "cell_type": "markdown",
   "metadata": {},
   "source": [
    "Expected result:\n",
    "\n",
    "<img src=\"./figures/examples/stripes01.png\" width=\"600\">"
   ]
  },
  {
   "cell_type": "markdown",
   "metadata": {},
   "source": [
    "### Version 2 (scale factor)"
   ]
  },
  {
   "cell_type": "markdown",
   "metadata": {},
   "source": [
    "__Parameters:__ points, stripe width and thickness, and width scale function\n",
    "\n",
    "* In case the width scale function returns a constant value of 1, the stripe's width never changes\n",
    "* Otherwise, the width varies according to the factor received, being 0 the minimum and 1 the maximum possible values"
   ]
  },
  {
   "cell_type": "markdown",
   "metadata": {},
   "source": [
    "| Stripe width variation.                           |\n",
    "|---------------------------------------------------|\n",
    "| <img src=\"./figures/sketches/16.png\" width=\"400\"> |"
   ]
  },
  {
   "cell_type": "code",
   "execution_count": null,
   "metadata": {},
   "outputs": [],
   "source": [
    "stripe_centered(pts, stripe_width, stripe_thick, f_width) =\n",
    "    with(current_layer, vertical) do  \n",
    "        thicken(\n",
    "            smooth_surface_grid([map(pt-> pt-vpol(stripe_width/2 + f_width(pt), 0), pts),\n",
    "                          map(pt-> pt+vpol(stripe_width/2 + f_width(pt), 0), pts)]),\n",
    "                stripe_thick)\n",
    "    end"
   ]
  },
  {
   "cell_type": "markdown",
   "metadata": {},
   "source": [
    "Test `stripe_centered` function.\n",
    "The expected results are stripes with varying widths."
   ]
  },
  {
   "cell_type": "code",
   "execution_count": null,
   "metadata": {},
   "outputs": [],
   "source": [
    "@test begin\n",
    "new_backend()\n",
    "set_view(xyz(7.229,6.523,0.167), u0(), 20)\n",
    "    \n",
    "facade = Surf((i,j)-> xz(i,j-5), 0, 10, 0, 10)\n",
    "\n",
    "ptss = weave_ptss_centered(facade, 10, 10, 0.2, [[+1,-1],[-1,+1]], [[0.3], [0.3]], false, true)\n",
    "\n",
    "stripe_centered(ptss[1][1], 0.3, 0.01, i->sin(i.z/pi/4))\n",
    "\n",
    "stripe_centered(ptss[1][3], 0.3, 0.01, i->sin(pi/2+i.z/pi/2)) \n",
    "\n",
    "stripe_centered(ptss[1][5], 0.3, 0.01, i->sin(i.z/pi))\n",
    "\n",
    "stripe_centered(ptss[1][7], 0.3, 0.01, i->0.5*abs(sin(i.z*2pi)))\n",
    "    \n",
    "end"
   ]
  },
  {
   "cell_type": "markdown",
   "metadata": {},
   "source": [
    "Expected result:\n",
    "\n",
    "<img src=\"./figures/examples/stripes02.png\" width=\"600\">"
   ]
  },
  {
   "cell_type": "markdown",
   "metadata": {},
   "source": [
    "### Version 3 (rotation)"
   ]
  },
  {
   "cell_type": "markdown",
   "metadata": {},
   "source": [
    "__Parameters:__ points, stripe width and thickness, width scale function, and rotation function\n",
    "\n",
    "* In case the rotation function returns a constant value of 1, the stripe's angle does not change. \n",
    "* Otherwise, the rotation varies according to the factor received, being 0 the minimum and 1 the maximum possible values."
   ]
  },
  {
   "cell_type": "markdown",
   "metadata": {},
   "source": [
    "| Stripe rotation.                                  |\n",
    "|---------------------------------------------------|\n",
    "| <img src=\"./figures/sketches/17.png\" width=\"400\"> |"
   ]
  },
  {
   "cell_type": "code",
   "execution_count": null,
   "metadata": {},
   "outputs": [],
   "source": [
    "stripe_centered(pts, stripe_width, stripe_thick, f_width, f_rotations) =\n",
    "        thicken(\n",
    "            smooth_surface_grid([map(pt-> pt-vpol(stripe_width/2 + f_width(pt), f_rotations[1](pt)), pts),\n",
    "                          map(pt-> pt+vpol(stripe_width/2 + f_width(pt), f_rotations[2](pt)), pts)]),\n",
    "                stripe_thick)"
   ]
  },
  {
   "cell_type": "markdown",
   "metadata": {},
   "source": [
    "Test `stripe_centered` function.\n",
    "The expected results are stripes with varying widths and rotations."
   ]
  },
  {
   "cell_type": "markdown",
   "metadata": {},
   "source": [
    "The following expression represents the rotation function used in the first example.\n",
    "\n",
    "$$\n",
    "S_{rotation} = \\frac{\\pi}{ 2} \\times \\left (-1 + cos\\left (2 \\pi \\times \\frac{cz\\left ( i \\right )}{10} \\right ) \\right )\n",
    "$$"
   ]
  },
  {
   "cell_type": "code",
   "execution_count": null,
   "metadata": {},
   "outputs": [],
   "source": [
    "@test begin   \n",
    "new_backend()\n",
    "set_view(xyz(7.229,6.523,0.167), u0(), 20)\n",
    "\n",
    "facade = Surf((i,j)-> xz(i,j-5), 0, 10, 0, 10)\n",
    "\n",
    "ptss = weave_ptss_centered(facade, 10, 10, 0.2, [[+1,-1],[-1,+1]], [[0.3], [0.3]], false, true)\n",
    "\n",
    "with(current_layer, vertical) do  \n",
    "    stripe_centered(ptss[1][1], 0.3, 0.01, i->sin(i.z/pi/4),\n",
    "                    [i->pi/2*(-1+cos(2pi*i.z/10)),\n",
    "                     i->pi/2*(-1+cos(2pi*i.z/10))])\n",
    "\n",
    "    stripe_centered(ptss[1][3], 0.3, 0.01, i->sin(i.z/pi/4),\n",
    "                    [i->pi*(-1+cos(2pi*i.z/10)),\n",
    "                     i->pi*(-1+cos(2pi*i.z/10))])\n",
    "\n",
    "    stripe_centered(ptss[1][5], 0.3, 0.01, i->sin(i.z/pi/4),\n",
    "                    [i->pi/4*(-1+cos(2pi*i.z/10)),\n",
    "                     i->pi/4*(-1+cos(2pi*i.z/10))])\n",
    "\n",
    "    stripe_centered(ptss[1][7], 0.3, 0.01, i->sin(i.z/pi/4),\n",
    "                    [i->pi/4*(-1+cos(pi*i.z/10)),\n",
    "                     i->pi/4*(-1+cos(pi*i.z/10))])\n",
    "end\n",
    "    \n",
    "end"
   ]
  },
  {
   "cell_type": "markdown",
   "metadata": {},
   "source": [
    "Expected result:\n",
    "\n",
    "<img src=\"./figures/examples/stripes03.png\" width=\"600\">"
   ]
  },
  {
   "cell_type": "markdown",
   "metadata": {},
   "source": [
    "## Function that Creates Interweaved Stripes"
   ]
  },
  {
   "cell_type": "markdown",
   "metadata": {},
   "source": [
    "__Parameters:__ points, stripes width and thickness, width, and rotation functions\n",
    "\n",
    "* points = array of weaving spatial locations -> output of the `weaved_ptss_centered`\n",
    "* Creates stripes with given widths, thicknesses and rotations (horizontally and vertically) \n",
    "* If stripe width = 0, no stripe is created "
   ]
  },
  {
   "cell_type": "markdown",
   "metadata": {},
   "source": [
    "| Weaving spatial locations and resulting stripes.  |\n",
    "|---------------------------------------------------|\n",
    "| <img src=\"./figures/sketches/18.png\" width=\"600\"> |"
   ]
  },
  {
   "cell_type": "markdown",
   "metadata": {},
   "source": [
    "| Null stripe example.                              |\n",
    "|---------------------------------------------------|\n",
    "| <img src=\"./figures/sketches/19.png\" width=\"600\"> |"
   ]
  },
  {
   "cell_type": "code",
   "execution_count": null,
   "metadata": {},
   "outputs": [],
   "source": [
    "stripes_with_rotation(ptss, stripes_widths, thickness, f_widths, f_rotations) =\n",
    "    vcat([width==0 ? empty_shape() :\n",
    "        with(current_layer, vertical) do\n",
    "            stripe_centered(pt, width, thickness[1], f_widths[1], f_rotations[1])\n",
    "        end\n",
    "        for (pt,width) in zip(ptss[1], cycle(stripes_widths[1]))],\n",
    "            with(current_cs, cs_from_o_vx_vy(u0(), vz(1), vy(1))) do\n",
    "                [width==0 ? empty_shape() :\n",
    "                    with(current_layer, horizontal) do\n",
    "                        stripe_centered(pt, width, thickness[2], f_widths[2], f_rotations[2])\n",
    "                    end\n",
    "                for (pt,width) in zip(ptss[2], cycle(stripes_widths[2]))]\n",
    "            end\n",
    "        )"
   ]
  },
  {
   "cell_type": "markdown",
   "metadata": {},
   "source": [
    "Test `stripes_with_rotation` function.\n",
    "The expected result is a regular chess weaved façade."
   ]
  },
  {
   "cell_type": "code",
   "execution_count": null,
   "metadata": {},
   "outputs": [],
   "source": [
    "@test begin\n",
    "new_backend()\n",
    "set_view(xyz(8.881,6.913,0.338), u0(), 20)\n",
    "    \n",
    "facade = Surf((i,j)-> xz(i-5,j-5), 0, 10, 0, 10)\n",
    "\n",
    "ptss = weave_ptss_centered(facade, 10, 10, 0.1, [[-1,+1],[+1,-1]], [[0.1],[0.1]], false, false)\n",
    "\n",
    "\n",
    "stripes_with_rotation(ptss,\n",
    "                       [[0.25],[0.25]],\n",
    "                        [0.05, 0.05],\n",
    "                        [i->0, i->0],\n",
    "                        [[i->0,i->0],\n",
    "                         [i->0,i->0]])\n",
    "    \n",
    "nothing\n",
    "    \n",
    "end"
   ]
  },
  {
   "cell_type": "markdown",
   "metadata": {},
   "source": [
    "Expected result:\n",
    "\n",
    "<img src=\"./figures/examples/facade01.png\" width=\"600\">"
   ]
  },
  {
   "cell_type": "markdown",
   "metadata": {},
   "source": [
    "Test `stripes_with_rotation` function.\n",
    "The expected result is an irregular pattern weaved façade."
   ]
  },
  {
   "cell_type": "code",
   "execution_count": null,
   "metadata": {},
   "outputs": [],
   "source": [
    "@test begin\n",
    "new_backend()\n",
    "set_view(xyz(8.881,6.913,0.338), u0(), 20)    \n",
    "    \n",
    "facade = Surf((i,j)-> xz(i-5,j-5), 0, 10, 0, 10)\n",
    "\n",
    "ptss = weave_ptss_centered(facade, 10, 10, 0.1, [[-1,+1,+1,+1],[+1,-1,+1,+1],[+1,+1,-1,+1],[+1,+1,+1,-1]], [[0.1],[0.1]], false, false)\n",
    "nothing\n",
    "\n",
    "stripes_with_rotation(ptss,\n",
    "                      [[0.25],[0.25]],\n",
    "                      [0.05, 0.05],\n",
    "                      [i->0, i->0],\n",
    "                      [[i->0,i->0],\n",
    "                       [i->0,i->0]])\n",
    "nothing\n",
    "  \n",
    "end"
   ]
  },
  {
   "cell_type": "markdown",
   "metadata": {},
   "source": [
    "Expected result:\n",
    "\n",
    "<img src=\"./figures/examples/facade02.png\" width=\"600\">"
   ]
  },
  {
   "cell_type": "markdown",
   "metadata": {},
   "source": [
    "Test `stripes_with_rotation` function.\n",
    "The expected result is an irregular weaved façade with rotated horizontal stripes."
   ]
  },
  {
   "cell_type": "code",
   "execution_count": null,
   "metadata": {},
   "outputs": [],
   "source": [
    "@test begin\n",
    "new_backend()\n",
    "set_view(xyz(8.881,6.913,0.338), u0(), 20)\n",
    "      \n",
    "facade = Surf((i,j)-> xz(i-5,j-5), 0, 10, 0, 10)\n",
    "\n",
    "ptss = weave_ptss_centered(facade, 10, 10, 0.2, [[-1,+1,+1,+1],[+1,-1,+1,+1],[+1,+1,-1,+1],[+1,+1,+1,-1]], [[0.1],[0.1]], false, false)\n",
    "\n",
    "stripes_with_rotation(ptss,\n",
    "                      [[0.25],[0.25]],\n",
    "                      [0.05, 0.05],\n",
    "                      [i->0, i->0],\n",
    "                      [[i->0,i->0],\n",
    "                       [i->pi/2*(-1+cos(2pi*i.x/10)),\n",
    "                       i->pi/2*(-1+cos(2pi*i.x/10))]])\n",
    "nothing\n",
    "    \n",
    "end"
   ]
  },
  {
   "cell_type": "markdown",
   "metadata": {},
   "source": [
    "Expected result:\n",
    "\n",
    "<img src=\"./figures/examples/facade03.png\" width=\"600\">"
   ]
  },
  {
   "cell_type": "markdown",
   "metadata": {},
   "source": [
    "Test `stripes_with_rotation` function.\n",
    "The expected result is an irregular weaved façade with rotated vertical stripes."
   ]
  },
  {
   "cell_type": "code",
   "execution_count": null,
   "metadata": {},
   "outputs": [],
   "source": [
    "@test begin\n",
    "new_backend()\n",
    "set_view(xyz(8.881,6.913,0.338), u0(), 20)\n",
    "    \n",
    "facade = Surf((i,j)-> xz(i-5,j-5), 0, 10, 0, 10)\n",
    "\n",
    "ptss = weave_ptss_centered(facade, 10, 10, 0.2, [[-1,+1,+1,+1],[+1,-1,+1,+1],[+1,+1,-1,+1],[+1,+1,+1,-1]], [[0.1],[0.1]], false, false)\n",
    "\n",
    "stripes_with_rotation(ptss,\n",
    "                      [[0.25],[0.25]],\n",
    "                      [0.05, 0.05],\n",
    "                      [i->0, i->0],\n",
    "                      [[i->pi/2*(-1+cos(2pi*i.z/10)),\n",
    "                       i->pi/2*(-1+cos(2pi*i.z/10))],\n",
    "                       [i->0,i->0]])\n",
    "nothing\n",
    "    \n",
    "end"
   ]
  },
  {
   "cell_type": "markdown",
   "metadata": {},
   "source": [
    "Expected result:\n",
    "\n",
    "<img src=\"./figures/examples/facade04.png\" width=\"600\">"
   ]
  },
  {
   "cell_type": "markdown",
   "metadata": {},
   "source": [
    "Test `stripes_with_rotation` function.\n",
    "The expected result is an irregular weaved façade with varying widths."
   ]
  },
  {
   "cell_type": "code",
   "execution_count": null,
   "metadata": {},
   "outputs": [],
   "source": [
    "@test begin\n",
    "new_backend()\n",
    "set_view(xyz(8.881,6.913,0.338), u0(), 20)\n",
    "    \n",
    "facade = Surf((i,j)-> xz(i-5,j-5), 0, 10, 0, 10)\n",
    "\n",
    "ptss = weave_ptss_centered(facade, 10, 10, 0.2, [[-1,+1,+1,+1],[+1,-1,+1,+1],[+1,+1,-1,+1],[+1,+1,+1,-1]], [[0.1],[0.1]], false, false)\n",
    "nothing\n",
    "\n",
    "stripes_with_rotation(ptss,\n",
    "                      [[0.1],[0.1]],\n",
    "                      [0.05, 0.05],\n",
    "                      [i->0.05+0.4*sin(i.z/pi/4), i->0.05+0.1*sin((i.x-48)/pi)],\n",
    "                      [[i->0,i->0],[i->0,i->0]])\n",
    "    \n",
    "nothing\n",
    "\n",
    "end"
   ]
  },
  {
   "cell_type": "markdown",
   "metadata": {},
   "source": [
    "Expected result:\n",
    "\n",
    "<img src=\"./figures/examples/facade05.png\" width=\"600\">"
   ]
  },
  {
   "cell_type": "markdown",
   "metadata": {},
   "source": [
    "Test `stripes_with_rotation` function.\n",
    "The expected result is an irregular weaved façade with rotated stripes and varying widths."
   ]
  },
  {
   "cell_type": "code",
   "execution_count": null,
   "metadata": {},
   "outputs": [],
   "source": [
    "@test begin\n",
    "new_backend()\n",
    "set_view(xyz(8.881,6.913,0.338), u0(), 20)\n",
    "    \n",
    "facade = Surf((i,j)-> xz(i-5,j-5), 0, 10, 0, 10)\n",
    "\n",
    "ptss = weave_ptss_centered(facade, 10, 10, 0.4, [[-1,+1,+1,+1],[+1,-1,+1,+1],[+1,+1,-1,+1],[+1,+1,+1,-1]], [[0.1],[0.1]], false, false)\n",
    "\n",
    "stripes_with_rotation(ptss,\n",
    "                      [[0.1],[0.1]],\n",
    "                      [0.05, 0.05],\n",
    "                      [i->0.4*sin(i.z/pi/4), i->0.09*sin((i.x-60)/pi)],\n",
    "                      [[i->pi/2*(-1+cos(pi*i.z/10)),\n",
    "                       i->pi/2*(-1+cos(pi*i.z/10))],\n",
    "                       [i->0,i->0]])\n",
    "    \n",
    "nothing\n",
    "    \n",
    "end"
   ]
  },
  {
   "cell_type": "markdown",
   "metadata": {},
   "source": [
    "Expected result:\n",
    "\n",
    "<img src=\"./figures/examples/facade06.png\" width=\"600\">"
   ]
  },
  {
   "cell_type": "markdown",
   "metadata": {},
   "source": [
    "# Optimization"
   ]
  },
  {
   "cell_type": "markdown",
   "metadata": {},
   "source": [
    "For the optimization, we designed a test cell represeting a typical office, where the south and east façade consit of a curtain wall overllaped with the weaved façade, we developed previous, to shade the interior space.\n",
    "\n",
    "\n",
    "The two metrics involved in the optimization were spatial Daylight Autonmy (sDA) and Annual Sun Exposure (ASE), and the objectives were:\n",
    "\n",
    "$$\n",
    "minimize-f(x_1, x_2, x_3) = ASE_{1000,250h}(x_1, x_2, x_3)\\\\\n",
    "maximize-g(x_1, x_2, x_3) = sDA_{300|50\\%} (x_1, x_2, x_3)\n",
    "$$\n",
    "\n",
    "\n",
    "x<sub>1</sub>, x<sub>2</sub>, and x<sub>3</sub> are the variables for our oprimization problem, representing:\n",
    "horizontal stripes number x<sub>1</sub> ∈ {6,7,…,20}, \n",
    "South horizontal stripes rotation x<sub>2</sub> ∈ {-π, -π + 0.02,…, π}, \n",
    "and East horizontal stripes width reduction factor x<sub>3</sub> ∈ {0, 0.02,…, 1.6}. The range of x<sub>3</sub> results from a periodic non-linear function with a sinusoid behavior wherein 0 means no change, and 1.6 means maximum width reduction. \n",
    "\n",
    "\n",
    "Finally, we tested optimization three algorithms, NSGA-II, OMOPSO, and GPR_SPEA2. Each algorithm analyzed 400 solutions grouped in populations or swarms of 20."
   ]
  },
  {
   "cell_type": "markdown",
   "metadata": {},
   "source": [
    "## Global Setup for Processing Data\n",
    "\n",
    "In this section, we define all the global constants that will be used for the optimization."
   ]
  },
  {
   "cell_type": "code",
   "execution_count": null,
   "metadata": {},
   "outputs": [],
   "source": [
    "# Folders Structure\n",
    "base_folder = pwd()\n",
    "results_folder_phase1 = joinpath(base_folder, \"algorithms\")\n",
    "\n",
    "# CSV File Configuration\n",
    "has_header = true\n",
    "files_sep = \",\"\n",
    "file_extension = \"csv\"\n",
    "\n",
    "# Optimization Settings\n",
    "runs = [1]\n",
    "nruns = length(runs)\n",
    "max_evals = 500\n",
    "\n",
    "## Problem Definition (in the files) \n",
    "### Variables\n",
    "m_stripes = :m_stripes\n",
    "rotation = :rotation\n",
    "thickness = :thickness\n",
    "vars_cols = [m_stripes, rotation, thickness]\n",
    "\n",
    "### Objectives  \n",
    "ASE = :ASE\n",
    "sDA = :sDA\n",
    "objs_cols = [ASE, sDA]\n",
    "\n",
    "relevant_cols = vcat(vars_cols, objs_cols)\n",
    "\n",
    "names_mapping = (\n",
    "     4 => m_stripes, \n",
    "     5 => rotation, \n",
    "     6 => thickness, \n",
    "     7 => ASE, \n",
    "     8 => sDA, \n",
    ")\n",
    "\n",
    "## Multi-Objective Optimization Algorithms\n",
    "### Metaheuristics\n",
    "pop_size = 20\n",
    "metaheuristics = [\"NSGAII\", \"OMOPSO\"]\n",
    "\n",
    "### Model-Based (or metamodel)\n",
    "metamodels_base = [\"GPR\"]\n",
    "metamodels_strategies = [\"SPEA2\"]\n",
    "metamodels_algorithms = [\"$(b)_$(s)\" for b in metamodels_base for s in metamodels_strategies]\n",
    "\n",
    "all_algorithms_phase1 = vcat(metaheuristics, metamodels_algorithms)\n",
    "n_algorithms_phase1 = length(all_algorithms_phase1)\n",
    "\n",
    "### Filenames with the results \n",
    "filenames_phase1 = [\"$(a)_results_0$(r).$(file_extension)\" for r in runs for a in all_algorithms_phase1]\n",
    "filenames_phase1"
   ]
  },
  {
   "cell_type": "markdown",
   "metadata": {},
   "source": [
    "## Pareto Front"
   ]
  },
  {
   "cell_type": "markdown",
   "metadata": {},
   "source": [
    "### Layout"
   ]
  },
  {
   "cell_type": "code",
   "execution_count": null,
   "metadata": {},
   "outputs": [],
   "source": [
    "layout_weaved = Layout(\n",
    "    template=\"plotly_white\",\n",
    "    autosize=false,\n",
    "    # Define plot size\n",
    "    width=900, \n",
    "    height=540,\n",
    "    # Legend Position\n",
    "    # showlegend = False,\n",
    "    legend=Dict(\n",
    "        :orientation=>'h',\n",
    "        :x=>-0.01,\n",
    "        :y=>-0.2\n",
    "    ),\n",
    "\n",
    "    # Define axis\n",
    "    xaxis=Dict(\n",
    "        :title=>\"sDA\",\n",
    "        :autorange=>true,\n",
    "        :showgrid=>true,\n",
    "        :zeroline=>false,\n",
    "        :showline=>true,\n",
    "        :ticks=>\"\",\n",
    "        :showticklabels=>true,\n",
    "        :tickformat=>\".\"\n",
    "    ),\n",
    "  \n",
    "    yaxis=Dict(\n",
    "        :title=>\"ASE\",\n",
    "        :autorange=>true,        \n",
    "        :showgrid=>true,\n",
    "        :zeroline=>false,\n",
    "        :showline=>true,\n",
    "        :ticks=>\"\",\n",
    "        :showticklabels=>true,\n",
    "        :tickformat=>\".\"\n",
    "    )\n",
    ")"
   ]
  },
  {
   "cell_type": "markdown",
   "metadata": {},
   "source": [
    "### Read Files"
   ]
  },
  {
   "cell_type": "code",
   "execution_count": null,
   "metadata": {},
   "outputs": [],
   "source": [
    "# Read algorithms  \n",
    "dfs1 = load_results(filenames_phase1)\n",
    "nothing"
   ]
  },
  {
   "cell_type": "code",
   "execution_count": null,
   "metadata": {},
   "outputs": [],
   "source": [
    "dfs1 = [rename!(df, [map(x->x[2], names_mapping) ...]) for df in dfs1]\n",
    "nothing"
   ]
  },
  {
   "cell_type": "code",
   "execution_count": null,
   "metadata": {},
   "outputs": [],
   "source": [
    "# Compute non_dominated_solutions (per run)\n",
    "pfs1 = [add_isdominated_cols(df) for df in dfs1]\n",
    "nothing"
   ]
  },
  {
   "cell_type": "code",
   "execution_count": null,
   "metadata": {},
   "outputs": [],
   "source": [
    "# Computes combined Pareto Front (optimal solutions found from all the algorithms, all the runs)\n",
    "combined_pf1 = get_combined_PF(dfs1, drop_cols=relevant_cols)\n",
    "nothing"
   ]
  },
  {
   "cell_type": "code",
   "execution_count": null,
   "metadata": {},
   "outputs": [],
   "source": [
    "#Run this cell only once!!!\n",
    "pfs1 = [unscale(pf, rotation, -pi, 0.02) for pf in pfs1]\n",
    "pfs1 = [unscale(pf, thickness, 0, 0.02) for pf in pfs1]\n",
    "nothing"
   ]
  },
  {
   "cell_type": "code",
   "execution_count": null,
   "metadata": {},
   "outputs": [],
   "source": [
    "first(pfs1[1], 6)"
   ]
  },
  {
   "cell_type": "code",
   "execution_count": null,
   "metadata": {},
   "outputs": [],
   "source": [
    "# Since sDA is actually a maximization, let us use the symmetric operation \n",
    "pfs1 = [get_symmetric(pf, sDA) for pf in pfs1]\n",
    "combined_pf1 = get_symmetric(combined_pf1, sDA)\n",
    "nothing"
   ]
  },
  {
   "cell_type": "code",
   "execution_count": null,
   "metadata": {},
   "outputs": [],
   "source": [
    "# Sort sDA values in ascending order\n",
    "\n",
    "## This fixes the error we were getting in the create_pfs_interactive function,\n",
    "## which would return a different point than the one we selected\n",
    "\n",
    "pfs1 = [sort(pf, [sDA], rev=false) for pf in pfs1]\n",
    "nothing"
   ]
  },
  {
   "cell_type": "code",
   "execution_count": null,
   "metadata": {},
   "outputs": [],
   "source": [
    "first(pfs1[1], 6)"
   ]
  },
  {
   "cell_type": "markdown",
   "metadata": {},
   "source": [
    "### Pareto Front Plot"
   ]
  },
  {
   "cell_type": "code",
   "execution_count": null,
   "metadata": {},
   "outputs": [],
   "source": [
    "new_backend()\n",
    "\n",
    "create_pfs(pfs1, x=sDA, y=ASE, tpf=nothing, names=all_algorithms_phase1, \n",
    "           colorscale=nothing, colors=[\"#43a0b5\", \"#B5557A\", \"#eb911c\"],\n",
    "           draw_dominated=true, layout=layout_weaved)"
   ]
  },
  {
   "cell_type": "markdown",
   "metadata": {},
   "source": [
    "###  LEED V4 Daylight Credit\n",
    " \n",
    "To score in the LEED V4 Daylight Credit a solution must simultaneously meet the following requirements:\n",
    " \n",
    " $$ ASE < 20\\% \\\\ sDA \\geq\\ 40\\% $$"
   ]
  },
  {
   "cell_type": "markdown",
   "metadata": {},
   "source": [
    "We selected a few solutions from the Pareto fronts that meet LEED v4 Daylight Credit.\n",
    "\n",
    "| solution | algorithm | m_stripes | rotation | thickness | ASE  | sDA  |\n",
    "|----------|-----------|-----------|----------|-----------|------|------|\n",
    "| 1        | NSGAII    | 7         | 1.55841  | 1.5       | 17.7 | 59.0 |\n",
    "| 2        | OMOPSO    | 6         | 1.63841  | 0.3       | 11.3 | 45.0 |\n",
    "| 3        | GPR_SPEA2 | 6         | -2.74159 | 0.9       | 19.7 | 45.7 |\n",
    "\n",
    " \n",
    " <img src=\"./figures/ParetoFronts_Solutions.png\" width=\"1000\">"
   ]
  },
  {
   "cell_type": "markdown",
   "metadata": {},
   "source": [
    "<img src=\"./figures/Final_Solution.jpg\" width=\"1000\">"
   ]
  }
 ],
 "metadata": {
  "@webio": {
   "lastCommId": null,
   "lastKernelId": null
  },
  "kernelspec": {
   "display_name": "Julia 1.4.1",
   "language": "julia",
   "name": "julia-1.4"
  },
  "language_info": {
   "file_extension": ".jl",
   "mimetype": "application/julia",
   "name": "julia",
   "version": "1.4.1"
  },
  "toc": {
   "base_numbering": 1,
   "nav_menu": {
    "height": "280px",
    "width": "388px"
   },
   "number_sections": true,
   "sideBar": true,
   "skip_h1_title": false,
   "title_cell": "Table of Contents",
   "title_sidebar": "Contents",
   "toc_cell": false,
   "toc_position": {
    "height": "calc(100% - 180px)",
    "left": "10px",
    "top": "150px",
    "width": "223.991px"
   },
   "toc_section_display": true,
   "toc_window_display": true
  },
  "toc-autonumbering": true,
  "toc-showcode": false,
  "toc-showtags": false
 },
 "nbformat": 4,
 "nbformat_minor": 4
}
