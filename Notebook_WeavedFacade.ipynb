{
 "cells": [
  {
   "cell_type": "markdown",
   "metadata": {},
   "source": [
    "# Packages"
   ]
  },
  {
   "cell_type": "markdown",
   "metadata": {},
   "source": [
    "## Install Packages"
   ]
  },
  {
   "cell_type": "raw",
   "metadata": {},
   "source": [
    "using Pkg"
   ]
  },
  {
   "cell_type": "raw",
   "metadata": {},
   "source": [
    "Pkg.add(\"CSV\")"
   ]
  },
  {
   "cell_type": "raw",
   "metadata": {},
   "source": [
    "Pkg.add(\"DataFrames\")"
   ]
  },
  {
   "cell_type": "raw",
   "metadata": {},
   "source": [
    "Pkg.add(\"WebIO\")"
   ]
  },
  {
   "cell_type": "raw",
   "metadata": {},
   "source": [
    "Pkg.add(\"PlotlyJS\")"
   ]
  },
  {
   "cell_type": "raw",
   "metadata": {},
   "source": [
    "Pkg.add(\"Base.Iterators\")"
   ]
  },
  {
   "cell_type": "raw",
   "metadata": {},
   "source": [
    "Pkg.add(\"Interact\")"
   ]
  },
  {
   "cell_type": "raw",
   "metadata": {},
   "source": [
    "# Pkg.add(PackageSpec(url=\"https://github.com/aptmcl/Khepri.jl\"))\n",
    "\n",
    "Pkg.update(\"Khepri\")"
   ]
  },
  {
   "cell_type": "markdown",
   "metadata": {},
   "source": [
    "## Using Packages"
   ]
  },
  {
   "cell_type": "code",
   "execution_count": 10,
   "metadata": {},
   "outputs": [],
   "source": [
    "using CSV"
   ]
  },
  {
   "cell_type": "code",
   "execution_count": 11,
   "metadata": {},
   "outputs": [],
   "source": [
    "using DataFrames"
   ]
  },
  {
   "cell_type": "code",
   "execution_count": 12,
   "metadata": {},
   "outputs": [],
   "source": [
    "using WebIO"
   ]
  },
  {
   "cell_type": "code",
   "execution_count": 13,
   "metadata": {},
   "outputs": [],
   "source": [
    "using PlotlyJS"
   ]
  },
  {
   "cell_type": "code",
   "execution_count": 14,
   "metadata": {},
   "outputs": [],
   "source": [
    "using Interact"
   ]
  },
  {
   "cell_type": "code",
   "execution_count": 15,
   "metadata": {},
   "outputs": [],
   "source": [
    "using Base.Iterators"
   ]
  },
  {
   "cell_type": "code",
   "execution_count": 16,
   "metadata": {},
   "outputs": [],
   "source": [
    "using Khepri"
   ]
  },
  {
   "cell_type": "code",
   "execution_count": 17,
   "metadata": {},
   "outputs": [
    {
     "data": {
      "text/plain": [
       "facade_pf (generic function with 1 method)"
      ]
     },
     "execution_count": 17,
     "metadata": {},
     "output_type": "execute_result"
    }
   ],
   "source": [
    "# Read the Julia file that contains the facade function\n",
    "include(\"resources/optimization_facade.jl\")"
   ]
  },
  {
   "cell_type": "code",
   "execution_count": 18,
   "metadata": {},
   "outputs": [
    {
     "data": {
      "text/plain": [
       "create_pfs"
      ]
     },
     "execution_count": 18,
     "metadata": {},
     "output_type": "execute_result"
    }
   ],
   "source": [
    "# Read the Julia file that contains the optimzation functios\n",
    "include(\"resources/optimization_main_functions.jl\")"
   ]
  },
  {
   "cell_type": "markdown",
   "metadata": {},
   "source": [
    "# Macros"
   ]
  },
  {
   "cell_type": "code",
   "execution_count": 19,
   "metadata": {},
   "outputs": [
    {
     "data": {
      "text/plain": [
       "@test (macro with 1 method)"
      ]
     },
     "execution_count": 19,
     "metadata": {},
     "output_type": "execute_result"
    }
   ],
   "source": [
    "avoid_tests = Parameter(true)\n",
    "\n",
    "macro test(expr...)\n",
    "  quote\n",
    "    if !avoid_tests() \n",
    "        begin\n",
    "            $(esc(expr...))\n",
    "        end\n",
    "    end\n",
    "  end\n",
    "end  "
   ]
  },
  {
   "cell_type": "code",
   "execution_count": 20,
   "metadata": {},
   "outputs": [],
   "source": [
    "# avoid_tests(true)"
   ]
  },
  {
   "cell_type": "code",
   "execution_count": 21,
   "metadata": {},
   "outputs": [
    {
     "data": {
      "text/plain": [
       "false"
      ]
     },
     "execution_count": 21,
     "metadata": {},
     "output_type": "execute_result"
    }
   ],
   "source": [
    "avoid_tests(false)"
   ]
  },
  {
   "cell_type": "markdown",
   "metadata": {},
   "source": [
    "# Weaved Façade"
   ]
  },
  {
   "cell_type": "markdown",
   "metadata": {},
   "source": [
    "This design consists of a building envelope inspired by weaving techniques. Weaving is a traditional art technique wherein elements are interweaved following different strategies, creating 2D or 3D structures that benefit from both the material’s stiffness and color to create different textures/patterns."
   ]
  },
  {
   "cell_type": "markdown",
   "metadata": {},
   "source": [
    "| inspiration 1                                     | inspiration 2                                     |\n",
    "|---------------------------------------------------|---------------------------------------------------|\n",
    "| <img src=\"./figures/weave_01.png\" width=\"300\">    | <img src=\"./figures/weave_02.jpg\" width=\"400\">    |"
   ]
  },
  {
   "cell_type": "markdown",
   "metadata": {},
   "source": [
    "Our weaving façade explores the application of this technique in architecture, namely, the tectonic and visual expressivities of weaving to generate a building skin with multiple geometric patterns and performance behaviors. Our façade design plays with the flexible nature of the weave-based patterns to manipulate shading, ventilation, and lighting proprieties inside the building."
   ]
  },
  {
   "cell_type": "markdown",
   "metadata": {},
   "source": [
    "|                                               |                                               |\n",
    "|-----------------------------------------------|-----------------------------------------------|\n",
    "| <img src=\"./figures/draw_01.png\" width=\"500\"> | <img src=\"./figures/draw_02.png\" width=\"280\"> |"
   ]
  },
  {
   "cell_type": "markdown",
   "metadata": {},
   "source": [
    "|                                               |                                               |\n",
    "|-----------------------------------------------|-----------------------------------------------|\n",
    "| <img src=\"./figures/draw_03.png\" width=\"500\"> | <img src=\"./figures/draw_04.png\" width=\"300\"> |"
   ]
  },
  {
   "cell_type": "markdown",
   "metadata": {},
   "source": [
    "# Algorithmic Description"
   ]
  },
  {
   "cell_type": "markdown",
   "metadata": {},
   "source": [
    "## Main Functions\n",
    "\n",
    "This section contains the main functions used to describe the weaved façade."
   ]
  },
  {
   "cell_type": "code",
   "execution_count": 22,
   "metadata": {},
   "outputs": [
    {
     "data": {
      "text/plain": [
       "transpose_matrix (generic function with 1 method)"
      ]
     },
     "execution_count": 22,
     "metadata": {},
     "output_type": "execute_result"
    }
   ],
   "source": [
    "transpose_matrix(matrix) =\n",
    "    [[row[i] for row in matrix]\n",
    "    for i in 1:length(matrix[1])]"
   ]
  },
  {
   "cell_type": "code",
   "execution_count": 23,
   "metadata": {},
   "outputs": [
    {
     "data": {
      "text/plain": [
       "normals_surface (generic function with 1 method)"
      ]
     },
     "execution_count": 23,
     "metadata": {},
     "output_type": "execute_result"
    }
   ],
   "source": [
    "normals_surface(ptss)=\n",
    "    [[quad_normal(p0,p1,p2,p3)\n",
    "        for (p0,p1,p2,p3) in zip(pts[1:end-1],pts[2:end], next_pts[2:end], next_pts[1:end-1])]\n",
    "    for (pts,next_pts) in zip(ptss[1:end-1],ptss[2:end])]"
   ]
  },
  {
   "cell_type": "code",
   "execution_count": 24,
   "metadata": {},
   "outputs": [
    {
     "data": {
      "text/plain": [
       "normals_surface_extra_row (generic function with 1 method)"
      ]
     },
     "execution_count": 24,
     "metadata": {},
     "output_type": "execute_result"
    }
   ],
   "source": [
    "normals_surface_extra_row(ptss)=\n",
    "    let ptss1 = [vcat(pts,pts[end]) for pts in normals_surface(ptss)]\n",
    "      [ptss1..., ptss1[end]]\n",
    "  end"
   ]
  },
  {
   "cell_type": "markdown",
   "metadata": {},
   "source": [
    "Description of parametric surfaces:"
   ]
  },
  {
   "cell_type": "code",
   "execution_count": 25,
   "metadata": {},
   "outputs": [],
   "source": [
    "struct Surf\n",
    "    f::Function\n",
    "    u0::Real\n",
    "    u1::Real\n",
    "    v0::Real\n",
    "    v1::Real\n",
    "end"
   ]
  },
  {
   "cell_type": "code",
   "execution_count": 26,
   "metadata": {},
   "outputs": [
    {
     "data": {
      "text/plain": [
       "sub_surf (generic function with 1 method)"
      ]
     },
     "execution_count": 26,
     "metadata": {},
     "output_type": "execute_result"
    }
   ],
   "source": [
    "sub_surf(f::Function, u0::Real, u1::Real, v0::Real, v1::Real)=\n",
    "    Surf(f, u0, u1, v0, v1)"
   ]
  },
  {
   "cell_type": "code",
   "execution_count": 27,
   "metadata": {},
   "outputs": [
    {
     "data": {
      "text/plain": [
       "surf_pts (generic function with 1 method)"
      ]
     },
     "execution_count": 27,
     "metadata": {},
     "output_type": "execute_result"
    }
   ],
   "source": [
    "surf_pts(f::Function, u0::Real, u1::Real, v0::Real, v1::Real, n::Int, m::Int)=\n",
    "    map_division(f, u0, u1, n, v0, v1, m)"
   ]
  },
  {
   "cell_type": "markdown",
   "metadata": {},
   "source": [
    "## Function that Creates the Axis of One Stripe"
   ]
  },
  {
   "cell_type": "code",
   "execution_count": 85,
   "metadata": {},
   "outputs": [
    {
     "data": {
      "text/plain": [
       "Khepri.PlotBackend{Khepri.PlotKey,Any}"
      ]
     },
     "execution_count": 85,
     "metadata": {},
     "output_type": "execute_result"
    }
   ],
   "source": [
    "backend(notebook)"
   ]
  },
  {
   "cell_type": "code",
   "execution_count": 86,
   "metadata": {},
   "outputs": [
    {
     "data": {
      "text/plain": [
       "(600, 400)"
      ]
     },
     "execution_count": 86,
     "metadata": {},
     "output_type": "execute_result"
    }
   ],
   "source": [
    "render_size(600, 400)"
   ]
  },
  {
   "cell_type": "markdown",
   "metadata": {},
   "source": [
    "* Façade composed of stripe-shaped elements\n",
    "* Undulating movement on the stripe's axis\n",
    "* Stripe’s original and undulating axes, represented by points"
   ]
  },
  {
   "cell_type": "markdown",
   "metadata": {},
   "source": [
    "| Spatial locations of the undulating shape.        |\n",
    "|---------------------------------------------------|\n",
    "| <img src=\"./figures/sketches/01.png\" width=\"200\"> |"
   ]
  },
  {
   "cell_type": "code",
   "execution_count": 87,
   "metadata": {},
   "outputs": [],
   "source": [
    "@test begin\n",
    "ptss = map_division(xz, 0, 10, 10, 0, 10, 10)\n",
    "nothing\n",
    "end"
   ]
  },
  {
   "cell_type": "markdown",
   "metadata": {},
   "source": [
    "### Version 1 (only amplitude)"
   ]
  },
  {
   "cell_type": "markdown",
   "metadata": {},
   "source": [
    "__Parameters:__ points and an amplitude value of the sinusoid\n",
    "\n",
    "The algorithm moves the points in opposite perpendicular directions alternately, returning them as a new list of points"
   ]
  },
  {
   "cell_type": "markdown",
   "metadata": {},
   "source": [
    "| Sinusodial movement.                              |\n",
    "|---------------------------------------------------|\n",
    "| <img src=\"./figures/sketches/02.png\" width=\"400\"> |"
   ]
  },
  {
   "cell_type": "code",
   "execution_count": 88,
   "metadata": {},
   "outputs": [
    {
     "data": {
      "text/plain": [
       "stripe_2D_pts (generic function with 3 methods)"
      ]
     },
     "execution_count": 88,
     "metadata": {},
     "output_type": "execute_result"
    }
   ],
   "source": [
    "stripe_2D_pts(pts, amp) =\n",
    "    [let p1 = pt1 + vy(amp),\n",
    "         p2 = pt2 - vy(amp)\n",
    "      [p1, intermediate_loc(p1, p2, 0.5)]\n",
    "     end\n",
    "     for (pt1, pt2)\n",
    "     in zip(pts, [pts[2:end]...,pts[end]])]"
   ]
  },
  {
   "cell_type": "markdown",
   "metadata": {},
   "source": [
    "Test `stripe_2D_pts` function.\n",
    "The expected result is a 2D undulating spline."
   ]
  },
  {
   "cell_type": "code",
   "execution_count": 89,
   "metadata": {
    "scrolled": false
   },
   "outputs": [
    {
     "data": {
      "application/vnd.plotly.v1+json": {
       "data": [],
       "layout": {
        "autosize": true,
        "height": 400,
        "margin": {
         "b": 0,
         "l": 0,
         "r": 0,
         "t": 0
        },
        "scene": {
         "aspectmode": "data",
         "xaxis": {
          "showticklabels": false
         },
         "yaxis": {
          "showticklabels": false
         },
         "zaxis": {
          "showticklabels": false
         }
        },
        "showlegend": false,
        "width": 600
       }
      },
      "application/vnd.webio.node+json": {
       "children": [
        {
         "children": [],
         "instanceArgs": {
          "namespace": "html",
          "tag": "div"
         },
         "nodeType": "DOM",
         "props": {
          "id": "plot-2c580376-6113-4c01-8927-9e01482e8e5b"
         },
         "type": "node"
        }
       ],
       "instanceArgs": {
        "handlers": {
         "__get_gd_contents": [
          "(function (prop){prop==\"data\" ? (WebIO.setval({\"name\":\"__gd_contents\",\"scope\":\"13966846251566629215\",\"id\":\"ob_135\",\"type\":\"observable\"},this.plotElem.data)) : undefined; return prop==\"layout\" ? (WebIO.setval({\"name\":\"__gd_contents\",\"scope\":\"13966846251566629215\",\"id\":\"ob_135\",\"type\":\"observable\"},this.plotElem.layout)) : undefined})"
         ],
         "_commands": [
          "(function (args){var fn=args.shift(); var elem=this.plotElem; var Plotly=this.Plotly; args.unshift(elem); return Plotly[fn].apply(this,args)})"
         ],
         "_downloadImage": [
          "(function (options){return this.Plotly.downloadImage(this.plotElem,options)})"
         ],
         "_toImage": [
          "(function (options){return this.Plotly.toImage(this.plotElem,options).then((function (data){return WebIO.setval({\"name\":\"image\",\"scope\":\"13966846251566629215\",\"id\":\"ob_134\",\"type\":\"observable\"},data)}))})"
         ]
        },
        "id": "13966846251566629215",
        "imports": {
         "data": [
          {
           "name": "Plotly",
           "type": "js",
           "url": "/assetserver/97a1af6d43bec17f982ce6699d23c6a6399c0662-plotly-latest.min.js"
          },
          {
           "name": null,
           "type": "js",
           "url": "/assetserver/dda18c5c0a078ca7d31a0db6b56636033afec9a4-plotly_webio.bundle.js"
          }
         ],
         "type": "async_block"
        },
        "mount_callbacks": [
         "function () {\n    var handler = ((function (Plotly,PlotlyWebIO){PlotlyWebIO.init(WebIO); var gd=this.dom.querySelector(\"#plot-2c580376-6113-4c01-8927-9e01482e8e5b\"); this.plotElem=gd; this.Plotly=Plotly; (window.Blink!==undefined) ? (gd.style.width=\"100%\", gd.style.height=\"100vh\", gd.style.marginLeft=\"0%\", gd.style.marginTop=\"0vh\") : undefined; window.onresize=(function (){return Plotly.Plots.resize(gd)}); Plotly.newPlot(gd,[],{\"showlegend\":false,\"autosize\":true,\"height\":400,\"margin\":{\"l\":0,\"b\":0,\"r\":0,\"t\":0},\"scene\":{\"xaxis\":{\"showticklabels\":false},\"aspectmode\":\"data\",\"yaxis\":{\"showticklabels\":false},\"zaxis\":{\"showticklabels\":false}},\"width\":600},{\"showLink\":false}); gd.on(\"plotly_hover\",(function (data){var filtered_data=WebIO.PlotlyCommands.filterEventData(gd,data,\"hover\"); return !(filtered_data.isnil) ? (WebIO.setval({\"name\":\"hover\",\"scope\":\"13966846251566629215\",\"id\":\"ob_130\",\"type\":\"observable\"},filtered_data.out)) : undefined})); gd.on(\"plotly_unhover\",(function (){return WebIO.setval({\"name\":\"hover\",\"scope\":\"13966846251566629215\",\"id\":\"ob_130\",\"type\":\"observable\"},{})})); gd.on(\"plotly_selected\",(function (data){var filtered_data=WebIO.PlotlyCommands.filterEventData(gd,data,\"selected\"); return !(filtered_data.isnil) ? (WebIO.setval({\"name\":\"selected\",\"scope\":\"13966846251566629215\",\"id\":\"ob_131\",\"type\":\"observable\"},filtered_data.out)) : undefined})); gd.on(\"plotly_deselect\",(function (){return WebIO.setval({\"name\":\"selected\",\"scope\":\"13966846251566629215\",\"id\":\"ob_131\",\"type\":\"observable\"},{})})); gd.on(\"plotly_relayout\",(function (data){var filtered_data=WebIO.PlotlyCommands.filterEventData(gd,data,\"relayout\"); return !(filtered_data.isnil) ? (WebIO.setval({\"name\":\"relayout\",\"scope\":\"13966846251566629215\",\"id\":\"ob_133\",\"type\":\"observable\"},filtered_data.out)) : undefined})); return gd.on(\"plotly_click\",(function (data){var filtered_data=WebIO.PlotlyCommands.filterEventData(gd,data,\"click\"); return !(filtered_data.isnil) ? (WebIO.setval({\"name\":\"click\",\"scope\":\"13966846251566629215\",\"id\":\"ob_132\",\"type\":\"observable\"},filtered_data.out)) : undefined}))}));\n    (WebIO.importBlock({\"data\":[{\"name\":\"Plotly\",\"type\":\"js\",\"url\":\"/assetserver/97a1af6d43bec17f982ce6699d23c6a6399c0662-plotly-latest.min.js\"},{\"name\":null,\"type\":\"js\",\"url\":\"/assetserver/dda18c5c0a078ca7d31a0db6b56636033afec9a4-plotly_webio.bundle.js\"}],\"type\":\"async_block\"})).then((imports) => handler.apply(this, imports));\n}\n"
        ],
        "observables": {
         "__gd_contents": {
          "id": "ob_135",
          "sync": false,
          "value": {}
         },
         "__get_gd_contents": {
          "id": "ob_139",
          "sync": false,
          "value": ""
         },
         "_commands": {
          "id": "ob_136",
          "sync": false,
          "value": []
         },
         "_downloadImage": {
          "id": "ob_138",
          "sync": false,
          "value": {}
         },
         "_toImage": {
          "id": "ob_137",
          "sync": false,
          "value": {}
         },
         "click": {
          "id": "ob_132",
          "sync": false,
          "value": {}
         },
         "hover": {
          "id": "ob_130",
          "sync": false,
          "value": {}
         },
         "image": {
          "id": "ob_134",
          "sync": true,
          "value": ""
         },
         "relayout": {
          "id": "ob_133",
          "sync": false,
          "value": {}
         },
         "selected": {
          "id": "ob_131",
          "sync": false,
          "value": {}
         }
        },
        "systemjs_options": null
       },
       "nodeType": "Scope",
       "props": {},
       "type": "node"
      },
      "text/html": [
       "<div\n",
       "    class=\"webio-mountpoint\"\n",
       "    data-webio-mountpoint=\"11718716263197186526\"\n",
       ">\n",
       "    <script>\n",
       "    if (window.require && require.defined && require.defined(\"nbextensions/webio-jupyter-notebook\")) {\n",
       "        console.log(\"Jupyter WebIO extension detected, not mounting.\");\n",
       "    } else if (window.WebIO) {\n",
       "        WebIO.mount(\n",
       "            document.querySelector('[data-webio-mountpoint=\"11718716263197186526\"]'),\n",
       "            {\"props\":{},\"nodeType\":\"Scope\",\"type\":\"node\",\"instanceArgs\":{\"imports\":{\"data\":[{\"name\":\"Plotly\",\"type\":\"js\",\"url\":\"\\/assetserver\\/97a1af6d43bec17f982ce6699d23c6a6399c0662-plotly-latest.min.js\"},{\"name\":null,\"type\":\"js\",\"url\":\"\\/assetserver\\/dda18c5c0a078ca7d31a0db6b56636033afec9a4-plotly_webio.bundle.js\"}],\"type\":\"async_block\"},\"id\":\"13966846251566629215\",\"handlers\":{\"_toImage\":[\"(function (options){return this.Plotly.toImage(this.plotElem,options).then((function (data){return WebIO.setval({\\\"name\\\":\\\"image\\\",\\\"scope\\\":\\\"13966846251566629215\\\",\\\"id\\\":\\\"ob_134\\\",\\\"type\\\":\\\"observable\\\"},data)}))})\"],\"__get_gd_contents\":[\"(function (prop){prop==\\\"data\\\" ? (WebIO.setval({\\\"name\\\":\\\"__gd_contents\\\",\\\"scope\\\":\\\"13966846251566629215\\\",\\\"id\\\":\\\"ob_135\\\",\\\"type\\\":\\\"observable\\\"},this.plotElem.data)) : undefined; return prop==\\\"layout\\\" ? (WebIO.setval({\\\"name\\\":\\\"__gd_contents\\\",\\\"scope\\\":\\\"13966846251566629215\\\",\\\"id\\\":\\\"ob_135\\\",\\\"type\\\":\\\"observable\\\"},this.plotElem.layout)) : undefined})\"],\"_downloadImage\":[\"(function (options){return this.Plotly.downloadImage(this.plotElem,options)})\"],\"_commands\":[\"(function (args){var fn=args.shift(); var elem=this.plotElem; var Plotly=this.Plotly; args.unshift(elem); return Plotly[fn].apply(this,args)})\"]},\"systemjs_options\":null,\"mount_callbacks\":[\"function () {\\n    var handler = ((function (Plotly,PlotlyWebIO){PlotlyWebIO.init(WebIO); var gd=this.dom.querySelector(\\\"#plot-2c580376-6113-4c01-8927-9e01482e8e5b\\\"); this.plotElem=gd; this.Plotly=Plotly; (window.Blink!==undefined) ? (gd.style.width=\\\"100%\\\", gd.style.height=\\\"100vh\\\", gd.style.marginLeft=\\\"0%\\\", gd.style.marginTop=\\\"0vh\\\") : undefined; window.onresize=(function (){return Plotly.Plots.resize(gd)}); Plotly.newPlot(gd,[],{\\\"showlegend\\\":false,\\\"autosize\\\":true,\\\"height\\\":400,\\\"margin\\\":{\\\"l\\\":0,\\\"b\\\":0,\\\"r\\\":0,\\\"t\\\":0},\\\"scene\\\":{\\\"xaxis\\\":{\\\"showticklabels\\\":false},\\\"aspectmode\\\":\\\"data\\\",\\\"yaxis\\\":{\\\"showticklabels\\\":false},\\\"zaxis\\\":{\\\"showticklabels\\\":false}},\\\"width\\\":600},{\\\"showLink\\\":false}); gd.on(\\\"plotly_hover\\\",(function (data){var filtered_data=WebIO.PlotlyCommands.filterEventData(gd,data,\\\"hover\\\"); return !(filtered_data.isnil) ? (WebIO.setval({\\\"name\\\":\\\"hover\\\",\\\"scope\\\":\\\"13966846251566629215\\\",\\\"id\\\":\\\"ob_130\\\",\\\"type\\\":\\\"observable\\\"},filtered_data.out)) : undefined})); gd.on(\\\"plotly_unhover\\\",(function (){return WebIO.setval({\\\"name\\\":\\\"hover\\\",\\\"scope\\\":\\\"13966846251566629215\\\",\\\"id\\\":\\\"ob_130\\\",\\\"type\\\":\\\"observable\\\"},{})})); gd.on(\\\"plotly_selected\\\",(function (data){var filtered_data=WebIO.PlotlyCommands.filterEventData(gd,data,\\\"selected\\\"); return !(filtered_data.isnil) ? (WebIO.setval({\\\"name\\\":\\\"selected\\\",\\\"scope\\\":\\\"13966846251566629215\\\",\\\"id\\\":\\\"ob_131\\\",\\\"type\\\":\\\"observable\\\"},filtered_data.out)) : undefined})); gd.on(\\\"plotly_deselect\\\",(function (){return WebIO.setval({\\\"name\\\":\\\"selected\\\",\\\"scope\\\":\\\"13966846251566629215\\\",\\\"id\\\":\\\"ob_131\\\",\\\"type\\\":\\\"observable\\\"},{})})); gd.on(\\\"plotly_relayout\\\",(function (data){var filtered_data=WebIO.PlotlyCommands.filterEventData(gd,data,\\\"relayout\\\"); return !(filtered_data.isnil) ? (WebIO.setval({\\\"name\\\":\\\"relayout\\\",\\\"scope\\\":\\\"13966846251566629215\\\",\\\"id\\\":\\\"ob_133\\\",\\\"type\\\":\\\"observable\\\"},filtered_data.out)) : undefined})); return gd.on(\\\"plotly_click\\\",(function (data){var filtered_data=WebIO.PlotlyCommands.filterEventData(gd,data,\\\"click\\\"); return !(filtered_data.isnil) ? (WebIO.setval({\\\"name\\\":\\\"click\\\",\\\"scope\\\":\\\"13966846251566629215\\\",\\\"id\\\":\\\"ob_132\\\",\\\"type\\\":\\\"observable\\\"},filtered_data.out)) : undefined}))}));\\n    (WebIO.importBlock({\\\"data\\\":[{\\\"name\\\":\\\"Plotly\\\",\\\"type\\\":\\\"js\\\",\\\"url\\\":\\\"\\/assetserver\\/97a1af6d43bec17f982ce6699d23c6a6399c0662-plotly-latest.min.js\\\"},{\\\"name\\\":null,\\\"type\\\":\\\"js\\\",\\\"url\\\":\\\"\\/assetserver\\/dda18c5c0a078ca7d31a0db6b56636033afec9a4-plotly_webio.bundle.js\\\"}],\\\"type\\\":\\\"async_block\\\"})).then((imports) => handler.apply(this, imports));\\n}\\n\"],\"observables\":{\"_toImage\":{\"sync\":false,\"id\":\"ob_137\",\"value\":{}},\"hover\":{\"sync\":false,\"id\":\"ob_130\",\"value\":{}},\"selected\":{\"sync\":false,\"id\":\"ob_131\",\"value\":{}},\"__gd_contents\":{\"sync\":false,\"id\":\"ob_135\",\"value\":{}},\"click\":{\"sync\":false,\"id\":\"ob_132\",\"value\":{}},\"image\":{\"sync\":true,\"id\":\"ob_134\",\"value\":\"\"},\"__get_gd_contents\":{\"sync\":false,\"id\":\"ob_139\",\"value\":\"\"},\"_downloadImage\":{\"sync\":false,\"id\":\"ob_138\",\"value\":{}},\"relayout\":{\"sync\":false,\"id\":\"ob_133\",\"value\":{}},\"_commands\":{\"sync\":false,\"id\":\"ob_136\",\"value\":[]}}},\"children\":[{\"props\":{\"id\":\"plot-2c580376-6113-4c01-8927-9e01482e8e5b\"},\"nodeType\":\"DOM\",\"type\":\"node\",\"instanceArgs\":{\"namespace\":\"html\",\"tag\":\"div\"},\"children\":[]}]},\n",
       "            window,\n",
       "        );\n",
       "    } else {\n",
       "        document\n",
       "            .querySelector('[data-webio-mountpoint=\"11718716263197186526\"]')\n",
       "            .innerHTML = (\n",
       "                '<div style=\"padding: 1em; background-color: #f8d6da; border: 1px solid #f5c6cb\">' +\n",
       "                '<p><strong>WebIO not detected.</strong></p>' +\n",
       "                '<p>Please read ' +\n",
       "                '<a href=\"https://juliagizmos.github.io/WebIO.jl/latest/troubleshooting/not-detected/\" target=\"_blank\">the troubleshooting guide</a> ' +\n",
       "                'for more information on how to resolve this issue.</p>' +\n",
       "                '<p><a href=\"https://juliagizmos.github.io/WebIO.jl/latest/troubleshooting/not-detected/\" target=\"_blank\">https://juliagizmos.github.io/WebIO.jl/latest/troubleshooting/not-detected/</a></p>' +\n",
       "                '</div>'\n",
       "            );\n",
       "    }\n",
       "    </script>\n",
       "</div>\n"
      ],
      "text/plain": [
       "data: []\n",
       "\n",
       "layout: \"layout with fields autosize, height, margin, scene, showlegend, and width\"\n",
       "\n"
      ]
     },
     "metadata": {
      "application/vnd.webio.node+json": {
       "kernelId": "39a39940-e927-4336-b049-21782b40626f"
      }
     },
     "output_type": "display_data"
    },
    {
     "data": {
      "application/vnd.webio.node+json": {
       "children": [
        {
         "children": [
          {
           "children": [
            {
             "children": [
              {
               "children": [
                {
                 "children": [
                  "Spline Amplitude"
                 ],
                 "instanceArgs": {
                  "namespace": "html",
                  "tag": "label"
                 },
                 "nodeType": "DOM",
                 "props": {
                  "className": "interact ",
                  "style": {
                   "padding": "5px 10px 0px 10px"
                  }
                 },
                 "type": "node"
                }
               ],
               "instanceArgs": {
                "namespace": "html",
                "tag": "div"
               },
               "nodeType": "DOM",
               "props": {
                "className": "interact-flex-row-left"
               },
               "type": "node"
              },
              {
               "children": [
                {
                 "children": [],
                 "instanceArgs": {
                  "namespace": "html",
                  "tag": "input"
                 },
                 "nodeType": "DOM",
                 "props": {
                  "attributes": {
                   "data-bind": "numericValue: index, valueUpdate: 'input', event: {change: function (){this.changes(this.changes()+1)}}",
                   "orient": "horizontal",
                   "type": "range"
                  },
                  "className": "slider slider is-fullwidth",
                  "max": 101,
                  "min": 1,
                  "step": 1,
                  "style": {}
                 },
                 "type": "node"
                }
               ],
               "instanceArgs": {
                "namespace": "html",
                "tag": "div"
               },
               "nodeType": "DOM",
               "props": {
                "className": "interact-flex-row-center"
               },
               "type": "node"
              },
              {
               "children": [
                {
                 "children": [],
                 "instanceArgs": {
                  "namespace": "html",
                  "tag": "p"
                 },
                 "nodeType": "DOM",
                 "props": {
                  "attributes": {
                   "data-bind": "text: formatted_val"
                  }
                 },
                 "type": "node"
                }
               ],
               "instanceArgs": {
                "namespace": "html",
                "tag": "div"
               },
               "nodeType": "DOM",
               "props": {
                "className": "interact-flex-row-right"
               },
               "type": "node"
              }
             ],
             "instanceArgs": {
              "namespace": "html",
              "tag": "div"
             },
             "nodeType": "DOM",
             "props": {
              "className": "interact-flex-row interact-widget"
             },
             "type": "node"
            }
           ],
           "instanceArgs": {
            "handlers": {
             "changes": [
              "(function (val){return (val!=this.model[\"changes\"]()) ? (this.valueFromJulia[\"changes\"]=true, this.model[\"changes\"](val)) : undefined})"
             ],
             "index": [
              "(function (val){return (val!=this.model[\"index\"]()) ? (this.valueFromJulia[\"index\"]=true, this.model[\"index\"](val)) : undefined})"
             ]
            },
            "id": "16777982642562754761",
            "imports": {
             "data": [
              {
               "name": "knockout",
               "type": "js",
               "url": "/assetserver/41a273c89bcce599ea619ceead1fb1eecdca6622-knockout.js"
              },
              {
               "name": "knockout_punches",
               "type": "js",
               "url": "/assetserver/32c9c9f4cf2c3726fd5071a28032a60ac6bba4af-knockout_punches.js"
              },
              {
               "name": null,
               "type": "js",
               "url": "/assetserver/2719b6df48bab31e3dc02827733e2ba37456b9e5-all.js"
              },
              {
               "name": null,
               "type": "css",
               "url": "/assetserver/c34264e2b887dac221f520b6f75cf7f3100e23c6-style.css"
              },
              {
               "name": null,
               "type": "css",
               "url": "/assetserver/4b9c540d5898f147e291dc66a148fd2b225c63c9-bulma_confined.min.css"
              }
             ],
             "type": "async_block"
            },
            "mount_callbacks": [
             "function () {\n    var handler = (function (ko, koPunches) {\n    ko.punches.enableAll();\n    ko.bindingHandlers.numericValue = {\n        init: function(element, valueAccessor, allBindings, data, context) {\n            var stringified = ko.observable(ko.unwrap(valueAccessor()));\n            stringified.subscribe(function(value) {\n                var val = parseFloat(value);\n                if (!isNaN(val)) {\n                    valueAccessor()(val);\n                }\n            });\n            valueAccessor().subscribe(function(value) {\n                var str = JSON.stringify(value);\n                if ((str == \"0\") && ([\"-0\", \"-0.\"].indexOf(stringified()) >= 0))\n                     return;\n                 if ([\"null\", \"\"].indexOf(str) >= 0)\n                     return;\n                stringified(str);\n            });\n            ko.applyBindingsToNode(\n                element,\n                {\n                    value: stringified,\n                    valueUpdate: allBindings.get('valueUpdate'),\n                },\n                context,\n            );\n        }\n    };\n    var json_data = {\"formatted_vals\":[\"0.0\",\"0.01\",\"0.02\",\"0.03\",\"0.04\",\"0.05\",\"0.06\",\"0.07\",\"0.08\",\"0.09\",\"0.1\",\"0.11\",\"0.12\",\"0.13\",\"0.14\",\"0.15\",\"0.16\",\"0.17\",\"0.18\",\"0.19\",\"0.2\",\"0.21\",\"0.22\",\"0.23\",\"0.24\",\"0.25\",\"0.26\",\"0.27\",\"0.28\",\"0.29\",\"0.3\",\"0.31\",\"0.32\",\"0.33\",\"0.34\",\"0.35\",\"0.36\",\"0.37\",\"0.38\",\"0.39\",\"0.4\",\"0.41\",\"0.42\",\"0.43\",\"0.44\",\"0.45\",\"0.46\",\"0.47\",\"0.48\",\"0.49\",\"0.5\",\"0.51\",\"0.52\",\"0.53\",\"0.54\",\"0.55\",\"0.56\",\"0.57\",\"0.58\",\"0.59\",\"0.6\",\"0.61\",\"0.62\",\"0.63\",\"0.64\",\"0.65\",\"0.66\",\"0.67\",\"0.68\",\"0.69\",\"0.7\",\"0.71\",\"0.72\",\"0.73\",\"0.74\",\"0.75\",\"0.76\",\"0.77\",\"0.78\",\"0.79\",\"0.8\",\"0.81\",\"0.82\",\"0.83\",\"0.84\",\"0.85\",\"0.86\",\"0.87\",\"0.88\",\"0.89\",\"0.9\",\"0.91\",\"0.92\",\"0.93\",\"0.94\",\"0.95\",\"0.96\",\"0.97\",\"0.98\",\"0.99\",\"1.0\"],\"changes\":WebIO.getval({\"name\":\"changes\",\"scope\":\"16777982642562754761\",\"id\":\"ob_129\",\"type\":\"observable\"}),\"index\":WebIO.getval({\"name\":\"index\",\"scope\":\"16777982642562754761\",\"id\":\"ob_128\",\"type\":\"observable\"})};\n    var self = this;\n    function AppViewModel() {\n        for (var key in json_data) {\n            var el = json_data[key];\n            this[key] = Array.isArray(el) ? ko.observableArray(el) : ko.observable(el);\n        }\n        \n        [this[\"formatted_val\"]=ko.computed(    function(){\n        return this.formatted_vals()[parseInt(this.index())-(1)];\n    }\n,this)]\n        [this[\"changes\"].subscribe((function (val){!(this.valueFromJulia[\"changes\"]) ? (WebIO.setval({\"name\":\"changes\",\"scope\":\"16777982642562754761\",\"id\":\"ob_129\",\"type\":\"observable\"},val)) : undefined; return this.valueFromJulia[\"changes\"]=false}),self),this[\"index\"].subscribe((function (val){!(this.valueFromJulia[\"index\"]) ? (WebIO.setval({\"name\":\"index\",\"scope\":\"16777982642562754761\",\"id\":\"ob_128\",\"type\":\"observable\"},val)) : undefined; return this.valueFromJulia[\"index\"]=false}),self)]\n        \n    }\n    self.model = new AppViewModel();\n    self.valueFromJulia = {};\n    for (var key in json_data) {\n        self.valueFromJulia[key] = false;\n    }\n    ko.applyBindings(self.model, self.dom);\n}\n);\n    (WebIO.importBlock({\"data\":[{\"name\":\"knockout\",\"type\":\"js\",\"url\":\"/assetserver/41a273c89bcce599ea619ceead1fb1eecdca6622-knockout.js\"},{\"name\":\"knockout_punches\",\"type\":\"js\",\"url\":\"/assetserver/32c9c9f4cf2c3726fd5071a28032a60ac6bba4af-knockout_punches.js\"}],\"type\":\"async_block\"})).then((imports) => handler.apply(this, imports));\n}\n"
            ],
            "observables": {
             "changes": {
              "id": "ob_129",
              "sync": false,
              "value": 0
             },
             "index": {
              "id": "ob_128",
              "sync": true,
              "value": 51
             }
            },
            "systemjs_options": null
           },
           "nodeType": "Scope",
           "props": {},
           "type": "node"
          }
         ],
         "instanceArgs": {
          "namespace": "html",
          "tag": "div"
         },
         "nodeType": "DOM",
         "props": {
          "className": "field interact-widget"
         },
         "type": "node"
        },
        {
         "children": [
          {
           "children": [],
           "instanceArgs": {
            "id": "ob_145",
            "name": "obs-node"
           },
           "nodeType": "ObservableNode",
           "props": {},
           "type": "node"
          }
         ],
         "instanceArgs": {
          "handlers": {},
          "id": "12823816375925433584",
          "imports": {
           "data": [],
           "type": "async_block"
          },
          "mount_callbacks": [],
          "observables": {
           "obs-node": {
            "id": "ob_145",
            "sync": false,
            "value": {
             "children": [
              ""
             ],
             "instanceArgs": {
              "namespace": "html",
              "tag": "div"
             },
             "nodeType": "DOM",
             "props": {
              "className": "interact-flex-row interact-widget"
             },
             "type": "node"
            }
           }
          },
          "systemjs_options": null
         },
         "nodeType": "Scope",
         "props": {},
         "type": "node"
        }
       ],
       "instanceArgs": {
        "namespace": "html",
        "tag": "div"
       },
       "nodeType": "DOM",
       "props": {},
       "type": "node"
      },
      "text/html": [
       "<div\n",
       "    class=\"webio-mountpoint\"\n",
       "    data-webio-mountpoint=\"16670495260173470002\"\n",
       ">\n",
       "    <script>\n",
       "    if (window.require && require.defined && require.defined(\"nbextensions/webio-jupyter-notebook\")) {\n",
       "        console.log(\"Jupyter WebIO extension detected, not mounting.\");\n",
       "    } else if (window.WebIO) {\n",
       "        WebIO.mount(\n",
       "            document.querySelector('[data-webio-mountpoint=\"16670495260173470002\"]'),\n",
       "            {\"props\":{},\"nodeType\":\"DOM\",\"type\":\"node\",\"instanceArgs\":{\"namespace\":\"html\",\"tag\":\"div\"},\"children\":[{\"props\":{\"className\":\"field interact-widget\"},\"nodeType\":\"DOM\",\"type\":\"node\",\"instanceArgs\":{\"namespace\":\"html\",\"tag\":\"div\"},\"children\":[{\"props\":{},\"nodeType\":\"Scope\",\"type\":\"node\",\"instanceArgs\":{\"imports\":{\"data\":[{\"name\":\"knockout\",\"type\":\"js\",\"url\":\"\\/assetserver\\/41a273c89bcce599ea619ceead1fb1eecdca6622-knockout.js\"},{\"name\":\"knockout_punches\",\"type\":\"js\",\"url\":\"\\/assetserver\\/32c9c9f4cf2c3726fd5071a28032a60ac6bba4af-knockout_punches.js\"},{\"name\":null,\"type\":\"js\",\"url\":\"\\/assetserver\\/2719b6df48bab31e3dc02827733e2ba37456b9e5-all.js\"},{\"name\":null,\"type\":\"css\",\"url\":\"\\/assetserver\\/c34264e2b887dac221f520b6f75cf7f3100e23c6-style.css\"},{\"name\":null,\"type\":\"css\",\"url\":\"\\/assetserver\\/4b9c540d5898f147e291dc66a148fd2b225c63c9-bulma_confined.min.css\"}],\"type\":\"async_block\"},\"id\":\"16777982642562754761\",\"handlers\":{\"changes\":[\"(function (val){return (val!=this.model[\\\"changes\\\"]()) ? (this.valueFromJulia[\\\"changes\\\"]=true, this.model[\\\"changes\\\"](val)) : undefined})\"],\"index\":[\"(function (val){return (val!=this.model[\\\"index\\\"]()) ? (this.valueFromJulia[\\\"index\\\"]=true, this.model[\\\"index\\\"](val)) : undefined})\"]},\"systemjs_options\":null,\"mount_callbacks\":[\"function () {\\n    var handler = (function (ko, koPunches) {\\n    ko.punches.enableAll();\\n    ko.bindingHandlers.numericValue = {\\n        init: function(element, valueAccessor, allBindings, data, context) {\\n            var stringified = ko.observable(ko.unwrap(valueAccessor()));\\n            stringified.subscribe(function(value) {\\n                var val = parseFloat(value);\\n                if (!isNaN(val)) {\\n                    valueAccessor()(val);\\n                }\\n            });\\n            valueAccessor().subscribe(function(value) {\\n                var str = JSON.stringify(value);\\n                if ((str == \\\"0\\\") && ([\\\"-0\\\", \\\"-0.\\\"].indexOf(stringified()) >= 0))\\n                     return;\\n                 if ([\\\"null\\\", \\\"\\\"].indexOf(str) >= 0)\\n                     return;\\n                stringified(str);\\n            });\\n            ko.applyBindingsToNode(\\n                element,\\n                {\\n                    value: stringified,\\n                    valueUpdate: allBindings.get('valueUpdate'),\\n                },\\n                context,\\n            );\\n        }\\n    };\\n    var json_data = {\\\"formatted_vals\\\":[\\\"0.0\\\",\\\"0.01\\\",\\\"0.02\\\",\\\"0.03\\\",\\\"0.04\\\",\\\"0.05\\\",\\\"0.06\\\",\\\"0.07\\\",\\\"0.08\\\",\\\"0.09\\\",\\\"0.1\\\",\\\"0.11\\\",\\\"0.12\\\",\\\"0.13\\\",\\\"0.14\\\",\\\"0.15\\\",\\\"0.16\\\",\\\"0.17\\\",\\\"0.18\\\",\\\"0.19\\\",\\\"0.2\\\",\\\"0.21\\\",\\\"0.22\\\",\\\"0.23\\\",\\\"0.24\\\",\\\"0.25\\\",\\\"0.26\\\",\\\"0.27\\\",\\\"0.28\\\",\\\"0.29\\\",\\\"0.3\\\",\\\"0.31\\\",\\\"0.32\\\",\\\"0.33\\\",\\\"0.34\\\",\\\"0.35\\\",\\\"0.36\\\",\\\"0.37\\\",\\\"0.38\\\",\\\"0.39\\\",\\\"0.4\\\",\\\"0.41\\\",\\\"0.42\\\",\\\"0.43\\\",\\\"0.44\\\",\\\"0.45\\\",\\\"0.46\\\",\\\"0.47\\\",\\\"0.48\\\",\\\"0.49\\\",\\\"0.5\\\",\\\"0.51\\\",\\\"0.52\\\",\\\"0.53\\\",\\\"0.54\\\",\\\"0.55\\\",\\\"0.56\\\",\\\"0.57\\\",\\\"0.58\\\",\\\"0.59\\\",\\\"0.6\\\",\\\"0.61\\\",\\\"0.62\\\",\\\"0.63\\\",\\\"0.64\\\",\\\"0.65\\\",\\\"0.66\\\",\\\"0.67\\\",\\\"0.68\\\",\\\"0.69\\\",\\\"0.7\\\",\\\"0.71\\\",\\\"0.72\\\",\\\"0.73\\\",\\\"0.74\\\",\\\"0.75\\\",\\\"0.76\\\",\\\"0.77\\\",\\\"0.78\\\",\\\"0.79\\\",\\\"0.8\\\",\\\"0.81\\\",\\\"0.82\\\",\\\"0.83\\\",\\\"0.84\\\",\\\"0.85\\\",\\\"0.86\\\",\\\"0.87\\\",\\\"0.88\\\",\\\"0.89\\\",\\\"0.9\\\",\\\"0.91\\\",\\\"0.92\\\",\\\"0.93\\\",\\\"0.94\\\",\\\"0.95\\\",\\\"0.96\\\",\\\"0.97\\\",\\\"0.98\\\",\\\"0.99\\\",\\\"1.0\\\"],\\\"changes\\\":WebIO.getval({\\\"name\\\":\\\"changes\\\",\\\"scope\\\":\\\"16777982642562754761\\\",\\\"id\\\":\\\"ob_129\\\",\\\"type\\\":\\\"observable\\\"}),\\\"index\\\":WebIO.getval({\\\"name\\\":\\\"index\\\",\\\"scope\\\":\\\"16777982642562754761\\\",\\\"id\\\":\\\"ob_128\\\",\\\"type\\\":\\\"observable\\\"})};\\n    var self = this;\\n    function AppViewModel() {\\n        for (var key in json_data) {\\n            var el = json_data[key];\\n            this[key] = Array.isArray(el) ? ko.observableArray(el) : ko.observable(el);\\n        }\\n        \\n        [this[\\\"formatted_val\\\"]=ko.computed(    function(){\\n        return this.formatted_vals()[parseInt(this.index())-(1)];\\n    }\\n,this)]\\n        [this[\\\"changes\\\"].subscribe((function (val){!(this.valueFromJulia[\\\"changes\\\"]) ? (WebIO.setval({\\\"name\\\":\\\"changes\\\",\\\"scope\\\":\\\"16777982642562754761\\\",\\\"id\\\":\\\"ob_129\\\",\\\"type\\\":\\\"observable\\\"},val)) : undefined; return this.valueFromJulia[\\\"changes\\\"]=false}),self),this[\\\"index\\\"].subscribe((function (val){!(this.valueFromJulia[\\\"index\\\"]) ? (WebIO.setval({\\\"name\\\":\\\"index\\\",\\\"scope\\\":\\\"16777982642562754761\\\",\\\"id\\\":\\\"ob_128\\\",\\\"type\\\":\\\"observable\\\"},val)) : undefined; return this.valueFromJulia[\\\"index\\\"]=false}),self)]\\n        \\n    }\\n    self.model = new AppViewModel();\\n    self.valueFromJulia = {};\\n    for (var key in json_data) {\\n        self.valueFromJulia[key] = false;\\n    }\\n    ko.applyBindings(self.model, self.dom);\\n}\\n);\\n    (WebIO.importBlock({\\\"data\\\":[{\\\"name\\\":\\\"knockout\\\",\\\"type\\\":\\\"js\\\",\\\"url\\\":\\\"\\/assetserver\\/41a273c89bcce599ea619ceead1fb1eecdca6622-knockout.js\\\"},{\\\"name\\\":\\\"knockout_punches\\\",\\\"type\\\":\\\"js\\\",\\\"url\\\":\\\"\\/assetserver\\/32c9c9f4cf2c3726fd5071a28032a60ac6bba4af-knockout_punches.js\\\"}],\\\"type\\\":\\\"async_block\\\"})).then((imports) => handler.apply(this, imports));\\n}\\n\"],\"observables\":{\"changes\":{\"sync\":false,\"id\":\"ob_129\",\"value\":0},\"index\":{\"sync\":true,\"id\":\"ob_128\",\"value\":51}}},\"children\":[{\"props\":{\"className\":\"interact-flex-row interact-widget\"},\"nodeType\":\"DOM\",\"type\":\"node\",\"instanceArgs\":{\"namespace\":\"html\",\"tag\":\"div\"},\"children\":[{\"props\":{\"className\":\"interact-flex-row-left\"},\"nodeType\":\"DOM\",\"type\":\"node\",\"instanceArgs\":{\"namespace\":\"html\",\"tag\":\"div\"},\"children\":[{\"props\":{\"className\":\"interact \",\"style\":{\"padding\":\"5px 10px 0px 10px\"}},\"nodeType\":\"DOM\",\"type\":\"node\",\"instanceArgs\":{\"namespace\":\"html\",\"tag\":\"label\"},\"children\":[\"Spline Amplitude\"]}]},{\"props\":{\"className\":\"interact-flex-row-center\"},\"nodeType\":\"DOM\",\"type\":\"node\",\"instanceArgs\":{\"namespace\":\"html\",\"tag\":\"div\"},\"children\":[{\"props\":{\"max\":101,\"min\":1,\"attributes\":{\"type\":\"range\",\"data-bind\":\"numericValue: index, valueUpdate: 'input', event: {change: function (){this.changes(this.changes()+1)}}\",\"orient\":\"horizontal\"},\"step\":1,\"className\":\"slider slider is-fullwidth\",\"style\":{}},\"nodeType\":\"DOM\",\"type\":\"node\",\"instanceArgs\":{\"namespace\":\"html\",\"tag\":\"input\"},\"children\":[]}]},{\"props\":{\"className\":\"interact-flex-row-right\"},\"nodeType\":\"DOM\",\"type\":\"node\",\"instanceArgs\":{\"namespace\":\"html\",\"tag\":\"div\"},\"children\":[{\"props\":{\"attributes\":{\"data-bind\":\"text: formatted_val\"}},\"nodeType\":\"DOM\",\"type\":\"node\",\"instanceArgs\":{\"namespace\":\"html\",\"tag\":\"p\"},\"children\":[]}]}]}]}]},{\"props\":{},\"nodeType\":\"Scope\",\"type\":\"node\",\"instanceArgs\":{\"imports\":{\"data\":[],\"type\":\"async_block\"},\"id\":\"5240305831044419143\",\"handlers\":{},\"systemjs_options\":null,\"mount_callbacks\":[],\"observables\":{\"obs-node\":{\"sync\":false,\"id\":\"ob_143\",\"value\":{\"props\":{\"className\":\"interact-flex-row interact-widget\"},\"nodeType\":\"DOM\",\"type\":\"node\",\"instanceArgs\":{\"namespace\":\"html\",\"tag\":\"div\"},\"children\":[\"\"]}}}},\"children\":[{\"props\":{},\"nodeType\":\"ObservableNode\",\"type\":\"node\",\"instanceArgs\":{\"id\":\"ob_143\",\"name\":\"obs-node\"},\"children\":[]}]}]},\n",
       "            window,\n",
       "        );\n",
       "    } else {\n",
       "        document\n",
       "            .querySelector('[data-webio-mountpoint=\"16670495260173470002\"]')\n",
       "            .innerHTML = (\n",
       "                '<div style=\"padding: 1em; background-color: #f8d6da; border: 1px solid #f5c6cb\">' +\n",
       "                '<p><strong>WebIO not detected.</strong></p>' +\n",
       "                '<p>Please read ' +\n",
       "                '<a href=\"https://juliagizmos.github.io/WebIO.jl/latest/troubleshooting/not-detected/\" target=\"_blank\">the troubleshooting guide</a> ' +\n",
       "                'for more information on how to resolve this issue.</p>' +\n",
       "                '<p><a href=\"https://juliagizmos.github.io/WebIO.jl/latest/troubleshooting/not-detected/\" target=\"_blank\">https://juliagizmos.github.io/WebIO.jl/latest/troubleshooting/not-detected/</a></p>' +\n",
       "                '</div>'\n",
       "            );\n",
       "    }\n",
       "    </script>\n",
       "</div>\n"
      ],
      "text/plain": [
       "Node{WebIO.DOM}(WebIO.DOM(:html, :div), Any[Node{WebIO.DOM}(WebIO.DOM(:html, :div), Any[Scope(Node{WebIO.DOM}(WebIO.DOM(:html, :div), Any[Node{WebIO.DOM}(WebIO.DOM(:html, :div), Any[Node{WebIO.DOM}(WebIO.DOM(:html, :label), Any[\"Spline Amplitude\"], Dict{Symbol,Any}(:className => \"interact \",:style => Dict{Any,Any}(:padding => \"5px 10px 0px 10px\")))], Dict{Symbol,Any}(:className => \"interact-flex-row-left\")), Node{WebIO.DOM}(WebIO.DOM(:html, :div), Any[Node{WebIO.DOM}(WebIO.DOM(:html, :input), Any[], Dict{Symbol,Any}(:max => 101,:min => 1,:attributes => Dict{Any,Any}(:type => \"range\",Symbol(\"data-bind\") => \"numericValue: index, valueUpdate: 'input', event: {change: function (){this.changes(this.changes()+1)}}\",\"orient\" => \"horizontal\"),:step => 1,:className => \"slider slider is-fullwidth\",:style => Dict{Any,Any}()))], Dict{Symbol,Any}(:className => \"interact-flex-row-center\")), Node{WebIO.DOM}(WebIO.DOM(:html, :div), Any[Node{WebIO.DOM}(WebIO.DOM(:html, :p), Any[], Dict{Symbol,Any}(:attributes => Dict(\"data-bind\" => \"text: formatted_val\")))], Dict{Symbol,Any}(:className => \"interact-flex-row-right\"))], Dict{Symbol,Any}(:className => \"interact-flex-row interact-widget\")), Dict{String,Tuple{Observables.AbstractObservable,Union{Nothing, Bool}}}(\"changes\" => (Observable{Int64} with 1 listeners. Value:\n",
       "0, nothing),\"index\" => (Observable{Any} with 2 listeners. Value:\n",
       "51, nothing)), Set(String[]), nothing, Asset[Asset(\"js\", \"knockout\", \"C:\\\\Users\\\\iicpe\\\\.julia\\\\packages\\\\Knockout\\\\IP1uR\\\\src\\\\..\\\\assets\\\\knockout.js\"), Asset(\"js\", \"knockout_punches\", \"C:\\\\Users\\\\iicpe\\\\.julia\\\\packages\\\\Knockout\\\\IP1uR\\\\src\\\\..\\\\assets\\\\knockout_punches.js\"), Asset(\"js\", nothing, \"C:\\\\Users\\\\iicpe\\\\.julia\\\\packages\\\\InteractBase\\\\9mFwe\\\\src\\\\..\\\\assets\\\\all.js\"), Asset(\"css\", nothing, \"C:\\\\Users\\\\iicpe\\\\.julia\\\\packages\\\\InteractBase\\\\9mFwe\\\\src\\\\..\\\\assets\\\\style.css\"), Asset(\"css\", nothing, \"C:\\\\Users\\\\iicpe\\\\.julia\\\\packages\\\\Interact\\\\SbgIk\\\\src\\\\..\\\\assets\\\\bulma_confined.min.css\")], Dict{Any,Any}(\"changes\" => Any[WebIO.JSString(\"(function (val){return (val!=this.model[\\\"changes\\\"]()) ? (this.valueFromJulia[\\\"changes\\\"]=true, this.model[\\\"changes\\\"](val)) : undefined})\")],\"index\" => Any[WebIO.JSString(\"(function (val){return (val!=this.model[\\\"index\\\"]()) ? (this.valueFromJulia[\\\"index\\\"]=true, this.model[\\\"index\\\"](val)) : undefined})\")]), WebIO.ConnectionPool(Channel{Any}(sz_max:32,sz_curr:0), Set(AbstractConnection[]), Base.GenericCondition{Base.AlwaysLockedST}(Base.InvasiveLinkedList{Task}(Task (runnable) @0x00000000151e8010, Task (runnable) @0x00000000151e8010), Base.AlwaysLockedST(1))), WebIO.JSString[WebIO.JSString(\"function () {\\n    var handler = (function (ko, koPunches) {\\n    ko.punches.enableAll();\\n    ko.bindingHandlers.numericValue = {\\n        init: function(element, valueAccessor, allBindings, data, context) {\\n            var stringified = ko.observable(ko.unwrap(valueAccessor()));\\n            stringified.subscribe(function(value) {\\n                var val = parseFloat(value);\\n                if (!isNaN(val)) {\\n                    valueAccessor()(val);\\n                }\\n            });\\n            valueAccessor().subscribe(function(value) {\\n                var str = JSON.stringify(value);\\n                if ((str == \\\"0\\\") && ([\\\"-0\\\", \\\"-0.\\\"].indexOf(stringified()) >= 0))\\n                     return;\\n                 if ([\\\"null\\\", \\\"\\\"].indexOf(str) >= 0)\\n                     return;\\n                stringified(str);\\n            });\\n            ko.applyBindingsToNode(\\n                element,\\n                {\\n                    value: stringified,\\n                    valueUpdate: allBindings.get('valueUpdate'),\\n                },\\n                context,\\n            );\\n        }\\n    };\\n    var json_data = {\\\"formatted_vals\\\":[\\\"0.0\\\",\\\"0.01\\\",\\\"0.02\\\",\\\"0.03\\\",\\\"0.04\\\",\\\"0.05\\\",\\\"0.06\\\",\\\"0.07\\\",\\\"0.08\\\",\\\"0.09\\\",\\\"0.1\\\",\\\"0.11\\\",\\\"0.12\\\",\\\"0.13\\\",\\\"0.14\\\",\\\"0.15\\\",\\\"0.16\\\",\\\"0.17\\\",\\\"0.18\\\",\\\"0.19\\\",\\\"0.2\\\",\\\"0.21\\\",\\\"0.22\\\",\\\"0.23\\\",\\\"0.24\\\",\\\"0.25\\\",\\\"0.26\\\",\\\"0.27\\\",\\\"0.28\\\",\\\"0.29\\\",\\\"0.3\\\",\\\"0.31\\\",\\\"0.32\\\",\\\"0.33\\\",\\\"0.34\\\",\\\"0.35\\\",\\\"0.36\\\",\\\"0.37\\\",\\\"0.38\\\",\\\"0.39\\\",\\\"0.4\\\",\\\"0.41\\\",\\\"0.42\\\",\\\"0.43\\\",\\\"0.44\\\",\\\"0.45\\\",\\\"0.46\\\",\\\"0.47\\\",\\\"0.48\\\",\\\"0.49\\\",\\\"0.5\\\",\\\"0.51\\\",\\\"0.52\\\",\\\"0.53\\\",\\\"0.54\\\",\\\"0.55\\\",\\\"0.56\\\",\\\"0.57\\\",\\\"0.58\\\",\\\"0.59\\\",\\\"0.6\\\",\\\"0.61\\\",\\\"0.62\\\",\\\"0.63\\\",\\\"0.64\\\",\\\"0.65\\\",\\\"0.66\\\",\\\"0.67\\\",\\\"0.68\\\",\\\"0.69\\\",\\\"0.7\\\",\\\"0.71\\\",\\\"0.72\\\",\\\"0.73\\\",\\\"0.74\\\",\\\"0.75\\\",\\\"0.76\\\",\\\"0.77\\\",\\\"0.78\\\",\\\"0.79\\\",\\\"0.8\\\",\\\"0.81\\\",\\\"0.82\\\",\\\"0.83\\\",\\\"0.84\\\",\\\"0.85\\\",\\\"0.86\\\",\\\"0.87\\\",\\\"0.88\\\",\\\"0.89\\\",\\\"0.9\\\",\\\"0.91\\\",\\\"0.92\\\",\\\"0.93\\\",\\\"0.94\\\",\\\"0.95\\\",\\\"0.96\\\",\\\"0.97\\\",\\\"0.98\\\",\\\"0.99\\\",\\\"1.0\\\"],\\\"changes\\\":WebIO.getval({\\\"name\\\":\\\"changes\\\",\\\"scope\\\":\\\"16777982642562754761\\\",\\\"id\\\":\\\"ob_129\\\",\\\"type\\\":\\\"observable\\\"}),\\\"index\\\":WebIO.getval({\\\"name\\\":\\\"index\\\",\\\"scope\\\":\\\"16777982642562754761\\\",\\\"id\\\":\\\"ob_128\\\",\\\"type\\\":\\\"observable\\\"})};\\n    var self = this;\\n    function AppViewModel() {\\n        for (var key in json_data) {\\n            var el = json_data[key];\\n            this[key] = Array.isArray(el) ? ko.observableArray(el) : ko.observable(el);\\n        }\\n        \\n        [this[\\\"formatted_val\\\"]=ko.computed(    function(){\\n        return this.formatted_vals()[parseInt(this.index())-(1)];\\n    }\\n,this)]\\n        [this[\\\"changes\\\"].subscribe((function (val){!(this.valueFromJulia[\\\"changes\\\"]) ? (WebIO.setval({\\\"name\\\":\\\"changes\\\",\\\"scope\\\":\\\"16777982642562754761\\\",\\\"id\\\":\\\"ob_129\\\",\\\"type\\\":\\\"observable\\\"},val)) : undefined; return this.valueFromJulia[\\\"changes\\\"]=false}),self),this[\\\"index\\\"].subscribe((function (val){!(this.valueFromJulia[\\\"index\\\"]) ? (WebIO.setval({\\\"name\\\":\\\"index\\\",\\\"scope\\\":\\\"16777982642562754761\\\",\\\"id\\\":\\\"ob_128\\\",\\\"type\\\":\\\"observable\\\"},val)) : undefined; return this.valueFromJulia[\\\"index\\\"]=false}),self)]\\n        \\n    }\\n    self.model = new AppViewModel();\\n    self.valueFromJulia = {};\\n    for (var key in json_data) {\\n        self.valueFromJulia[key] = false;\\n    }\\n    ko.applyBindings(self.model, self.dom);\\n}\\n);\\n    (WebIO.importBlock({\\\"data\\\":[{\\\"name\\\":\\\"knockout\\\",\\\"type\\\":\\\"js\\\",\\\"url\\\":\\\"/assetserver/41a273c89bcce599ea619ceead1fb1eecdca6622-knockout.js\\\"},{\\\"name\\\":\\\"knockout_punches\\\",\\\"type\\\":\\\"js\\\",\\\"url\\\":\\\"/assetserver/32c9c9f4cf2c3726fd5071a28032a60ac6bba4af-knockout_punches.js\\\"}],\\\"type\\\":\\\"async_block\\\"})).then((imports) => handler.apply(this, imports));\\n}\\n\")])], Dict{Symbol,Any}(:className => \"field interact-widget\")), Observable{Any} with 0 listeners. Value:\n",
       "Node{WebIO.DOM}(WebIO.DOM(:html, :div), Any[nothing], Dict{Symbol,Any}(:className => \"interact-flex-row interact-widget\"))], Dict{Symbol,Any}())"
      ]
     },
     "execution_count": 89,
     "metadata": {
      "application/vnd.webio.node+json": {
       "kernelId": "39a39940-e927-4336-b049-21782b40626f"
      }
     },
     "output_type": "execute_result"
    }
   ],
   "source": [
    "@test begin\n",
    "new_backend()\n",
    "\n",
    "pts = ptss[1]\n",
    "\n",
    "@manipulate for amp=widget(0:0.01:1, label=\"Spline Amplitude\")\n",
    "                delete_all_shapes()\n",
    "                spline(vcat(stripe_2D_pts(pts, amp)...)[1:end-1])\n",
    "                nothing\n",
    "            end\n",
    "end"
   ]
  },
  {
   "cell_type": "markdown",
   "metadata": {},
   "source": [
    "### Version 2 (amplitude and undulating movement)"
   ]
  },
  {
   "cell_type": "markdown",
   "metadata": {},
   "source": [
    "__Parameters:__ points, amplitude, and bending pattern\n",
    "\n",
    "The algorithm creates undulating movements passing every one, two, or three stripes, and so on. The undulating movement is defined by the bending pattern rule (this can include irregular patterns)."
   ]
  },
  {
   "cell_type": "markdown",
   "metadata": {},
   "source": [
    "| Double and triple space undulating patterns.      | Irregular undulating patterns.                    |\n",
    "|---------------------------------------------------|---------------------------------------------------|\n",
    "| <img src=\"./figures/sketches/03.png\" width=\"360\"> | <img src=\"./figures/sketches/04.png\" width=\"200\"> |"
   ]
  },
  {
   "cell_type": "code",
   "execution_count": 90,
   "metadata": {},
   "outputs": [
    {
     "data": {
      "text/plain": [
       "stripe_2D_pts (generic function with 3 methods)"
      ]
     },
     "execution_count": 90,
     "metadata": {},
     "output_type": "execute_result"
    }
   ],
   "source": [
    "stripe_2D_pts(pts, amp, bending_pattern) =\n",
    "    [let p1 = pt1 + up_or_down*vy(amp),\n",
    "         p2 = pt2 + next_up_or_down*vy(amp)\n",
    "      [p1, intermediate_loc(p1, p2, 0.5)]\n",
    "     end\n",
    "     for (pt1, pt2, up_or_down, next_up_or_down)\n",
    "     in zip(pts,\n",
    "            [pts[2:end]...,pts[end]],\n",
    "            cycle(bending_pattern),\n",
    "            cycle([bending_pattern[2:end]...,bending_pattern[1]]))]"
   ]
  },
  {
   "cell_type": "markdown",
   "metadata": {},
   "source": [
    "Test `stripe_2D_pts` function.\n",
    "The expected results are 2D splines with different undulating movements."
   ]
  },
  {
   "cell_type": "code",
   "execution_count": 91,
   "metadata": {},
   "outputs": [
    {
     "data": {
      "application/vnd.plotly.v1+json": {
       "data": [],
       "layout": {
        "autosize": true,
        "height": 400,
        "margin": {
         "b": 0,
         "l": 0,
         "r": 0,
         "t": 0
        },
        "scene": {
         "aspectmode": "data",
         "xaxis": {
          "showticklabels": false
         },
         "yaxis": {
          "showticklabels": false
         },
         "zaxis": {
          "showticklabels": false
         }
        },
        "showlegend": false,
        "width": 600
       }
      },
      "application/vnd.webio.node+json": {
       "children": [
        {
         "children": [],
         "instanceArgs": {
          "namespace": "html",
          "tag": "div"
         },
         "nodeType": "DOM",
         "props": {
          "id": "plot-0bb03e90-0d0a-48ac-ba71-15d9b5642c65"
         },
         "type": "node"
        }
       ],
       "instanceArgs": {
        "handlers": {
         "__get_gd_contents": [
          "(function (prop){prop==\"data\" ? (WebIO.setval({\"name\":\"__gd_contents\",\"scope\":\"12491768740753332928\",\"id\":\"ob_163\",\"type\":\"observable\"},this.plotElem.data)) : undefined; return prop==\"layout\" ? (WebIO.setval({\"name\":\"__gd_contents\",\"scope\":\"12491768740753332928\",\"id\":\"ob_163\",\"type\":\"observable\"},this.plotElem.layout)) : undefined})"
         ],
         "_commands": [
          "(function (args){var fn=args.shift(); var elem=this.plotElem; var Plotly=this.Plotly; args.unshift(elem); return Plotly[fn].apply(this,args)})"
         ],
         "_downloadImage": [
          "(function (options){return this.Plotly.downloadImage(this.plotElem,options)})"
         ],
         "_toImage": [
          "(function (options){return this.Plotly.toImage(this.plotElem,options).then((function (data){return WebIO.setval({\"name\":\"image\",\"scope\":\"12491768740753332928\",\"id\":\"ob_162\",\"type\":\"observable\"},data)}))})"
         ]
        },
        "id": "12491768740753332928",
        "imports": {
         "data": [
          {
           "name": "Plotly",
           "type": "js",
           "url": "/assetserver/97a1af6d43bec17f982ce6699d23c6a6399c0662-plotly-latest.min.js"
          },
          {
           "name": null,
           "type": "js",
           "url": "/assetserver/dda18c5c0a078ca7d31a0db6b56636033afec9a4-plotly_webio.bundle.js"
          }
         ],
         "type": "async_block"
        },
        "mount_callbacks": [
         "function () {\n    var handler = ((function (Plotly,PlotlyWebIO){PlotlyWebIO.init(WebIO); var gd=this.dom.querySelector(\"#plot-0bb03e90-0d0a-48ac-ba71-15d9b5642c65\"); this.plotElem=gd; this.Plotly=Plotly; (window.Blink!==undefined) ? (gd.style.width=\"100%\", gd.style.height=\"100vh\", gd.style.marginLeft=\"0%\", gd.style.marginTop=\"0vh\") : undefined; window.onresize=(function (){return Plotly.Plots.resize(gd)}); Plotly.newPlot(gd,[],{\"showlegend\":false,\"autosize\":true,\"height\":400,\"margin\":{\"l\":0,\"b\":0,\"r\":0,\"t\":0},\"scene\":{\"xaxis\":{\"showticklabels\":false},\"aspectmode\":\"data\",\"yaxis\":{\"showticklabels\":false},\"zaxis\":{\"showticklabels\":false}},\"width\":600},{\"showLink\":false}); gd.on(\"plotly_hover\",(function (data){var filtered_data=WebIO.PlotlyCommands.filterEventData(gd,data,\"hover\"); return !(filtered_data.isnil) ? (WebIO.setval({\"name\":\"hover\",\"scope\":\"12491768740753332928\",\"id\":\"ob_158\",\"type\":\"observable\"},filtered_data.out)) : undefined})); gd.on(\"plotly_unhover\",(function (){return WebIO.setval({\"name\":\"hover\",\"scope\":\"12491768740753332928\",\"id\":\"ob_158\",\"type\":\"observable\"},{})})); gd.on(\"plotly_selected\",(function (data){var filtered_data=WebIO.PlotlyCommands.filterEventData(gd,data,\"selected\"); return !(filtered_data.isnil) ? (WebIO.setval({\"name\":\"selected\",\"scope\":\"12491768740753332928\",\"id\":\"ob_159\",\"type\":\"observable\"},filtered_data.out)) : undefined})); gd.on(\"plotly_deselect\",(function (){return WebIO.setval({\"name\":\"selected\",\"scope\":\"12491768740753332928\",\"id\":\"ob_159\",\"type\":\"observable\"},{})})); gd.on(\"plotly_relayout\",(function (data){var filtered_data=WebIO.PlotlyCommands.filterEventData(gd,data,\"relayout\"); return !(filtered_data.isnil) ? (WebIO.setval({\"name\":\"relayout\",\"scope\":\"12491768740753332928\",\"id\":\"ob_161\",\"type\":\"observable\"},filtered_data.out)) : undefined})); return gd.on(\"plotly_click\",(function (data){var filtered_data=WebIO.PlotlyCommands.filterEventData(gd,data,\"click\"); return !(filtered_data.isnil) ? (WebIO.setval({\"name\":\"click\",\"scope\":\"12491768740753332928\",\"id\":\"ob_160\",\"type\":\"observable\"},filtered_data.out)) : undefined}))}));\n    (WebIO.importBlock({\"data\":[{\"name\":\"Plotly\",\"type\":\"js\",\"url\":\"/assetserver/97a1af6d43bec17f982ce6699d23c6a6399c0662-plotly-latest.min.js\"},{\"name\":null,\"type\":\"js\",\"url\":\"/assetserver/dda18c5c0a078ca7d31a0db6b56636033afec9a4-plotly_webio.bundle.js\"}],\"type\":\"async_block\"})).then((imports) => handler.apply(this, imports));\n}\n"
        ],
        "observables": {
         "__gd_contents": {
          "id": "ob_163",
          "sync": false,
          "value": {}
         },
         "__get_gd_contents": {
          "id": "ob_167",
          "sync": false,
          "value": ""
         },
         "_commands": {
          "id": "ob_164",
          "sync": false,
          "value": []
         },
         "_downloadImage": {
          "id": "ob_166",
          "sync": false,
          "value": {}
         },
         "_toImage": {
          "id": "ob_165",
          "sync": false,
          "value": {}
         },
         "click": {
          "id": "ob_160",
          "sync": false,
          "value": {}
         },
         "hover": {
          "id": "ob_158",
          "sync": false,
          "value": {}
         },
         "image": {
          "id": "ob_162",
          "sync": true,
          "value": ""
         },
         "relayout": {
          "id": "ob_161",
          "sync": false,
          "value": {}
         },
         "selected": {
          "id": "ob_159",
          "sync": false,
          "value": {}
         }
        },
        "systemjs_options": null
       },
       "nodeType": "Scope",
       "props": {},
       "type": "node"
      },
      "text/html": [
       "<div\n",
       "    class=\"webio-mountpoint\"\n",
       "    data-webio-mountpoint=\"3200473158946477732\"\n",
       ">\n",
       "    <script>\n",
       "    if (window.require && require.defined && require.defined(\"nbextensions/webio-jupyter-notebook\")) {\n",
       "        console.log(\"Jupyter WebIO extension detected, not mounting.\");\n",
       "    } else if (window.WebIO) {\n",
       "        WebIO.mount(\n",
       "            document.querySelector('[data-webio-mountpoint=\"3200473158946477732\"]'),\n",
       "            {\"props\":{},\"nodeType\":\"Scope\",\"type\":\"node\",\"instanceArgs\":{\"imports\":{\"data\":[{\"name\":\"Plotly\",\"type\":\"js\",\"url\":\"\\/assetserver\\/97a1af6d43bec17f982ce6699d23c6a6399c0662-plotly-latest.min.js\"},{\"name\":null,\"type\":\"js\",\"url\":\"\\/assetserver\\/dda18c5c0a078ca7d31a0db6b56636033afec9a4-plotly_webio.bundle.js\"}],\"type\":\"async_block\"},\"id\":\"12491768740753332928\",\"handlers\":{\"_toImage\":[\"(function (options){return this.Plotly.toImage(this.plotElem,options).then((function (data){return WebIO.setval({\\\"name\\\":\\\"image\\\",\\\"scope\\\":\\\"12491768740753332928\\\",\\\"id\\\":\\\"ob_162\\\",\\\"type\\\":\\\"observable\\\"},data)}))})\"],\"__get_gd_contents\":[\"(function (prop){prop==\\\"data\\\" ? (WebIO.setval({\\\"name\\\":\\\"__gd_contents\\\",\\\"scope\\\":\\\"12491768740753332928\\\",\\\"id\\\":\\\"ob_163\\\",\\\"type\\\":\\\"observable\\\"},this.plotElem.data)) : undefined; return prop==\\\"layout\\\" ? (WebIO.setval({\\\"name\\\":\\\"__gd_contents\\\",\\\"scope\\\":\\\"12491768740753332928\\\",\\\"id\\\":\\\"ob_163\\\",\\\"type\\\":\\\"observable\\\"},this.plotElem.layout)) : undefined})\"],\"_downloadImage\":[\"(function (options){return this.Plotly.downloadImage(this.plotElem,options)})\"],\"_commands\":[\"(function (args){var fn=args.shift(); var elem=this.plotElem; var Plotly=this.Plotly; args.unshift(elem); return Plotly[fn].apply(this,args)})\"]},\"systemjs_options\":null,\"mount_callbacks\":[\"function () {\\n    var handler = ((function (Plotly,PlotlyWebIO){PlotlyWebIO.init(WebIO); var gd=this.dom.querySelector(\\\"#plot-0bb03e90-0d0a-48ac-ba71-15d9b5642c65\\\"); this.plotElem=gd; this.Plotly=Plotly; (window.Blink!==undefined) ? (gd.style.width=\\\"100%\\\", gd.style.height=\\\"100vh\\\", gd.style.marginLeft=\\\"0%\\\", gd.style.marginTop=\\\"0vh\\\") : undefined; window.onresize=(function (){return Plotly.Plots.resize(gd)}); Plotly.newPlot(gd,[],{\\\"showlegend\\\":false,\\\"autosize\\\":true,\\\"height\\\":400,\\\"margin\\\":{\\\"l\\\":0,\\\"b\\\":0,\\\"r\\\":0,\\\"t\\\":0},\\\"scene\\\":{\\\"xaxis\\\":{\\\"showticklabels\\\":false},\\\"aspectmode\\\":\\\"data\\\",\\\"yaxis\\\":{\\\"showticklabels\\\":false},\\\"zaxis\\\":{\\\"showticklabels\\\":false}},\\\"width\\\":600},{\\\"showLink\\\":false}); gd.on(\\\"plotly_hover\\\",(function (data){var filtered_data=WebIO.PlotlyCommands.filterEventData(gd,data,\\\"hover\\\"); return !(filtered_data.isnil) ? (WebIO.setval({\\\"name\\\":\\\"hover\\\",\\\"scope\\\":\\\"12491768740753332928\\\",\\\"id\\\":\\\"ob_158\\\",\\\"type\\\":\\\"observable\\\"},filtered_data.out)) : undefined})); gd.on(\\\"plotly_unhover\\\",(function (){return WebIO.setval({\\\"name\\\":\\\"hover\\\",\\\"scope\\\":\\\"12491768740753332928\\\",\\\"id\\\":\\\"ob_158\\\",\\\"type\\\":\\\"observable\\\"},{})})); gd.on(\\\"plotly_selected\\\",(function (data){var filtered_data=WebIO.PlotlyCommands.filterEventData(gd,data,\\\"selected\\\"); return !(filtered_data.isnil) ? (WebIO.setval({\\\"name\\\":\\\"selected\\\",\\\"scope\\\":\\\"12491768740753332928\\\",\\\"id\\\":\\\"ob_159\\\",\\\"type\\\":\\\"observable\\\"},filtered_data.out)) : undefined})); gd.on(\\\"plotly_deselect\\\",(function (){return WebIO.setval({\\\"name\\\":\\\"selected\\\",\\\"scope\\\":\\\"12491768740753332928\\\",\\\"id\\\":\\\"ob_159\\\",\\\"type\\\":\\\"observable\\\"},{})})); gd.on(\\\"plotly_relayout\\\",(function (data){var filtered_data=WebIO.PlotlyCommands.filterEventData(gd,data,\\\"relayout\\\"); return !(filtered_data.isnil) ? (WebIO.setval({\\\"name\\\":\\\"relayout\\\",\\\"scope\\\":\\\"12491768740753332928\\\",\\\"id\\\":\\\"ob_161\\\",\\\"type\\\":\\\"observable\\\"},filtered_data.out)) : undefined})); return gd.on(\\\"plotly_click\\\",(function (data){var filtered_data=WebIO.PlotlyCommands.filterEventData(gd,data,\\\"click\\\"); return !(filtered_data.isnil) ? (WebIO.setval({\\\"name\\\":\\\"click\\\",\\\"scope\\\":\\\"12491768740753332928\\\",\\\"id\\\":\\\"ob_160\\\",\\\"type\\\":\\\"observable\\\"},filtered_data.out)) : undefined}))}));\\n    (WebIO.importBlock({\\\"data\\\":[{\\\"name\\\":\\\"Plotly\\\",\\\"type\\\":\\\"js\\\",\\\"url\\\":\\\"\\/assetserver\\/97a1af6d43bec17f982ce6699d23c6a6399c0662-plotly-latest.min.js\\\"},{\\\"name\\\":null,\\\"type\\\":\\\"js\\\",\\\"url\\\":\\\"\\/assetserver\\/dda18c5c0a078ca7d31a0db6b56636033afec9a4-plotly_webio.bundle.js\\\"}],\\\"type\\\":\\\"async_block\\\"})).then((imports) => handler.apply(this, imports));\\n}\\n\"],\"observables\":{\"_toImage\":{\"sync\":false,\"id\":\"ob_165\",\"value\":{}},\"hover\":{\"sync\":false,\"id\":\"ob_158\",\"value\":{}},\"selected\":{\"sync\":false,\"id\":\"ob_159\",\"value\":{}},\"__gd_contents\":{\"sync\":false,\"id\":\"ob_163\",\"value\":{}},\"click\":{\"sync\":false,\"id\":\"ob_160\",\"value\":{}},\"image\":{\"sync\":true,\"id\":\"ob_162\",\"value\":\"\"},\"__get_gd_contents\":{\"sync\":false,\"id\":\"ob_167\",\"value\":\"\"},\"_downloadImage\":{\"sync\":false,\"id\":\"ob_166\",\"value\":{}},\"relayout\":{\"sync\":false,\"id\":\"ob_161\",\"value\":{}},\"_commands\":{\"sync\":false,\"id\":\"ob_164\",\"value\":[]}}},\"children\":[{\"props\":{\"id\":\"plot-0bb03e90-0d0a-48ac-ba71-15d9b5642c65\"},\"nodeType\":\"DOM\",\"type\":\"node\",\"instanceArgs\":{\"namespace\":\"html\",\"tag\":\"div\"},\"children\":[]}]},\n",
       "            window,\n",
       "        );\n",
       "    } else {\n",
       "        document\n",
       "            .querySelector('[data-webio-mountpoint=\"3200473158946477732\"]')\n",
       "            .innerHTML = (\n",
       "                '<div style=\"padding: 1em; background-color: #f8d6da; border: 1px solid #f5c6cb\">' +\n",
       "                '<p><strong>WebIO not detected.</strong></p>' +\n",
       "                '<p>Please read ' +\n",
       "                '<a href=\"https://juliagizmos.github.io/WebIO.jl/latest/troubleshooting/not-detected/\" target=\"_blank\">the troubleshooting guide</a> ' +\n",
       "                'for more information on how to resolve this issue.</p>' +\n",
       "                '<p><a href=\"https://juliagizmos.github.io/WebIO.jl/latest/troubleshooting/not-detected/\" target=\"_blank\">https://juliagizmos.github.io/WebIO.jl/latest/troubleshooting/not-detected/</a></p>' +\n",
       "                '</div>'\n",
       "            );\n",
       "    }\n",
       "    </script>\n",
       "</div>\n"
      ],
      "text/plain": [
       "data: []\n",
       "\n",
       "layout: \"layout with fields autosize, height, margin, scene, showlegend, and width\"\n",
       "\n"
      ]
     },
     "metadata": {
      "application/vnd.webio.node+json": {
       "kernelId": "39a39940-e927-4336-b049-21782b40626f"
      }
     },
     "output_type": "display_data"
    },
    {
     "data": {
      "application/vnd.webio.node+json": {
       "children": [
        {
         "children": [
          {
           "children": [
            {
             "children": [
              {
               "children": [
                {
                 "children": [
                  "Spline1 Amplitude"
                 ],
                 "instanceArgs": {
                  "namespace": "html",
                  "tag": "label"
                 },
                 "nodeType": "DOM",
                 "props": {
                  "className": "interact ",
                  "style": {
                   "padding": "5px 10px 0px 10px"
                  }
                 },
                 "type": "node"
                }
               ],
               "instanceArgs": {
                "namespace": "html",
                "tag": "div"
               },
               "nodeType": "DOM",
               "props": {
                "className": "interact-flex-row-left"
               },
               "type": "node"
              },
              {
               "children": [
                {
                 "children": [],
                 "instanceArgs": {
                  "namespace": "html",
                  "tag": "input"
                 },
                 "nodeType": "DOM",
                 "props": {
                  "attributes": {
                   "data-bind": "numericValue: index, valueUpdate: 'input', event: {change: function (){this.changes(this.changes()+1)}}",
                   "orient": "horizontal",
                   "type": "range"
                  },
                  "className": "slider slider is-fullwidth",
                  "max": 101,
                  "min": 1,
                  "step": 1,
                  "style": {}
                 },
                 "type": "node"
                }
               ],
               "instanceArgs": {
                "namespace": "html",
                "tag": "div"
               },
               "nodeType": "DOM",
               "props": {
                "className": "interact-flex-row-center"
               },
               "type": "node"
              },
              {
               "children": [
                {
                 "children": [],
                 "instanceArgs": {
                  "namespace": "html",
                  "tag": "p"
                 },
                 "nodeType": "DOM",
                 "props": {
                  "attributes": {
                   "data-bind": "text: formatted_val"
                  }
                 },
                 "type": "node"
                }
               ],
               "instanceArgs": {
                "namespace": "html",
                "tag": "div"
               },
               "nodeType": "DOM",
               "props": {
                "className": "interact-flex-row-right"
               },
               "type": "node"
              }
             ],
             "instanceArgs": {
              "namespace": "html",
              "tag": "div"
             },
             "nodeType": "DOM",
             "props": {
              "className": "interact-flex-row interact-widget"
             },
             "type": "node"
            }
           ],
           "instanceArgs": {
            "handlers": {
             "changes": [
              "(function (val){return (val!=this.model[\"changes\"]()) ? (this.valueFromJulia[\"changes\"]=true, this.model[\"changes\"](val)) : undefined})"
             ],
             "index": [
              "(function (val){return (val!=this.model[\"index\"]()) ? (this.valueFromJulia[\"index\"]=true, this.model[\"index\"](val)) : undefined})"
             ]
            },
            "id": "10163475739325989635",
            "imports": {
             "data": [
              {
               "name": "knockout",
               "type": "js",
               "url": "/assetserver/41a273c89bcce599ea619ceead1fb1eecdca6622-knockout.js"
              },
              {
               "name": "knockout_punches",
               "type": "js",
               "url": "/assetserver/32c9c9f4cf2c3726fd5071a28032a60ac6bba4af-knockout_punches.js"
              },
              {
               "name": null,
               "type": "js",
               "url": "/assetserver/2719b6df48bab31e3dc02827733e2ba37456b9e5-all.js"
              },
              {
               "name": null,
               "type": "css",
               "url": "/assetserver/c34264e2b887dac221f520b6f75cf7f3100e23c6-style.css"
              },
              {
               "name": null,
               "type": "css",
               "url": "/assetserver/4b9c540d5898f147e291dc66a148fd2b225c63c9-bulma_confined.min.css"
              }
             ],
             "type": "async_block"
            },
            "mount_callbacks": [
             "function () {\n    var handler = (function (ko, koPunches) {\n    ko.punches.enableAll();\n    ko.bindingHandlers.numericValue = {\n        init: function(element, valueAccessor, allBindings, data, context) {\n            var stringified = ko.observable(ko.unwrap(valueAccessor()));\n            stringified.subscribe(function(value) {\n                var val = parseFloat(value);\n                if (!isNaN(val)) {\n                    valueAccessor()(val);\n                }\n            });\n            valueAccessor().subscribe(function(value) {\n                var str = JSON.stringify(value);\n                if ((str == \"0\") && ([\"-0\", \"-0.\"].indexOf(stringified()) >= 0))\n                     return;\n                 if ([\"null\", \"\"].indexOf(str) >= 0)\n                     return;\n                stringified(str);\n            });\n            ko.applyBindingsToNode(\n                element,\n                {\n                    value: stringified,\n                    valueUpdate: allBindings.get('valueUpdate'),\n                },\n                context,\n            );\n        }\n    };\n    var json_data = {\"formatted_vals\":[\"0.0\",\"0.01\",\"0.02\",\"0.03\",\"0.04\",\"0.05\",\"0.06\",\"0.07\",\"0.08\",\"0.09\",\"0.1\",\"0.11\",\"0.12\",\"0.13\",\"0.14\",\"0.15\",\"0.16\",\"0.17\",\"0.18\",\"0.19\",\"0.2\",\"0.21\",\"0.22\",\"0.23\",\"0.24\",\"0.25\",\"0.26\",\"0.27\",\"0.28\",\"0.29\",\"0.3\",\"0.31\",\"0.32\",\"0.33\",\"0.34\",\"0.35\",\"0.36\",\"0.37\",\"0.38\",\"0.39\",\"0.4\",\"0.41\",\"0.42\",\"0.43\",\"0.44\",\"0.45\",\"0.46\",\"0.47\",\"0.48\",\"0.49\",\"0.5\",\"0.51\",\"0.52\",\"0.53\",\"0.54\",\"0.55\",\"0.56\",\"0.57\",\"0.58\",\"0.59\",\"0.6\",\"0.61\",\"0.62\",\"0.63\",\"0.64\",\"0.65\",\"0.66\",\"0.67\",\"0.68\",\"0.69\",\"0.7\",\"0.71\",\"0.72\",\"0.73\",\"0.74\",\"0.75\",\"0.76\",\"0.77\",\"0.78\",\"0.79\",\"0.8\",\"0.81\",\"0.82\",\"0.83\",\"0.84\",\"0.85\",\"0.86\",\"0.87\",\"0.88\",\"0.89\",\"0.9\",\"0.91\",\"0.92\",\"0.93\",\"0.94\",\"0.95\",\"0.96\",\"0.97\",\"0.98\",\"0.99\",\"1.0\"],\"changes\":WebIO.getval({\"name\":\"changes\",\"scope\":\"10163475739325989635\",\"id\":\"ob_148\",\"type\":\"observable\"}),\"index\":WebIO.getval({\"name\":\"index\",\"scope\":\"10163475739325989635\",\"id\":\"ob_147\",\"type\":\"observable\"})};\n    var self = this;\n    function AppViewModel() {\n        for (var key in json_data) {\n            var el = json_data[key];\n            this[key] = Array.isArray(el) ? ko.observableArray(el) : ko.observable(el);\n        }\n        \n        [this[\"formatted_val\"]=ko.computed(    function(){\n        return this.formatted_vals()[parseInt(this.index())-(1)];\n    }\n,this)]\n        [this[\"changes\"].subscribe((function (val){!(this.valueFromJulia[\"changes\"]) ? (WebIO.setval({\"name\":\"changes\",\"scope\":\"10163475739325989635\",\"id\":\"ob_148\",\"type\":\"observable\"},val)) : undefined; return this.valueFromJulia[\"changes\"]=false}),self),this[\"index\"].subscribe((function (val){!(this.valueFromJulia[\"index\"]) ? (WebIO.setval({\"name\":\"index\",\"scope\":\"10163475739325989635\",\"id\":\"ob_147\",\"type\":\"observable\"},val)) : undefined; return this.valueFromJulia[\"index\"]=false}),self)]\n        \n    }\n    self.model = new AppViewModel();\n    self.valueFromJulia = {};\n    for (var key in json_data) {\n        self.valueFromJulia[key] = false;\n    }\n    ko.applyBindings(self.model, self.dom);\n}\n);\n    (WebIO.importBlock({\"data\":[{\"name\":\"knockout\",\"type\":\"js\",\"url\":\"/assetserver/41a273c89bcce599ea619ceead1fb1eecdca6622-knockout.js\"},{\"name\":\"knockout_punches\",\"type\":\"js\",\"url\":\"/assetserver/32c9c9f4cf2c3726fd5071a28032a60ac6bba4af-knockout_punches.js\"}],\"type\":\"async_block\"})).then((imports) => handler.apply(this, imports));\n}\n"
            ],
            "observables": {
             "changes": {
              "id": "ob_148",
              "sync": false,
              "value": 0
             },
             "index": {
              "id": "ob_147",
              "sync": true,
              "value": 51
             }
            },
            "systemjs_options": null
           },
           "nodeType": "Scope",
           "props": {},
           "type": "node"
          }
         ],
         "instanceArgs": {
          "namespace": "html",
          "tag": "div"
         },
         "nodeType": "DOM",
         "props": {
          "className": "field interact-widget"
         },
         "type": "node"
        },
        {
         "children": [
          {
           "children": [
            {
             "children": [
              {
               "children": [
                {
                 "children": [
                  "Spline2 Amplitude"
                 ],
                 "instanceArgs": {
                  "namespace": "html",
                  "tag": "label"
                 },
                 "nodeType": "DOM",
                 "props": {
                  "className": "interact ",
                  "style": {
                   "padding": "5px 10px 0px 10px"
                  }
                 },
                 "type": "node"
                }
               ],
               "instanceArgs": {
                "namespace": "html",
                "tag": "div"
               },
               "nodeType": "DOM",
               "props": {
                "className": "interact-flex-row-left"
               },
               "type": "node"
              },
              {
               "children": [
                {
                 "children": [],
                 "instanceArgs": {
                  "namespace": "html",
                  "tag": "input"
                 },
                 "nodeType": "DOM",
                 "props": {
                  "attributes": {
                   "data-bind": "numericValue: index, valueUpdate: 'input', event: {change: function (){this.changes(this.changes()+1)}}",
                   "orient": "horizontal",
                   "type": "range"
                  },
                  "className": "slider slider is-fullwidth",
                  "max": 101,
                  "min": 1,
                  "step": 1,
                  "style": {}
                 },
                 "type": "node"
                }
               ],
               "instanceArgs": {
                "namespace": "html",
                "tag": "div"
               },
               "nodeType": "DOM",
               "props": {
                "className": "interact-flex-row-center"
               },
               "type": "node"
              },
              {
               "children": [
                {
                 "children": [],
                 "instanceArgs": {
                  "namespace": "html",
                  "tag": "p"
                 },
                 "nodeType": "DOM",
                 "props": {
                  "attributes": {
                   "data-bind": "text: formatted_val"
                  }
                 },
                 "type": "node"
                }
               ],
               "instanceArgs": {
                "namespace": "html",
                "tag": "div"
               },
               "nodeType": "DOM",
               "props": {
                "className": "interact-flex-row-right"
               },
               "type": "node"
              }
             ],
             "instanceArgs": {
              "namespace": "html",
              "tag": "div"
             },
             "nodeType": "DOM",
             "props": {
              "className": "interact-flex-row interact-widget"
             },
             "type": "node"
            }
           ],
           "instanceArgs": {
            "handlers": {
             "changes": [
              "(function (val){return (val!=this.model[\"changes\"]()) ? (this.valueFromJulia[\"changes\"]=true, this.model[\"changes\"](val)) : undefined})"
             ],
             "index": [
              "(function (val){return (val!=this.model[\"index\"]()) ? (this.valueFromJulia[\"index\"]=true, this.model[\"index\"](val)) : undefined})"
             ]
            },
            "id": "4611191201882615799",
            "imports": {
             "data": [
              {
               "name": "knockout",
               "type": "js",
               "url": "/assetserver/41a273c89bcce599ea619ceead1fb1eecdca6622-knockout.js"
              },
              {
               "name": "knockout_punches",
               "type": "js",
               "url": "/assetserver/32c9c9f4cf2c3726fd5071a28032a60ac6bba4af-knockout_punches.js"
              },
              {
               "name": null,
               "type": "js",
               "url": "/assetserver/2719b6df48bab31e3dc02827733e2ba37456b9e5-all.js"
              },
              {
               "name": null,
               "type": "css",
               "url": "/assetserver/c34264e2b887dac221f520b6f75cf7f3100e23c6-style.css"
              },
              {
               "name": null,
               "type": "css",
               "url": "/assetserver/4b9c540d5898f147e291dc66a148fd2b225c63c9-bulma_confined.min.css"
              }
             ],
             "type": "async_block"
            },
            "mount_callbacks": [
             "function () {\n    var handler = (function (ko, koPunches) {\n    ko.punches.enableAll();\n    ko.bindingHandlers.numericValue = {\n        init: function(element, valueAccessor, allBindings, data, context) {\n            var stringified = ko.observable(ko.unwrap(valueAccessor()));\n            stringified.subscribe(function(value) {\n                var val = parseFloat(value);\n                if (!isNaN(val)) {\n                    valueAccessor()(val);\n                }\n            });\n            valueAccessor().subscribe(function(value) {\n                var str = JSON.stringify(value);\n                if ((str == \"0\") && ([\"-0\", \"-0.\"].indexOf(stringified()) >= 0))\n                     return;\n                 if ([\"null\", \"\"].indexOf(str) >= 0)\n                     return;\n                stringified(str);\n            });\n            ko.applyBindingsToNode(\n                element,\n                {\n                    value: stringified,\n                    valueUpdate: allBindings.get('valueUpdate'),\n                },\n                context,\n            );\n        }\n    };\n    var json_data = {\"formatted_vals\":[\"0.0\",\"0.01\",\"0.02\",\"0.03\",\"0.04\",\"0.05\",\"0.06\",\"0.07\",\"0.08\",\"0.09\",\"0.1\",\"0.11\",\"0.12\",\"0.13\",\"0.14\",\"0.15\",\"0.16\",\"0.17\",\"0.18\",\"0.19\",\"0.2\",\"0.21\",\"0.22\",\"0.23\",\"0.24\",\"0.25\",\"0.26\",\"0.27\",\"0.28\",\"0.29\",\"0.3\",\"0.31\",\"0.32\",\"0.33\",\"0.34\",\"0.35\",\"0.36\",\"0.37\",\"0.38\",\"0.39\",\"0.4\",\"0.41\",\"0.42\",\"0.43\",\"0.44\",\"0.45\",\"0.46\",\"0.47\",\"0.48\",\"0.49\",\"0.5\",\"0.51\",\"0.52\",\"0.53\",\"0.54\",\"0.55\",\"0.56\",\"0.57\",\"0.58\",\"0.59\",\"0.6\",\"0.61\",\"0.62\",\"0.63\",\"0.64\",\"0.65\",\"0.66\",\"0.67\",\"0.68\",\"0.69\",\"0.7\",\"0.71\",\"0.72\",\"0.73\",\"0.74\",\"0.75\",\"0.76\",\"0.77\",\"0.78\",\"0.79\",\"0.8\",\"0.81\",\"0.82\",\"0.83\",\"0.84\",\"0.85\",\"0.86\",\"0.87\",\"0.88\",\"0.89\",\"0.9\",\"0.91\",\"0.92\",\"0.93\",\"0.94\",\"0.95\",\"0.96\",\"0.97\",\"0.98\",\"0.99\",\"1.0\"],\"changes\":WebIO.getval({\"name\":\"changes\",\"scope\":\"4611191201882615799\",\"id\":\"ob_151\",\"type\":\"observable\"}),\"index\":WebIO.getval({\"name\":\"index\",\"scope\":\"4611191201882615799\",\"id\":\"ob_150\",\"type\":\"observable\"})};\n    var self = this;\n    function AppViewModel() {\n        for (var key in json_data) {\n            var el = json_data[key];\n            this[key] = Array.isArray(el) ? ko.observableArray(el) : ko.observable(el);\n        }\n        \n        [this[\"formatted_val\"]=ko.computed(    function(){\n        return this.formatted_vals()[parseInt(this.index())-(1)];\n    }\n,this)]\n        [this[\"changes\"].subscribe((function (val){!(this.valueFromJulia[\"changes\"]) ? (WebIO.setval({\"name\":\"changes\",\"scope\":\"4611191201882615799\",\"id\":\"ob_151\",\"type\":\"observable\"},val)) : undefined; return this.valueFromJulia[\"changes\"]=false}),self),this[\"index\"].subscribe((function (val){!(this.valueFromJulia[\"index\"]) ? (WebIO.setval({\"name\":\"index\",\"scope\":\"4611191201882615799\",\"id\":\"ob_150\",\"type\":\"observable\"},val)) : undefined; return this.valueFromJulia[\"index\"]=false}),self)]\n        \n    }\n    self.model = new AppViewModel();\n    self.valueFromJulia = {};\n    for (var key in json_data) {\n        self.valueFromJulia[key] = false;\n    }\n    ko.applyBindings(self.model, self.dom);\n}\n);\n    (WebIO.importBlock({\"data\":[{\"name\":\"knockout\",\"type\":\"js\",\"url\":\"/assetserver/41a273c89bcce599ea619ceead1fb1eecdca6622-knockout.js\"},{\"name\":\"knockout_punches\",\"type\":\"js\",\"url\":\"/assetserver/32c9c9f4cf2c3726fd5071a28032a60ac6bba4af-knockout_punches.js\"}],\"type\":\"async_block\"})).then((imports) => handler.apply(this, imports));\n}\n"
            ],
            "observables": {
             "changes": {
              "id": "ob_151",
              "sync": false,
              "value": 0
             },
             "index": {
              "id": "ob_150",
              "sync": true,
              "value": 51
             }
            },
            "systemjs_options": null
           },
           "nodeType": "Scope",
           "props": {},
           "type": "node"
          }
         ],
         "instanceArgs": {
          "namespace": "html",
          "tag": "div"
         },
         "nodeType": "DOM",
         "props": {
          "className": "field interact-widget"
         },
         "type": "node"
        },
        {
         "children": [
          {
           "children": [
            {
             "children": [
              {
               "children": [
                {
                 "children": [
                  "Spline3 Amplitude"
                 ],
                 "instanceArgs": {
                  "namespace": "html",
                  "tag": "label"
                 },
                 "nodeType": "DOM",
                 "props": {
                  "className": "interact ",
                  "style": {
                   "padding": "5px 10px 0px 10px"
                  }
                 },
                 "type": "node"
                }
               ],
               "instanceArgs": {
                "namespace": "html",
                "tag": "div"
               },
               "nodeType": "DOM",
               "props": {
                "className": "interact-flex-row-left"
               },
               "type": "node"
              },
              {
               "children": [
                {
                 "children": [],
                 "instanceArgs": {
                  "namespace": "html",
                  "tag": "input"
                 },
                 "nodeType": "DOM",
                 "props": {
                  "attributes": {
                   "data-bind": "numericValue: index, valueUpdate: 'input', event: {change: function (){this.changes(this.changes()+1)}}",
                   "orient": "horizontal",
                   "type": "range"
                  },
                  "className": "slider slider is-fullwidth",
                  "max": 101,
                  "min": 1,
                  "step": 1,
                  "style": {}
                 },
                 "type": "node"
                }
               ],
               "instanceArgs": {
                "namespace": "html",
                "tag": "div"
               },
               "nodeType": "DOM",
               "props": {
                "className": "interact-flex-row-center"
               },
               "type": "node"
              },
              {
               "children": [
                {
                 "children": [],
                 "instanceArgs": {
                  "namespace": "html",
                  "tag": "p"
                 },
                 "nodeType": "DOM",
                 "props": {
                  "attributes": {
                   "data-bind": "text: formatted_val"
                  }
                 },
                 "type": "node"
                }
               ],
               "instanceArgs": {
                "namespace": "html",
                "tag": "div"
               },
               "nodeType": "DOM",
               "props": {
                "className": "interact-flex-row-right"
               },
               "type": "node"
              }
             ],
             "instanceArgs": {
              "namespace": "html",
              "tag": "div"
             },
             "nodeType": "DOM",
             "props": {
              "className": "interact-flex-row interact-widget"
             },
             "type": "node"
            }
           ],
           "instanceArgs": {
            "handlers": {
             "changes": [
              "(function (val){return (val!=this.model[\"changes\"]()) ? (this.valueFromJulia[\"changes\"]=true, this.model[\"changes\"](val)) : undefined})"
             ],
             "index": [
              "(function (val){return (val!=this.model[\"index\"]()) ? (this.valueFromJulia[\"index\"]=true, this.model[\"index\"](val)) : undefined})"
             ]
            },
            "id": "8388785747026809205",
            "imports": {
             "data": [
              {
               "name": "knockout",
               "type": "js",
               "url": "/assetserver/41a273c89bcce599ea619ceead1fb1eecdca6622-knockout.js"
              },
              {
               "name": "knockout_punches",
               "type": "js",
               "url": "/assetserver/32c9c9f4cf2c3726fd5071a28032a60ac6bba4af-knockout_punches.js"
              },
              {
               "name": null,
               "type": "js",
               "url": "/assetserver/2719b6df48bab31e3dc02827733e2ba37456b9e5-all.js"
              },
              {
               "name": null,
               "type": "css",
               "url": "/assetserver/c34264e2b887dac221f520b6f75cf7f3100e23c6-style.css"
              },
              {
               "name": null,
               "type": "css",
               "url": "/assetserver/4b9c540d5898f147e291dc66a148fd2b225c63c9-bulma_confined.min.css"
              }
             ],
             "type": "async_block"
            },
            "mount_callbacks": [
             "function () {\n    var handler = (function (ko, koPunches) {\n    ko.punches.enableAll();\n    ko.bindingHandlers.numericValue = {\n        init: function(element, valueAccessor, allBindings, data, context) {\n            var stringified = ko.observable(ko.unwrap(valueAccessor()));\n            stringified.subscribe(function(value) {\n                var val = parseFloat(value);\n                if (!isNaN(val)) {\n                    valueAccessor()(val);\n                }\n            });\n            valueAccessor().subscribe(function(value) {\n                var str = JSON.stringify(value);\n                if ((str == \"0\") && ([\"-0\", \"-0.\"].indexOf(stringified()) >= 0))\n                     return;\n                 if ([\"null\", \"\"].indexOf(str) >= 0)\n                     return;\n                stringified(str);\n            });\n            ko.applyBindingsToNode(\n                element,\n                {\n                    value: stringified,\n                    valueUpdate: allBindings.get('valueUpdate'),\n                },\n                context,\n            );\n        }\n    };\n    var json_data = {\"formatted_vals\":[\"0.0\",\"0.01\",\"0.02\",\"0.03\",\"0.04\",\"0.05\",\"0.06\",\"0.07\",\"0.08\",\"0.09\",\"0.1\",\"0.11\",\"0.12\",\"0.13\",\"0.14\",\"0.15\",\"0.16\",\"0.17\",\"0.18\",\"0.19\",\"0.2\",\"0.21\",\"0.22\",\"0.23\",\"0.24\",\"0.25\",\"0.26\",\"0.27\",\"0.28\",\"0.29\",\"0.3\",\"0.31\",\"0.32\",\"0.33\",\"0.34\",\"0.35\",\"0.36\",\"0.37\",\"0.38\",\"0.39\",\"0.4\",\"0.41\",\"0.42\",\"0.43\",\"0.44\",\"0.45\",\"0.46\",\"0.47\",\"0.48\",\"0.49\",\"0.5\",\"0.51\",\"0.52\",\"0.53\",\"0.54\",\"0.55\",\"0.56\",\"0.57\",\"0.58\",\"0.59\",\"0.6\",\"0.61\",\"0.62\",\"0.63\",\"0.64\",\"0.65\",\"0.66\",\"0.67\",\"0.68\",\"0.69\",\"0.7\",\"0.71\",\"0.72\",\"0.73\",\"0.74\",\"0.75\",\"0.76\",\"0.77\",\"0.78\",\"0.79\",\"0.8\",\"0.81\",\"0.82\",\"0.83\",\"0.84\",\"0.85\",\"0.86\",\"0.87\",\"0.88\",\"0.89\",\"0.9\",\"0.91\",\"0.92\",\"0.93\",\"0.94\",\"0.95\",\"0.96\",\"0.97\",\"0.98\",\"0.99\",\"1.0\"],\"changes\":WebIO.getval({\"name\":\"changes\",\"scope\":\"8388785747026809205\",\"id\":\"ob_154\",\"type\":\"observable\"}),\"index\":WebIO.getval({\"name\":\"index\",\"scope\":\"8388785747026809205\",\"id\":\"ob_153\",\"type\":\"observable\"})};\n    var self = this;\n    function AppViewModel() {\n        for (var key in json_data) {\n            var el = json_data[key];\n            this[key] = Array.isArray(el) ? ko.observableArray(el) : ko.observable(el);\n        }\n        \n        [this[\"formatted_val\"]=ko.computed(    function(){\n        return this.formatted_vals()[parseInt(this.index())-(1)];\n    }\n,this)]\n        [this[\"changes\"].subscribe((function (val){!(this.valueFromJulia[\"changes\"]) ? (WebIO.setval({\"name\":\"changes\",\"scope\":\"8388785747026809205\",\"id\":\"ob_154\",\"type\":\"observable\"},val)) : undefined; return this.valueFromJulia[\"changes\"]=false}),self),this[\"index\"].subscribe((function (val){!(this.valueFromJulia[\"index\"]) ? (WebIO.setval({\"name\":\"index\",\"scope\":\"8388785747026809205\",\"id\":\"ob_153\",\"type\":\"observable\"},val)) : undefined; return this.valueFromJulia[\"index\"]=false}),self)]\n        \n    }\n    self.model = new AppViewModel();\n    self.valueFromJulia = {};\n    for (var key in json_data) {\n        self.valueFromJulia[key] = false;\n    }\n    ko.applyBindings(self.model, self.dom);\n}\n);\n    (WebIO.importBlock({\"data\":[{\"name\":\"knockout\",\"type\":\"js\",\"url\":\"/assetserver/41a273c89bcce599ea619ceead1fb1eecdca6622-knockout.js\"},{\"name\":\"knockout_punches\",\"type\":\"js\",\"url\":\"/assetserver/32c9c9f4cf2c3726fd5071a28032a60ac6bba4af-knockout_punches.js\"}],\"type\":\"async_block\"})).then((imports) => handler.apply(this, imports));\n}\n"
            ],
            "observables": {
             "changes": {
              "id": "ob_154",
              "sync": false,
              "value": 0
             },
             "index": {
              "id": "ob_153",
              "sync": true,
              "value": 51
             }
            },
            "systemjs_options": null
           },
           "nodeType": "Scope",
           "props": {},
           "type": "node"
          }
         ],
         "instanceArgs": {
          "namespace": "html",
          "tag": "div"
         },
         "nodeType": "DOM",
         "props": {
          "className": "field interact-widget"
         },
         "type": "node"
        },
        {
         "children": [
          {
           "children": [
            {
             "children": [
              {
               "children": [
                {
                 "children": [
                  "Spline4 Amplitude"
                 ],
                 "instanceArgs": {
                  "namespace": "html",
                  "tag": "label"
                 },
                 "nodeType": "DOM",
                 "props": {
                  "className": "interact ",
                  "style": {
                   "padding": "5px 10px 0px 10px"
                  }
                 },
                 "type": "node"
                }
               ],
               "instanceArgs": {
                "namespace": "html",
                "tag": "div"
               },
               "nodeType": "DOM",
               "props": {
                "className": "interact-flex-row-left"
               },
               "type": "node"
              },
              {
               "children": [
                {
                 "children": [],
                 "instanceArgs": {
                  "namespace": "html",
                  "tag": "input"
                 },
                 "nodeType": "DOM",
                 "props": {
                  "attributes": {
                   "data-bind": "numericValue: index, valueUpdate: 'input', event: {change: function (){this.changes(this.changes()+1)}}",
                   "orient": "horizontal",
                   "type": "range"
                  },
                  "className": "slider slider is-fullwidth",
                  "max": 101,
                  "min": 1,
                  "step": 1,
                  "style": {}
                 },
                 "type": "node"
                }
               ],
               "instanceArgs": {
                "namespace": "html",
                "tag": "div"
               },
               "nodeType": "DOM",
               "props": {
                "className": "interact-flex-row-center"
               },
               "type": "node"
              },
              {
               "children": [
                {
                 "children": [],
                 "instanceArgs": {
                  "namespace": "html",
                  "tag": "p"
                 },
                 "nodeType": "DOM",
                 "props": {
                  "attributes": {
                   "data-bind": "text: formatted_val"
                  }
                 },
                 "type": "node"
                }
               ],
               "instanceArgs": {
                "namespace": "html",
                "tag": "div"
               },
               "nodeType": "DOM",
               "props": {
                "className": "interact-flex-row-right"
               },
               "type": "node"
              }
             ],
             "instanceArgs": {
              "namespace": "html",
              "tag": "div"
             },
             "nodeType": "DOM",
             "props": {
              "className": "interact-flex-row interact-widget"
             },
             "type": "node"
            }
           ],
           "instanceArgs": {
            "handlers": {
             "changes": [
              "(function (val){return (val!=this.model[\"changes\"]()) ? (this.valueFromJulia[\"changes\"]=true, this.model[\"changes\"](val)) : undefined})"
             ],
             "index": [
              "(function (val){return (val!=this.model[\"index\"]()) ? (this.valueFromJulia[\"index\"]=true, this.model[\"index\"](val)) : undefined})"
             ]
            },
            "id": "4955531688077397721",
            "imports": {
             "data": [
              {
               "name": "knockout",
               "type": "js",
               "url": "/assetserver/41a273c89bcce599ea619ceead1fb1eecdca6622-knockout.js"
              },
              {
               "name": "knockout_punches",
               "type": "js",
               "url": "/assetserver/32c9c9f4cf2c3726fd5071a28032a60ac6bba4af-knockout_punches.js"
              },
              {
               "name": null,
               "type": "js",
               "url": "/assetserver/2719b6df48bab31e3dc02827733e2ba37456b9e5-all.js"
              },
              {
               "name": null,
               "type": "css",
               "url": "/assetserver/c34264e2b887dac221f520b6f75cf7f3100e23c6-style.css"
              },
              {
               "name": null,
               "type": "css",
               "url": "/assetserver/4b9c540d5898f147e291dc66a148fd2b225c63c9-bulma_confined.min.css"
              }
             ],
             "type": "async_block"
            },
            "mount_callbacks": [
             "function () {\n    var handler = (function (ko, koPunches) {\n    ko.punches.enableAll();\n    ko.bindingHandlers.numericValue = {\n        init: function(element, valueAccessor, allBindings, data, context) {\n            var stringified = ko.observable(ko.unwrap(valueAccessor()));\n            stringified.subscribe(function(value) {\n                var val = parseFloat(value);\n                if (!isNaN(val)) {\n                    valueAccessor()(val);\n                }\n            });\n            valueAccessor().subscribe(function(value) {\n                var str = JSON.stringify(value);\n                if ((str == \"0\") && ([\"-0\", \"-0.\"].indexOf(stringified()) >= 0))\n                     return;\n                 if ([\"null\", \"\"].indexOf(str) >= 0)\n                     return;\n                stringified(str);\n            });\n            ko.applyBindingsToNode(\n                element,\n                {\n                    value: stringified,\n                    valueUpdate: allBindings.get('valueUpdate'),\n                },\n                context,\n            );\n        }\n    };\n    var json_data = {\"formatted_vals\":[\"0.0\",\"0.01\",\"0.02\",\"0.03\",\"0.04\",\"0.05\",\"0.06\",\"0.07\",\"0.08\",\"0.09\",\"0.1\",\"0.11\",\"0.12\",\"0.13\",\"0.14\",\"0.15\",\"0.16\",\"0.17\",\"0.18\",\"0.19\",\"0.2\",\"0.21\",\"0.22\",\"0.23\",\"0.24\",\"0.25\",\"0.26\",\"0.27\",\"0.28\",\"0.29\",\"0.3\",\"0.31\",\"0.32\",\"0.33\",\"0.34\",\"0.35\",\"0.36\",\"0.37\",\"0.38\",\"0.39\",\"0.4\",\"0.41\",\"0.42\",\"0.43\",\"0.44\",\"0.45\",\"0.46\",\"0.47\",\"0.48\",\"0.49\",\"0.5\",\"0.51\",\"0.52\",\"0.53\",\"0.54\",\"0.55\",\"0.56\",\"0.57\",\"0.58\",\"0.59\",\"0.6\",\"0.61\",\"0.62\",\"0.63\",\"0.64\",\"0.65\",\"0.66\",\"0.67\",\"0.68\",\"0.69\",\"0.7\",\"0.71\",\"0.72\",\"0.73\",\"0.74\",\"0.75\",\"0.76\",\"0.77\",\"0.78\",\"0.79\",\"0.8\",\"0.81\",\"0.82\",\"0.83\",\"0.84\",\"0.85\",\"0.86\",\"0.87\",\"0.88\",\"0.89\",\"0.9\",\"0.91\",\"0.92\",\"0.93\",\"0.94\",\"0.95\",\"0.96\",\"0.97\",\"0.98\",\"0.99\",\"1.0\"],\"changes\":WebIO.getval({\"name\":\"changes\",\"scope\":\"4955531688077397721\",\"id\":\"ob_157\",\"type\":\"observable\"}),\"index\":WebIO.getval({\"name\":\"index\",\"scope\":\"4955531688077397721\",\"id\":\"ob_156\",\"type\":\"observable\"})};\n    var self = this;\n    function AppViewModel() {\n        for (var key in json_data) {\n            var el = json_data[key];\n            this[key] = Array.isArray(el) ? ko.observableArray(el) : ko.observable(el);\n        }\n        \n        [this[\"formatted_val\"]=ko.computed(    function(){\n        return this.formatted_vals()[parseInt(this.index())-(1)];\n    }\n,this)]\n        [this[\"changes\"].subscribe((function (val){!(this.valueFromJulia[\"changes\"]) ? (WebIO.setval({\"name\":\"changes\",\"scope\":\"4955531688077397721\",\"id\":\"ob_157\",\"type\":\"observable\"},val)) : undefined; return this.valueFromJulia[\"changes\"]=false}),self),this[\"index\"].subscribe((function (val){!(this.valueFromJulia[\"index\"]) ? (WebIO.setval({\"name\":\"index\",\"scope\":\"4955531688077397721\",\"id\":\"ob_156\",\"type\":\"observable\"},val)) : undefined; return this.valueFromJulia[\"index\"]=false}),self)]\n        \n    }\n    self.model = new AppViewModel();\n    self.valueFromJulia = {};\n    for (var key in json_data) {\n        self.valueFromJulia[key] = false;\n    }\n    ko.applyBindings(self.model, self.dom);\n}\n);\n    (WebIO.importBlock({\"data\":[{\"name\":\"knockout\",\"type\":\"js\",\"url\":\"/assetserver/41a273c89bcce599ea619ceead1fb1eecdca6622-knockout.js\"},{\"name\":\"knockout_punches\",\"type\":\"js\",\"url\":\"/assetserver/32c9c9f4cf2c3726fd5071a28032a60ac6bba4af-knockout_punches.js\"}],\"type\":\"async_block\"})).then((imports) => handler.apply(this, imports));\n}\n"
            ],
            "observables": {
             "changes": {
              "id": "ob_157",
              "sync": false,
              "value": 0
             },
             "index": {
              "id": "ob_156",
              "sync": true,
              "value": 51
             }
            },
            "systemjs_options": null
           },
           "nodeType": "Scope",
           "props": {},
           "type": "node"
          }
         ],
         "instanceArgs": {
          "namespace": "html",
          "tag": "div"
         },
         "nodeType": "DOM",
         "props": {
          "className": "field interact-widget"
         },
         "type": "node"
        },
        {
         "children": [
          {
           "children": [],
           "instanceArgs": {
            "id": "ob_173",
            "name": "obs-node"
           },
           "nodeType": "ObservableNode",
           "props": {},
           "type": "node"
          }
         ],
         "instanceArgs": {
          "handlers": {},
          "id": "11292042960331533321",
          "imports": {
           "data": [],
           "type": "async_block"
          },
          "mount_callbacks": [],
          "observables": {
           "obs-node": {
            "id": "ob_173",
            "sync": false,
            "value": {
             "children": [
              ""
             ],
             "instanceArgs": {
              "namespace": "html",
              "tag": "div"
             },
             "nodeType": "DOM",
             "props": {
              "className": "interact-flex-row interact-widget"
             },
             "type": "node"
            }
           }
          },
          "systemjs_options": null
         },
         "nodeType": "Scope",
         "props": {},
         "type": "node"
        }
       ],
       "instanceArgs": {
        "namespace": "html",
        "tag": "div"
       },
       "nodeType": "DOM",
       "props": {},
       "type": "node"
      },
      "text/html": [
       "<div\n",
       "    class=\"webio-mountpoint\"\n",
       "    data-webio-mountpoint=\"5395634127901615579\"\n",
       ">\n",
       "    <script>\n",
       "    if (window.require && require.defined && require.defined(\"nbextensions/webio-jupyter-notebook\")) {\n",
       "        console.log(\"Jupyter WebIO extension detected, not mounting.\");\n",
       "    } else if (window.WebIO) {\n",
       "        WebIO.mount(\n",
       "            document.querySelector('[data-webio-mountpoint=\"5395634127901615579\"]'),\n",
       "            {\"props\":{},\"nodeType\":\"DOM\",\"type\":\"node\",\"instanceArgs\":{\"namespace\":\"html\",\"tag\":\"div\"},\"children\":[{\"props\":{\"className\":\"field interact-widget\"},\"nodeType\":\"DOM\",\"type\":\"node\",\"instanceArgs\":{\"namespace\":\"html\",\"tag\":\"div\"},\"children\":[{\"props\":{},\"nodeType\":\"Scope\",\"type\":\"node\",\"instanceArgs\":{\"imports\":{\"data\":[{\"name\":\"knockout\",\"type\":\"js\",\"url\":\"\\/assetserver\\/41a273c89bcce599ea619ceead1fb1eecdca6622-knockout.js\"},{\"name\":\"knockout_punches\",\"type\":\"js\",\"url\":\"\\/assetserver\\/32c9c9f4cf2c3726fd5071a28032a60ac6bba4af-knockout_punches.js\"},{\"name\":null,\"type\":\"js\",\"url\":\"\\/assetserver\\/2719b6df48bab31e3dc02827733e2ba37456b9e5-all.js\"},{\"name\":null,\"type\":\"css\",\"url\":\"\\/assetserver\\/c34264e2b887dac221f520b6f75cf7f3100e23c6-style.css\"},{\"name\":null,\"type\":\"css\",\"url\":\"\\/assetserver\\/4b9c540d5898f147e291dc66a148fd2b225c63c9-bulma_confined.min.css\"}],\"type\":\"async_block\"},\"id\":\"10163475739325989635\",\"handlers\":{\"changes\":[\"(function (val){return (val!=this.model[\\\"changes\\\"]()) ? (this.valueFromJulia[\\\"changes\\\"]=true, this.model[\\\"changes\\\"](val)) : undefined})\"],\"index\":[\"(function (val){return (val!=this.model[\\\"index\\\"]()) ? (this.valueFromJulia[\\\"index\\\"]=true, this.model[\\\"index\\\"](val)) : undefined})\"]},\"systemjs_options\":null,\"mount_callbacks\":[\"function () {\\n    var handler = (function (ko, koPunches) {\\n    ko.punches.enableAll();\\n    ko.bindingHandlers.numericValue = {\\n        init: function(element, valueAccessor, allBindings, data, context) {\\n            var stringified = ko.observable(ko.unwrap(valueAccessor()));\\n            stringified.subscribe(function(value) {\\n                var val = parseFloat(value);\\n                if (!isNaN(val)) {\\n                    valueAccessor()(val);\\n                }\\n            });\\n            valueAccessor().subscribe(function(value) {\\n                var str = JSON.stringify(value);\\n                if ((str == \\\"0\\\") && ([\\\"-0\\\", \\\"-0.\\\"].indexOf(stringified()) >= 0))\\n                     return;\\n                 if ([\\\"null\\\", \\\"\\\"].indexOf(str) >= 0)\\n                     return;\\n                stringified(str);\\n            });\\n            ko.applyBindingsToNode(\\n                element,\\n                {\\n                    value: stringified,\\n                    valueUpdate: allBindings.get('valueUpdate'),\\n                },\\n                context,\\n            );\\n        }\\n    };\\n    var json_data = {\\\"formatted_vals\\\":[\\\"0.0\\\",\\\"0.01\\\",\\\"0.02\\\",\\\"0.03\\\",\\\"0.04\\\",\\\"0.05\\\",\\\"0.06\\\",\\\"0.07\\\",\\\"0.08\\\",\\\"0.09\\\",\\\"0.1\\\",\\\"0.11\\\",\\\"0.12\\\",\\\"0.13\\\",\\\"0.14\\\",\\\"0.15\\\",\\\"0.16\\\",\\\"0.17\\\",\\\"0.18\\\",\\\"0.19\\\",\\\"0.2\\\",\\\"0.21\\\",\\\"0.22\\\",\\\"0.23\\\",\\\"0.24\\\",\\\"0.25\\\",\\\"0.26\\\",\\\"0.27\\\",\\\"0.28\\\",\\\"0.29\\\",\\\"0.3\\\",\\\"0.31\\\",\\\"0.32\\\",\\\"0.33\\\",\\\"0.34\\\",\\\"0.35\\\",\\\"0.36\\\",\\\"0.37\\\",\\\"0.38\\\",\\\"0.39\\\",\\\"0.4\\\",\\\"0.41\\\",\\\"0.42\\\",\\\"0.43\\\",\\\"0.44\\\",\\\"0.45\\\",\\\"0.46\\\",\\\"0.47\\\",\\\"0.48\\\",\\\"0.49\\\",\\\"0.5\\\",\\\"0.51\\\",\\\"0.52\\\",\\\"0.53\\\",\\\"0.54\\\",\\\"0.55\\\",\\\"0.56\\\",\\\"0.57\\\",\\\"0.58\\\",\\\"0.59\\\",\\\"0.6\\\",\\\"0.61\\\",\\\"0.62\\\",\\\"0.63\\\",\\\"0.64\\\",\\\"0.65\\\",\\\"0.66\\\",\\\"0.67\\\",\\\"0.68\\\",\\\"0.69\\\",\\\"0.7\\\",\\\"0.71\\\",\\\"0.72\\\",\\\"0.73\\\",\\\"0.74\\\",\\\"0.75\\\",\\\"0.76\\\",\\\"0.77\\\",\\\"0.78\\\",\\\"0.79\\\",\\\"0.8\\\",\\\"0.81\\\",\\\"0.82\\\",\\\"0.83\\\",\\\"0.84\\\",\\\"0.85\\\",\\\"0.86\\\",\\\"0.87\\\",\\\"0.88\\\",\\\"0.89\\\",\\\"0.9\\\",\\\"0.91\\\",\\\"0.92\\\",\\\"0.93\\\",\\\"0.94\\\",\\\"0.95\\\",\\\"0.96\\\",\\\"0.97\\\",\\\"0.98\\\",\\\"0.99\\\",\\\"1.0\\\"],\\\"changes\\\":WebIO.getval({\\\"name\\\":\\\"changes\\\",\\\"scope\\\":\\\"10163475739325989635\\\",\\\"id\\\":\\\"ob_148\\\",\\\"type\\\":\\\"observable\\\"}),\\\"index\\\":WebIO.getval({\\\"name\\\":\\\"index\\\",\\\"scope\\\":\\\"10163475739325989635\\\",\\\"id\\\":\\\"ob_147\\\",\\\"type\\\":\\\"observable\\\"})};\\n    var self = this;\\n    function AppViewModel() {\\n        for (var key in json_data) {\\n            var el = json_data[key];\\n            this[key] = Array.isArray(el) ? ko.observableArray(el) : ko.observable(el);\\n        }\\n        \\n        [this[\\\"formatted_val\\\"]=ko.computed(    function(){\\n        return this.formatted_vals()[parseInt(this.index())-(1)];\\n    }\\n,this)]\\n        [this[\\\"changes\\\"].subscribe((function (val){!(this.valueFromJulia[\\\"changes\\\"]) ? (WebIO.setval({\\\"name\\\":\\\"changes\\\",\\\"scope\\\":\\\"10163475739325989635\\\",\\\"id\\\":\\\"ob_148\\\",\\\"type\\\":\\\"observable\\\"},val)) : undefined; return this.valueFromJulia[\\\"changes\\\"]=false}),self),this[\\\"index\\\"].subscribe((function (val){!(this.valueFromJulia[\\\"index\\\"]) ? (WebIO.setval({\\\"name\\\":\\\"index\\\",\\\"scope\\\":\\\"10163475739325989635\\\",\\\"id\\\":\\\"ob_147\\\",\\\"type\\\":\\\"observable\\\"},val)) : undefined; return this.valueFromJulia[\\\"index\\\"]=false}),self)]\\n        \\n    }\\n    self.model = new AppViewModel();\\n    self.valueFromJulia = {};\\n    for (var key in json_data) {\\n        self.valueFromJulia[key] = false;\\n    }\\n    ko.applyBindings(self.model, self.dom);\\n}\\n);\\n    (WebIO.importBlock({\\\"data\\\":[{\\\"name\\\":\\\"knockout\\\",\\\"type\\\":\\\"js\\\",\\\"url\\\":\\\"\\/assetserver\\/41a273c89bcce599ea619ceead1fb1eecdca6622-knockout.js\\\"},{\\\"name\\\":\\\"knockout_punches\\\",\\\"type\\\":\\\"js\\\",\\\"url\\\":\\\"\\/assetserver\\/32c9c9f4cf2c3726fd5071a28032a60ac6bba4af-knockout_punches.js\\\"}],\\\"type\\\":\\\"async_block\\\"})).then((imports) => handler.apply(this, imports));\\n}\\n\"],\"observables\":{\"changes\":{\"sync\":false,\"id\":\"ob_148\",\"value\":0},\"index\":{\"sync\":true,\"id\":\"ob_147\",\"value\":51}}},\"children\":[{\"props\":{\"className\":\"interact-flex-row interact-widget\"},\"nodeType\":\"DOM\",\"type\":\"node\",\"instanceArgs\":{\"namespace\":\"html\",\"tag\":\"div\"},\"children\":[{\"props\":{\"className\":\"interact-flex-row-left\"},\"nodeType\":\"DOM\",\"type\":\"node\",\"instanceArgs\":{\"namespace\":\"html\",\"tag\":\"div\"},\"children\":[{\"props\":{\"className\":\"interact \",\"style\":{\"padding\":\"5px 10px 0px 10px\"}},\"nodeType\":\"DOM\",\"type\":\"node\",\"instanceArgs\":{\"namespace\":\"html\",\"tag\":\"label\"},\"children\":[\"Spline1 Amplitude\"]}]},{\"props\":{\"className\":\"interact-flex-row-center\"},\"nodeType\":\"DOM\",\"type\":\"node\",\"instanceArgs\":{\"namespace\":\"html\",\"tag\":\"div\"},\"children\":[{\"props\":{\"max\":101,\"min\":1,\"attributes\":{\"type\":\"range\",\"data-bind\":\"numericValue: index, valueUpdate: 'input', event: {change: function (){this.changes(this.changes()+1)}}\",\"orient\":\"horizontal\"},\"step\":1,\"className\":\"slider slider is-fullwidth\",\"style\":{}},\"nodeType\":\"DOM\",\"type\":\"node\",\"instanceArgs\":{\"namespace\":\"html\",\"tag\":\"input\"},\"children\":[]}]},{\"props\":{\"className\":\"interact-flex-row-right\"},\"nodeType\":\"DOM\",\"type\":\"node\",\"instanceArgs\":{\"namespace\":\"html\",\"tag\":\"div\"},\"children\":[{\"props\":{\"attributes\":{\"data-bind\":\"text: formatted_val\"}},\"nodeType\":\"DOM\",\"type\":\"node\",\"instanceArgs\":{\"namespace\":\"html\",\"tag\":\"p\"},\"children\":[]}]}]}]}]},{\"props\":{\"className\":\"field interact-widget\"},\"nodeType\":\"DOM\",\"type\":\"node\",\"instanceArgs\":{\"namespace\":\"html\",\"tag\":\"div\"},\"children\":[{\"props\":{},\"nodeType\":\"Scope\",\"type\":\"node\",\"instanceArgs\":{\"imports\":{\"data\":[{\"name\":\"knockout\",\"type\":\"js\",\"url\":\"\\/assetserver\\/41a273c89bcce599ea619ceead1fb1eecdca6622-knockout.js\"},{\"name\":\"knockout_punches\",\"type\":\"js\",\"url\":\"\\/assetserver\\/32c9c9f4cf2c3726fd5071a28032a60ac6bba4af-knockout_punches.js\"},{\"name\":null,\"type\":\"js\",\"url\":\"\\/assetserver\\/2719b6df48bab31e3dc02827733e2ba37456b9e5-all.js\"},{\"name\":null,\"type\":\"css\",\"url\":\"\\/assetserver\\/c34264e2b887dac221f520b6f75cf7f3100e23c6-style.css\"},{\"name\":null,\"type\":\"css\",\"url\":\"\\/assetserver\\/4b9c540d5898f147e291dc66a148fd2b225c63c9-bulma_confined.min.css\"}],\"type\":\"async_block\"},\"id\":\"4611191201882615799\",\"handlers\":{\"changes\":[\"(function (val){return (val!=this.model[\\\"changes\\\"]()) ? (this.valueFromJulia[\\\"changes\\\"]=true, this.model[\\\"changes\\\"](val)) : undefined})\"],\"index\":[\"(function (val){return (val!=this.model[\\\"index\\\"]()) ? (this.valueFromJulia[\\\"index\\\"]=true, this.model[\\\"index\\\"](val)) : undefined})\"]},\"systemjs_options\":null,\"mount_callbacks\":[\"function () {\\n    var handler = (function (ko, koPunches) {\\n    ko.punches.enableAll();\\n    ko.bindingHandlers.numericValue = {\\n        init: function(element, valueAccessor, allBindings, data, context) {\\n            var stringified = ko.observable(ko.unwrap(valueAccessor()));\\n            stringified.subscribe(function(value) {\\n                var val = parseFloat(value);\\n                if (!isNaN(val)) {\\n                    valueAccessor()(val);\\n                }\\n            });\\n            valueAccessor().subscribe(function(value) {\\n                var str = JSON.stringify(value);\\n                if ((str == \\\"0\\\") && ([\\\"-0\\\", \\\"-0.\\\"].indexOf(stringified()) >= 0))\\n                     return;\\n                 if ([\\\"null\\\", \\\"\\\"].indexOf(str) >= 0)\\n                     return;\\n                stringified(str);\\n            });\\n            ko.applyBindingsToNode(\\n                element,\\n                {\\n                    value: stringified,\\n                    valueUpdate: allBindings.get('valueUpdate'),\\n                },\\n                context,\\n            );\\n        }\\n    };\\n    var json_data = {\\\"formatted_vals\\\":[\\\"0.0\\\",\\\"0.01\\\",\\\"0.02\\\",\\\"0.03\\\",\\\"0.04\\\",\\\"0.05\\\",\\\"0.06\\\",\\\"0.07\\\",\\\"0.08\\\",\\\"0.09\\\",\\\"0.1\\\",\\\"0.11\\\",\\\"0.12\\\",\\\"0.13\\\",\\\"0.14\\\",\\\"0.15\\\",\\\"0.16\\\",\\\"0.17\\\",\\\"0.18\\\",\\\"0.19\\\",\\\"0.2\\\",\\\"0.21\\\",\\\"0.22\\\",\\\"0.23\\\",\\\"0.24\\\",\\\"0.25\\\",\\\"0.26\\\",\\\"0.27\\\",\\\"0.28\\\",\\\"0.29\\\",\\\"0.3\\\",\\\"0.31\\\",\\\"0.32\\\",\\\"0.33\\\",\\\"0.34\\\",\\\"0.35\\\",\\\"0.36\\\",\\\"0.37\\\",\\\"0.38\\\",\\\"0.39\\\",\\\"0.4\\\",\\\"0.41\\\",\\\"0.42\\\",\\\"0.43\\\",\\\"0.44\\\",\\\"0.45\\\",\\\"0.46\\\",\\\"0.47\\\",\\\"0.48\\\",\\\"0.49\\\",\\\"0.5\\\",\\\"0.51\\\",\\\"0.52\\\",\\\"0.53\\\",\\\"0.54\\\",\\\"0.55\\\",\\\"0.56\\\",\\\"0.57\\\",\\\"0.58\\\",\\\"0.59\\\",\\\"0.6\\\",\\\"0.61\\\",\\\"0.62\\\",\\\"0.63\\\",\\\"0.64\\\",\\\"0.65\\\",\\\"0.66\\\",\\\"0.67\\\",\\\"0.68\\\",\\\"0.69\\\",\\\"0.7\\\",\\\"0.71\\\",\\\"0.72\\\",\\\"0.73\\\",\\\"0.74\\\",\\\"0.75\\\",\\\"0.76\\\",\\\"0.77\\\",\\\"0.78\\\",\\\"0.79\\\",\\\"0.8\\\",\\\"0.81\\\",\\\"0.82\\\",\\\"0.83\\\",\\\"0.84\\\",\\\"0.85\\\",\\\"0.86\\\",\\\"0.87\\\",\\\"0.88\\\",\\\"0.89\\\",\\\"0.9\\\",\\\"0.91\\\",\\\"0.92\\\",\\\"0.93\\\",\\\"0.94\\\",\\\"0.95\\\",\\\"0.96\\\",\\\"0.97\\\",\\\"0.98\\\",\\\"0.99\\\",\\\"1.0\\\"],\\\"changes\\\":WebIO.getval({\\\"name\\\":\\\"changes\\\",\\\"scope\\\":\\\"4611191201882615799\\\",\\\"id\\\":\\\"ob_151\\\",\\\"type\\\":\\\"observable\\\"}),\\\"index\\\":WebIO.getval({\\\"name\\\":\\\"index\\\",\\\"scope\\\":\\\"4611191201882615799\\\",\\\"id\\\":\\\"ob_150\\\",\\\"type\\\":\\\"observable\\\"})};\\n    var self = this;\\n    function AppViewModel() {\\n        for (var key in json_data) {\\n            var el = json_data[key];\\n            this[key] = Array.isArray(el) ? ko.observableArray(el) : ko.observable(el);\\n        }\\n        \\n        [this[\\\"formatted_val\\\"]=ko.computed(    function(){\\n        return this.formatted_vals()[parseInt(this.index())-(1)];\\n    }\\n,this)]\\n        [this[\\\"changes\\\"].subscribe((function (val){!(this.valueFromJulia[\\\"changes\\\"]) ? (WebIO.setval({\\\"name\\\":\\\"changes\\\",\\\"scope\\\":\\\"4611191201882615799\\\",\\\"id\\\":\\\"ob_151\\\",\\\"type\\\":\\\"observable\\\"},val)) : undefined; return this.valueFromJulia[\\\"changes\\\"]=false}),self),this[\\\"index\\\"].subscribe((function (val){!(this.valueFromJulia[\\\"index\\\"]) ? (WebIO.setval({\\\"name\\\":\\\"index\\\",\\\"scope\\\":\\\"4611191201882615799\\\",\\\"id\\\":\\\"ob_150\\\",\\\"type\\\":\\\"observable\\\"},val)) : undefined; return this.valueFromJulia[\\\"index\\\"]=false}),self)]\\n        \\n    }\\n    self.model = new AppViewModel();\\n    self.valueFromJulia = {};\\n    for (var key in json_data) {\\n        self.valueFromJulia[key] = false;\\n    }\\n    ko.applyBindings(self.model, self.dom);\\n}\\n);\\n    (WebIO.importBlock({\\\"data\\\":[{\\\"name\\\":\\\"knockout\\\",\\\"type\\\":\\\"js\\\",\\\"url\\\":\\\"\\/assetserver\\/41a273c89bcce599ea619ceead1fb1eecdca6622-knockout.js\\\"},{\\\"name\\\":\\\"knockout_punches\\\",\\\"type\\\":\\\"js\\\",\\\"url\\\":\\\"\\/assetserver\\/32c9c9f4cf2c3726fd5071a28032a60ac6bba4af-knockout_punches.js\\\"}],\\\"type\\\":\\\"async_block\\\"})).then((imports) => handler.apply(this, imports));\\n}\\n\"],\"observables\":{\"changes\":{\"sync\":false,\"id\":\"ob_151\",\"value\":0},\"index\":{\"sync\":true,\"id\":\"ob_150\",\"value\":51}}},\"children\":[{\"props\":{\"className\":\"interact-flex-row interact-widget\"},\"nodeType\":\"DOM\",\"type\":\"node\",\"instanceArgs\":{\"namespace\":\"html\",\"tag\":\"div\"},\"children\":[{\"props\":{\"className\":\"interact-flex-row-left\"},\"nodeType\":\"DOM\",\"type\":\"node\",\"instanceArgs\":{\"namespace\":\"html\",\"tag\":\"div\"},\"children\":[{\"props\":{\"className\":\"interact \",\"style\":{\"padding\":\"5px 10px 0px 10px\"}},\"nodeType\":\"DOM\",\"type\":\"node\",\"instanceArgs\":{\"namespace\":\"html\",\"tag\":\"label\"},\"children\":[\"Spline2 Amplitude\"]}]},{\"props\":{\"className\":\"interact-flex-row-center\"},\"nodeType\":\"DOM\",\"type\":\"node\",\"instanceArgs\":{\"namespace\":\"html\",\"tag\":\"div\"},\"children\":[{\"props\":{\"max\":101,\"min\":1,\"attributes\":{\"type\":\"range\",\"data-bind\":\"numericValue: index, valueUpdate: 'input', event: {change: function (){this.changes(this.changes()+1)}}\",\"orient\":\"horizontal\"},\"step\":1,\"className\":\"slider slider is-fullwidth\",\"style\":{}},\"nodeType\":\"DOM\",\"type\":\"node\",\"instanceArgs\":{\"namespace\":\"html\",\"tag\":\"input\"},\"children\":[]}]},{\"props\":{\"className\":\"interact-flex-row-right\"},\"nodeType\":\"DOM\",\"type\":\"node\",\"instanceArgs\":{\"namespace\":\"html\",\"tag\":\"div\"},\"children\":[{\"props\":{\"attributes\":{\"data-bind\":\"text: formatted_val\"}},\"nodeType\":\"DOM\",\"type\":\"node\",\"instanceArgs\":{\"namespace\":\"html\",\"tag\":\"p\"},\"children\":[]}]}]}]}]},{\"props\":{\"className\":\"field interact-widget\"},\"nodeType\":\"DOM\",\"type\":\"node\",\"instanceArgs\":{\"namespace\":\"html\",\"tag\":\"div\"},\"children\":[{\"props\":{},\"nodeType\":\"Scope\",\"type\":\"node\",\"instanceArgs\":{\"imports\":{\"data\":[{\"name\":\"knockout\",\"type\":\"js\",\"url\":\"\\/assetserver\\/41a273c89bcce599ea619ceead1fb1eecdca6622-knockout.js\"},{\"name\":\"knockout_punches\",\"type\":\"js\",\"url\":\"\\/assetserver\\/32c9c9f4cf2c3726fd5071a28032a60ac6bba4af-knockout_punches.js\"},{\"name\":null,\"type\":\"js\",\"url\":\"\\/assetserver\\/2719b6df48bab31e3dc02827733e2ba37456b9e5-all.js\"},{\"name\":null,\"type\":\"css\",\"url\":\"\\/assetserver\\/c34264e2b887dac221f520b6f75cf7f3100e23c6-style.css\"},{\"name\":null,\"type\":\"css\",\"url\":\"\\/assetserver\\/4b9c540d5898f147e291dc66a148fd2b225c63c9-bulma_confined.min.css\"}],\"type\":\"async_block\"},\"id\":\"8388785747026809205\",\"handlers\":{\"changes\":[\"(function (val){return (val!=this.model[\\\"changes\\\"]()) ? (this.valueFromJulia[\\\"changes\\\"]=true, this.model[\\\"changes\\\"](val)) : undefined})\"],\"index\":[\"(function (val){return (val!=this.model[\\\"index\\\"]()) ? (this.valueFromJulia[\\\"index\\\"]=true, this.model[\\\"index\\\"](val)) : undefined})\"]},\"systemjs_options\":null,\"mount_callbacks\":[\"function () {\\n    var handler = (function (ko, koPunches) {\\n    ko.punches.enableAll();\\n    ko.bindingHandlers.numericValue = {\\n        init: function(element, valueAccessor, allBindings, data, context) {\\n            var stringified = ko.observable(ko.unwrap(valueAccessor()));\\n            stringified.subscribe(function(value) {\\n                var val = parseFloat(value);\\n                if (!isNaN(val)) {\\n                    valueAccessor()(val);\\n                }\\n            });\\n            valueAccessor().subscribe(function(value) {\\n                var str = JSON.stringify(value);\\n                if ((str == \\\"0\\\") && ([\\\"-0\\\", \\\"-0.\\\"].indexOf(stringified()) >= 0))\\n                     return;\\n                 if ([\\\"null\\\", \\\"\\\"].indexOf(str) >= 0)\\n                     return;\\n                stringified(str);\\n            });\\n            ko.applyBindingsToNode(\\n                element,\\n                {\\n                    value: stringified,\\n                    valueUpdate: allBindings.get('valueUpdate'),\\n                },\\n                context,\\n            );\\n        }\\n    };\\n    var json_data = {\\\"formatted_vals\\\":[\\\"0.0\\\",\\\"0.01\\\",\\\"0.02\\\",\\\"0.03\\\",\\\"0.04\\\",\\\"0.05\\\",\\\"0.06\\\",\\\"0.07\\\",\\\"0.08\\\",\\\"0.09\\\",\\\"0.1\\\",\\\"0.11\\\",\\\"0.12\\\",\\\"0.13\\\",\\\"0.14\\\",\\\"0.15\\\",\\\"0.16\\\",\\\"0.17\\\",\\\"0.18\\\",\\\"0.19\\\",\\\"0.2\\\",\\\"0.21\\\",\\\"0.22\\\",\\\"0.23\\\",\\\"0.24\\\",\\\"0.25\\\",\\\"0.26\\\",\\\"0.27\\\",\\\"0.28\\\",\\\"0.29\\\",\\\"0.3\\\",\\\"0.31\\\",\\\"0.32\\\",\\\"0.33\\\",\\\"0.34\\\",\\\"0.35\\\",\\\"0.36\\\",\\\"0.37\\\",\\\"0.38\\\",\\\"0.39\\\",\\\"0.4\\\",\\\"0.41\\\",\\\"0.42\\\",\\\"0.43\\\",\\\"0.44\\\",\\\"0.45\\\",\\\"0.46\\\",\\\"0.47\\\",\\\"0.48\\\",\\\"0.49\\\",\\\"0.5\\\",\\\"0.51\\\",\\\"0.52\\\",\\\"0.53\\\",\\\"0.54\\\",\\\"0.55\\\",\\\"0.56\\\",\\\"0.57\\\",\\\"0.58\\\",\\\"0.59\\\",\\\"0.6\\\",\\\"0.61\\\",\\\"0.62\\\",\\\"0.63\\\",\\\"0.64\\\",\\\"0.65\\\",\\\"0.66\\\",\\\"0.67\\\",\\\"0.68\\\",\\\"0.69\\\",\\\"0.7\\\",\\\"0.71\\\",\\\"0.72\\\",\\\"0.73\\\",\\\"0.74\\\",\\\"0.75\\\",\\\"0.76\\\",\\\"0.77\\\",\\\"0.78\\\",\\\"0.79\\\",\\\"0.8\\\",\\\"0.81\\\",\\\"0.82\\\",\\\"0.83\\\",\\\"0.84\\\",\\\"0.85\\\",\\\"0.86\\\",\\\"0.87\\\",\\\"0.88\\\",\\\"0.89\\\",\\\"0.9\\\",\\\"0.91\\\",\\\"0.92\\\",\\\"0.93\\\",\\\"0.94\\\",\\\"0.95\\\",\\\"0.96\\\",\\\"0.97\\\",\\\"0.98\\\",\\\"0.99\\\",\\\"1.0\\\"],\\\"changes\\\":WebIO.getval({\\\"name\\\":\\\"changes\\\",\\\"scope\\\":\\\"8388785747026809205\\\",\\\"id\\\":\\\"ob_154\\\",\\\"type\\\":\\\"observable\\\"}),\\\"index\\\":WebIO.getval({\\\"name\\\":\\\"index\\\",\\\"scope\\\":\\\"8388785747026809205\\\",\\\"id\\\":\\\"ob_153\\\",\\\"type\\\":\\\"observable\\\"})};\\n    var self = this;\\n    function AppViewModel() {\\n        for (var key in json_data) {\\n            var el = json_data[key];\\n            this[key] = Array.isArray(el) ? ko.observableArray(el) : ko.observable(el);\\n        }\\n        \\n        [this[\\\"formatted_val\\\"]=ko.computed(    function(){\\n        return this.formatted_vals()[parseInt(this.index())-(1)];\\n    }\\n,this)]\\n        [this[\\\"changes\\\"].subscribe((function (val){!(this.valueFromJulia[\\\"changes\\\"]) ? (WebIO.setval({\\\"name\\\":\\\"changes\\\",\\\"scope\\\":\\\"8388785747026809205\\\",\\\"id\\\":\\\"ob_154\\\",\\\"type\\\":\\\"observable\\\"},val)) : undefined; return this.valueFromJulia[\\\"changes\\\"]=false}),self),this[\\\"index\\\"].subscribe((function (val){!(this.valueFromJulia[\\\"index\\\"]) ? (WebIO.setval({\\\"name\\\":\\\"index\\\",\\\"scope\\\":\\\"8388785747026809205\\\",\\\"id\\\":\\\"ob_153\\\",\\\"type\\\":\\\"observable\\\"},val)) : undefined; return this.valueFromJulia[\\\"index\\\"]=false}),self)]\\n        \\n    }\\n    self.model = new AppViewModel();\\n    self.valueFromJulia = {};\\n    for (var key in json_data) {\\n        self.valueFromJulia[key] = false;\\n    }\\n    ko.applyBindings(self.model, self.dom);\\n}\\n);\\n    (WebIO.importBlock({\\\"data\\\":[{\\\"name\\\":\\\"knockout\\\",\\\"type\\\":\\\"js\\\",\\\"url\\\":\\\"\\/assetserver\\/41a273c89bcce599ea619ceead1fb1eecdca6622-knockout.js\\\"},{\\\"name\\\":\\\"knockout_punches\\\",\\\"type\\\":\\\"js\\\",\\\"url\\\":\\\"\\/assetserver\\/32c9c9f4cf2c3726fd5071a28032a60ac6bba4af-knockout_punches.js\\\"}],\\\"type\\\":\\\"async_block\\\"})).then((imports) => handler.apply(this, imports));\\n}\\n\"],\"observables\":{\"changes\":{\"sync\":false,\"id\":\"ob_154\",\"value\":0},\"index\":{\"sync\":true,\"id\":\"ob_153\",\"value\":51}}},\"children\":[{\"props\":{\"className\":\"interact-flex-row interact-widget\"},\"nodeType\":\"DOM\",\"type\":\"node\",\"instanceArgs\":{\"namespace\":\"html\",\"tag\":\"div\"},\"children\":[{\"props\":{\"className\":\"interact-flex-row-left\"},\"nodeType\":\"DOM\",\"type\":\"node\",\"instanceArgs\":{\"namespace\":\"html\",\"tag\":\"div\"},\"children\":[{\"props\":{\"className\":\"interact \",\"style\":{\"padding\":\"5px 10px 0px 10px\"}},\"nodeType\":\"DOM\",\"type\":\"node\",\"instanceArgs\":{\"namespace\":\"html\",\"tag\":\"label\"},\"children\":[\"Spline3 Amplitude\"]}]},{\"props\":{\"className\":\"interact-flex-row-center\"},\"nodeType\":\"DOM\",\"type\":\"node\",\"instanceArgs\":{\"namespace\":\"html\",\"tag\":\"div\"},\"children\":[{\"props\":{\"max\":101,\"min\":1,\"attributes\":{\"type\":\"range\",\"data-bind\":\"numericValue: index, valueUpdate: 'input', event: {change: function (){this.changes(this.changes()+1)}}\",\"orient\":\"horizontal\"},\"step\":1,\"className\":\"slider slider is-fullwidth\",\"style\":{}},\"nodeType\":\"DOM\",\"type\":\"node\",\"instanceArgs\":{\"namespace\":\"html\",\"tag\":\"input\"},\"children\":[]}]},{\"props\":{\"className\":\"interact-flex-row-right\"},\"nodeType\":\"DOM\",\"type\":\"node\",\"instanceArgs\":{\"namespace\":\"html\",\"tag\":\"div\"},\"children\":[{\"props\":{\"attributes\":{\"data-bind\":\"text: formatted_val\"}},\"nodeType\":\"DOM\",\"type\":\"node\",\"instanceArgs\":{\"namespace\":\"html\",\"tag\":\"p\"},\"children\":[]}]}]}]}]},{\"props\":{\"className\":\"field interact-widget\"},\"nodeType\":\"DOM\",\"type\":\"node\",\"instanceArgs\":{\"namespace\":\"html\",\"tag\":\"div\"},\"children\":[{\"props\":{},\"nodeType\":\"Scope\",\"type\":\"node\",\"instanceArgs\":{\"imports\":{\"data\":[{\"name\":\"knockout\",\"type\":\"js\",\"url\":\"\\/assetserver\\/41a273c89bcce599ea619ceead1fb1eecdca6622-knockout.js\"},{\"name\":\"knockout_punches\",\"type\":\"js\",\"url\":\"\\/assetserver\\/32c9c9f4cf2c3726fd5071a28032a60ac6bba4af-knockout_punches.js\"},{\"name\":null,\"type\":\"js\",\"url\":\"\\/assetserver\\/2719b6df48bab31e3dc02827733e2ba37456b9e5-all.js\"},{\"name\":null,\"type\":\"css\",\"url\":\"\\/assetserver\\/c34264e2b887dac221f520b6f75cf7f3100e23c6-style.css\"},{\"name\":null,\"type\":\"css\",\"url\":\"\\/assetserver\\/4b9c540d5898f147e291dc66a148fd2b225c63c9-bulma_confined.min.css\"}],\"type\":\"async_block\"},\"id\":\"4955531688077397721\",\"handlers\":{\"changes\":[\"(function (val){return (val!=this.model[\\\"changes\\\"]()) ? (this.valueFromJulia[\\\"changes\\\"]=true, this.model[\\\"changes\\\"](val)) : undefined})\"],\"index\":[\"(function (val){return (val!=this.model[\\\"index\\\"]()) ? (this.valueFromJulia[\\\"index\\\"]=true, this.model[\\\"index\\\"](val)) : undefined})\"]},\"systemjs_options\":null,\"mount_callbacks\":[\"function () {\\n    var handler = (function (ko, koPunches) {\\n    ko.punches.enableAll();\\n    ko.bindingHandlers.numericValue = {\\n        init: function(element, valueAccessor, allBindings, data, context) {\\n            var stringified = ko.observable(ko.unwrap(valueAccessor()));\\n            stringified.subscribe(function(value) {\\n                var val = parseFloat(value);\\n                if (!isNaN(val)) {\\n                    valueAccessor()(val);\\n                }\\n            });\\n            valueAccessor().subscribe(function(value) {\\n                var str = JSON.stringify(value);\\n                if ((str == \\\"0\\\") && ([\\\"-0\\\", \\\"-0.\\\"].indexOf(stringified()) >= 0))\\n                     return;\\n                 if ([\\\"null\\\", \\\"\\\"].indexOf(str) >= 0)\\n                     return;\\n                stringified(str);\\n            });\\n            ko.applyBindingsToNode(\\n                element,\\n                {\\n                    value: stringified,\\n                    valueUpdate: allBindings.get('valueUpdate'),\\n                },\\n                context,\\n            );\\n        }\\n    };\\n    var json_data = {\\\"formatted_vals\\\":[\\\"0.0\\\",\\\"0.01\\\",\\\"0.02\\\",\\\"0.03\\\",\\\"0.04\\\",\\\"0.05\\\",\\\"0.06\\\",\\\"0.07\\\",\\\"0.08\\\",\\\"0.09\\\",\\\"0.1\\\",\\\"0.11\\\",\\\"0.12\\\",\\\"0.13\\\",\\\"0.14\\\",\\\"0.15\\\",\\\"0.16\\\",\\\"0.17\\\",\\\"0.18\\\",\\\"0.19\\\",\\\"0.2\\\",\\\"0.21\\\",\\\"0.22\\\",\\\"0.23\\\",\\\"0.24\\\",\\\"0.25\\\",\\\"0.26\\\",\\\"0.27\\\",\\\"0.28\\\",\\\"0.29\\\",\\\"0.3\\\",\\\"0.31\\\",\\\"0.32\\\",\\\"0.33\\\",\\\"0.34\\\",\\\"0.35\\\",\\\"0.36\\\",\\\"0.37\\\",\\\"0.38\\\",\\\"0.39\\\",\\\"0.4\\\",\\\"0.41\\\",\\\"0.42\\\",\\\"0.43\\\",\\\"0.44\\\",\\\"0.45\\\",\\\"0.46\\\",\\\"0.47\\\",\\\"0.48\\\",\\\"0.49\\\",\\\"0.5\\\",\\\"0.51\\\",\\\"0.52\\\",\\\"0.53\\\",\\\"0.54\\\",\\\"0.55\\\",\\\"0.56\\\",\\\"0.57\\\",\\\"0.58\\\",\\\"0.59\\\",\\\"0.6\\\",\\\"0.61\\\",\\\"0.62\\\",\\\"0.63\\\",\\\"0.64\\\",\\\"0.65\\\",\\\"0.66\\\",\\\"0.67\\\",\\\"0.68\\\",\\\"0.69\\\",\\\"0.7\\\",\\\"0.71\\\",\\\"0.72\\\",\\\"0.73\\\",\\\"0.74\\\",\\\"0.75\\\",\\\"0.76\\\",\\\"0.77\\\",\\\"0.78\\\",\\\"0.79\\\",\\\"0.8\\\",\\\"0.81\\\",\\\"0.82\\\",\\\"0.83\\\",\\\"0.84\\\",\\\"0.85\\\",\\\"0.86\\\",\\\"0.87\\\",\\\"0.88\\\",\\\"0.89\\\",\\\"0.9\\\",\\\"0.91\\\",\\\"0.92\\\",\\\"0.93\\\",\\\"0.94\\\",\\\"0.95\\\",\\\"0.96\\\",\\\"0.97\\\",\\\"0.98\\\",\\\"0.99\\\",\\\"1.0\\\"],\\\"changes\\\":WebIO.getval({\\\"name\\\":\\\"changes\\\",\\\"scope\\\":\\\"4955531688077397721\\\",\\\"id\\\":\\\"ob_157\\\",\\\"type\\\":\\\"observable\\\"}),\\\"index\\\":WebIO.getval({\\\"name\\\":\\\"index\\\",\\\"scope\\\":\\\"4955531688077397721\\\",\\\"id\\\":\\\"ob_156\\\",\\\"type\\\":\\\"observable\\\"})};\\n    var self = this;\\n    function AppViewModel() {\\n        for (var key in json_data) {\\n            var el = json_data[key];\\n            this[key] = Array.isArray(el) ? ko.observableArray(el) : ko.observable(el);\\n        }\\n        \\n        [this[\\\"formatted_val\\\"]=ko.computed(    function(){\\n        return this.formatted_vals()[parseInt(this.index())-(1)];\\n    }\\n,this)]\\n        [this[\\\"changes\\\"].subscribe((function (val){!(this.valueFromJulia[\\\"changes\\\"]) ? (WebIO.setval({\\\"name\\\":\\\"changes\\\",\\\"scope\\\":\\\"4955531688077397721\\\",\\\"id\\\":\\\"ob_157\\\",\\\"type\\\":\\\"observable\\\"},val)) : undefined; return this.valueFromJulia[\\\"changes\\\"]=false}),self),this[\\\"index\\\"].subscribe((function (val){!(this.valueFromJulia[\\\"index\\\"]) ? (WebIO.setval({\\\"name\\\":\\\"index\\\",\\\"scope\\\":\\\"4955531688077397721\\\",\\\"id\\\":\\\"ob_156\\\",\\\"type\\\":\\\"observable\\\"},val)) : undefined; return this.valueFromJulia[\\\"index\\\"]=false}),self)]\\n        \\n    }\\n    self.model = new AppViewModel();\\n    self.valueFromJulia = {};\\n    for (var key in json_data) {\\n        self.valueFromJulia[key] = false;\\n    }\\n    ko.applyBindings(self.model, self.dom);\\n}\\n);\\n    (WebIO.importBlock({\\\"data\\\":[{\\\"name\\\":\\\"knockout\\\",\\\"type\\\":\\\"js\\\",\\\"url\\\":\\\"\\/assetserver\\/41a273c89bcce599ea619ceead1fb1eecdca6622-knockout.js\\\"},{\\\"name\\\":\\\"knockout_punches\\\",\\\"type\\\":\\\"js\\\",\\\"url\\\":\\\"\\/assetserver\\/32c9c9f4cf2c3726fd5071a28032a60ac6bba4af-knockout_punches.js\\\"}],\\\"type\\\":\\\"async_block\\\"})).then((imports) => handler.apply(this, imports));\\n}\\n\"],\"observables\":{\"changes\":{\"sync\":false,\"id\":\"ob_157\",\"value\":0},\"index\":{\"sync\":true,\"id\":\"ob_156\",\"value\":51}}},\"children\":[{\"props\":{\"className\":\"interact-flex-row interact-widget\"},\"nodeType\":\"DOM\",\"type\":\"node\",\"instanceArgs\":{\"namespace\":\"html\",\"tag\":\"div\"},\"children\":[{\"props\":{\"className\":\"interact-flex-row-left\"},\"nodeType\":\"DOM\",\"type\":\"node\",\"instanceArgs\":{\"namespace\":\"html\",\"tag\":\"div\"},\"children\":[{\"props\":{\"className\":\"interact \",\"style\":{\"padding\":\"5px 10px 0px 10px\"}},\"nodeType\":\"DOM\",\"type\":\"node\",\"instanceArgs\":{\"namespace\":\"html\",\"tag\":\"label\"},\"children\":[\"Spline4 Amplitude\"]}]},{\"props\":{\"className\":\"interact-flex-row-center\"},\"nodeType\":\"DOM\",\"type\":\"node\",\"instanceArgs\":{\"namespace\":\"html\",\"tag\":\"div\"},\"children\":[{\"props\":{\"max\":101,\"min\":1,\"attributes\":{\"type\":\"range\",\"data-bind\":\"numericValue: index, valueUpdate: 'input', event: {change: function (){this.changes(this.changes()+1)}}\",\"orient\":\"horizontal\"},\"step\":1,\"className\":\"slider slider is-fullwidth\",\"style\":{}},\"nodeType\":\"DOM\",\"type\":\"node\",\"instanceArgs\":{\"namespace\":\"html\",\"tag\":\"input\"},\"children\":[]}]},{\"props\":{\"className\":\"interact-flex-row-right\"},\"nodeType\":\"DOM\",\"type\":\"node\",\"instanceArgs\":{\"namespace\":\"html\",\"tag\":\"div\"},\"children\":[{\"props\":{\"attributes\":{\"data-bind\":\"text: formatted_val\"}},\"nodeType\":\"DOM\",\"type\":\"node\",\"instanceArgs\":{\"namespace\":\"html\",\"tag\":\"p\"},\"children\":[]}]}]}]}]},{\"props\":{},\"nodeType\":\"Scope\",\"type\":\"node\",\"instanceArgs\":{\"imports\":{\"data\":[],\"type\":\"async_block\"},\"id\":\"14163140386863540252\",\"handlers\":{},\"systemjs_options\":null,\"mount_callbacks\":[],\"observables\":{\"obs-node\":{\"sync\":false,\"id\":\"ob_171\",\"value\":{\"props\":{\"className\":\"interact-flex-row interact-widget\"},\"nodeType\":\"DOM\",\"type\":\"node\",\"instanceArgs\":{\"namespace\":\"html\",\"tag\":\"div\"},\"children\":[\"\"]}}}},\"children\":[{\"props\":{},\"nodeType\":\"ObservableNode\",\"type\":\"node\",\"instanceArgs\":{\"id\":\"ob_171\",\"name\":\"obs-node\"},\"children\":[]}]}]},\n",
       "            window,\n",
       "        );\n",
       "    } else {\n",
       "        document\n",
       "            .querySelector('[data-webio-mountpoint=\"5395634127901615579\"]')\n",
       "            .innerHTML = (\n",
       "                '<div style=\"padding: 1em; background-color: #f8d6da; border: 1px solid #f5c6cb\">' +\n",
       "                '<p><strong>WebIO not detected.</strong></p>' +\n",
       "                '<p>Please read ' +\n",
       "                '<a href=\"https://juliagizmos.github.io/WebIO.jl/latest/troubleshooting/not-detected/\" target=\"_blank\">the troubleshooting guide</a> ' +\n",
       "                'for more information on how to resolve this issue.</p>' +\n",
       "                '<p><a href=\"https://juliagizmos.github.io/WebIO.jl/latest/troubleshooting/not-detected/\" target=\"_blank\">https://juliagizmos.github.io/WebIO.jl/latest/troubleshooting/not-detected/</a></p>' +\n",
       "                '</div>'\n",
       "            );\n",
       "    }\n",
       "    </script>\n",
       "</div>\n"
      ],
      "text/plain": [
       "Node{WebIO.DOM}(WebIO.DOM(:html, :div), Any[Node{WebIO.DOM}(WebIO.DOM(:html, :div), Any[Scope(Node{WebIO.DOM}(WebIO.DOM(:html, :div), Any[Node{WebIO.DOM}(WebIO.DOM(:html, :div), Any[Node{WebIO.DOM}(WebIO.DOM(:html, :label), Any[\"Spline1 Amplitude\"], Dict{Symbol,Any}(:className => \"interact \",:style => Dict{Any,Any}(:padding => \"5px 10px 0px 10px\")))], Dict{Symbol,Any}(:className => \"interact-flex-row-left\")), Node{WebIO.DOM}(WebIO.DOM(:html, :div), Any[Node{WebIO.DOM}(WebIO.DOM(:html, :input), Any[], Dict{Symbol,Any}(:max => 101,:min => 1,:attributes => Dict{Any,Any}(:type => \"range\",Symbol(\"data-bind\") => \"numericValue: index, valueUpdate: 'input', event: {change: function (){this.changes(this.changes()+1)}}\",\"orient\" => \"horizontal\"),:step => 1,:className => \"slider slider is-fullwidth\",:style => Dict{Any,Any}()))], Dict{Symbol,Any}(:className => \"interact-flex-row-center\")), Node{WebIO.DOM}(WebIO.DOM(:html, :div), Any[Node{WebIO.DOM}(WebIO.DOM(:html, :p), Any[], Dict{Symbol,Any}(:attributes => Dict(\"data-bind\" => \"text: formatted_val\")))], Dict{Symbol,Any}(:className => \"interact-flex-row-right\"))], Dict{Symbol,Any}(:className => \"interact-flex-row interact-widget\")), Dict{String,Tuple{Observables.AbstractObservable,Union{Nothing, Bool}}}(\"changes\" => (Observable{Int64} with 1 listeners. Value:\n",
       "0, nothing),\"index\" => (Observable{Any} with 2 listeners. Value:\n",
       "51, nothing)), Set(String[]), nothing, Asset[Asset(\"js\", \"knockout\", \"C:\\\\Users\\\\iicpe\\\\.julia\\\\packages\\\\Knockout\\\\IP1uR\\\\src\\\\..\\\\assets\\\\knockout.js\"), Asset(\"js\", \"knockout_punches\", \"C:\\\\Users\\\\iicpe\\\\.julia\\\\packages\\\\Knockout\\\\IP1uR\\\\src\\\\..\\\\assets\\\\knockout_punches.js\"), Asset(\"js\", nothing, \"C:\\\\Users\\\\iicpe\\\\.julia\\\\packages\\\\InteractBase\\\\9mFwe\\\\src\\\\..\\\\assets\\\\all.js\"), Asset(\"css\", nothing, \"C:\\\\Users\\\\iicpe\\\\.julia\\\\packages\\\\InteractBase\\\\9mFwe\\\\src\\\\..\\\\assets\\\\style.css\"), Asset(\"css\", nothing, \"C:\\\\Users\\\\iicpe\\\\.julia\\\\packages\\\\Interact\\\\SbgIk\\\\src\\\\..\\\\assets\\\\bulma_confined.min.css\")], Dict{Any,Any}(\"changes\" => Any[WebIO.JSString(\"(function (val){return (val!=this.model[\\\"changes\\\"]()) ? (this.valueFromJulia[\\\"changes\\\"]=true, this.model[\\\"changes\\\"](val)) : undefined})\")],\"index\" => Any[WebIO.JSString(\"(function (val){return (val!=this.model[\\\"index\\\"]()) ? (this.valueFromJulia[\\\"index\\\"]=true, this.model[\\\"index\\\"](val)) : undefined})\")]), WebIO.ConnectionPool(Channel{Any}(sz_max:32,sz_curr:0), Set(AbstractConnection[]), Base.GenericCondition{Base.AlwaysLockedST}(Base.InvasiveLinkedList{Task}(Task (runnable) @0x0000000032269cd0, Task (runnable) @0x0000000032269cd0), Base.AlwaysLockedST(1))), WebIO.JSString[WebIO.JSString(\"function () {\\n    var handler = (function (ko, koPunches) {\\n    ko.punches.enableAll();\\n    ko.bindingHandlers.numericValue = {\\n        init: function(element, valueAccessor, allBindings, data, context) {\\n            var stringified = ko.observable(ko.unwrap(valueAccessor()));\\n            stringified.subscribe(function(value) {\\n                var val = parseFloat(value);\\n                if (!isNaN(val)) {\\n                    valueAccessor()(val);\\n                }\\n            });\\n            valueAccessor().subscribe(function(value) {\\n                var str = JSON.stringify(value);\\n                if ((str == \\\"0\\\") && ([\\\"-0\\\", \\\"-0.\\\"].indexOf(stringified()) >= 0))\\n                     return;\\n                 if ([\\\"null\\\", \\\"\\\"].indexOf(str) >= 0)\\n                     return;\\n                stringified(str);\\n            });\\n            ko.applyBindingsToNode(\\n                element,\\n                {\\n                    value: stringified,\\n                    valueUpdate: allBindings.get('valueUpdate'),\\n                },\\n                context,\\n            );\\n        }\\n    };\\n    var json_data = {\\\"formatted_vals\\\":[\\\"0.0\\\",\\\"0.01\\\",\\\"0.02\\\",\\\"0.03\\\",\\\"0.04\\\",\\\"0.05\\\",\\\"0.06\\\",\\\"0.07\\\",\\\"0.08\\\",\\\"0.09\\\",\\\"0.1\\\",\\\"0.11\\\",\\\"0.12\\\",\\\"0.13\\\",\\\"0.14\\\",\\\"0.15\\\",\\\"0.16\\\",\\\"0.17\\\",\\\"0.18\\\",\\\"0.19\\\",\\\"0.2\\\",\\\"0.21\\\",\\\"0.22\\\",\\\"0.23\\\",\\\"0.24\\\",\\\"0.25\\\",\\\"0.26\\\",\\\"0.27\\\",\\\"0.28\\\",\\\"0.29\\\",\\\"0.3\\\",\\\"0.31\\\",\\\"0.32\\\",\\\"0.33\\\",\\\"0.34\\\",\\\"0.35\\\",\\\"0.36\\\",\\\"0.37\\\",\\\"0.38\\\",\\\"0.39\\\",\\\"0.4\\\",\\\"0.41\\\",\\\"0.42\\\",\\\"0.43\\\",\\\"0.44\\\",\\\"0.45\\\",\\\"0.46\\\",\\\"0.47\\\",\\\"0.48\\\",\\\"0.49\\\",\\\"0.5\\\",\\\"0.51\\\",\\\"0.52\\\",\\\"0.53\\\",\\\"0.54\\\",\\\"0.55\\\",\\\"0.56\\\",\\\"0.57\\\",\\\"0.58\\\",\\\"0.59\\\",\\\"0.6\\\",\\\"0.61\\\",\\\"0.62\\\",\\\"0.63\\\",\\\"0.64\\\",\\\"0.65\\\",\\\"0.66\\\",\\\"0.67\\\",\\\"0.68\\\",\\\"0.69\\\",\\\"0.7\\\",\\\"0.71\\\",\\\"0.72\\\",\\\"0.73\\\",\\\"0.74\\\",\\\"0.75\\\",\\\"0.76\\\",\\\"0.77\\\",\\\"0.78\\\",\\\"0.79\\\",\\\"0.8\\\",\\\"0.81\\\",\\\"0.82\\\",\\\"0.83\\\",\\\"0.84\\\",\\\"0.85\\\",\\\"0.86\\\",\\\"0.87\\\",\\\"0.88\\\",\\\"0.89\\\",\\\"0.9\\\",\\\"0.91\\\",\\\"0.92\\\",\\\"0.93\\\",\\\"0.94\\\",\\\"0.95\\\",\\\"0.96\\\",\\\"0.97\\\",\\\"0.98\\\",\\\"0.99\\\",\\\"1.0\\\"],\\\"changes\\\":WebIO.getval({\\\"name\\\":\\\"changes\\\",\\\"scope\\\":\\\"10163475739325989635\\\",\\\"id\\\":\\\"ob_148\\\",\\\"type\\\":\\\"observable\\\"}),\\\"index\\\":WebIO.getval({\\\"name\\\":\\\"index\\\",\\\"scope\\\":\\\"10163475739325989635\\\",\\\"id\\\":\\\"ob_147\\\",\\\"type\\\":\\\"observable\\\"})};\\n    var self = this;\\n    function AppViewModel() {\\n        for (var key in json_data) {\\n            var el = json_data[key];\\n            this[key] = Array.isArray(el) ? ko.observableArray(el) : ko.observable(el);\\n        }\\n        \\n        [this[\\\"formatted_val\\\"]=ko.computed(    function(){\\n        return this.formatted_vals()[parseInt(this.index())-(1)];\\n    }\\n,this)]\\n        [this[\\\"changes\\\"].subscribe((function (val){!(this.valueFromJulia[\\\"changes\\\"]) ? (WebIO.setval({\\\"name\\\":\\\"changes\\\",\\\"scope\\\":\\\"10163475739325989635\\\",\\\"id\\\":\\\"ob_148\\\",\\\"type\\\":\\\"observable\\\"},val)) : undefined; return this.valueFromJulia[\\\"changes\\\"]=false}),self),this[\\\"index\\\"].subscribe((function (val){!(this.valueFromJulia[\\\"index\\\"]) ? (WebIO.setval({\\\"name\\\":\\\"index\\\",\\\"scope\\\":\\\"10163475739325989635\\\",\\\"id\\\":\\\"ob_147\\\",\\\"type\\\":\\\"observable\\\"},val)) : undefined; return this.valueFromJulia[\\\"index\\\"]=false}),self)]\\n        \\n    }\\n    self.model = new AppViewModel();\\n    self.valueFromJulia = {};\\n    for (var key in json_data) {\\n        self.valueFromJulia[key] = false;\\n    }\\n    ko.applyBindings(self.model, self.dom);\\n}\\n);\\n    (WebIO.importBlock({\\\"data\\\":[{\\\"name\\\":\\\"knockout\\\",\\\"type\\\":\\\"js\\\",\\\"url\\\":\\\"/assetserver/41a273c89bcce599ea619ceead1fb1eecdca6622-knockout.js\\\"},{\\\"name\\\":\\\"knockout_punches\\\",\\\"type\\\":\\\"js\\\",\\\"url\\\":\\\"/assetserver/32c9c9f4cf2c3726fd5071a28032a60ac6bba4af-knockout_punches.js\\\"}],\\\"type\\\":\\\"async_block\\\"})).then((imports) => handler.apply(this, imports));\\n}\\n\")])], Dict{Symbol,Any}(:className => \"field interact-widget\")), Node{WebIO.DOM}(WebIO.DOM(:html, :div), Any[Scope(Node{WebIO.DOM}(WebIO.DOM(:html, :div), Any[Node{WebIO.DOM}(WebIO.DOM(:html, :div), Any[Node{WebIO.DOM}(WebIO.DOM(:html, :label), Any[\"Spline2 Amplitude\"], Dict{Symbol,Any}(:className => \"interact \",:style => Dict{Any,Any}(:padding => \"5px 10px 0px 10px\")))], Dict{Symbol,Any}(:className => \"interact-flex-row-left\")), Node{WebIO.DOM}(WebIO.DOM(:html, :div), Any[Node{WebIO.DOM}(WebIO.DOM(:html, :input), Any[], Dict{Symbol,Any}(:max => 101,:min => 1,:attributes => Dict{Any,Any}(:type => \"range\",Symbol(\"data-bind\") => \"numericValue: index, valueUpdate: 'input', event: {change: function (){this.changes(this.changes()+1)}}\",\"orient\" => \"horizontal\"),:step => 1,:className => \"slider slider is-fullwidth\",:style => Dict{Any,Any}()))], Dict{Symbol,Any}(:className => \"interact-flex-row-center\")), Node{WebIO.DOM}(WebIO.DOM(:html, :div), Any[Node{WebIO.DOM}(WebIO.DOM(:html, :p), Any[], Dict{Symbol,Any}(:attributes => Dict(\"data-bind\" => \"text: formatted_val\")))], Dict{Symbol,Any}(:className => \"interact-flex-row-right\"))], Dict{Symbol,Any}(:className => \"interact-flex-row interact-widget\")), Dict{String,Tuple{Observables.AbstractObservable,Union{Nothing, Bool}}}(\"changes\" => (Observable{Int64} with 1 listeners. Value:\n",
       "0, nothing),\"index\" => (Observable{Any} with 2 listeners. Value:\n",
       "51, nothing)), Set(String[]), nothing, Asset[Asset(\"js\", \"knockout\", \"C:\\\\Users\\\\iicpe\\\\.julia\\\\packages\\\\Knockout\\\\IP1uR\\\\src\\\\..\\\\assets\\\\knockout.js\"), Asset(\"js\", \"knockout_punches\", \"C:\\\\Users\\\\iicpe\\\\.julia\\\\packages\\\\Knockout\\\\IP1uR\\\\src\\\\..\\\\assets\\\\knockout_punches.js\"), Asset(\"js\", nothing, \"C:\\\\Users\\\\iicpe\\\\.julia\\\\packages\\\\InteractBase\\\\9mFwe\\\\src\\\\..\\\\assets\\\\all.js\"), Asset(\"css\", nothing, \"C:\\\\Users\\\\iicpe\\\\.julia\\\\packages\\\\InteractBase\\\\9mFwe\\\\src\\\\..\\\\assets\\\\style.css\"), Asset(\"css\", nothing, \"C:\\\\Users\\\\iicpe\\\\.julia\\\\packages\\\\Interact\\\\SbgIk\\\\src\\\\..\\\\assets\\\\bulma_confined.min.css\")], Dict{Any,Any}(\"changes\" => Any[WebIO.JSString(\"(function (val){return (val!=this.model[\\\"changes\\\"]()) ? (this.valueFromJulia[\\\"changes\\\"]=true, this.model[\\\"changes\\\"](val)) : undefined})\")],\"index\" => Any[WebIO.JSString(\"(function (val){return (val!=this.model[\\\"index\\\"]()) ? (this.valueFromJulia[\\\"index\\\"]=true, this.model[\\\"index\\\"](val)) : undefined})\")]), WebIO.ConnectionPool(Channel{Any}(sz_max:32,sz_curr:0), Set(AbstractConnection[]), Base.GenericCondition{Base.AlwaysLockedST}(Base.InvasiveLinkedList{Task}(Task (runnable) @0x0000000032269fb0, Task (runnable) @0x0000000032269fb0), Base.AlwaysLockedST(1))), WebIO.JSString[WebIO.JSString(\"function () {\\n    var handler = (function (ko, koPunches) {\\n    ko.punches.enableAll();\\n    ko.bindingHandlers.numericValue = {\\n        init: function(element, valueAccessor, allBindings, data, context) {\\n            var stringified = ko.observable(ko.unwrap(valueAccessor()));\\n            stringified.subscribe(function(value) {\\n                var val = parseFloat(value);\\n                if (!isNaN(val)) {\\n                    valueAccessor()(val);\\n                }\\n            });\\n            valueAccessor().subscribe(function(value) {\\n                var str = JSON.stringify(value);\\n                if ((str == \\\"0\\\") && ([\\\"-0\\\", \\\"-0.\\\"].indexOf(stringified()) >= 0))\\n                     return;\\n                 if ([\\\"null\\\", \\\"\\\"].indexOf(str) >= 0)\\n                     return;\\n                stringified(str);\\n            });\\n            ko.applyBindingsToNode(\\n                element,\\n                {\\n                    value: stringified,\\n                    valueUpdate: allBindings.get('valueUpdate'),\\n                },\\n                context,\\n            );\\n        }\\n    };\\n    var json_data = {\\\"formatted_vals\\\":[\\\"0.0\\\",\\\"0.01\\\",\\\"0.02\\\",\\\"0.03\\\",\\\"0.04\\\",\\\"0.05\\\",\\\"0.06\\\",\\\"0.07\\\",\\\"0.08\\\",\\\"0.09\\\",\\\"0.1\\\",\\\"0.11\\\",\\\"0.12\\\",\\\"0.13\\\",\\\"0.14\\\",\\\"0.15\\\",\\\"0.16\\\",\\\"0.17\\\",\\\"0.18\\\",\\\"0.19\\\",\\\"0.2\\\",\\\"0.21\\\",\\\"0.22\\\",\\\"0.23\\\",\\\"0.24\\\",\\\"0.25\\\",\\\"0.26\\\",\\\"0.27\\\",\\\"0.28\\\",\\\"0.29\\\",\\\"0.3\\\",\\\"0.31\\\",\\\"0.32\\\",\\\"0.33\\\",\\\"0.34\\\",\\\"0.35\\\",\\\"0.36\\\",\\\"0.37\\\",\\\"0.38\\\",\\\"0.39\\\",\\\"0.4\\\",\\\"0.41\\\",\\\"0.42\\\",\\\"0.43\\\",\\\"0.44\\\",\\\"0.45\\\",\\\"0.46\\\",\\\"0.47\\\",\\\"0.48\\\",\\\"0.49\\\",\\\"0.5\\\",\\\"0.51\\\",\\\"0.52\\\",\\\"0.53\\\",\\\"0.54\\\",\\\"0.55\\\",\\\"0.56\\\",\\\"0.57\\\",\\\"0.58\\\",\\\"0.59\\\",\\\"0.6\\\",\\\"0.61\\\",\\\"0.62\\\",\\\"0.63\\\",\\\"0.64\\\",\\\"0.65\\\",\\\"0.66\\\",\\\"0.67\\\",\\\"0.68\\\",\\\"0.69\\\",\\\"0.7\\\",\\\"0.71\\\",\\\"0.72\\\",\\\"0.73\\\",\\\"0.74\\\",\\\"0.75\\\",\\\"0.76\\\",\\\"0.77\\\",\\\"0.78\\\",\\\"0.79\\\",\\\"0.8\\\",\\\"0.81\\\",\\\"0.82\\\",\\\"0.83\\\",\\\"0.84\\\",\\\"0.85\\\",\\\"0.86\\\",\\\"0.87\\\",\\\"0.88\\\",\\\"0.89\\\",\\\"0.9\\\",\\\"0.91\\\",\\\"0.92\\\",\\\"0.93\\\",\\\"0.94\\\",\\\"0.95\\\",\\\"0.96\\\",\\\"0.97\\\",\\\"0.98\\\",\\\"0.99\\\",\\\"1.0\\\"],\\\"changes\\\":WebIO.getval({\\\"name\\\":\\\"changes\\\",\\\"scope\\\":\\\"4611191201882615799\\\",\\\"id\\\":\\\"ob_151\\\",\\\"type\\\":\\\"observable\\\"}),\\\"index\\\":WebIO.getval({\\\"name\\\":\\\"index\\\",\\\"scope\\\":\\\"4611191201882615799\\\",\\\"id\\\":\\\"ob_150\\\",\\\"type\\\":\\\"observable\\\"})};\\n    var self = this;\\n    function AppViewModel() {\\n        for (var key in json_data) {\\n            var el = json_data[key];\\n            this[key] = Array.isArray(el) ? ko.observableArray(el) : ko.observable(el);\\n        }\\n        \\n        [this[\\\"formatted_val\\\"]=ko.computed(    function(){\\n        return this.formatted_vals()[parseInt(this.index())-(1)];\\n    }\\n,this)]\\n        [this[\\\"changes\\\"].subscribe((function (val){!(this.valueFromJulia[\\\"changes\\\"]) ? (WebIO.setval({\\\"name\\\":\\\"changes\\\",\\\"scope\\\":\\\"4611191201882615799\\\",\\\"id\\\":\\\"ob_151\\\",\\\"type\\\":\\\"observable\\\"},val)) : undefined; return this.valueFromJulia[\\\"changes\\\"]=false}),self),this[\\\"index\\\"].subscribe((function (val){!(this.valueFromJulia[\\\"index\\\"]) ? (WebIO.setval({\\\"name\\\":\\\"index\\\",\\\"scope\\\":\\\"4611191201882615799\\\",\\\"id\\\":\\\"ob_150\\\",\\\"type\\\":\\\"observable\\\"},val)) : undefined; return this.valueFromJulia[\\\"index\\\"]=false}),self)]\\n        \\n    }\\n    self.model = new AppViewModel();\\n    self.valueFromJulia = {};\\n    for (var key in json_data) {\\n        self.valueFromJulia[key] = false;\\n    }\\n    ko.applyBindings(self.model, self.dom);\\n}\\n);\\n    (WebIO.importBlock({\\\"data\\\":[{\\\"name\\\":\\\"knockout\\\",\\\"type\\\":\\\"js\\\",\\\"url\\\":\\\"/assetserver/41a273c89bcce599ea619ceead1fb1eecdca6622-knockout.js\\\"},{\\\"name\\\":\\\"knockout_punches\\\",\\\"type\\\":\\\"js\\\",\\\"url\\\":\\\"/assetserver/32c9c9f4cf2c3726fd5071a28032a60ac6bba4af-knockout_punches.js\\\"}],\\\"type\\\":\\\"async_block\\\"})).then((imports) => handler.apply(this, imports));\\n}\\n\")])], Dict{Symbol,Any}(:className => \"field interact-widget\")), Node{WebIO.DOM}(WebIO.DOM(:html, :div), Any[Scope(Node{WebIO.DOM}(WebIO.DOM(:html, :div), Any[Node{WebIO.DOM}(WebIO.DOM(:html, :div), Any[Node{WebIO.DOM}(WebIO.DOM(:html, :label), Any[\"Spline3 Amplitude\"], Dict{Symbol,Any}(:className => \"interact \",:style => Dict{Any,Any}(:padding => \"5px 10px 0px 10px\")))], Dict{Symbol,Any}(:className => \"interact-flex-row-left\")), Node{WebIO.DOM}(WebIO.DOM(:html, :div), Any[Node{WebIO.DOM}(WebIO.DOM(:html, :input), Any[], Dict{Symbol,Any}(:max => 101,:min => 1,:attributes => Dict{Any,Any}(:type => \"range\",Symbol(\"data-bind\") => \"numericValue: index, valueUpdate: 'input', event: {change: function (){this.changes(this.changes()+1)}}\",\"orient\" => \"horizontal\"),:step => 1,:className => \"slider slider is-fullwidth\",:style => Dict{Any,Any}()))], Dict{Symbol,Any}(:className => \"interact-flex-row-center\")), Node{WebIO.DOM}(WebIO.DOM(:html, :div), Any[Node{WebIO.DOM}(WebIO.DOM(:html, :p), Any[], Dict{Symbol,Any}(:attributes => Dict(\"data-bind\" => \"text: formatted_val\")))], Dict{Symbol,Any}(:className => \"interact-flex-row-right\"))], Dict{Symbol,Any}(:className => \"interact-flex-row interact-widget\")), Dict{String,Tuple{Observables.AbstractObservable,Union{Nothing, Bool}}}(\"changes\" => (Observable{Int64} with 1 listeners. Value:\n",
       "0, nothing),\"index\" => (Observable{Any} with 2 listeners. Value:\n",
       "51, nothing)), Set(String[]), nothing, Asset[Asset(\"js\", \"knockout\", \"C:\\\\Users\\\\iicpe\\\\.julia\\\\packages\\\\Knockout\\\\IP1uR\\\\src\\\\..\\\\assets\\\\knockout.js\"), Asset(\"js\", \"knockout_punches\", \"C:\\\\Users\\\\iicpe\\\\.julia\\\\packages\\\\Knockout\\\\IP1uR\\\\src\\\\..\\\\assets\\\\knockout_punches.js\"), Asset(\"js\", nothing, \"C:\\\\Users\\\\iicpe\\\\.julia\\\\packages\\\\InteractBase\\\\9mFwe\\\\src\\\\..\\\\assets\\\\all.js\"), Asset(\"css\", nothing, \"C:\\\\Users\\\\iicpe\\\\.julia\\\\packages\\\\InteractBase\\\\9mFwe\\\\src\\\\..\\\\assets\\\\style.css\"), Asset(\"css\", nothing, \"C:\\\\Users\\\\iicpe\\\\.julia\\\\packages\\\\Interact\\\\SbgIk\\\\src\\\\..\\\\assets\\\\bulma_confined.min.css\")], Dict{Any,Any}(\"changes\" => Any[WebIO.JSString(\"(function (val){return (val!=this.model[\\\"changes\\\"]()) ? (this.valueFromJulia[\\\"changes\\\"]=true, this.model[\\\"changes\\\"](val)) : undefined})\")],\"index\" => Any[WebIO.JSString(\"(function (val){return (val!=this.model[\\\"index\\\"]()) ? (this.valueFromJulia[\\\"index\\\"]=true, this.model[\\\"index\\\"](val)) : undefined})\")]), WebIO.ConnectionPool(Channel{Any}(sz_max:32,sz_curr:0), Set(AbstractConnection[]), Base.GenericCondition{Base.AlwaysLockedST}(Base.InvasiveLinkedList{Task}(Task (runnable) @0x000000003226a290, Task (runnable) @0x000000003226a290), Base.AlwaysLockedST(1))), WebIO.JSString[WebIO.JSString(\"function () {\\n    var handler = (function (ko, koPunches) {\\n    ko.punches.enableAll();\\n    ko.bindingHandlers.numericValue = {\\n        init: function(element, valueAccessor, allBindings, data, context) {\\n            var stringified = ko.observable(ko.unwrap(valueAccessor()));\\n            stringified.subscribe(function(value) {\\n                var val = parseFloat(value);\\n                if (!isNaN(val)) {\\n                    valueAccessor()(val);\\n                }\\n            });\\n            valueAccessor().subscribe(function(value) {\\n                var str = JSON.stringify(value);\\n                if ((str == \\\"0\\\") && ([\\\"-0\\\", \\\"-0.\\\"].indexOf(stringified()) >= 0))\\n                     return;\\n                 if ([\\\"null\\\", \\\"\\\"].indexOf(str) >= 0)\\n                     return;\\n                stringified(str);\\n            });\\n            ko.applyBindingsToNode(\\n                element,\\n                {\\n                    value: stringified,\\n                    valueUpdate: allBindings.get('valueUpdate'),\\n                },\\n                context,\\n            );\\n        }\\n    };\\n    var json_data = {\\\"formatted_vals\\\":[\\\"0.0\\\",\\\"0.01\\\",\\\"0.02\\\",\\\"0.03\\\",\\\"0.04\\\",\\\"0.05\\\",\\\"0.06\\\",\\\"0.07\\\",\\\"0.08\\\",\\\"0.09\\\",\\\"0.1\\\",\\\"0.11\\\",\\\"0.12\\\",\\\"0.13\\\",\\\"0.14\\\",\\\"0.15\\\",\\\"0.16\\\",\\\"0.17\\\",\\\"0.18\\\",\\\"0.19\\\",\\\"0.2\\\",\\\"0.21\\\",\\\"0.22\\\",\\\"0.23\\\",\\\"0.24\\\",\\\"0.25\\\",\\\"0.26\\\",\\\"0.27\\\",\\\"0.28\\\",\\\"0.29\\\",\\\"0.3\\\",\\\"0.31\\\",\\\"0.32\\\",\\\"0.33\\\",\\\"0.34\\\",\\\"0.35\\\",\\\"0.36\\\",\\\"0.37\\\",\\\"0.38\\\",\\\"0.39\\\",\\\"0.4\\\",\\\"0.41\\\",\\\"0.42\\\",\\\"0.43\\\",\\\"0.44\\\",\\\"0.45\\\",\\\"0.46\\\",\\\"0.47\\\",\\\"0.48\\\",\\\"0.49\\\",\\\"0.5\\\",\\\"0.51\\\",\\\"0.52\\\",\\\"0.53\\\",\\\"0.54\\\",\\\"0.55\\\",\\\"0.56\\\",\\\"0.57\\\",\\\"0.58\\\",\\\"0.59\\\",\\\"0.6\\\",\\\"0.61\\\",\\\"0.62\\\",\\\"0.63\\\",\\\"0.64\\\",\\\"0.65\\\",\\\"0.66\\\",\\\"0.67\\\",\\\"0.68\\\",\\\"0.69\\\",\\\"0.7\\\",\\\"0.71\\\",\\\"0.72\\\",\\\"0.73\\\",\\\"0.74\\\",\\\"0.75\\\",\\\"0.76\\\",\\\"0.77\\\",\\\"0.78\\\",\\\"0.79\\\",\\\"0.8\\\",\\\"0.81\\\",\\\"0.82\\\",\\\"0.83\\\",\\\"0.84\\\",\\\"0.85\\\",\\\"0.86\\\",\\\"0.87\\\",\\\"0.88\\\",\\\"0.89\\\",\\\"0.9\\\",\\\"0.91\\\",\\\"0.92\\\",\\\"0.93\\\",\\\"0.94\\\",\\\"0.95\\\",\\\"0.96\\\",\\\"0.97\\\",\\\"0.98\\\",\\\"0.99\\\",\\\"1.0\\\"],\\\"changes\\\":WebIO.getval({\\\"name\\\":\\\"changes\\\",\\\"scope\\\":\\\"8388785747026809205\\\",\\\"id\\\":\\\"ob_154\\\",\\\"type\\\":\\\"observable\\\"}),\\\"index\\\":WebIO.getval({\\\"name\\\":\\\"index\\\",\\\"scope\\\":\\\"8388785747026809205\\\",\\\"id\\\":\\\"ob_153\\\",\\\"type\\\":\\\"observable\\\"})};\\n    var self = this;\\n    function AppViewModel() {\\n        for (var key in json_data) {\\n            var el = json_data[key];\\n            this[key] = Array.isArray(el) ? ko.observableArray(el) : ko.observable(el);\\n        }\\n        \\n        [this[\\\"formatted_val\\\"]=ko.computed(    function(){\\n        return this.formatted_vals()[parseInt(this.index())-(1)];\\n    }\\n,this)]\\n        [this[\\\"changes\\\"].subscribe((function (val){!(this.valueFromJulia[\\\"changes\\\"]) ? (WebIO.setval({\\\"name\\\":\\\"changes\\\",\\\"scope\\\":\\\"8388785747026809205\\\",\\\"id\\\":\\\"ob_154\\\",\\\"type\\\":\\\"observable\\\"},val)) : undefined; return this.valueFromJulia[\\\"changes\\\"]=false}),self),this[\\\"index\\\"].subscribe((function (val){!(this.valueFromJulia[\\\"index\\\"]) ? (WebIO.setval({\\\"name\\\":\\\"index\\\",\\\"scope\\\":\\\"8388785747026809205\\\",\\\"id\\\":\\\"ob_153\\\",\\\"type\\\":\\\"observable\\\"},val)) : undefined; return this.valueFromJulia[\\\"index\\\"]=false}),self)]\\n        \\n    }\\n    self.model = new AppViewModel();\\n    self.valueFromJulia = {};\\n    for (var key in json_data) {\\n        self.valueFromJulia[key] = false;\\n    }\\n    ko.applyBindings(self.model, self.dom);\\n}\\n);\\n    (WebIO.importBlock({\\\"data\\\":[{\\\"name\\\":\\\"knockout\\\",\\\"type\\\":\\\"js\\\",\\\"url\\\":\\\"/assetserver/41a273c89bcce599ea619ceead1fb1eecdca6622-knockout.js\\\"},{\\\"name\\\":\\\"knockout_punches\\\",\\\"type\\\":\\\"js\\\",\\\"url\\\":\\\"/assetserver/32c9c9f4cf2c3726fd5071a28032a60ac6bba4af-knockout_punches.js\\\"}],\\\"type\\\":\\\"async_block\\\"})).then((imports) => handler.apply(this, imports));\\n}\\n\")])], Dict{Symbol,Any}(:className => \"field interact-widget\")), Node{WebIO.DOM}(WebIO.DOM(:html, :div), Any[Scope(Node{WebIO.DOM}(WebIO.DOM(:html, :div), Any[Node{WebIO.DOM}(WebIO.DOM(:html, :div), Any[Node{WebIO.DOM}(WebIO.DOM(:html, :label), Any[\"Spline4 Amplitude\"], Dict{Symbol,Any}(:className => \"interact \",:style => Dict{Any,Any}(:padding => \"5px 10px 0px 10px\")))], Dict{Symbol,Any}(:className => \"interact-flex-row-left\")), Node{WebIO.DOM}(WebIO.DOM(:html, :div), Any[Node{WebIO.DOM}(WebIO.DOM(:html, :input), Any[], Dict{Symbol,Any}(:max => 101,:min => 1,:attributes => Dict{Any,Any}(:type => \"range\",Symbol(\"data-bind\") => \"numericValue: index, valueUpdate: 'input', event: {change: function (){this.changes(this.changes()+1)}}\",\"orient\" => \"horizontal\"),:step => 1,:className => \"slider slider is-fullwidth\",:style => Dict{Any,Any}()))], Dict{Symbol,Any}(:className => \"interact-flex-row-center\")), Node{WebIO.DOM}(WebIO.DOM(:html, :div), Any[Node{WebIO.DOM}(WebIO.DOM(:html, :p), Any[], Dict{Symbol,Any}(:attributes => Dict(\"data-bind\" => \"text: formatted_val\")))], Dict{Symbol,Any}(:className => \"interact-flex-row-right\"))], Dict{Symbol,Any}(:className => \"interact-flex-row interact-widget\")), Dict{String,Tuple{Observables.AbstractObservable,Union{Nothing, Bool}}}(\"changes\" => (Observable{Int64} with 1 listeners. Value:\n",
       "0, nothing),\"index\" => (Observable{Any} with 2 listeners. Value:\n",
       "51, nothing)), Set(String[]), nothing, Asset[Asset(\"js\", \"knockout\", \"C:\\\\Users\\\\iicpe\\\\.julia\\\\packages\\\\Knockout\\\\IP1uR\\\\src\\\\..\\\\assets\\\\knockout.js\"), Asset(\"js\", \"knockout_punches\", \"C:\\\\Users\\\\iicpe\\\\.julia\\\\packages\\\\Knockout\\\\IP1uR\\\\src\\\\..\\\\assets\\\\knockout_punches.js\"), Asset(\"js\", nothing, \"C:\\\\Users\\\\iicpe\\\\.julia\\\\packages\\\\InteractBase\\\\9mFwe\\\\src\\\\..\\\\assets\\\\all.js\"), Asset(\"css\", nothing, \"C:\\\\Users\\\\iicpe\\\\.julia\\\\packages\\\\InteractBase\\\\9mFwe\\\\src\\\\..\\\\assets\\\\style.css\"), Asset(\"css\", nothing, \"C:\\\\Users\\\\iicpe\\\\.julia\\\\packages\\\\Interact\\\\SbgIk\\\\src\\\\..\\\\assets\\\\bulma_confined.min.css\")], Dict{Any,Any}(\"changes\" => Any[WebIO.JSString(\"(function (val){return (val!=this.model[\\\"changes\\\"]()) ? (this.valueFromJulia[\\\"changes\\\"]=true, this.model[\\\"changes\\\"](val)) : undefined})\")],\"index\" => Any[WebIO.JSString(\"(function (val){return (val!=this.model[\\\"index\\\"]()) ? (this.valueFromJulia[\\\"index\\\"]=true, this.model[\\\"index\\\"](val)) : undefined})\")]), WebIO.ConnectionPool(Channel{Any}(sz_max:32,sz_curr:0), Set(AbstractConnection[]), Base.GenericCondition{Base.AlwaysLockedST}(Base.InvasiveLinkedList{Task}(Task (runnable) @0x000000003226a570, Task (runnable) @0x000000003226a570), Base.AlwaysLockedST(1))), WebIO.JSString[WebIO.JSString(\"function () {\\n    var handler = (function (ko, koPunches) {\\n    ko.punches.enableAll();\\n    ko.bindingHandlers.numericValue = {\\n        init: function(element, valueAccessor, allBindings, data, context) {\\n            var stringified = ko.observable(ko.unwrap(valueAccessor()));\\n            stringified.subscribe(function(value) {\\n                var val = parseFloat(value);\\n                if (!isNaN(val)) {\\n                    valueAccessor()(val);\\n                }\\n            });\\n            valueAccessor().subscribe(function(value) {\\n                var str = JSON.stringify(value);\\n                if ((str == \\\"0\\\") && ([\\\"-0\\\", \\\"-0.\\\"].indexOf(stringified()) >= 0))\\n                     return;\\n                 if ([\\\"null\\\", \\\"\\\"].indexOf(str) >= 0)\\n                     return;\\n                stringified(str);\\n            });\\n            ko.applyBindingsToNode(\\n                element,\\n                {\\n                    value: stringified,\\n                    valueUpdate: allBindings.get('valueUpdate'),\\n                },\\n                context,\\n            );\\n        }\\n    };\\n    var json_data = {\\\"formatted_vals\\\":[\\\"0.0\\\",\\\"0.01\\\",\\\"0.02\\\",\\\"0.03\\\",\\\"0.04\\\",\\\"0.05\\\",\\\"0.06\\\",\\\"0.07\\\",\\\"0.08\\\",\\\"0.09\\\",\\\"0.1\\\",\\\"0.11\\\",\\\"0.12\\\",\\\"0.13\\\",\\\"0.14\\\",\\\"0.15\\\",\\\"0.16\\\",\\\"0.17\\\",\\\"0.18\\\",\\\"0.19\\\",\\\"0.2\\\",\\\"0.21\\\",\\\"0.22\\\",\\\"0.23\\\",\\\"0.24\\\",\\\"0.25\\\",\\\"0.26\\\",\\\"0.27\\\",\\\"0.28\\\",\\\"0.29\\\",\\\"0.3\\\",\\\"0.31\\\",\\\"0.32\\\",\\\"0.33\\\",\\\"0.34\\\",\\\"0.35\\\",\\\"0.36\\\",\\\"0.37\\\",\\\"0.38\\\",\\\"0.39\\\",\\\"0.4\\\",\\\"0.41\\\",\\\"0.42\\\",\\\"0.43\\\",\\\"0.44\\\",\\\"0.45\\\",\\\"0.46\\\",\\\"0.47\\\",\\\"0.48\\\",\\\"0.49\\\",\\\"0.5\\\",\\\"0.51\\\",\\\"0.52\\\",\\\"0.53\\\",\\\"0.54\\\",\\\"0.55\\\",\\\"0.56\\\",\\\"0.57\\\",\\\"0.58\\\",\\\"0.59\\\",\\\"0.6\\\",\\\"0.61\\\",\\\"0.62\\\",\\\"0.63\\\",\\\"0.64\\\",\\\"0.65\\\",\\\"0.66\\\",\\\"0.67\\\",\\\"0.68\\\",\\\"0.69\\\",\\\"0.7\\\",\\\"0.71\\\",\\\"0.72\\\",\\\"0.73\\\",\\\"0.74\\\",\\\"0.75\\\",\\\"0.76\\\",\\\"0.77\\\",\\\"0.78\\\",\\\"0.79\\\",\\\"0.8\\\",\\\"0.81\\\",\\\"0.82\\\",\\\"0.83\\\",\\\"0.84\\\",\\\"0.85\\\",\\\"0.86\\\",\\\"0.87\\\",\\\"0.88\\\",\\\"0.89\\\",\\\"0.9\\\",\\\"0.91\\\",\\\"0.92\\\",\\\"0.93\\\",\\\"0.94\\\",\\\"0.95\\\",\\\"0.96\\\",\\\"0.97\\\",\\\"0.98\\\",\\\"0.99\\\",\\\"1.0\\\"],\\\"changes\\\":WebIO.getval({\\\"name\\\":\\\"changes\\\",\\\"scope\\\":\\\"4955531688077397721\\\",\\\"id\\\":\\\"ob_157\\\",\\\"type\\\":\\\"observable\\\"}),\\\"index\\\":WebIO.getval({\\\"name\\\":\\\"index\\\",\\\"scope\\\":\\\"4955531688077397721\\\",\\\"id\\\":\\\"ob_156\\\",\\\"type\\\":\\\"observable\\\"})};\\n    var self = this;\\n    function AppViewModel() {\\n        for (var key in json_data) {\\n            var el = json_data[key];\\n            this[key] = Array.isArray(el) ? ko.observableArray(el) : ko.observable(el);\\n        }\\n        \\n        [this[\\\"formatted_val\\\"]=ko.computed(    function(){\\n        return this.formatted_vals()[parseInt(this.index())-(1)];\\n    }\\n,this)]\\n        [this[\\\"changes\\\"].subscribe((function (val){!(this.valueFromJulia[\\\"changes\\\"]) ? (WebIO.setval({\\\"name\\\":\\\"changes\\\",\\\"scope\\\":\\\"4955531688077397721\\\",\\\"id\\\":\\\"ob_157\\\",\\\"type\\\":\\\"observable\\\"},val)) : undefined; return this.valueFromJulia[\\\"changes\\\"]=false}),self),this[\\\"index\\\"].subscribe((function (val){!(this.valueFromJulia[\\\"index\\\"]) ? (WebIO.setval({\\\"name\\\":\\\"index\\\",\\\"scope\\\":\\\"4955531688077397721\\\",\\\"id\\\":\\\"ob_156\\\",\\\"type\\\":\\\"observable\\\"},val)) : undefined; return this.valueFromJulia[\\\"index\\\"]=false}),self)]\\n        \\n    }\\n    self.model = new AppViewModel();\\n    self.valueFromJulia = {};\\n    for (var key in json_data) {\\n        self.valueFromJulia[key] = false;\\n    }\\n    ko.applyBindings(self.model, self.dom);\\n}\\n);\\n    (WebIO.importBlock({\\\"data\\\":[{\\\"name\\\":\\\"knockout\\\",\\\"type\\\":\\\"js\\\",\\\"url\\\":\\\"/assetserver/41a273c89bcce599ea619ceead1fb1eecdca6622-knockout.js\\\"},{\\\"name\\\":\\\"knockout_punches\\\",\\\"type\\\":\\\"js\\\",\\\"url\\\":\\\"/assetserver/32c9c9f4cf2c3726fd5071a28032a60ac6bba4af-knockout_punches.js\\\"}],\\\"type\\\":\\\"async_block\\\"})).then((imports) => handler.apply(this, imports));\\n}\\n\")])], Dict{Symbol,Any}(:className => \"field interact-widget\")), Observable{Any} with 0 listeners. Value:\n",
       "Node{WebIO.DOM}(WebIO.DOM(:html, :div), Any[nothing], Dict{Symbol,Any}(:className => \"interact-flex-row interact-widget\"))], Dict{Symbol,Any}())"
      ]
     },
     "execution_count": 91,
     "metadata": {
      "application/vnd.webio.node+json": {
       "kernelId": "39a39940-e927-4336-b049-21782b40626f"
      }
     },
     "output_type": "execute_result"
    }
   ],
   "source": [
    "@test begin\n",
    "    \n",
    "new_backend()\n",
    "\n",
    "@manipulate for amp0=widget(0:0.01:1, label=\"Spline1 Amplitude\"),\n",
    "                amp1=widget(0:0.01:1, label=\"Spline2 Amplitude\"),\n",
    "                amp2=widget(0:0.01:1, label=\"Spline3 Amplitude\"),\n",
    "                amp3=widget(0:0.01:1, label=\"Spline4 Amplitude\")\n",
    "                delete_all_shapes()\n",
    "        \n",
    "                pts = ptss[2]\n",
    "                spline(vcat(stripe_2D_pts(pts, amp0, [+1,-1])...)[1:end-1])\n",
    "    \n",
    "                pts = ptss[3]\n",
    "                spline(vcat(stripe_2D_pts(pts, amp1, [+1,+1,-1,-1])...)[1:end-1])\n",
    "    \n",
    "                pts = ptss[4]\n",
    "                spline(vcat(stripe_2D_pts(pts, amp2, [+1,+1,+1,-1,-1])...)[1:end-1])\n",
    "\n",
    "                pts = ptss[5]\n",
    "                spline(vcat(stripe_2D_pts(pts, amp3, [+1,+1,-1,-1,-1,-1])...)[1:end-1])\n",
    "                nothing\n",
    "            end\n",
    "    \n",
    "end"
   ]
  },
  {
   "cell_type": "markdown",
   "metadata": {},
   "source": [
    "### Version 3 (amplitude, undulating movement, and undulating direction)"
   ]
  },
  {
   "cell_type": "markdown",
   "metadata": {},
   "source": [
    "__Parameters:__ points, amplitude, bending pattern, and normal vectors\n",
    "\n",
    "This version of the algorithm adapts to any plan or surface. The additional argument describes the direction in which each point should move. `nvs_stripe` should be an array of vector functions."
   ]
  },
  {
   "cell_type": "markdown",
   "metadata": {},
   "source": [
    "| Normal vectors.                                   |\n",
    "|---------------------------------------------------|\n",
    "| <img src=\"./figures/sketches/05.png\" width=\"400\"> |"
   ]
  },
  {
   "cell_type": "code",
   "execution_count": 92,
   "metadata": {},
   "outputs": [
    {
     "data": {
      "text/plain": [
       "stripe_2D_pts (generic function with 3 methods)"
      ]
     },
     "execution_count": 92,
     "metadata": {},
     "output_type": "execute_result"
    }
   ],
   "source": [
    "stripe_2D_pts(pts, amp, bending_pattern, nvs_stripe) =\n",
    "    [let p1 = pt1 + nv*up_or_down*amp,\n",
    "         p2 = pt2 + nv*next_up_or_down*amp\n",
    "      [p1, intermediate_loc(p1, p2, 0.5)]\n",
    "     end\n",
    "     for (pt1, pt2, nv, up_or_down, next_up_or_down)\n",
    "     in zip(pts,\n",
    "            [pts[2:end]...,pts[end]],\n",
    "            nvs_stripe,\n",
    "            cycle(bending_pattern),\n",
    "            cycle([bending_pattern[2:end]...,bending_pattern[1]]))]"
   ]
  },
  {
   "cell_type": "markdown",
   "metadata": {},
   "source": [
    "Test `stripe_2D_pts` function.\n",
    "The expected results are 2D splines oriented according to different normal vectors."
   ]
  },
  {
   "cell_type": "code",
   "execution_count": 93,
   "metadata": {},
   "outputs": [
    {
     "data": {
      "application/vnd.plotly.v1+json": {
       "data": [],
       "layout": {
        "autosize": true,
        "height": 400,
        "margin": {
         "b": 0,
         "l": 0,
         "r": 0,
         "t": 0
        },
        "scene": {
         "aspectmode": "data",
         "xaxis": {
          "showticklabels": false
         },
         "yaxis": {
          "showticklabels": false
         },
         "zaxis": {
          "showticklabels": false
         }
        },
        "showlegend": false,
        "width": 600
       }
      },
      "application/vnd.webio.node+json": {
       "children": [
        {
         "children": [],
         "instanceArgs": {
          "namespace": "html",
          "tag": "div"
         },
         "nodeType": "DOM",
         "props": {
          "id": "plot-77a88dc4-e261-4366-8d90-9672c6b80bed"
         },
         "type": "node"
        }
       ],
       "instanceArgs": {
        "handlers": {
         "__get_gd_contents": [
          "(function (prop){prop==\"data\" ? (WebIO.setval({\"name\":\"__gd_contents\",\"scope\":\"5428482728506313541\",\"id\":\"ob_179\",\"type\":\"observable\"},this.plotElem.data)) : undefined; return prop==\"layout\" ? (WebIO.setval({\"name\":\"__gd_contents\",\"scope\":\"5428482728506313541\",\"id\":\"ob_179\",\"type\":\"observable\"},this.plotElem.layout)) : undefined})"
         ],
         "_commands": [
          "(function (args){var fn=args.shift(); var elem=this.plotElem; var Plotly=this.Plotly; args.unshift(elem); return Plotly[fn].apply(this,args)})"
         ],
         "_downloadImage": [
          "(function (options){return this.Plotly.downloadImage(this.plotElem,options)})"
         ],
         "_toImage": [
          "(function (options){return this.Plotly.toImage(this.plotElem,options).then((function (data){return WebIO.setval({\"name\":\"image\",\"scope\":\"5428482728506313541\",\"id\":\"ob_178\",\"type\":\"observable\"},data)}))})"
         ]
        },
        "id": "5428482728506313541",
        "imports": {
         "data": [
          {
           "name": "Plotly",
           "type": "js",
           "url": "/assetserver/97a1af6d43bec17f982ce6699d23c6a6399c0662-plotly-latest.min.js"
          },
          {
           "name": null,
           "type": "js",
           "url": "/assetserver/dda18c5c0a078ca7d31a0db6b56636033afec9a4-plotly_webio.bundle.js"
          }
         ],
         "type": "async_block"
        },
        "mount_callbacks": [
         "function () {\n    var handler = ((function (Plotly,PlotlyWebIO){PlotlyWebIO.init(WebIO); var gd=this.dom.querySelector(\"#plot-77a88dc4-e261-4366-8d90-9672c6b80bed\"); this.plotElem=gd; this.Plotly=Plotly; (window.Blink!==undefined) ? (gd.style.width=\"100%\", gd.style.height=\"100vh\", gd.style.marginLeft=\"0%\", gd.style.marginTop=\"0vh\") : undefined; window.onresize=(function (){return Plotly.Plots.resize(gd)}); Plotly.newPlot(gd,[],{\"showlegend\":false,\"autosize\":true,\"height\":400,\"margin\":{\"l\":0,\"b\":0,\"r\":0,\"t\":0},\"scene\":{\"xaxis\":{\"showticklabels\":false},\"aspectmode\":\"data\",\"yaxis\":{\"showticklabels\":false},\"zaxis\":{\"showticklabels\":false}},\"width\":600},{\"showLink\":false}); gd.on(\"plotly_hover\",(function (data){var filtered_data=WebIO.PlotlyCommands.filterEventData(gd,data,\"hover\"); return !(filtered_data.isnil) ? (WebIO.setval({\"name\":\"hover\",\"scope\":\"5428482728506313541\",\"id\":\"ob_174\",\"type\":\"observable\"},filtered_data.out)) : undefined})); gd.on(\"plotly_unhover\",(function (){return WebIO.setval({\"name\":\"hover\",\"scope\":\"5428482728506313541\",\"id\":\"ob_174\",\"type\":\"observable\"},{})})); gd.on(\"plotly_selected\",(function (data){var filtered_data=WebIO.PlotlyCommands.filterEventData(gd,data,\"selected\"); return !(filtered_data.isnil) ? (WebIO.setval({\"name\":\"selected\",\"scope\":\"5428482728506313541\",\"id\":\"ob_175\",\"type\":\"observable\"},filtered_data.out)) : undefined})); gd.on(\"plotly_deselect\",(function (){return WebIO.setval({\"name\":\"selected\",\"scope\":\"5428482728506313541\",\"id\":\"ob_175\",\"type\":\"observable\"},{})})); gd.on(\"plotly_relayout\",(function (data){var filtered_data=WebIO.PlotlyCommands.filterEventData(gd,data,\"relayout\"); return !(filtered_data.isnil) ? (WebIO.setval({\"name\":\"relayout\",\"scope\":\"5428482728506313541\",\"id\":\"ob_177\",\"type\":\"observable\"},filtered_data.out)) : undefined})); return gd.on(\"plotly_click\",(function (data){var filtered_data=WebIO.PlotlyCommands.filterEventData(gd,data,\"click\"); return !(filtered_data.isnil) ? (WebIO.setval({\"name\":\"click\",\"scope\":\"5428482728506313541\",\"id\":\"ob_176\",\"type\":\"observable\"},filtered_data.out)) : undefined}))}));\n    (WebIO.importBlock({\"data\":[{\"name\":\"Plotly\",\"type\":\"js\",\"url\":\"/assetserver/97a1af6d43bec17f982ce6699d23c6a6399c0662-plotly-latest.min.js\"},{\"name\":null,\"type\":\"js\",\"url\":\"/assetserver/dda18c5c0a078ca7d31a0db6b56636033afec9a4-plotly_webio.bundle.js\"}],\"type\":\"async_block\"})).then((imports) => handler.apply(this, imports));\n}\n"
        ],
        "observables": {
         "__gd_contents": {
          "id": "ob_179",
          "sync": false,
          "value": {}
         },
         "__get_gd_contents": {
          "id": "ob_183",
          "sync": false,
          "value": ""
         },
         "_commands": {
          "id": "ob_180",
          "sync": false,
          "value": []
         },
         "_downloadImage": {
          "id": "ob_182",
          "sync": false,
          "value": {}
         },
         "_toImage": {
          "id": "ob_181",
          "sync": false,
          "value": {}
         },
         "click": {
          "id": "ob_176",
          "sync": false,
          "value": {}
         },
         "hover": {
          "id": "ob_174",
          "sync": false,
          "value": {}
         },
         "image": {
          "id": "ob_178",
          "sync": true,
          "value": ""
         },
         "relayout": {
          "id": "ob_177",
          "sync": false,
          "value": {}
         },
         "selected": {
          "id": "ob_175",
          "sync": false,
          "value": {}
         }
        },
        "systemjs_options": null
       },
       "nodeType": "Scope",
       "props": {},
       "type": "node"
      },
      "text/html": [
       "<div\n",
       "    class=\"webio-mountpoint\"\n",
       "    data-webio-mountpoint=\"7199929489963376801\"\n",
       ">\n",
       "    <script>\n",
       "    if (window.require && require.defined && require.defined(\"nbextensions/webio-jupyter-notebook\")) {\n",
       "        console.log(\"Jupyter WebIO extension detected, not mounting.\");\n",
       "    } else if (window.WebIO) {\n",
       "        WebIO.mount(\n",
       "            document.querySelector('[data-webio-mountpoint=\"7199929489963376801\"]'),\n",
       "            {\"props\":{},\"nodeType\":\"Scope\",\"type\":\"node\",\"instanceArgs\":{\"imports\":{\"data\":[{\"name\":\"Plotly\",\"type\":\"js\",\"url\":\"\\/assetserver\\/97a1af6d43bec17f982ce6699d23c6a6399c0662-plotly-latest.min.js\"},{\"name\":null,\"type\":\"js\",\"url\":\"\\/assetserver\\/dda18c5c0a078ca7d31a0db6b56636033afec9a4-plotly_webio.bundle.js\"}],\"type\":\"async_block\"},\"id\":\"5428482728506313541\",\"handlers\":{\"_toImage\":[\"(function (options){return this.Plotly.toImage(this.plotElem,options).then((function (data){return WebIO.setval({\\\"name\\\":\\\"image\\\",\\\"scope\\\":\\\"5428482728506313541\\\",\\\"id\\\":\\\"ob_178\\\",\\\"type\\\":\\\"observable\\\"},data)}))})\"],\"__get_gd_contents\":[\"(function (prop){prop==\\\"data\\\" ? (WebIO.setval({\\\"name\\\":\\\"__gd_contents\\\",\\\"scope\\\":\\\"5428482728506313541\\\",\\\"id\\\":\\\"ob_179\\\",\\\"type\\\":\\\"observable\\\"},this.plotElem.data)) : undefined; return prop==\\\"layout\\\" ? (WebIO.setval({\\\"name\\\":\\\"__gd_contents\\\",\\\"scope\\\":\\\"5428482728506313541\\\",\\\"id\\\":\\\"ob_179\\\",\\\"type\\\":\\\"observable\\\"},this.plotElem.layout)) : undefined})\"],\"_downloadImage\":[\"(function (options){return this.Plotly.downloadImage(this.plotElem,options)})\"],\"_commands\":[\"(function (args){var fn=args.shift(); var elem=this.plotElem; var Plotly=this.Plotly; args.unshift(elem); return Plotly[fn].apply(this,args)})\"]},\"systemjs_options\":null,\"mount_callbacks\":[\"function () {\\n    var handler = ((function (Plotly,PlotlyWebIO){PlotlyWebIO.init(WebIO); var gd=this.dom.querySelector(\\\"#plot-77a88dc4-e261-4366-8d90-9672c6b80bed\\\"); this.plotElem=gd; this.Plotly=Plotly; (window.Blink!==undefined) ? (gd.style.width=\\\"100%\\\", gd.style.height=\\\"100vh\\\", gd.style.marginLeft=\\\"0%\\\", gd.style.marginTop=\\\"0vh\\\") : undefined; window.onresize=(function (){return Plotly.Plots.resize(gd)}); Plotly.newPlot(gd,[],{\\\"showlegend\\\":false,\\\"autosize\\\":true,\\\"height\\\":400,\\\"margin\\\":{\\\"l\\\":0,\\\"b\\\":0,\\\"r\\\":0,\\\"t\\\":0},\\\"scene\\\":{\\\"xaxis\\\":{\\\"showticklabels\\\":false},\\\"aspectmode\\\":\\\"data\\\",\\\"yaxis\\\":{\\\"showticklabels\\\":false},\\\"zaxis\\\":{\\\"showticklabels\\\":false}},\\\"width\\\":600},{\\\"showLink\\\":false}); gd.on(\\\"plotly_hover\\\",(function (data){var filtered_data=WebIO.PlotlyCommands.filterEventData(gd,data,\\\"hover\\\"); return !(filtered_data.isnil) ? (WebIO.setval({\\\"name\\\":\\\"hover\\\",\\\"scope\\\":\\\"5428482728506313541\\\",\\\"id\\\":\\\"ob_174\\\",\\\"type\\\":\\\"observable\\\"},filtered_data.out)) : undefined})); gd.on(\\\"plotly_unhover\\\",(function (){return WebIO.setval({\\\"name\\\":\\\"hover\\\",\\\"scope\\\":\\\"5428482728506313541\\\",\\\"id\\\":\\\"ob_174\\\",\\\"type\\\":\\\"observable\\\"},{})})); gd.on(\\\"plotly_selected\\\",(function (data){var filtered_data=WebIO.PlotlyCommands.filterEventData(gd,data,\\\"selected\\\"); return !(filtered_data.isnil) ? (WebIO.setval({\\\"name\\\":\\\"selected\\\",\\\"scope\\\":\\\"5428482728506313541\\\",\\\"id\\\":\\\"ob_175\\\",\\\"type\\\":\\\"observable\\\"},filtered_data.out)) : undefined})); gd.on(\\\"plotly_deselect\\\",(function (){return WebIO.setval({\\\"name\\\":\\\"selected\\\",\\\"scope\\\":\\\"5428482728506313541\\\",\\\"id\\\":\\\"ob_175\\\",\\\"type\\\":\\\"observable\\\"},{})})); gd.on(\\\"plotly_relayout\\\",(function (data){var filtered_data=WebIO.PlotlyCommands.filterEventData(gd,data,\\\"relayout\\\"); return !(filtered_data.isnil) ? (WebIO.setval({\\\"name\\\":\\\"relayout\\\",\\\"scope\\\":\\\"5428482728506313541\\\",\\\"id\\\":\\\"ob_177\\\",\\\"type\\\":\\\"observable\\\"},filtered_data.out)) : undefined})); return gd.on(\\\"plotly_click\\\",(function (data){var filtered_data=WebIO.PlotlyCommands.filterEventData(gd,data,\\\"click\\\"); return !(filtered_data.isnil) ? (WebIO.setval({\\\"name\\\":\\\"click\\\",\\\"scope\\\":\\\"5428482728506313541\\\",\\\"id\\\":\\\"ob_176\\\",\\\"type\\\":\\\"observable\\\"},filtered_data.out)) : undefined}))}));\\n    (WebIO.importBlock({\\\"data\\\":[{\\\"name\\\":\\\"Plotly\\\",\\\"type\\\":\\\"js\\\",\\\"url\\\":\\\"\\/assetserver\\/97a1af6d43bec17f982ce6699d23c6a6399c0662-plotly-latest.min.js\\\"},{\\\"name\\\":null,\\\"type\\\":\\\"js\\\",\\\"url\\\":\\\"\\/assetserver\\/dda18c5c0a078ca7d31a0db6b56636033afec9a4-plotly_webio.bundle.js\\\"}],\\\"type\\\":\\\"async_block\\\"})).then((imports) => handler.apply(this, imports));\\n}\\n\"],\"observables\":{\"_toImage\":{\"sync\":false,\"id\":\"ob_181\",\"value\":{}},\"hover\":{\"sync\":false,\"id\":\"ob_174\",\"value\":{}},\"selected\":{\"sync\":false,\"id\":\"ob_175\",\"value\":{}},\"__gd_contents\":{\"sync\":false,\"id\":\"ob_179\",\"value\":{}},\"click\":{\"sync\":false,\"id\":\"ob_176\",\"value\":{}},\"image\":{\"sync\":true,\"id\":\"ob_178\",\"value\":\"\"},\"__get_gd_contents\":{\"sync\":false,\"id\":\"ob_183\",\"value\":\"\"},\"_downloadImage\":{\"sync\":false,\"id\":\"ob_182\",\"value\":{}},\"relayout\":{\"sync\":false,\"id\":\"ob_177\",\"value\":{}},\"_commands\":{\"sync\":false,\"id\":\"ob_180\",\"value\":[]}}},\"children\":[{\"props\":{\"id\":\"plot-77a88dc4-e261-4366-8d90-9672c6b80bed\"},\"nodeType\":\"DOM\",\"type\":\"node\",\"instanceArgs\":{\"namespace\":\"html\",\"tag\":\"div\"},\"children\":[]}]},\n",
       "            window,\n",
       "        );\n",
       "    } else {\n",
       "        document\n",
       "            .querySelector('[data-webio-mountpoint=\"7199929489963376801\"]')\n",
       "            .innerHTML = (\n",
       "                '<div style=\"padding: 1em; background-color: #f8d6da; border: 1px solid #f5c6cb\">' +\n",
       "                '<p><strong>WebIO not detected.</strong></p>' +\n",
       "                '<p>Please read ' +\n",
       "                '<a href=\"https://juliagizmos.github.io/WebIO.jl/latest/troubleshooting/not-detected/\" target=\"_blank\">the troubleshooting guide</a> ' +\n",
       "                'for more information on how to resolve this issue.</p>' +\n",
       "                '<p><a href=\"https://juliagizmos.github.io/WebIO.jl/latest/troubleshooting/not-detected/\" target=\"_blank\">https://juliagizmos.github.io/WebIO.jl/latest/troubleshooting/not-detected/</a></p>' +\n",
       "                '</div>'\n",
       "            );\n",
       "    }\n",
       "    </script>\n",
       "</div>\n"
      ],
      "text/plain": [
       "data: []\n",
       "\n",
       "layout: \"layout with fields autosize, height, margin, scene, showlegend, and width\"\n",
       "\n"
      ]
     },
     "metadata": {
      "application/vnd.webio.node+json": {
       "kernelId": "39a39940-e927-4336-b049-21782b40626f"
      }
     },
     "output_type": "display_data"
    },
    {
     "data": {
      "text/plain": [
       "Spline(...)"
      ]
     },
     "execution_count": 93,
     "metadata": {},
     "output_type": "execute_result"
    }
   ],
   "source": [
    "@test begin\n",
    "new_backend()\n",
    "\n",
    "ptss = map_division((i,j)->xyz(i,i,j), 0, 10, 10, 0, 10, 10)\n",
    "vss = normals_surface_extra_row(ptss)\n",
    "\n",
    "pts = ptss[1]\n",
    "vs = vss[1]\n",
    "spline(vcat(stripe_2D_pts(pts, 1, [+1,-1], vs)...))\n",
    "\n",
    "pts = ptss[2]\n",
    "vs = vss[2]\n",
    "spline(vcat(stripe_2D_pts(pts, 1, [+1,+1,-1,-1], vs)...)[1:end-1])\n",
    "\n",
    "pts = ptss[3]\n",
    "vs = vss[3]\n",
    "spline(vcat(stripe_2D_pts(pts, 1, [+1,+1,+1,-1,-1], vs)...)[1:end-1])\n",
    "\n",
    "pts = ptss[4]\n",
    "vs = vss[4]\n",
    "spline(vcat(stripe_2D_pts(pts, 1, [+1,+1,-1,-1,-1,-1], vs)...)[1:end-1])\n",
    "\n",
    "end"
   ]
  },
  {
   "cell_type": "markdown",
   "metadata": {},
   "source": [
    "## Function that Creates the Axes of n Stripes in One of the Domain's Direction"
   ]
  },
  {
   "cell_type": "markdown",
   "metadata": {},
   "source": [
    "__Parameters:__ Points, amplitude, and the weave pattern.\n",
    "\n",
    "* two-dimensional distribution of points: matrix of points instead of an array of points\n",
    "* Stripes’ movement: all-ones matrix\n",
    "* Amplitude of the undulating movement\n",
    "* Normal vectors are calculated automatically\n",
    "* The output is another matrix of points containing the moved points\n"
   ]
  },
  {
   "cell_type": "markdown",
   "metadata": {},
   "source": [
    "| Matrix of points.                                 | Weave pattern matrix.                             |\n",
    "|---------------------------------------------------|---------------------------------------------------|\n",
    "| <img src=\"./figures/sketches/06.png\" width=\"200\"> | <img src=\"./figures/sketches/07.png\" width=\"300\"> |\n",
    "\n",
    "| Application of the stripe_2d_pts function.        | Calculate normal vector.                          |\n",
    "|---------------------------------------------------|---------------------------------------------------|\n",
    "| <img src=\"./figures/sketches/08.png\" width=\"350\"> | <img src=\"./figures/sketches/09.png\" width=\"200\"> | "
   ]
  },
  {
   "cell_type": "code",
   "execution_count": 37,
   "metadata": {},
   "outputs": [
    {
     "data": {
      "text/plain": [
       "stripes_2D_ptss (generic function with 1 method)"
      ]
     },
     "execution_count": 37,
     "metadata": {},
     "output_type": "execute_result"
    }
   ],
   "source": [
    "stripes_2D_ptss(ptss, amp, weave_pattern)=\n",
    "    let nvs = normals_surface_extra_row(ptss)\n",
    "      [vcat(stripe_2D_pts(pts, amp, bending_pattern, nv_surf)...)[1:end-1]\n",
    "       for (pts, nv_surf, bending_pattern) in zip(ptss, nvs, cycle(weave_pattern))]\n",
    "    end"
   ]
  },
  {
   "cell_type": "markdown",
   "metadata": {},
   "source": [
    "Test `stripes_2D_ptss` function.\n",
    "The expected result is a set of parallel splines representing a façade, using the weaving patterns shown below."
   ]
  },
  {
   "cell_type": "markdown",
   "metadata": {},
   "source": [
    "| Weaving pattern examples.                          | \n",
    "|----------------------------------------------------|\n",
    "| <img src=\"./figures/weave_matrix.svg\" width=\"400\"> |"
   ]
  },
  {
   "cell_type": "code",
   "execution_count": 94,
   "metadata": {},
   "outputs": [
    {
     "data": {
      "application/vnd.plotly.v1+json": {
       "data": [],
       "layout": {
        "autosize": true,
        "height": 400,
        "margin": {
         "b": 0,
         "l": 0,
         "r": 0,
         "t": 0
        },
        "scene": {
         "aspectmode": "data",
         "xaxis": {
          "showticklabels": false
         },
         "yaxis": {
          "showticklabels": false
         },
         "zaxis": {
          "showticklabels": false
         }
        },
        "showlegend": false,
        "width": 600
       }
      },
      "application/vnd.webio.node+json": {
       "children": [
        {
         "children": [],
         "instanceArgs": {
          "namespace": "html",
          "tag": "div"
         },
         "nodeType": "DOM",
         "props": {
          "id": "plot-4c59cd00-72ea-4758-b103-eb1c69724953"
         },
         "type": "node"
        }
       ],
       "instanceArgs": {
        "handlers": {
         "__get_gd_contents": [
          "(function (prop){prop==\"data\" ? (WebIO.setval({\"name\":\"__gd_contents\",\"scope\":\"2630762698342748201\",\"id\":\"ob_189\",\"type\":\"observable\"},this.plotElem.data)) : undefined; return prop==\"layout\" ? (WebIO.setval({\"name\":\"__gd_contents\",\"scope\":\"2630762698342748201\",\"id\":\"ob_189\",\"type\":\"observable\"},this.plotElem.layout)) : undefined})"
         ],
         "_commands": [
          "(function (args){var fn=args.shift(); var elem=this.plotElem; var Plotly=this.Plotly; args.unshift(elem); return Plotly[fn].apply(this,args)})"
         ],
         "_downloadImage": [
          "(function (options){return this.Plotly.downloadImage(this.plotElem,options)})"
         ],
         "_toImage": [
          "(function (options){return this.Plotly.toImage(this.plotElem,options).then((function (data){return WebIO.setval({\"name\":\"image\",\"scope\":\"2630762698342748201\",\"id\":\"ob_188\",\"type\":\"observable\"},data)}))})"
         ]
        },
        "id": "2630762698342748201",
        "imports": {
         "data": [
          {
           "name": "Plotly",
           "type": "js",
           "url": "/assetserver/97a1af6d43bec17f982ce6699d23c6a6399c0662-plotly-latest.min.js"
          },
          {
           "name": null,
           "type": "js",
           "url": "/assetserver/dda18c5c0a078ca7d31a0db6b56636033afec9a4-plotly_webio.bundle.js"
          }
         ],
         "type": "async_block"
        },
        "mount_callbacks": [
         "function () {\n    var handler = ((function (Plotly,PlotlyWebIO){PlotlyWebIO.init(WebIO); var gd=this.dom.querySelector(\"#plot-4c59cd00-72ea-4758-b103-eb1c69724953\"); this.plotElem=gd; this.Plotly=Plotly; (window.Blink!==undefined) ? (gd.style.width=\"100%\", gd.style.height=\"100vh\", gd.style.marginLeft=\"0%\", gd.style.marginTop=\"0vh\") : undefined; window.onresize=(function (){return Plotly.Plots.resize(gd)}); Plotly.newPlot(gd,[],{\"showlegend\":false,\"autosize\":true,\"height\":400,\"margin\":{\"l\":0,\"b\":0,\"r\":0,\"t\":0},\"scene\":{\"xaxis\":{\"showticklabels\":false},\"aspectmode\":\"data\",\"yaxis\":{\"showticklabels\":false},\"zaxis\":{\"showticklabels\":false}},\"width\":600},{\"showLink\":false}); gd.on(\"plotly_hover\",(function (data){var filtered_data=WebIO.PlotlyCommands.filterEventData(gd,data,\"hover\"); return !(filtered_data.isnil) ? (WebIO.setval({\"name\":\"hover\",\"scope\":\"2630762698342748201\",\"id\":\"ob_184\",\"type\":\"observable\"},filtered_data.out)) : undefined})); gd.on(\"plotly_unhover\",(function (){return WebIO.setval({\"name\":\"hover\",\"scope\":\"2630762698342748201\",\"id\":\"ob_184\",\"type\":\"observable\"},{})})); gd.on(\"plotly_selected\",(function (data){var filtered_data=WebIO.PlotlyCommands.filterEventData(gd,data,\"selected\"); return !(filtered_data.isnil) ? (WebIO.setval({\"name\":\"selected\",\"scope\":\"2630762698342748201\",\"id\":\"ob_185\",\"type\":\"observable\"},filtered_data.out)) : undefined})); gd.on(\"plotly_deselect\",(function (){return WebIO.setval({\"name\":\"selected\",\"scope\":\"2630762698342748201\",\"id\":\"ob_185\",\"type\":\"observable\"},{})})); gd.on(\"plotly_relayout\",(function (data){var filtered_data=WebIO.PlotlyCommands.filterEventData(gd,data,\"relayout\"); return !(filtered_data.isnil) ? (WebIO.setval({\"name\":\"relayout\",\"scope\":\"2630762698342748201\",\"id\":\"ob_187\",\"type\":\"observable\"},filtered_data.out)) : undefined})); return gd.on(\"plotly_click\",(function (data){var filtered_data=WebIO.PlotlyCommands.filterEventData(gd,data,\"click\"); return !(filtered_data.isnil) ? (WebIO.setval({\"name\":\"click\",\"scope\":\"2630762698342748201\",\"id\":\"ob_186\",\"type\":\"observable\"},filtered_data.out)) : undefined}))}));\n    (WebIO.importBlock({\"data\":[{\"name\":\"Plotly\",\"type\":\"js\",\"url\":\"/assetserver/97a1af6d43bec17f982ce6699d23c6a6399c0662-plotly-latest.min.js\"},{\"name\":null,\"type\":\"js\",\"url\":\"/assetserver/dda18c5c0a078ca7d31a0db6b56636033afec9a4-plotly_webio.bundle.js\"}],\"type\":\"async_block\"})).then((imports) => handler.apply(this, imports));\n}\n"
        ],
        "observables": {
         "__gd_contents": {
          "id": "ob_189",
          "sync": false,
          "value": {}
         },
         "__get_gd_contents": {
          "id": "ob_193",
          "sync": false,
          "value": ""
         },
         "_commands": {
          "id": "ob_190",
          "sync": false,
          "value": []
         },
         "_downloadImage": {
          "id": "ob_192",
          "sync": false,
          "value": {}
         },
         "_toImage": {
          "id": "ob_191",
          "sync": false,
          "value": {}
         },
         "click": {
          "id": "ob_186",
          "sync": false,
          "value": {}
         },
         "hover": {
          "id": "ob_184",
          "sync": false,
          "value": {}
         },
         "image": {
          "id": "ob_188",
          "sync": true,
          "value": ""
         },
         "relayout": {
          "id": "ob_187",
          "sync": false,
          "value": {}
         },
         "selected": {
          "id": "ob_185",
          "sync": false,
          "value": {}
         }
        },
        "systemjs_options": null
       },
       "nodeType": "Scope",
       "props": {},
       "type": "node"
      },
      "text/html": [
       "<div\n",
       "    class=\"webio-mountpoint\"\n",
       "    data-webio-mountpoint=\"8143611058476697939\"\n",
       ">\n",
       "    <script>\n",
       "    if (window.require && require.defined && require.defined(\"nbextensions/webio-jupyter-notebook\")) {\n",
       "        console.log(\"Jupyter WebIO extension detected, not mounting.\");\n",
       "    } else if (window.WebIO) {\n",
       "        WebIO.mount(\n",
       "            document.querySelector('[data-webio-mountpoint=\"8143611058476697939\"]'),\n",
       "            {\"props\":{},\"nodeType\":\"Scope\",\"type\":\"node\",\"instanceArgs\":{\"imports\":{\"data\":[{\"name\":\"Plotly\",\"type\":\"js\",\"url\":\"\\/assetserver\\/97a1af6d43bec17f982ce6699d23c6a6399c0662-plotly-latest.min.js\"},{\"name\":null,\"type\":\"js\",\"url\":\"\\/assetserver\\/dda18c5c0a078ca7d31a0db6b56636033afec9a4-plotly_webio.bundle.js\"}],\"type\":\"async_block\"},\"id\":\"2630762698342748201\",\"handlers\":{\"_toImage\":[\"(function (options){return this.Plotly.toImage(this.plotElem,options).then((function (data){return WebIO.setval({\\\"name\\\":\\\"image\\\",\\\"scope\\\":\\\"2630762698342748201\\\",\\\"id\\\":\\\"ob_188\\\",\\\"type\\\":\\\"observable\\\"},data)}))})\"],\"__get_gd_contents\":[\"(function (prop){prop==\\\"data\\\" ? (WebIO.setval({\\\"name\\\":\\\"__gd_contents\\\",\\\"scope\\\":\\\"2630762698342748201\\\",\\\"id\\\":\\\"ob_189\\\",\\\"type\\\":\\\"observable\\\"},this.plotElem.data)) : undefined; return prop==\\\"layout\\\" ? (WebIO.setval({\\\"name\\\":\\\"__gd_contents\\\",\\\"scope\\\":\\\"2630762698342748201\\\",\\\"id\\\":\\\"ob_189\\\",\\\"type\\\":\\\"observable\\\"},this.plotElem.layout)) : undefined})\"],\"_downloadImage\":[\"(function (options){return this.Plotly.downloadImage(this.plotElem,options)})\"],\"_commands\":[\"(function (args){var fn=args.shift(); var elem=this.plotElem; var Plotly=this.Plotly; args.unshift(elem); return Plotly[fn].apply(this,args)})\"]},\"systemjs_options\":null,\"mount_callbacks\":[\"function () {\\n    var handler = ((function (Plotly,PlotlyWebIO){PlotlyWebIO.init(WebIO); var gd=this.dom.querySelector(\\\"#plot-4c59cd00-72ea-4758-b103-eb1c69724953\\\"); this.plotElem=gd; this.Plotly=Plotly; (window.Blink!==undefined) ? (gd.style.width=\\\"100%\\\", gd.style.height=\\\"100vh\\\", gd.style.marginLeft=\\\"0%\\\", gd.style.marginTop=\\\"0vh\\\") : undefined; window.onresize=(function (){return Plotly.Plots.resize(gd)}); Plotly.newPlot(gd,[],{\\\"showlegend\\\":false,\\\"autosize\\\":true,\\\"height\\\":400,\\\"margin\\\":{\\\"l\\\":0,\\\"b\\\":0,\\\"r\\\":0,\\\"t\\\":0},\\\"scene\\\":{\\\"xaxis\\\":{\\\"showticklabels\\\":false},\\\"aspectmode\\\":\\\"data\\\",\\\"yaxis\\\":{\\\"showticklabels\\\":false},\\\"zaxis\\\":{\\\"showticklabels\\\":false}},\\\"width\\\":600},{\\\"showLink\\\":false}); gd.on(\\\"plotly_hover\\\",(function (data){var filtered_data=WebIO.PlotlyCommands.filterEventData(gd,data,\\\"hover\\\"); return !(filtered_data.isnil) ? (WebIO.setval({\\\"name\\\":\\\"hover\\\",\\\"scope\\\":\\\"2630762698342748201\\\",\\\"id\\\":\\\"ob_184\\\",\\\"type\\\":\\\"observable\\\"},filtered_data.out)) : undefined})); gd.on(\\\"plotly_unhover\\\",(function (){return WebIO.setval({\\\"name\\\":\\\"hover\\\",\\\"scope\\\":\\\"2630762698342748201\\\",\\\"id\\\":\\\"ob_184\\\",\\\"type\\\":\\\"observable\\\"},{})})); gd.on(\\\"plotly_selected\\\",(function (data){var filtered_data=WebIO.PlotlyCommands.filterEventData(gd,data,\\\"selected\\\"); return !(filtered_data.isnil) ? (WebIO.setval({\\\"name\\\":\\\"selected\\\",\\\"scope\\\":\\\"2630762698342748201\\\",\\\"id\\\":\\\"ob_185\\\",\\\"type\\\":\\\"observable\\\"},filtered_data.out)) : undefined})); gd.on(\\\"plotly_deselect\\\",(function (){return WebIO.setval({\\\"name\\\":\\\"selected\\\",\\\"scope\\\":\\\"2630762698342748201\\\",\\\"id\\\":\\\"ob_185\\\",\\\"type\\\":\\\"observable\\\"},{})})); gd.on(\\\"plotly_relayout\\\",(function (data){var filtered_data=WebIO.PlotlyCommands.filterEventData(gd,data,\\\"relayout\\\"); return !(filtered_data.isnil) ? (WebIO.setval({\\\"name\\\":\\\"relayout\\\",\\\"scope\\\":\\\"2630762698342748201\\\",\\\"id\\\":\\\"ob_187\\\",\\\"type\\\":\\\"observable\\\"},filtered_data.out)) : undefined})); return gd.on(\\\"plotly_click\\\",(function (data){var filtered_data=WebIO.PlotlyCommands.filterEventData(gd,data,\\\"click\\\"); return !(filtered_data.isnil) ? (WebIO.setval({\\\"name\\\":\\\"click\\\",\\\"scope\\\":\\\"2630762698342748201\\\",\\\"id\\\":\\\"ob_186\\\",\\\"type\\\":\\\"observable\\\"},filtered_data.out)) : undefined}))}));\\n    (WebIO.importBlock({\\\"data\\\":[{\\\"name\\\":\\\"Plotly\\\",\\\"type\\\":\\\"js\\\",\\\"url\\\":\\\"\\/assetserver\\/97a1af6d43bec17f982ce6699d23c6a6399c0662-plotly-latest.min.js\\\"},{\\\"name\\\":null,\\\"type\\\":\\\"js\\\",\\\"url\\\":\\\"\\/assetserver\\/dda18c5c0a078ca7d31a0db6b56636033afec9a4-plotly_webio.bundle.js\\\"}],\\\"type\\\":\\\"async_block\\\"})).then((imports) => handler.apply(this, imports));\\n}\\n\"],\"observables\":{\"_toImage\":{\"sync\":false,\"id\":\"ob_191\",\"value\":{}},\"hover\":{\"sync\":false,\"id\":\"ob_184\",\"value\":{}},\"selected\":{\"sync\":false,\"id\":\"ob_185\",\"value\":{}},\"__gd_contents\":{\"sync\":false,\"id\":\"ob_189\",\"value\":{}},\"click\":{\"sync\":false,\"id\":\"ob_186\",\"value\":{}},\"image\":{\"sync\":true,\"id\":\"ob_188\",\"value\":\"\"},\"__get_gd_contents\":{\"sync\":false,\"id\":\"ob_193\",\"value\":\"\"},\"_downloadImage\":{\"sync\":false,\"id\":\"ob_192\",\"value\":{}},\"relayout\":{\"sync\":false,\"id\":\"ob_187\",\"value\":{}},\"_commands\":{\"sync\":false,\"id\":\"ob_190\",\"value\":[]}}},\"children\":[{\"props\":{\"id\":\"plot-4c59cd00-72ea-4758-b103-eb1c69724953\"},\"nodeType\":\"DOM\",\"type\":\"node\",\"instanceArgs\":{\"namespace\":\"html\",\"tag\":\"div\"},\"children\":[]}]},\n",
       "            window,\n",
       "        );\n",
       "    } else {\n",
       "        document\n",
       "            .querySelector('[data-webio-mountpoint=\"8143611058476697939\"]')\n",
       "            .innerHTML = (\n",
       "                '<div style=\"padding: 1em; background-color: #f8d6da; border: 1px solid #f5c6cb\">' +\n",
       "                '<p><strong>WebIO not detected.</strong></p>' +\n",
       "                '<p>Please read ' +\n",
       "                '<a href=\"https://juliagizmos.github.io/WebIO.jl/latest/troubleshooting/not-detected/\" target=\"_blank\">the troubleshooting guide</a> ' +\n",
       "                'for more information on how to resolve this issue.</p>' +\n",
       "                '<p><a href=\"https://juliagizmos.github.io/WebIO.jl/latest/troubleshooting/not-detected/\" target=\"_blank\">https://juliagizmos.github.io/WebIO.jl/latest/troubleshooting/not-detected/</a></p>' +\n",
       "                '</div>'\n",
       "            );\n",
       "    }\n",
       "    </script>\n",
       "</div>\n"
      ],
      "text/plain": [
       "data: []\n",
       "\n",
       "layout: \"layout with fields autosize, height, margin, scene, showlegend, and width\"\n",
       "\n"
      ]
     },
     "metadata": {
      "application/vnd.webio.node+json": {
       "kernelId": "39a39940-e927-4336-b049-21782b40626f"
      }
     },
     "output_type": "display_data"
    }
   ],
   "source": [
    "@test begin\n",
    "new_backend()\n",
    "\n",
    "ptss = map_division(xz, 0, 10, 10, 0, 10, 10)\n",
    "map(i->spline(i), stripes_2D_ptss(ptss, 1, [[+1,-1],[-1,+1]]))\n",
    "nothing\n",
    "    \n",
    "end"
   ]
  },
  {
   "cell_type": "code",
   "execution_count": null,
   "metadata": {},
   "outputs": [],
   "source": [
    "@test begin\n",
    "new_backend()\n",
    "\n",
    "ptss = map_division(xz, 12, 22, 10, 0, 10, 10)\n",
    "map(i->spline(i), stripes_2D_ptss(ptss, 1, [[+1,-1,-1],[-1,+1,+1]]))\n",
    "nothing\n",
    "    \n",
    "end"
   ]
  },
  {
   "cell_type": "code",
   "execution_count": null,
   "metadata": {},
   "outputs": [],
   "source": [
    "@test begin\n",
    "new_backend()\n",
    "\n",
    "ptss = map_division(xz, 24, 34, 10, 0, 10, 10)\n",
    "map(i->spline(i), stripes_2D_ptss(ptss, 1, [[+1,-1,-1,-1],[-1,+1,+1,+1]]))\n",
    "nothing\n",
    "    \n",
    "end"
   ]
  },
  {
   "cell_type": "markdown",
   "metadata": {},
   "source": [
    "## Function that Creates the Axes of n Stripes in Both Domain Directions"
   ]
  },
  {
   "cell_type": "markdown",
   "metadata": {},
   "source": [
    "* Produces n parallel undulating stripes in both domain’s directions\n",
    "* Ensures the stripes do not intersect each other: algorithm applies opposite movement"
   ]
  },
  {
   "cell_type": "markdown",
   "metadata": {},
   "source": [
    "| Domain, and domain sub-division.                  |\n",
    "|---------------------------------------------------|\n",
    "| <img src=\"./figures/sketches/10.png\" width=\"500\"> |"
   ]
  },
  {
   "cell_type": "markdown",
   "metadata": {},
   "source": [
    "| Alternate movement at each intersection point.    |\n",
    "|---------------------------------------------------|\n",
    "| <img src=\"./figures/sketches/12.png\" width=\"500\"> |"
   ]
  },
  {
   "cell_type": "markdown",
   "metadata": {},
   "source": [
    "### Version 1 (different width values)"
   ]
  },
  {
   "cell_type": "markdown",
   "metadata": {},
   "source": [
    "__Parameters:__ matrix of points, number of stripes (vertical and horizontal), amplitude, weave pattern, and set of width values\n",
    "\n",
    "* Spatial surface defined by the matrix of points\n",
    "* Width values are used to center the stripes' axes\n",
    "* Width set should be composed of two arrays: vertical and horizontal values"
   ]
  },
  {
   "cell_type": "markdown",
   "metadata": {},
   "source": [
    "| Weaving with different stripe widths.             |\n",
    "|---------------------------------------------------|\n",
    "| <img src=\"./figures/sketches/11.png\" width=\"400\"> |"
   ]
  },
  {
   "cell_type": "code",
   "execution_count": 95,
   "metadata": {},
   "outputs": [
    {
     "data": {
      "text/plain": [
       "weave_ptss_centered (generic function with 3 methods)"
      ]
     },
     "execution_count": 95,
     "metadata": {},
     "output_type": "execute_result"
    }
   ],
   "source": [
    "weave_ptss_centered(s, nu, nv, amp, weave_pattern, stripes_widths) =\n",
    "    let Δu_ini = maximum(stripes_widths[1])/2,\n",
    "        Δv_ini = maximum(stripes_widths[2])/2,\n",
    "        ptss_v = surf_pts(s.f, s.u0 + Δu_ini, s.u1 - Δu_ini, s.v0, s.v1, nu - 1, nv - 1),\n",
    "        ptss_u = transpose_matrix(surf_pts(s.f, s.u0, s.u1, s.v0 + Δv_ini, s.v1 - Δv_ini, nu - 1, nv - 1)),\n",
    "        inverse_weave_pattern = transpose_matrix(weave_pattern)\n",
    "      [stripes_2D_ptss(ptss_v, amp, weave_pattern),\n",
    "       stripes_2D_ptss(ptss_u, amp, inverse_weave_pattern)]\n",
    "   end"
   ]
  },
  {
   "cell_type": "markdown",
   "metadata": {},
   "source": [
    "Test `weave_ptss_centered` function.\n",
    "The expected result is a set of weaved splines."
   ]
  },
  {
   "cell_type": "code",
   "execution_count": 96,
   "metadata": {},
   "outputs": [
    {
     "data": {
      "application/vnd.plotly.v1+json": {
       "data": [],
       "layout": {
        "autosize": true,
        "height": 400,
        "margin": {
         "b": 0,
         "l": 0,
         "r": 0,
         "t": 0
        },
        "scene": {
         "aspectmode": "data",
         "xaxis": {
          "showticklabels": false
         },
         "yaxis": {
          "showticklabels": false
         },
         "zaxis": {
          "showticklabels": false
         }
        },
        "showlegend": false,
        "width": 600
       }
      },
      "application/vnd.webio.node+json": {
       "children": [
        {
         "children": [],
         "instanceArgs": {
          "namespace": "html",
          "tag": "div"
         },
         "nodeType": "DOM",
         "props": {
          "id": "plot-de6eac82-f9d0-450d-83cf-261d20e66ec0"
         },
         "type": "node"
        }
       ],
       "instanceArgs": {
        "handlers": {
         "__get_gd_contents": [
          "(function (prop){prop==\"data\" ? (WebIO.setval({\"name\":\"__gd_contents\",\"scope\":\"4949118776318325138\",\"id\":\"ob_199\",\"type\":\"observable\"},this.plotElem.data)) : undefined; return prop==\"layout\" ? (WebIO.setval({\"name\":\"__gd_contents\",\"scope\":\"4949118776318325138\",\"id\":\"ob_199\",\"type\":\"observable\"},this.plotElem.layout)) : undefined})"
         ],
         "_commands": [
          "(function (args){var fn=args.shift(); var elem=this.plotElem; var Plotly=this.Plotly; args.unshift(elem); return Plotly[fn].apply(this,args)})"
         ],
         "_downloadImage": [
          "(function (options){return this.Plotly.downloadImage(this.plotElem,options)})"
         ],
         "_toImage": [
          "(function (options){return this.Plotly.toImage(this.plotElem,options).then((function (data){return WebIO.setval({\"name\":\"image\",\"scope\":\"4949118776318325138\",\"id\":\"ob_198\",\"type\":\"observable\"},data)}))})"
         ]
        },
        "id": "4949118776318325138",
        "imports": {
         "data": [
          {
           "name": "Plotly",
           "type": "js",
           "url": "/assetserver/97a1af6d43bec17f982ce6699d23c6a6399c0662-plotly-latest.min.js"
          },
          {
           "name": null,
           "type": "js",
           "url": "/assetserver/dda18c5c0a078ca7d31a0db6b56636033afec9a4-plotly_webio.bundle.js"
          }
         ],
         "type": "async_block"
        },
        "mount_callbacks": [
         "function () {\n    var handler = ((function (Plotly,PlotlyWebIO){PlotlyWebIO.init(WebIO); var gd=this.dom.querySelector(\"#plot-de6eac82-f9d0-450d-83cf-261d20e66ec0\"); this.plotElem=gd; this.Plotly=Plotly; (window.Blink!==undefined) ? (gd.style.width=\"100%\", gd.style.height=\"100vh\", gd.style.marginLeft=\"0%\", gd.style.marginTop=\"0vh\") : undefined; window.onresize=(function (){return Plotly.Plots.resize(gd)}); Plotly.newPlot(gd,[],{\"showlegend\":false,\"autosize\":true,\"height\":400,\"margin\":{\"l\":0,\"b\":0,\"r\":0,\"t\":0},\"scene\":{\"xaxis\":{\"showticklabels\":false},\"aspectmode\":\"data\",\"yaxis\":{\"showticklabels\":false},\"zaxis\":{\"showticklabels\":false}},\"width\":600},{\"showLink\":false}); gd.on(\"plotly_hover\",(function (data){var filtered_data=WebIO.PlotlyCommands.filterEventData(gd,data,\"hover\"); return !(filtered_data.isnil) ? (WebIO.setval({\"name\":\"hover\",\"scope\":\"4949118776318325138\",\"id\":\"ob_194\",\"type\":\"observable\"},filtered_data.out)) : undefined})); gd.on(\"plotly_unhover\",(function (){return WebIO.setval({\"name\":\"hover\",\"scope\":\"4949118776318325138\",\"id\":\"ob_194\",\"type\":\"observable\"},{})})); gd.on(\"plotly_selected\",(function (data){var filtered_data=WebIO.PlotlyCommands.filterEventData(gd,data,\"selected\"); return !(filtered_data.isnil) ? (WebIO.setval({\"name\":\"selected\",\"scope\":\"4949118776318325138\",\"id\":\"ob_195\",\"type\":\"observable\"},filtered_data.out)) : undefined})); gd.on(\"plotly_deselect\",(function (){return WebIO.setval({\"name\":\"selected\",\"scope\":\"4949118776318325138\",\"id\":\"ob_195\",\"type\":\"observable\"},{})})); gd.on(\"plotly_relayout\",(function (data){var filtered_data=WebIO.PlotlyCommands.filterEventData(gd,data,\"relayout\"); return !(filtered_data.isnil) ? (WebIO.setval({\"name\":\"relayout\",\"scope\":\"4949118776318325138\",\"id\":\"ob_197\",\"type\":\"observable\"},filtered_data.out)) : undefined})); return gd.on(\"plotly_click\",(function (data){var filtered_data=WebIO.PlotlyCommands.filterEventData(gd,data,\"click\"); return !(filtered_data.isnil) ? (WebIO.setval({\"name\":\"click\",\"scope\":\"4949118776318325138\",\"id\":\"ob_196\",\"type\":\"observable\"},filtered_data.out)) : undefined}))}));\n    (WebIO.importBlock({\"data\":[{\"name\":\"Plotly\",\"type\":\"js\",\"url\":\"/assetserver/97a1af6d43bec17f982ce6699d23c6a6399c0662-plotly-latest.min.js\"},{\"name\":null,\"type\":\"js\",\"url\":\"/assetserver/dda18c5c0a078ca7d31a0db6b56636033afec9a4-plotly_webio.bundle.js\"}],\"type\":\"async_block\"})).then((imports) => handler.apply(this, imports));\n}\n"
        ],
        "observables": {
         "__gd_contents": {
          "id": "ob_199",
          "sync": false,
          "value": {}
         },
         "__get_gd_contents": {
          "id": "ob_203",
          "sync": false,
          "value": ""
         },
         "_commands": {
          "id": "ob_200",
          "sync": false,
          "value": []
         },
         "_downloadImage": {
          "id": "ob_202",
          "sync": false,
          "value": {}
         },
         "_toImage": {
          "id": "ob_201",
          "sync": false,
          "value": {}
         },
         "click": {
          "id": "ob_196",
          "sync": false,
          "value": {}
         },
         "hover": {
          "id": "ob_194",
          "sync": false,
          "value": {}
         },
         "image": {
          "id": "ob_198",
          "sync": true,
          "value": ""
         },
         "relayout": {
          "id": "ob_197",
          "sync": false,
          "value": {}
         },
         "selected": {
          "id": "ob_195",
          "sync": false,
          "value": {}
         }
        },
        "systemjs_options": null
       },
       "nodeType": "Scope",
       "props": {},
       "type": "node"
      },
      "text/html": [
       "<div\n",
       "    class=\"webio-mountpoint\"\n",
       "    data-webio-mountpoint=\"14389269665093386240\"\n",
       ">\n",
       "    <script>\n",
       "    if (window.require && require.defined && require.defined(\"nbextensions/webio-jupyter-notebook\")) {\n",
       "        console.log(\"Jupyter WebIO extension detected, not mounting.\");\n",
       "    } else if (window.WebIO) {\n",
       "        WebIO.mount(\n",
       "            document.querySelector('[data-webio-mountpoint=\"14389269665093386240\"]'),\n",
       "            {\"props\":{},\"nodeType\":\"Scope\",\"type\":\"node\",\"instanceArgs\":{\"imports\":{\"data\":[{\"name\":\"Plotly\",\"type\":\"js\",\"url\":\"\\/assetserver\\/97a1af6d43bec17f982ce6699d23c6a6399c0662-plotly-latest.min.js\"},{\"name\":null,\"type\":\"js\",\"url\":\"\\/assetserver\\/dda18c5c0a078ca7d31a0db6b56636033afec9a4-plotly_webio.bundle.js\"}],\"type\":\"async_block\"},\"id\":\"4949118776318325138\",\"handlers\":{\"_toImage\":[\"(function (options){return this.Plotly.toImage(this.plotElem,options).then((function (data){return WebIO.setval({\\\"name\\\":\\\"image\\\",\\\"scope\\\":\\\"4949118776318325138\\\",\\\"id\\\":\\\"ob_198\\\",\\\"type\\\":\\\"observable\\\"},data)}))})\"],\"__get_gd_contents\":[\"(function (prop){prop==\\\"data\\\" ? (WebIO.setval({\\\"name\\\":\\\"__gd_contents\\\",\\\"scope\\\":\\\"4949118776318325138\\\",\\\"id\\\":\\\"ob_199\\\",\\\"type\\\":\\\"observable\\\"},this.plotElem.data)) : undefined; return prop==\\\"layout\\\" ? (WebIO.setval({\\\"name\\\":\\\"__gd_contents\\\",\\\"scope\\\":\\\"4949118776318325138\\\",\\\"id\\\":\\\"ob_199\\\",\\\"type\\\":\\\"observable\\\"},this.plotElem.layout)) : undefined})\"],\"_downloadImage\":[\"(function (options){return this.Plotly.downloadImage(this.plotElem,options)})\"],\"_commands\":[\"(function (args){var fn=args.shift(); var elem=this.plotElem; var Plotly=this.Plotly; args.unshift(elem); return Plotly[fn].apply(this,args)})\"]},\"systemjs_options\":null,\"mount_callbacks\":[\"function () {\\n    var handler = ((function (Plotly,PlotlyWebIO){PlotlyWebIO.init(WebIO); var gd=this.dom.querySelector(\\\"#plot-de6eac82-f9d0-450d-83cf-261d20e66ec0\\\"); this.plotElem=gd; this.Plotly=Plotly; (window.Blink!==undefined) ? (gd.style.width=\\\"100%\\\", gd.style.height=\\\"100vh\\\", gd.style.marginLeft=\\\"0%\\\", gd.style.marginTop=\\\"0vh\\\") : undefined; window.onresize=(function (){return Plotly.Plots.resize(gd)}); Plotly.newPlot(gd,[],{\\\"showlegend\\\":false,\\\"autosize\\\":true,\\\"height\\\":400,\\\"margin\\\":{\\\"l\\\":0,\\\"b\\\":0,\\\"r\\\":0,\\\"t\\\":0},\\\"scene\\\":{\\\"xaxis\\\":{\\\"showticklabels\\\":false},\\\"aspectmode\\\":\\\"data\\\",\\\"yaxis\\\":{\\\"showticklabels\\\":false},\\\"zaxis\\\":{\\\"showticklabels\\\":false}},\\\"width\\\":600},{\\\"showLink\\\":false}); gd.on(\\\"plotly_hover\\\",(function (data){var filtered_data=WebIO.PlotlyCommands.filterEventData(gd,data,\\\"hover\\\"); return !(filtered_data.isnil) ? (WebIO.setval({\\\"name\\\":\\\"hover\\\",\\\"scope\\\":\\\"4949118776318325138\\\",\\\"id\\\":\\\"ob_194\\\",\\\"type\\\":\\\"observable\\\"},filtered_data.out)) : undefined})); gd.on(\\\"plotly_unhover\\\",(function (){return WebIO.setval({\\\"name\\\":\\\"hover\\\",\\\"scope\\\":\\\"4949118776318325138\\\",\\\"id\\\":\\\"ob_194\\\",\\\"type\\\":\\\"observable\\\"},{})})); gd.on(\\\"plotly_selected\\\",(function (data){var filtered_data=WebIO.PlotlyCommands.filterEventData(gd,data,\\\"selected\\\"); return !(filtered_data.isnil) ? (WebIO.setval({\\\"name\\\":\\\"selected\\\",\\\"scope\\\":\\\"4949118776318325138\\\",\\\"id\\\":\\\"ob_195\\\",\\\"type\\\":\\\"observable\\\"},filtered_data.out)) : undefined})); gd.on(\\\"plotly_deselect\\\",(function (){return WebIO.setval({\\\"name\\\":\\\"selected\\\",\\\"scope\\\":\\\"4949118776318325138\\\",\\\"id\\\":\\\"ob_195\\\",\\\"type\\\":\\\"observable\\\"},{})})); gd.on(\\\"plotly_relayout\\\",(function (data){var filtered_data=WebIO.PlotlyCommands.filterEventData(gd,data,\\\"relayout\\\"); return !(filtered_data.isnil) ? (WebIO.setval({\\\"name\\\":\\\"relayout\\\",\\\"scope\\\":\\\"4949118776318325138\\\",\\\"id\\\":\\\"ob_197\\\",\\\"type\\\":\\\"observable\\\"},filtered_data.out)) : undefined})); return gd.on(\\\"plotly_click\\\",(function (data){var filtered_data=WebIO.PlotlyCommands.filterEventData(gd,data,\\\"click\\\"); return !(filtered_data.isnil) ? (WebIO.setval({\\\"name\\\":\\\"click\\\",\\\"scope\\\":\\\"4949118776318325138\\\",\\\"id\\\":\\\"ob_196\\\",\\\"type\\\":\\\"observable\\\"},filtered_data.out)) : undefined}))}));\\n    (WebIO.importBlock({\\\"data\\\":[{\\\"name\\\":\\\"Plotly\\\",\\\"type\\\":\\\"js\\\",\\\"url\\\":\\\"\\/assetserver\\/97a1af6d43bec17f982ce6699d23c6a6399c0662-plotly-latest.min.js\\\"},{\\\"name\\\":null,\\\"type\\\":\\\"js\\\",\\\"url\\\":\\\"\\/assetserver\\/dda18c5c0a078ca7d31a0db6b56636033afec9a4-plotly_webio.bundle.js\\\"}],\\\"type\\\":\\\"async_block\\\"})).then((imports) => handler.apply(this, imports));\\n}\\n\"],\"observables\":{\"_toImage\":{\"sync\":false,\"id\":\"ob_201\",\"value\":{}},\"hover\":{\"sync\":false,\"id\":\"ob_194\",\"value\":{}},\"selected\":{\"sync\":false,\"id\":\"ob_195\",\"value\":{}},\"__gd_contents\":{\"sync\":false,\"id\":\"ob_199\",\"value\":{}},\"click\":{\"sync\":false,\"id\":\"ob_196\",\"value\":{}},\"image\":{\"sync\":true,\"id\":\"ob_198\",\"value\":\"\"},\"__get_gd_contents\":{\"sync\":false,\"id\":\"ob_203\",\"value\":\"\"},\"_downloadImage\":{\"sync\":false,\"id\":\"ob_202\",\"value\":{}},\"relayout\":{\"sync\":false,\"id\":\"ob_197\",\"value\":{}},\"_commands\":{\"sync\":false,\"id\":\"ob_200\",\"value\":[]}}},\"children\":[{\"props\":{\"id\":\"plot-de6eac82-f9d0-450d-83cf-261d20e66ec0\"},\"nodeType\":\"DOM\",\"type\":\"node\",\"instanceArgs\":{\"namespace\":\"html\",\"tag\":\"div\"},\"children\":[]}]},\n",
       "            window,\n",
       "        );\n",
       "    } else {\n",
       "        document\n",
       "            .querySelector('[data-webio-mountpoint=\"14389269665093386240\"]')\n",
       "            .innerHTML = (\n",
       "                '<div style=\"padding: 1em; background-color: #f8d6da; border: 1px solid #f5c6cb\">' +\n",
       "                '<p><strong>WebIO not detected.</strong></p>' +\n",
       "                '<p>Please read ' +\n",
       "                '<a href=\"https://juliagizmos.github.io/WebIO.jl/latest/troubleshooting/not-detected/\" target=\"_blank\">the troubleshooting guide</a> ' +\n",
       "                'for more information on how to resolve this issue.</p>' +\n",
       "                '<p><a href=\"https://juliagizmos.github.io/WebIO.jl/latest/troubleshooting/not-detected/\" target=\"_blank\">https://juliagizmos.github.io/WebIO.jl/latest/troubleshooting/not-detected/</a></p>' +\n",
       "                '</div>'\n",
       "            );\n",
       "    }\n",
       "    </script>\n",
       "</div>\n"
      ],
      "text/plain": [
       "data: []\n",
       "\n",
       "layout: \"layout with fields autosize, height, margin, scene, showlegend, and width\"\n",
       "\n"
      ]
     },
     "metadata": {
      "application/vnd.webio.node+json": {
       "kernelId": "39a39940-e927-4336-b049-21782b40626f"
      }
     },
     "output_type": "display_data"
    }
   ],
   "source": [
    "@test begin\n",
    "new_backend()\n",
    "\n",
    "facade = Surf((i,j)-> xz(i,j), 0, 10, 0, 10)\n",
    "\n",
    "ptss = weave_ptss_centered(facade, 10, 10, 0.1, [[+1,-1],[-1,+1]], [[0.3], [0.3]])\n",
    "\n",
    "map(i->spline(i), ptss[1])\n",
    "map(i->spline(i), ptss[2])\n",
    "nothing    \n",
    "    \n",
    "end"
   ]
  },
  {
   "cell_type": "code",
   "execution_count": null,
   "metadata": {},
   "outputs": [],
   "source": [
    "@test begin\n",
    "new_backend()\n",
    "\n",
    "facade = Surf((i,j)-> xz(i,j), 12, 22, 0, 10)\n",
    "\n",
    "ptss = weave_ptss_centered(facade, \n",
    "                           10, 10, 0.1, \n",
    "                           [[+1,+1,-1,-1],\n",
    "                            [-1,-1,+1,+1]], \n",
    "                           [[0.3], \n",
    "                            [0.3]])\n",
    "\n",
    "map(i->spline(i), ptss[1])\n",
    "map(i->spline(i), ptss[2])\n",
    "nothing \n",
    "    \n",
    "end"
   ]
  },
  {
   "cell_type": "code",
   "execution_count": null,
   "metadata": {},
   "outputs": [],
   "source": [
    "@test begin\n",
    "new_backend()\n",
    "\n",
    "facade = Surf((i,j)-> xz(i,j), 24, 34, 0, 10)\n",
    "\n",
    "ptss = weave_ptss_centered(facade, \n",
    "                           10, 10, 0.1,\n",
    "                           [[+1,+1,+1,-1,-1],\n",
    "                            [-1,-1,-1,+1,+1]],\n",
    "                           [[0.3],\n",
    "                            [0.3]])\n",
    "\n",
    "map(i->spline(i), ptss[1])\n",
    "map(i->spline(i), ptss[2])\n",
    "nothing\n",
    "    \n",
    "end"
   ]
  },
  {
   "cell_type": "markdown",
   "metadata": {},
   "source": [
    "### Version 2 (straight verticals)"
   ]
  },
  {
   "cell_type": "markdown",
   "metadata": {},
   "source": [
    "__Parameters:__ matrix of points, number of stripes (vertical and horizontal), amplitude, weave pattern, set of width values, and a boolean value\n",
    "\n",
    "* Allow vertical stripes not to undulate -> structurally active elements\n",
    "* Use `is_vertical_straight=true` for static stripes"
   ]
  },
  {
   "cell_type": "markdown",
   "metadata": {},
   "source": [
    "| sketch 13                                         |\n",
    "|---------------------------------------------------|\n",
    "| <img src=\"./figures/sketches/13.png\" width=\"350\"> |"
   ]
  },
  {
   "cell_type": "code",
   "execution_count": 97,
   "metadata": {},
   "outputs": [
    {
     "data": {
      "text/plain": [
       "weave_ptss_centered (generic function with 3 methods)"
      ]
     },
     "execution_count": 97,
     "metadata": {},
     "output_type": "execute_result"
    }
   ],
   "source": [
    "weave_ptss_centered(s, nu, nv, amp, weave_pattern, stripes_widths,is_vertical_straight=false) =\n",
    "    let Δu_ini = maximum(stripes_widths[1])/2,\n",
    "        Δv_ini = maximum(stripes_widths[2])/2,\n",
    "        ptss_v = surf_pts(s.f, s.u0 + Δu_ini, s.u1 - Δu_ini, s.v0, s.v1, nu - 1, nv - 1),\n",
    "        ptss_u = transpose_matrix(surf_pts(s.f, s.u0, s.u1, s.v0 + Δv_ini, s.v1 - Δv_ini, nu - 1, nv - 1)),\n",
    "        inverse_weave_pattern = transpose_matrix(weave_pattern),\n",
    "        amp_v = is_vertical_straight ? 0 : amp\n",
    "      [stripes_2D_ptss(ptss_v, amp_v, weave_pattern),\n",
    "       stripes_2D_ptss(ptss_u, amp, inverse_weave_pattern)]\n",
    "   end"
   ]
  },
  {
   "cell_type": "markdown",
   "metadata": {},
   "source": [
    "Test `weave_ptss_centered` function.\n",
    "The expected result is a set of weaved splines with straight verticals."
   ]
  },
  {
   "cell_type": "code",
   "execution_count": 98,
   "metadata": {},
   "outputs": [
    {
     "data": {
      "application/vnd.plotly.v1+json": {
       "data": [],
       "layout": {
        "autosize": true,
        "height": 400,
        "margin": {
         "b": 0,
         "l": 0,
         "r": 0,
         "t": 0
        },
        "scene": {
         "aspectmode": "data",
         "xaxis": {
          "showticklabels": false
         },
         "yaxis": {
          "showticklabels": false
         },
         "zaxis": {
          "showticklabels": false
         }
        },
        "showlegend": false,
        "width": 600
       }
      },
      "application/vnd.webio.node+json": {
       "children": [
        {
         "children": [],
         "instanceArgs": {
          "namespace": "html",
          "tag": "div"
         },
         "nodeType": "DOM",
         "props": {
          "id": "plot-3611b194-52c5-4bac-abd5-f9dd3dd67f50"
         },
         "type": "node"
        }
       ],
       "instanceArgs": {
        "handlers": {
         "__get_gd_contents": [
          "(function (prop){prop==\"data\" ? (WebIO.setval({\"name\":\"__gd_contents\",\"scope\":\"8819651976427407612\",\"id\":\"ob_209\",\"type\":\"observable\"},this.plotElem.data)) : undefined; return prop==\"layout\" ? (WebIO.setval({\"name\":\"__gd_contents\",\"scope\":\"8819651976427407612\",\"id\":\"ob_209\",\"type\":\"observable\"},this.plotElem.layout)) : undefined})"
         ],
         "_commands": [
          "(function (args){var fn=args.shift(); var elem=this.plotElem; var Plotly=this.Plotly; args.unshift(elem); return Plotly[fn].apply(this,args)})"
         ],
         "_downloadImage": [
          "(function (options){return this.Plotly.downloadImage(this.plotElem,options)})"
         ],
         "_toImage": [
          "(function (options){return this.Plotly.toImage(this.plotElem,options).then((function (data){return WebIO.setval({\"name\":\"image\",\"scope\":\"8819651976427407612\",\"id\":\"ob_208\",\"type\":\"observable\"},data)}))})"
         ]
        },
        "id": "8819651976427407612",
        "imports": {
         "data": [
          {
           "name": "Plotly",
           "type": "js",
           "url": "/assetserver/97a1af6d43bec17f982ce6699d23c6a6399c0662-plotly-latest.min.js"
          },
          {
           "name": null,
           "type": "js",
           "url": "/assetserver/dda18c5c0a078ca7d31a0db6b56636033afec9a4-plotly_webio.bundle.js"
          }
         ],
         "type": "async_block"
        },
        "mount_callbacks": [
         "function () {\n    var handler = ((function (Plotly,PlotlyWebIO){PlotlyWebIO.init(WebIO); var gd=this.dom.querySelector(\"#plot-3611b194-52c5-4bac-abd5-f9dd3dd67f50\"); this.plotElem=gd; this.Plotly=Plotly; (window.Blink!==undefined) ? (gd.style.width=\"100%\", gd.style.height=\"100vh\", gd.style.marginLeft=\"0%\", gd.style.marginTop=\"0vh\") : undefined; window.onresize=(function (){return Plotly.Plots.resize(gd)}); Plotly.newPlot(gd,[],{\"showlegend\":false,\"autosize\":true,\"height\":400,\"margin\":{\"l\":0,\"b\":0,\"r\":0,\"t\":0},\"scene\":{\"xaxis\":{\"showticklabels\":false},\"aspectmode\":\"data\",\"yaxis\":{\"showticklabels\":false},\"zaxis\":{\"showticklabels\":false}},\"width\":600},{\"showLink\":false}); gd.on(\"plotly_hover\",(function (data){var filtered_data=WebIO.PlotlyCommands.filterEventData(gd,data,\"hover\"); return !(filtered_data.isnil) ? (WebIO.setval({\"name\":\"hover\",\"scope\":\"8819651976427407612\",\"id\":\"ob_204\",\"type\":\"observable\"},filtered_data.out)) : undefined})); gd.on(\"plotly_unhover\",(function (){return WebIO.setval({\"name\":\"hover\",\"scope\":\"8819651976427407612\",\"id\":\"ob_204\",\"type\":\"observable\"},{})})); gd.on(\"plotly_selected\",(function (data){var filtered_data=WebIO.PlotlyCommands.filterEventData(gd,data,\"selected\"); return !(filtered_data.isnil) ? (WebIO.setval({\"name\":\"selected\",\"scope\":\"8819651976427407612\",\"id\":\"ob_205\",\"type\":\"observable\"},filtered_data.out)) : undefined})); gd.on(\"plotly_deselect\",(function (){return WebIO.setval({\"name\":\"selected\",\"scope\":\"8819651976427407612\",\"id\":\"ob_205\",\"type\":\"observable\"},{})})); gd.on(\"plotly_relayout\",(function (data){var filtered_data=WebIO.PlotlyCommands.filterEventData(gd,data,\"relayout\"); return !(filtered_data.isnil) ? (WebIO.setval({\"name\":\"relayout\",\"scope\":\"8819651976427407612\",\"id\":\"ob_207\",\"type\":\"observable\"},filtered_data.out)) : undefined})); return gd.on(\"plotly_click\",(function (data){var filtered_data=WebIO.PlotlyCommands.filterEventData(gd,data,\"click\"); return !(filtered_data.isnil) ? (WebIO.setval({\"name\":\"click\",\"scope\":\"8819651976427407612\",\"id\":\"ob_206\",\"type\":\"observable\"},filtered_data.out)) : undefined}))}));\n    (WebIO.importBlock({\"data\":[{\"name\":\"Plotly\",\"type\":\"js\",\"url\":\"/assetserver/97a1af6d43bec17f982ce6699d23c6a6399c0662-plotly-latest.min.js\"},{\"name\":null,\"type\":\"js\",\"url\":\"/assetserver/dda18c5c0a078ca7d31a0db6b56636033afec9a4-plotly_webio.bundle.js\"}],\"type\":\"async_block\"})).then((imports) => handler.apply(this, imports));\n}\n"
        ],
        "observables": {
         "__gd_contents": {
          "id": "ob_209",
          "sync": false,
          "value": {}
         },
         "__get_gd_contents": {
          "id": "ob_213",
          "sync": false,
          "value": ""
         },
         "_commands": {
          "id": "ob_210",
          "sync": false,
          "value": []
         },
         "_downloadImage": {
          "id": "ob_212",
          "sync": false,
          "value": {}
         },
         "_toImage": {
          "id": "ob_211",
          "sync": false,
          "value": {}
         },
         "click": {
          "id": "ob_206",
          "sync": false,
          "value": {}
         },
         "hover": {
          "id": "ob_204",
          "sync": false,
          "value": {}
         },
         "image": {
          "id": "ob_208",
          "sync": true,
          "value": ""
         },
         "relayout": {
          "id": "ob_207",
          "sync": false,
          "value": {}
         },
         "selected": {
          "id": "ob_205",
          "sync": false,
          "value": {}
         }
        },
        "systemjs_options": null
       },
       "nodeType": "Scope",
       "props": {},
       "type": "node"
      },
      "text/html": [
       "<div\n",
       "    class=\"webio-mountpoint\"\n",
       "    data-webio-mountpoint=\"16993763497572990800\"\n",
       ">\n",
       "    <script>\n",
       "    if (window.require && require.defined && require.defined(\"nbextensions/webio-jupyter-notebook\")) {\n",
       "        console.log(\"Jupyter WebIO extension detected, not mounting.\");\n",
       "    } else if (window.WebIO) {\n",
       "        WebIO.mount(\n",
       "            document.querySelector('[data-webio-mountpoint=\"16993763497572990800\"]'),\n",
       "            {\"props\":{},\"nodeType\":\"Scope\",\"type\":\"node\",\"instanceArgs\":{\"imports\":{\"data\":[{\"name\":\"Plotly\",\"type\":\"js\",\"url\":\"\\/assetserver\\/97a1af6d43bec17f982ce6699d23c6a6399c0662-plotly-latest.min.js\"},{\"name\":null,\"type\":\"js\",\"url\":\"\\/assetserver\\/dda18c5c0a078ca7d31a0db6b56636033afec9a4-plotly_webio.bundle.js\"}],\"type\":\"async_block\"},\"id\":\"8819651976427407612\",\"handlers\":{\"_toImage\":[\"(function (options){return this.Plotly.toImage(this.plotElem,options).then((function (data){return WebIO.setval({\\\"name\\\":\\\"image\\\",\\\"scope\\\":\\\"8819651976427407612\\\",\\\"id\\\":\\\"ob_208\\\",\\\"type\\\":\\\"observable\\\"},data)}))})\"],\"__get_gd_contents\":[\"(function (prop){prop==\\\"data\\\" ? (WebIO.setval({\\\"name\\\":\\\"__gd_contents\\\",\\\"scope\\\":\\\"8819651976427407612\\\",\\\"id\\\":\\\"ob_209\\\",\\\"type\\\":\\\"observable\\\"},this.plotElem.data)) : undefined; return prop==\\\"layout\\\" ? (WebIO.setval({\\\"name\\\":\\\"__gd_contents\\\",\\\"scope\\\":\\\"8819651976427407612\\\",\\\"id\\\":\\\"ob_209\\\",\\\"type\\\":\\\"observable\\\"},this.plotElem.layout)) : undefined})\"],\"_downloadImage\":[\"(function (options){return this.Plotly.downloadImage(this.plotElem,options)})\"],\"_commands\":[\"(function (args){var fn=args.shift(); var elem=this.plotElem; var Plotly=this.Plotly; args.unshift(elem); return Plotly[fn].apply(this,args)})\"]},\"systemjs_options\":null,\"mount_callbacks\":[\"function () {\\n    var handler = ((function (Plotly,PlotlyWebIO){PlotlyWebIO.init(WebIO); var gd=this.dom.querySelector(\\\"#plot-3611b194-52c5-4bac-abd5-f9dd3dd67f50\\\"); this.plotElem=gd; this.Plotly=Plotly; (window.Blink!==undefined) ? (gd.style.width=\\\"100%\\\", gd.style.height=\\\"100vh\\\", gd.style.marginLeft=\\\"0%\\\", gd.style.marginTop=\\\"0vh\\\") : undefined; window.onresize=(function (){return Plotly.Plots.resize(gd)}); Plotly.newPlot(gd,[],{\\\"showlegend\\\":false,\\\"autosize\\\":true,\\\"height\\\":400,\\\"margin\\\":{\\\"l\\\":0,\\\"b\\\":0,\\\"r\\\":0,\\\"t\\\":0},\\\"scene\\\":{\\\"xaxis\\\":{\\\"showticklabels\\\":false},\\\"aspectmode\\\":\\\"data\\\",\\\"yaxis\\\":{\\\"showticklabels\\\":false},\\\"zaxis\\\":{\\\"showticklabels\\\":false}},\\\"width\\\":600},{\\\"showLink\\\":false}); gd.on(\\\"plotly_hover\\\",(function (data){var filtered_data=WebIO.PlotlyCommands.filterEventData(gd,data,\\\"hover\\\"); return !(filtered_data.isnil) ? (WebIO.setval({\\\"name\\\":\\\"hover\\\",\\\"scope\\\":\\\"8819651976427407612\\\",\\\"id\\\":\\\"ob_204\\\",\\\"type\\\":\\\"observable\\\"},filtered_data.out)) : undefined})); gd.on(\\\"plotly_unhover\\\",(function (){return WebIO.setval({\\\"name\\\":\\\"hover\\\",\\\"scope\\\":\\\"8819651976427407612\\\",\\\"id\\\":\\\"ob_204\\\",\\\"type\\\":\\\"observable\\\"},{})})); gd.on(\\\"plotly_selected\\\",(function (data){var filtered_data=WebIO.PlotlyCommands.filterEventData(gd,data,\\\"selected\\\"); return !(filtered_data.isnil) ? (WebIO.setval({\\\"name\\\":\\\"selected\\\",\\\"scope\\\":\\\"8819651976427407612\\\",\\\"id\\\":\\\"ob_205\\\",\\\"type\\\":\\\"observable\\\"},filtered_data.out)) : undefined})); gd.on(\\\"plotly_deselect\\\",(function (){return WebIO.setval({\\\"name\\\":\\\"selected\\\",\\\"scope\\\":\\\"8819651976427407612\\\",\\\"id\\\":\\\"ob_205\\\",\\\"type\\\":\\\"observable\\\"},{})})); gd.on(\\\"plotly_relayout\\\",(function (data){var filtered_data=WebIO.PlotlyCommands.filterEventData(gd,data,\\\"relayout\\\"); return !(filtered_data.isnil) ? (WebIO.setval({\\\"name\\\":\\\"relayout\\\",\\\"scope\\\":\\\"8819651976427407612\\\",\\\"id\\\":\\\"ob_207\\\",\\\"type\\\":\\\"observable\\\"},filtered_data.out)) : undefined})); return gd.on(\\\"plotly_click\\\",(function (data){var filtered_data=WebIO.PlotlyCommands.filterEventData(gd,data,\\\"click\\\"); return !(filtered_data.isnil) ? (WebIO.setval({\\\"name\\\":\\\"click\\\",\\\"scope\\\":\\\"8819651976427407612\\\",\\\"id\\\":\\\"ob_206\\\",\\\"type\\\":\\\"observable\\\"},filtered_data.out)) : undefined}))}));\\n    (WebIO.importBlock({\\\"data\\\":[{\\\"name\\\":\\\"Plotly\\\",\\\"type\\\":\\\"js\\\",\\\"url\\\":\\\"\\/assetserver\\/97a1af6d43bec17f982ce6699d23c6a6399c0662-plotly-latest.min.js\\\"},{\\\"name\\\":null,\\\"type\\\":\\\"js\\\",\\\"url\\\":\\\"\\/assetserver\\/dda18c5c0a078ca7d31a0db6b56636033afec9a4-plotly_webio.bundle.js\\\"}],\\\"type\\\":\\\"async_block\\\"})).then((imports) => handler.apply(this, imports));\\n}\\n\"],\"observables\":{\"_toImage\":{\"sync\":false,\"id\":\"ob_211\",\"value\":{}},\"hover\":{\"sync\":false,\"id\":\"ob_204\",\"value\":{}},\"selected\":{\"sync\":false,\"id\":\"ob_205\",\"value\":{}},\"__gd_contents\":{\"sync\":false,\"id\":\"ob_209\",\"value\":{}},\"click\":{\"sync\":false,\"id\":\"ob_206\",\"value\":{}},\"image\":{\"sync\":true,\"id\":\"ob_208\",\"value\":\"\"},\"__get_gd_contents\":{\"sync\":false,\"id\":\"ob_213\",\"value\":\"\"},\"_downloadImage\":{\"sync\":false,\"id\":\"ob_212\",\"value\":{}},\"relayout\":{\"sync\":false,\"id\":\"ob_207\",\"value\":{}},\"_commands\":{\"sync\":false,\"id\":\"ob_210\",\"value\":[]}}},\"children\":[{\"props\":{\"id\":\"plot-3611b194-52c5-4bac-abd5-f9dd3dd67f50\"},\"nodeType\":\"DOM\",\"type\":\"node\",\"instanceArgs\":{\"namespace\":\"html\",\"tag\":\"div\"},\"children\":[]}]},\n",
       "            window,\n",
       "        );\n",
       "    } else {\n",
       "        document\n",
       "            .querySelector('[data-webio-mountpoint=\"16993763497572990800\"]')\n",
       "            .innerHTML = (\n",
       "                '<div style=\"padding: 1em; background-color: #f8d6da; border: 1px solid #f5c6cb\">' +\n",
       "                '<p><strong>WebIO not detected.</strong></p>' +\n",
       "                '<p>Please read ' +\n",
       "                '<a href=\"https://juliagizmos.github.io/WebIO.jl/latest/troubleshooting/not-detected/\" target=\"_blank\">the troubleshooting guide</a> ' +\n",
       "                'for more information on how to resolve this issue.</p>' +\n",
       "                '<p><a href=\"https://juliagizmos.github.io/WebIO.jl/latest/troubleshooting/not-detected/\" target=\"_blank\">https://juliagizmos.github.io/WebIO.jl/latest/troubleshooting/not-detected/</a></p>' +\n",
       "                '</div>'\n",
       "            );\n",
       "    }\n",
       "    </script>\n",
       "</div>\n"
      ],
      "text/plain": [
       "data: []\n",
       "\n",
       "layout: \"layout with fields autosize, height, margin, scene, showlegend, and width\"\n",
       "\n"
      ]
     },
     "metadata": {
      "application/vnd.webio.node+json": {
       "kernelId": "39a39940-e927-4336-b049-21782b40626f"
      }
     },
     "output_type": "display_data"
    }
   ],
   "source": [
    "@test begin\n",
    "new_backend()\n",
    "\n",
    "facade = Surf((i,j)-> xz(i,j), 0, 10, 0, 10)\n",
    "\n",
    "ptss = weave_ptss_centered(facade, 10, 10, 0.2, [[+1,-1],[-1,+1]], [[0.3], [0.3]], true)\n",
    "\n",
    "map(i->spline(i), ptss[1])\n",
    "map(i->spline(i), ptss[2])\n",
    "nothing \n",
    "    \n",
    "end"
   ]
  },
  {
   "cell_type": "code",
   "execution_count": null,
   "metadata": {},
   "outputs": [],
   "source": [
    "@test begin\n",
    "new_backend()\n",
    "\n",
    "facade = Surf((i,j)-> xz(i,j), 12, 22, 0, 10)\n",
    "\n",
    "ptss = weave_ptss_centered(facade, 10, 10, 0.2, [[+1,+1,-1,-1],[-1,-1,+1,+1]], [[0.3], [0.3]], true)\n",
    "\n",
    "map(i->spline(i), ptss[1])\n",
    "map(i->spline(i), ptss[2])\n",
    "nothing  \n",
    "\n",
    "end"
   ]
  },
  {
   "cell_type": "code",
   "execution_count": null,
   "metadata": {},
   "outputs": [],
   "source": [
    "@test begin\n",
    "new_backend()\n",
    "\n",
    "facade = Surf((i,j)-> xz(i,j), 24, 34, 0, 10)\n",
    "\n",
    "ptss = weave_ptss_centered(facade, 10, 10, 0.2, [[+1,+1,+1,-1,-1],[-1,-1,-1,+1,+1]], [[0.3], [0.3]], true)\n",
    "\n",
    "map(i->spline(i), ptss[1])\n",
    "map(i->spline(i), ptss[2])\n",
    "nothing \n",
    "    \n",
    "end"
   ]
  },
  {
   "cell_type": "markdown",
   "metadata": {},
   "source": [
    "### Version 3 (straight horizontals)"
   ]
  },
  {
   "cell_type": "markdown",
   "metadata": {},
   "source": [
    "__Parameters:__ matrix of points, number of stripes (vertical and horizontal), amplitude, weave pattern, set of width values, and two boolean values (vertical and horizontal)\n",
    "\n",
    "* Allow horizontal stripes not to undulate -> structurally active elements\n",
    "* Use `is_horizotal_straight=true` for static stripes"
   ]
  },
  {
   "cell_type": "markdown",
   "metadata": {},
   "source": [
    "| sketch 14                                         |\n",
    "|---------------------------------------------------|\n",
    "| <img src=\"./figures/sketches/14.png\" width=\"300\"> |"
   ]
  },
  {
   "cell_type": "code",
   "execution_count": 99,
   "metadata": {},
   "outputs": [
    {
     "data": {
      "text/plain": [
       "weave_ptss_centered (generic function with 3 methods)"
      ]
     },
     "execution_count": 99,
     "metadata": {},
     "output_type": "execute_result"
    }
   ],
   "source": [
    "weave_ptss_centered(s, nu, nv, amp, weave_pattern, stripes_widths,\n",
    "                    is_vertical_straight=false, is_horizotal_straight=false) =\n",
    "    let Δu_ini = maximum(stripes_widths[1])/2,\n",
    "        Δv_ini = maximum(stripes_widths[2])/2,\n",
    "        ptss_v = surf_pts(s.f, s.u0 + Δu_ini, s.u1 - Δu_ini, s.v0, s.v1, nu - 1, nv - 1),\n",
    "        ptss_u = transpose_matrix(surf_pts(s.f, s.u0, s.u1, s.v0 + Δv_ini, s.v1 - Δv_ini, nu - 1, nv - 1)),\n",
    "        inverse_weave_pattern = transpose_matrix(weave_pattern),\n",
    "        amp_v = is_vertical_straight ? 0 : amp,\n",
    "        amp_u = is_horizotal_straight ? 0 : amp\n",
    "      [stripes_2D_ptss(ptss_v, amp_v, weave_pattern),\n",
    "       stripes_2D_ptss(ptss_u, amp_u, inverse_weave_pattern)]\n",
    "   end"
   ]
  },
  {
   "cell_type": "markdown",
   "metadata": {},
   "source": [
    "Test `weave_ptss_centered` function.\n",
    "The expected result is a set of weaved splines with straight horizontals."
   ]
  },
  {
   "cell_type": "code",
   "execution_count": 100,
   "metadata": {},
   "outputs": [
    {
     "data": {
      "application/vnd.plotly.v1+json": {
       "data": [],
       "layout": {
        "autosize": true,
        "height": 400,
        "margin": {
         "b": 0,
         "l": 0,
         "r": 0,
         "t": 0
        },
        "scene": {
         "aspectmode": "data",
         "xaxis": {
          "showticklabels": false
         },
         "yaxis": {
          "showticklabels": false
         },
         "zaxis": {
          "showticklabels": false
         }
        },
        "showlegend": false,
        "width": 600
       }
      },
      "application/vnd.webio.node+json": {
       "children": [
        {
         "children": [],
         "instanceArgs": {
          "namespace": "html",
          "tag": "div"
         },
         "nodeType": "DOM",
         "props": {
          "id": "plot-c4d3f7ad-7e95-4ae7-8822-a3d89a5be6cd"
         },
         "type": "node"
        }
       ],
       "instanceArgs": {
        "handlers": {
         "__get_gd_contents": [
          "(function (prop){prop==\"data\" ? (WebIO.setval({\"name\":\"__gd_contents\",\"scope\":\"10101684229964848071\",\"id\":\"ob_219\",\"type\":\"observable\"},this.plotElem.data)) : undefined; return prop==\"layout\" ? (WebIO.setval({\"name\":\"__gd_contents\",\"scope\":\"10101684229964848071\",\"id\":\"ob_219\",\"type\":\"observable\"},this.plotElem.layout)) : undefined})"
         ],
         "_commands": [
          "(function (args){var fn=args.shift(); var elem=this.plotElem; var Plotly=this.Plotly; args.unshift(elem); return Plotly[fn].apply(this,args)})"
         ],
         "_downloadImage": [
          "(function (options){return this.Plotly.downloadImage(this.plotElem,options)})"
         ],
         "_toImage": [
          "(function (options){return this.Plotly.toImage(this.plotElem,options).then((function (data){return WebIO.setval({\"name\":\"image\",\"scope\":\"10101684229964848071\",\"id\":\"ob_218\",\"type\":\"observable\"},data)}))})"
         ]
        },
        "id": "10101684229964848071",
        "imports": {
         "data": [
          {
           "name": "Plotly",
           "type": "js",
           "url": "/assetserver/97a1af6d43bec17f982ce6699d23c6a6399c0662-plotly-latest.min.js"
          },
          {
           "name": null,
           "type": "js",
           "url": "/assetserver/dda18c5c0a078ca7d31a0db6b56636033afec9a4-plotly_webio.bundle.js"
          }
         ],
         "type": "async_block"
        },
        "mount_callbacks": [
         "function () {\n    var handler = ((function (Plotly,PlotlyWebIO){PlotlyWebIO.init(WebIO); var gd=this.dom.querySelector(\"#plot-c4d3f7ad-7e95-4ae7-8822-a3d89a5be6cd\"); this.plotElem=gd; this.Plotly=Plotly; (window.Blink!==undefined) ? (gd.style.width=\"100%\", gd.style.height=\"100vh\", gd.style.marginLeft=\"0%\", gd.style.marginTop=\"0vh\") : undefined; window.onresize=(function (){return Plotly.Plots.resize(gd)}); Plotly.newPlot(gd,[],{\"showlegend\":false,\"autosize\":true,\"height\":400,\"margin\":{\"l\":0,\"b\":0,\"r\":0,\"t\":0},\"scene\":{\"xaxis\":{\"showticklabels\":false},\"aspectmode\":\"data\",\"yaxis\":{\"showticklabels\":false},\"zaxis\":{\"showticklabels\":false}},\"width\":600},{\"showLink\":false}); gd.on(\"plotly_hover\",(function (data){var filtered_data=WebIO.PlotlyCommands.filterEventData(gd,data,\"hover\"); return !(filtered_data.isnil) ? (WebIO.setval({\"name\":\"hover\",\"scope\":\"10101684229964848071\",\"id\":\"ob_214\",\"type\":\"observable\"},filtered_data.out)) : undefined})); gd.on(\"plotly_unhover\",(function (){return WebIO.setval({\"name\":\"hover\",\"scope\":\"10101684229964848071\",\"id\":\"ob_214\",\"type\":\"observable\"},{})})); gd.on(\"plotly_selected\",(function (data){var filtered_data=WebIO.PlotlyCommands.filterEventData(gd,data,\"selected\"); return !(filtered_data.isnil) ? (WebIO.setval({\"name\":\"selected\",\"scope\":\"10101684229964848071\",\"id\":\"ob_215\",\"type\":\"observable\"},filtered_data.out)) : undefined})); gd.on(\"plotly_deselect\",(function (){return WebIO.setval({\"name\":\"selected\",\"scope\":\"10101684229964848071\",\"id\":\"ob_215\",\"type\":\"observable\"},{})})); gd.on(\"plotly_relayout\",(function (data){var filtered_data=WebIO.PlotlyCommands.filterEventData(gd,data,\"relayout\"); return !(filtered_data.isnil) ? (WebIO.setval({\"name\":\"relayout\",\"scope\":\"10101684229964848071\",\"id\":\"ob_217\",\"type\":\"observable\"},filtered_data.out)) : undefined})); return gd.on(\"plotly_click\",(function (data){var filtered_data=WebIO.PlotlyCommands.filterEventData(gd,data,\"click\"); return !(filtered_data.isnil) ? (WebIO.setval({\"name\":\"click\",\"scope\":\"10101684229964848071\",\"id\":\"ob_216\",\"type\":\"observable\"},filtered_data.out)) : undefined}))}));\n    (WebIO.importBlock({\"data\":[{\"name\":\"Plotly\",\"type\":\"js\",\"url\":\"/assetserver/97a1af6d43bec17f982ce6699d23c6a6399c0662-plotly-latest.min.js\"},{\"name\":null,\"type\":\"js\",\"url\":\"/assetserver/dda18c5c0a078ca7d31a0db6b56636033afec9a4-plotly_webio.bundle.js\"}],\"type\":\"async_block\"})).then((imports) => handler.apply(this, imports));\n}\n"
        ],
        "observables": {
         "__gd_contents": {
          "id": "ob_219",
          "sync": false,
          "value": {}
         },
         "__get_gd_contents": {
          "id": "ob_223",
          "sync": false,
          "value": ""
         },
         "_commands": {
          "id": "ob_220",
          "sync": false,
          "value": []
         },
         "_downloadImage": {
          "id": "ob_222",
          "sync": false,
          "value": {}
         },
         "_toImage": {
          "id": "ob_221",
          "sync": false,
          "value": {}
         },
         "click": {
          "id": "ob_216",
          "sync": false,
          "value": {}
         },
         "hover": {
          "id": "ob_214",
          "sync": false,
          "value": {}
         },
         "image": {
          "id": "ob_218",
          "sync": true,
          "value": ""
         },
         "relayout": {
          "id": "ob_217",
          "sync": false,
          "value": {}
         },
         "selected": {
          "id": "ob_215",
          "sync": false,
          "value": {}
         }
        },
        "systemjs_options": null
       },
       "nodeType": "Scope",
       "props": {},
       "type": "node"
      },
      "text/html": [
       "<div\n",
       "    class=\"webio-mountpoint\"\n",
       "    data-webio-mountpoint=\"13559173396826622591\"\n",
       ">\n",
       "    <script>\n",
       "    if (window.require && require.defined && require.defined(\"nbextensions/webio-jupyter-notebook\")) {\n",
       "        console.log(\"Jupyter WebIO extension detected, not mounting.\");\n",
       "    } else if (window.WebIO) {\n",
       "        WebIO.mount(\n",
       "            document.querySelector('[data-webio-mountpoint=\"13559173396826622591\"]'),\n",
       "            {\"props\":{},\"nodeType\":\"Scope\",\"type\":\"node\",\"instanceArgs\":{\"imports\":{\"data\":[{\"name\":\"Plotly\",\"type\":\"js\",\"url\":\"\\/assetserver\\/97a1af6d43bec17f982ce6699d23c6a6399c0662-plotly-latest.min.js\"},{\"name\":null,\"type\":\"js\",\"url\":\"\\/assetserver\\/dda18c5c0a078ca7d31a0db6b56636033afec9a4-plotly_webio.bundle.js\"}],\"type\":\"async_block\"},\"id\":\"10101684229964848071\",\"handlers\":{\"_toImage\":[\"(function (options){return this.Plotly.toImage(this.plotElem,options).then((function (data){return WebIO.setval({\\\"name\\\":\\\"image\\\",\\\"scope\\\":\\\"10101684229964848071\\\",\\\"id\\\":\\\"ob_218\\\",\\\"type\\\":\\\"observable\\\"},data)}))})\"],\"__get_gd_contents\":[\"(function (prop){prop==\\\"data\\\" ? (WebIO.setval({\\\"name\\\":\\\"__gd_contents\\\",\\\"scope\\\":\\\"10101684229964848071\\\",\\\"id\\\":\\\"ob_219\\\",\\\"type\\\":\\\"observable\\\"},this.plotElem.data)) : undefined; return prop==\\\"layout\\\" ? (WebIO.setval({\\\"name\\\":\\\"__gd_contents\\\",\\\"scope\\\":\\\"10101684229964848071\\\",\\\"id\\\":\\\"ob_219\\\",\\\"type\\\":\\\"observable\\\"},this.plotElem.layout)) : undefined})\"],\"_downloadImage\":[\"(function (options){return this.Plotly.downloadImage(this.plotElem,options)})\"],\"_commands\":[\"(function (args){var fn=args.shift(); var elem=this.plotElem; var Plotly=this.Plotly; args.unshift(elem); return Plotly[fn].apply(this,args)})\"]},\"systemjs_options\":null,\"mount_callbacks\":[\"function () {\\n    var handler = ((function (Plotly,PlotlyWebIO){PlotlyWebIO.init(WebIO); var gd=this.dom.querySelector(\\\"#plot-c4d3f7ad-7e95-4ae7-8822-a3d89a5be6cd\\\"); this.plotElem=gd; this.Plotly=Plotly; (window.Blink!==undefined) ? (gd.style.width=\\\"100%\\\", gd.style.height=\\\"100vh\\\", gd.style.marginLeft=\\\"0%\\\", gd.style.marginTop=\\\"0vh\\\") : undefined; window.onresize=(function (){return Plotly.Plots.resize(gd)}); Plotly.newPlot(gd,[],{\\\"showlegend\\\":false,\\\"autosize\\\":true,\\\"height\\\":400,\\\"margin\\\":{\\\"l\\\":0,\\\"b\\\":0,\\\"r\\\":0,\\\"t\\\":0},\\\"scene\\\":{\\\"xaxis\\\":{\\\"showticklabels\\\":false},\\\"aspectmode\\\":\\\"data\\\",\\\"yaxis\\\":{\\\"showticklabels\\\":false},\\\"zaxis\\\":{\\\"showticklabels\\\":false}},\\\"width\\\":600},{\\\"showLink\\\":false}); gd.on(\\\"plotly_hover\\\",(function (data){var filtered_data=WebIO.PlotlyCommands.filterEventData(gd,data,\\\"hover\\\"); return !(filtered_data.isnil) ? (WebIO.setval({\\\"name\\\":\\\"hover\\\",\\\"scope\\\":\\\"10101684229964848071\\\",\\\"id\\\":\\\"ob_214\\\",\\\"type\\\":\\\"observable\\\"},filtered_data.out)) : undefined})); gd.on(\\\"plotly_unhover\\\",(function (){return WebIO.setval({\\\"name\\\":\\\"hover\\\",\\\"scope\\\":\\\"10101684229964848071\\\",\\\"id\\\":\\\"ob_214\\\",\\\"type\\\":\\\"observable\\\"},{})})); gd.on(\\\"plotly_selected\\\",(function (data){var filtered_data=WebIO.PlotlyCommands.filterEventData(gd,data,\\\"selected\\\"); return !(filtered_data.isnil) ? (WebIO.setval({\\\"name\\\":\\\"selected\\\",\\\"scope\\\":\\\"10101684229964848071\\\",\\\"id\\\":\\\"ob_215\\\",\\\"type\\\":\\\"observable\\\"},filtered_data.out)) : undefined})); gd.on(\\\"plotly_deselect\\\",(function (){return WebIO.setval({\\\"name\\\":\\\"selected\\\",\\\"scope\\\":\\\"10101684229964848071\\\",\\\"id\\\":\\\"ob_215\\\",\\\"type\\\":\\\"observable\\\"},{})})); gd.on(\\\"plotly_relayout\\\",(function (data){var filtered_data=WebIO.PlotlyCommands.filterEventData(gd,data,\\\"relayout\\\"); return !(filtered_data.isnil) ? (WebIO.setval({\\\"name\\\":\\\"relayout\\\",\\\"scope\\\":\\\"10101684229964848071\\\",\\\"id\\\":\\\"ob_217\\\",\\\"type\\\":\\\"observable\\\"},filtered_data.out)) : undefined})); return gd.on(\\\"plotly_click\\\",(function (data){var filtered_data=WebIO.PlotlyCommands.filterEventData(gd,data,\\\"click\\\"); return !(filtered_data.isnil) ? (WebIO.setval({\\\"name\\\":\\\"click\\\",\\\"scope\\\":\\\"10101684229964848071\\\",\\\"id\\\":\\\"ob_216\\\",\\\"type\\\":\\\"observable\\\"},filtered_data.out)) : undefined}))}));\\n    (WebIO.importBlock({\\\"data\\\":[{\\\"name\\\":\\\"Plotly\\\",\\\"type\\\":\\\"js\\\",\\\"url\\\":\\\"\\/assetserver\\/97a1af6d43bec17f982ce6699d23c6a6399c0662-plotly-latest.min.js\\\"},{\\\"name\\\":null,\\\"type\\\":\\\"js\\\",\\\"url\\\":\\\"\\/assetserver\\/dda18c5c0a078ca7d31a0db6b56636033afec9a4-plotly_webio.bundle.js\\\"}],\\\"type\\\":\\\"async_block\\\"})).then((imports) => handler.apply(this, imports));\\n}\\n\"],\"observables\":{\"_toImage\":{\"sync\":false,\"id\":\"ob_221\",\"value\":{}},\"hover\":{\"sync\":false,\"id\":\"ob_214\",\"value\":{}},\"selected\":{\"sync\":false,\"id\":\"ob_215\",\"value\":{}},\"__gd_contents\":{\"sync\":false,\"id\":\"ob_219\",\"value\":{}},\"click\":{\"sync\":false,\"id\":\"ob_216\",\"value\":{}},\"image\":{\"sync\":true,\"id\":\"ob_218\",\"value\":\"\"},\"__get_gd_contents\":{\"sync\":false,\"id\":\"ob_223\",\"value\":\"\"},\"_downloadImage\":{\"sync\":false,\"id\":\"ob_222\",\"value\":{}},\"relayout\":{\"sync\":false,\"id\":\"ob_217\",\"value\":{}},\"_commands\":{\"sync\":false,\"id\":\"ob_220\",\"value\":[]}}},\"children\":[{\"props\":{\"id\":\"plot-c4d3f7ad-7e95-4ae7-8822-a3d89a5be6cd\"},\"nodeType\":\"DOM\",\"type\":\"node\",\"instanceArgs\":{\"namespace\":\"html\",\"tag\":\"div\"},\"children\":[]}]},\n",
       "            window,\n",
       "        );\n",
       "    } else {\n",
       "        document\n",
       "            .querySelector('[data-webio-mountpoint=\"13559173396826622591\"]')\n",
       "            .innerHTML = (\n",
       "                '<div style=\"padding: 1em; background-color: #f8d6da; border: 1px solid #f5c6cb\">' +\n",
       "                '<p><strong>WebIO not detected.</strong></p>' +\n",
       "                '<p>Please read ' +\n",
       "                '<a href=\"https://juliagizmos.github.io/WebIO.jl/latest/troubleshooting/not-detected/\" target=\"_blank\">the troubleshooting guide</a> ' +\n",
       "                'for more information on how to resolve this issue.</p>' +\n",
       "                '<p><a href=\"https://juliagizmos.github.io/WebIO.jl/latest/troubleshooting/not-detected/\" target=\"_blank\">https://juliagizmos.github.io/WebIO.jl/latest/troubleshooting/not-detected/</a></p>' +\n",
       "                '</div>'\n",
       "            );\n",
       "    }\n",
       "    </script>\n",
       "</div>\n"
      ],
      "text/plain": [
       "data: []\n",
       "\n",
       "layout: \"layout with fields autosize, height, margin, scene, showlegend, and width\"\n",
       "\n"
      ]
     },
     "metadata": {
      "application/vnd.webio.node+json": {
       "kernelId": "39a39940-e927-4336-b049-21782b40626f"
      }
     },
     "output_type": "display_data"
    }
   ],
   "source": [
    "@test begin \n",
    "new_backend()\n",
    "\n",
    "facade = Surf((i,j)-> xz(i,j), 0, 10, 0, 10)\n",
    "\n",
    "ptss = weave_ptss_centered(facade, 10, 10, 0.2, [[+1,-1],[-1,+1]], [[0.3], [0.3]], false, true)\n",
    "\n",
    "map(i->spline(i), ptss[1])\n",
    "map(i->spline(i), ptss[2])\n",
    "nothing\n",
    "\n",
    "end"
   ]
  },
  {
   "cell_type": "code",
   "execution_count": null,
   "metadata": {},
   "outputs": [],
   "source": [
    "@test begin \n",
    "new_backend()\n",
    "\n",
    "facade = Surf((i,j)-> xz(i,j), 12, 22, 0, 10)\n",
    "\n",
    "ptss = weave_ptss_centered(facade, 10, 10, 0.2, [[+1,+1,-1,-1],[-1,-1,+1,+1]], [[0.3], [0.3]], false, true)\n",
    "\n",
    "map(i->spline(i), ptss[1])\n",
    "map(i->spline(i), ptss[2])\n",
    "nothing\n",
    "    \n",
    "end"
   ]
  },
  {
   "cell_type": "code",
   "execution_count": null,
   "metadata": {},
   "outputs": [],
   "source": [
    "@test begin \n",
    "new_backend()\n",
    "\n",
    "facade = Surf((i,j)-> xz(i,j), 24, 34, 0, 10)\n",
    "\n",
    "ptss = weave_ptss_centered(facade, 10, 10, 0.2, [[+1,+1,+1,-1,-1],[-1,-1,-1,+1,+1]], [[0.3], [0.3]], false, true)\n",
    "nothing\n",
    "\n",
    "map(i->spline(i), ptss[1])\n",
    "map(i->spline(i), ptss[2])\n",
    "nothing\n",
    "    \n",
    "end"
   ]
  },
  {
   "cell_type": "markdown",
   "metadata": {},
   "source": [
    "## Function that Creates a Stripe"
   ]
  },
  {
   "cell_type": "markdown",
   "metadata": {},
   "source": [
    "Materializes the stripes to a physical elements, with the appropriate width and thickness."
   ]
  },
  {
   "cell_type": "code",
   "execution_count": 101,
   "metadata": {},
   "outputs": [
    {
     "data": {
      "text/plain": [
       "Khepri.MCATBackend{Khepri.MCATKey,String}"
      ]
     },
     "execution_count": 101,
     "metadata": {},
     "output_type": "execute_result"
    }
   ],
   "source": [
    "backend(meshcat)"
   ]
  },
  {
   "cell_type": "code",
   "execution_count": 102,
   "metadata": {},
   "outputs": [],
   "source": [
    "Khepri.meshcat_material(color) =\n",
    "  (uuid=string(Khepri.uuid1()),\n",
    "   type=\"MeshLambertMaterial\",\n",
    "   side=2,\n",
    "   color=\"0x$(Khepri.hex(color))\",\n",
    "   emissive=\"0x$(Khepri.hex(color))\",\n",
    "   emissiveIntensity=0.2)"
   ]
  },
  {
   "cell_type": "code",
   "execution_count": 103,
   "metadata": {},
   "outputs": [],
   "source": [
    "vertical=create_layer(\"vertical\", true, RGB(211/255, 146/255, 212/255))\n",
    "horizontal=create_layer(\"horizontal\", true, RGB(124/255, 70/255, 156/255))\n",
    "nothing"
   ]
  },
  {
   "cell_type": "markdown",
   "metadata": {},
   "source": [
    "### Version 1 (materialize stripe)"
   ]
  },
  {
   "cell_type": "markdown",
   "metadata": {},
   "source": [
    "__Parameters:__ points, stripe width, and thickness\n",
    "\n",
    "* Calculate the points delimiting the contour of the stripe\n",
    "* Materialize those points in the form of a surface with the desired thickness"
   ]
  },
  {
   "cell_type": "markdown",
   "metadata": {},
   "source": [
    "| Materializing a stripe.                           |\n",
    "|---------------------------------------------------|\n",
    "| <img src=\"./figures/sketches/15.png\" width=\"400\"> |"
   ]
  },
  {
   "cell_type": "code",
   "execution_count": 104,
   "metadata": {},
   "outputs": [
    {
     "data": {
      "text/plain": [
       "smooth_pts (generic function with 1 method)"
      ]
     },
     "execution_count": 104,
     "metadata": {},
     "output_type": "execute_result"
    }
   ],
   "source": [
    "smooth_pts(pts) = map_division(in_world, open_spline_path(pts), 50)"
   ]
  },
  {
   "cell_type": "code",
   "execution_count": 105,
   "metadata": {},
   "outputs": [
    {
     "data": {
      "text/plain": [
       "smooth_surface_grid (generic function with 1 method)"
      ]
     },
     "execution_count": 105,
     "metadata": {},
     "output_type": "execute_result"
    }
   ],
   "source": [
    "smooth_surface_grid(ptss)=surface_grid(smooth_pts.(ptss))"
   ]
  },
  {
   "cell_type": "code",
   "execution_count": 106,
   "metadata": {},
   "outputs": [
    {
     "data": {
      "text/plain": [
       "stripe_centered (generic function with 3 methods)"
      ]
     },
     "execution_count": 106,
     "metadata": {},
     "output_type": "execute_result"
    }
   ],
   "source": [
    "stripe_centered(pts, stripe_width, stripe_thick) =\n",
    "    with(current_layer, vertical) do    \n",
    "        thicken(\n",
    "            smooth_surface_grid([map(pt-> pt-vpol(stripe_width/2, 0), pts),\n",
    "                          map(pt-> pt+vpol(stripe_width/2, 0), pts)]),\n",
    "            stripe_thick)\n",
    "        end"
   ]
  },
  {
   "cell_type": "markdown",
   "metadata": {},
   "source": [
    "Test `stripe_centered` function.\n",
    "The expected result is a stripe."
   ]
  },
  {
   "cell_type": "code",
   "execution_count": 107,
   "metadata": {},
   "outputs": [
    {
     "name": "stderr",
     "output_type": "stream",
     "text": [
      "┌ Info: MeshCat server started. You can open the visualizer by visiting the following URL in your browser:\n",
      "│ http://localhost:8717\n",
      "└ @ MeshCat C:\\Users\\iicpe\\.julia\\packages\\MeshCat\\ECbzr\\src\\visualizer.jl:73\n"
     ]
    },
    {
     "data": {
      "text/html": [
       "    <div style=\"height: 500px; width: 100%; overflow-x: auto; overflow-y: hidden; resize: both\">\n",
       "    <iframe src=\"http://localhost:8717\" style=\"width: 100%; height: 100%; border: none\"></iframe>\n",
       "    </div>\n"
      ],
      "text/plain": [
       "MeshCat.DisplayedVisualizer(MeshCat.CoreVisualizer(MeshCat.SceneTrees.SceneNode(nothing, nothing, Dict{String,Array{UInt8,1}}(), nothing, Dict{String,MeshCat.SceneTrees.SceneNode}()), Set(Any[]), ip\"127.0.0.1\", 8717))"
      ]
     },
     "metadata": {},
     "output_type": "display_data"
    },
    {
     "data": {
      "text/plain": [
       "Thicken(...)"
      ]
     },
     "execution_count": 107,
     "metadata": {},
     "output_type": "execute_result"
    }
   ],
   "source": [
    "@test begin\n",
    "new_backend()\n",
    "set_view(xyz(7.229,6.523,0.167), u0(), 20)\n",
    "\n",
    "facade = Surf((i,j)-> xz(i,j-5), 0, 10, 0, 10)\n",
    "\n",
    "ptss = weave_ptss_centered(facade, 10, 10, 0.2, [[+1,-1],[-1,+1]], [[0.3], [0.3]], false, true)\n",
    "stripe_centered(ptss[1][1], 0.3, 0.01)\n",
    "\n",
    "ptss = weave_ptss_centered(facade, 10, 10, 0.2, [[+1,-1,-1],[-1,+1,+1]], [[0.3], [0.3]], false, true)\n",
    "stripe_centered(ptss[1][2], 0.3, 0.01)\n",
    "\n",
    "ptss = weave_ptss_centered(facade, 10, 10, 0.2, [[+1,+1,-1,-1,-1],[-1,-1,+1,+1,+1]], [[0.3], [0.3]], false, true)\n",
    "stripe_centered(ptss[1][3], 0.3, 0.01)\n",
    "\n",
    "ptss = weave_ptss_centered(facade, 10, 10, 0.2, [[+1,-1,-1,-1,-1],[-1,+1,+1,+1,+1]], [[0.3], [0.3]], false, true)\n",
    "stripe_centered(ptss[1][4], 0.3, 0.01)\n",
    "    \n",
    "end"
   ]
  },
  {
   "cell_type": "markdown",
   "metadata": {},
   "source": [
    "### Version 2 (scale factor)"
   ]
  },
  {
   "cell_type": "markdown",
   "metadata": {},
   "source": [
    "__Parameters:__ points, stripe width and thickness, and width scale function\n",
    "\n",
    "* In case the width scale function returns a constant value of 1, the stripe's width never changes\n",
    "* Otherwise, the width varies according to the factor received, being 0 the minimum and 1 the maximum possible values"
   ]
  },
  {
   "cell_type": "markdown",
   "metadata": {},
   "source": [
    "| Stripe width variation.                           |\n",
    "|---------------------------------------------------|\n",
    "| <img src=\"./figures/sketches/16.png\" width=\"400\"> |"
   ]
  },
  {
   "cell_type": "code",
   "execution_count": 108,
   "metadata": {},
   "outputs": [
    {
     "data": {
      "text/plain": [
       "stripe_centered (generic function with 3 methods)"
      ]
     },
     "execution_count": 108,
     "metadata": {},
     "output_type": "execute_result"
    }
   ],
   "source": [
    "stripe_centered(pts, stripe_width, stripe_thick, f_width) =\n",
    "    with(current_layer, vertical) do  \n",
    "        thicken(\n",
    "            smooth_surface_grid([map(pt-> pt-vpol(stripe_width/2 + f_width(pt), 0), pts),\n",
    "                          map(pt-> pt+vpol(stripe_width/2 + f_width(pt), 0), pts)]),\n",
    "                stripe_thick)\n",
    "    end"
   ]
  },
  {
   "cell_type": "markdown",
   "metadata": {},
   "source": [
    "Test `stripe_centered` function.\n",
    "The expected results are stripes with varying widths."
   ]
  },
  {
   "cell_type": "code",
   "execution_count": 109,
   "metadata": {},
   "outputs": [
    {
     "name": "stderr",
     "output_type": "stream",
     "text": [
      "┌ Info: MeshCat server started. You can open the visualizer by visiting the following URL in your browser:\n",
      "│ http://localhost:8718\n",
      "└ @ MeshCat C:\\Users\\iicpe\\.julia\\packages\\MeshCat\\ECbzr\\src\\visualizer.jl:73\n"
     ]
    },
    {
     "data": {
      "text/html": [
       "    <div style=\"height: 500px; width: 100%; overflow-x: auto; overflow-y: hidden; resize: both\">\n",
       "    <iframe src=\"http://localhost:8718\" style=\"width: 100%; height: 100%; border: none\"></iframe>\n",
       "    </div>\n"
      ],
      "text/plain": [
       "MeshCat.DisplayedVisualizer(MeshCat.CoreVisualizer(MeshCat.SceneTrees.SceneNode(nothing, nothing, Dict{String,Array{UInt8,1}}(), nothing, Dict{String,MeshCat.SceneTrees.SceneNode}()), Set(Any[]), ip\"127.0.0.1\", 8718))"
      ]
     },
     "metadata": {},
     "output_type": "display_data"
    },
    {
     "data": {
      "text/plain": [
       "Thicken(...)"
      ]
     },
     "execution_count": 109,
     "metadata": {},
     "output_type": "execute_result"
    }
   ],
   "source": [
    "@test begin\n",
    "new_backend()\n",
    "set_view(xyz(7.229,6.523,0.167), u0(), 20)\n",
    "    \n",
    "facade = Surf((i,j)-> xz(i,j-5), 0, 10, 0, 10)\n",
    "\n",
    "ptss = weave_ptss_centered(facade, 10, 10, 0.2, [[+1,-1],[-1,+1]], [[0.3], [0.3]], false, true)\n",
    "\n",
    "stripe_centered(ptss[1][1], 0.3, 0.01, i->sin(i.z/pi/4))\n",
    "\n",
    "stripe_centered(ptss[1][3], 0.3, 0.01, i->sin(pi/2+i.z/pi/2)) \n",
    "\n",
    "stripe_centered(ptss[1][5], 0.3, 0.01, i->sin(i.z/pi))\n",
    "\n",
    "stripe_centered(ptss[1][7], 0.3, 0.01, i->0.5*abs(sin(i.z*2pi)))\n",
    "    \n",
    "end"
   ]
  },
  {
   "cell_type": "markdown",
   "metadata": {},
   "source": [
    "### Version 3 (rotation)"
   ]
  },
  {
   "cell_type": "markdown",
   "metadata": {},
   "source": [
    "__Parameters:__ points, stripe width and thickness, width scale function, and rotation function\n",
    "\n",
    "* In case the rotation function returns a constant value of 1, the stripe's angle does not change. \n",
    "* Otherwise, the rotation varies according to the factor received, being 0 the minimum and 1 the maximum possible values."
   ]
  },
  {
   "cell_type": "markdown",
   "metadata": {},
   "source": [
    "| Stripe rotation.                                  |\n",
    "|---------------------------------------------------|\n",
    "| <img src=\"./figures/sketches/17.png\" width=\"400\"> |"
   ]
  },
  {
   "cell_type": "code",
   "execution_count": 110,
   "metadata": {},
   "outputs": [
    {
     "data": {
      "text/plain": [
       "stripe_centered (generic function with 3 methods)"
      ]
     },
     "execution_count": 110,
     "metadata": {},
     "output_type": "execute_result"
    }
   ],
   "source": [
    "stripe_centered(pts, stripe_width, stripe_thick, f_width, f_rotations) =\n",
    "        thicken(\n",
    "            smooth_surface_grid([map(pt-> pt-vpol(stripe_width/2 + f_width(pt), f_rotations[1](pt)), pts),\n",
    "                          map(pt-> pt+vpol(stripe_width/2 + f_width(pt), f_rotations[2](pt)), pts)]),\n",
    "                stripe_thick)"
   ]
  },
  {
   "cell_type": "markdown",
   "metadata": {},
   "source": [
    "Test `stripe_centered` function.\n",
    "The expected results are stripes with varying widths and rotations."
   ]
  },
  {
   "cell_type": "markdown",
   "metadata": {},
   "source": [
    "The following expression represents the rotation function used in the first example.\n",
    "\n",
    "$$\n",
    "S_{rotation} = \\frac{\\pi}{ 2} \\times \\left (-1 + cos\\left (2 \\pi \\times \\frac{cz\\left ( i \\right )}{10} \\right ) \\right )\n",
    "$$"
   ]
  },
  {
   "cell_type": "code",
   "execution_count": 111,
   "metadata": {},
   "outputs": [
    {
     "name": "stderr",
     "output_type": "stream",
     "text": [
      "┌ Info: MeshCat server started. You can open the visualizer by visiting the following URL in your browser:\n",
      "│ http://localhost:8719\n",
      "└ @ MeshCat C:\\Users\\iicpe\\.julia\\packages\\MeshCat\\ECbzr\\src\\visualizer.jl:73\n"
     ]
    },
    {
     "data": {
      "text/html": [
       "    <div style=\"height: 500px; width: 100%; overflow-x: auto; overflow-y: hidden; resize: both\">\n",
       "    <iframe src=\"http://localhost:8719\" style=\"width: 100%; height: 100%; border: none\"></iframe>\n",
       "    </div>\n"
      ],
      "text/plain": [
       "MeshCat.DisplayedVisualizer(MeshCat.CoreVisualizer(MeshCat.SceneTrees.SceneNode(nothing, nothing, Dict{String,Array{UInt8,1}}(), nothing, Dict{String,MeshCat.SceneTrees.SceneNode}()), Set(Any[]), ip\"127.0.0.1\", 8719))"
      ]
     },
     "metadata": {},
     "output_type": "display_data"
    },
    {
     "data": {
      "text/plain": [
       "Thicken(...)"
      ]
     },
     "execution_count": 111,
     "metadata": {},
     "output_type": "execute_result"
    }
   ],
   "source": [
    "@test begin   \n",
    "new_backend()\n",
    "set_view(xyz(7.229,6.523,0.167), u0(), 20)\n",
    "\n",
    "facade = Surf((i,j)-> xz(i,j-5), 0, 10, 0, 10)\n",
    "\n",
    "ptss = weave_ptss_centered(facade, 10, 10, 0.2, [[+1,-1],[-1,+1]], [[0.3], [0.3]], false, true)\n",
    "\n",
    "with(current_layer, vertical) do  \n",
    "    stripe_centered(ptss[1][1], 0.3, 0.01, i->sin(i.z/pi/4),\n",
    "                    [i->pi/2*(-1+cos(2pi*i.z/10)),\n",
    "                     i->pi/2*(-1+cos(2pi*i.z/10))])\n",
    "\n",
    "    stripe_centered(ptss[1][3], 0.3, 0.01, i->sin(i.z/pi/4),\n",
    "                    [i->pi*(-1+cos(2pi*i.z/10)),\n",
    "                     i->pi*(-1+cos(2pi*i.z/10))])\n",
    "\n",
    "    stripe_centered(ptss[1][5], 0.3, 0.01, i->sin(i.z/pi/4),\n",
    "                    [i->pi/4*(-1+cos(2pi*i.z/10)),\n",
    "                     i->pi/4*(-1+cos(2pi*i.z/10))])\n",
    "\n",
    "    stripe_centered(ptss[1][7], 0.3, 0.01, i->sin(i.z/pi/4),\n",
    "                    [i->pi/4*(-1+cos(pi*i.z/10)),\n",
    "                     i->pi/4*(-1+cos(pi*i.z/10))])\n",
    "end\n",
    "    \n",
    "end"
   ]
  },
  {
   "cell_type": "markdown",
   "metadata": {},
   "source": [
    "## Function that Creates Interweaved Stripes"
   ]
  },
  {
   "cell_type": "markdown",
   "metadata": {},
   "source": [
    "__Parameters:__ points, stripes width and thickness, width, and rotation functions\n",
    "\n",
    "* points = array of weaving spatial locations -> output of the `weaved_ptss_centered`\n",
    "* Creates stripes with given widths, thicknesses and rotations (horizontally and vertically) \n",
    "* If stripe width = 0, no stripe is created "
   ]
  },
  {
   "cell_type": "markdown",
   "metadata": {},
   "source": [
    "| Weaving spatial locations and resulting stripes.  |\n",
    "|---------------------------------------------------|\n",
    "| <img src=\"./figures/sketches/18.png\" width=\"600\"> |"
   ]
  },
  {
   "cell_type": "markdown",
   "metadata": {},
   "source": [
    "| Null stripe example.                              |\n",
    "|---------------------------------------------------|\n",
    "| <img src=\"./figures/sketches/19.png\" width=\"600\"> |"
   ]
  },
  {
   "cell_type": "code",
   "execution_count": 112,
   "metadata": {},
   "outputs": [
    {
     "data": {
      "text/plain": [
       "stripes_with_rotation (generic function with 1 method)"
      ]
     },
     "execution_count": 112,
     "metadata": {},
     "output_type": "execute_result"
    }
   ],
   "source": [
    "stripes_with_rotation(ptss, stripes_widths, thickness, f_widths, f_rotations) =\n",
    "    vcat([width==0 ? empty_shape() :\n",
    "        with(current_layer, vertical) do\n",
    "            stripe_centered(pt, width, thickness[1], f_widths[1], f_rotations[1])\n",
    "        end\n",
    "        for (pt,width) in zip(ptss[1], cycle(stripes_widths[1]))],\n",
    "            with(current_cs, cs_from_o_vx_vy(u0(), vz(1), vy(1))) do\n",
    "                [width==0 ? empty_shape() :\n",
    "                    with(current_layer, horizontal) do\n",
    "                        stripe_centered(pt, width, thickness[2], f_widths[2], f_rotations[2])\n",
    "                    end\n",
    "                for (pt,width) in zip(ptss[2], cycle(stripes_widths[2]))]\n",
    "            end\n",
    "        )"
   ]
  },
  {
   "cell_type": "markdown",
   "metadata": {},
   "source": [
    "Test `stripes_with_rotation` function.\n",
    "The expected result is a regular chess weaved façade."
   ]
  },
  {
   "cell_type": "code",
   "execution_count": null,
   "metadata": {},
   "outputs": [],
   "source": [
    "@test begin\n",
    "new_backend()\n",
    "set_view(xyz(8.881,6.913,0.338), u0(), 20)\n",
    "    \n",
    "facade = Surf((i,j)-> xz(i-5,j-5), 0, 10, 0, 10)\n",
    "\n",
    "ptss = weave_ptss_centered(facade, 10, 10, 0.1, [[-1,+1],[+1,-1]], [[0.1],[0.1]], false, false)\n",
    "\n",
    "\n",
    "stripes_with_rotation(ptss,\n",
    "                       [[0.25],[0.25]],\n",
    "                        [0.05, 0.05],\n",
    "                        [i->0, i->0],\n",
    "                        [[i->0,i->0],\n",
    "                         [i->0,i->0]])\n",
    "    \n",
    "nothing\n",
    "    \n",
    "end"
   ]
  },
  {
   "cell_type": "markdown",
   "metadata": {},
   "source": [
    "Test `stripes_with_rotation` function.\n",
    "The expected result is an irregular pattern weaved façade."
   ]
  },
  {
   "cell_type": "code",
   "execution_count": 81,
   "metadata": {},
   "outputs": [
    {
     "name": "stderr",
     "output_type": "stream",
     "text": [
      "┌ Info: MeshCat server started. You can open the visualizer by visiting the following URL in your browser:\n",
      "│ http://localhost:8715\n",
      "└ @ MeshCat C:\\Users\\iicpe\\.julia\\packages\\MeshCat\\ECbzr\\src\\visualizer.jl:73\n"
     ]
    },
    {
     "data": {
      "text/html": [
       "    <div style=\"height: 500px; width: 100%; overflow-x: auto; overflow-y: hidden; resize: both\">\n",
       "    <iframe src=\"http://localhost:8715\" style=\"width: 100%; height: 100%; border: none\"></iframe>\n",
       "    </div>\n"
      ],
      "text/plain": [
       "MeshCat.DisplayedVisualizer(MeshCat.CoreVisualizer(MeshCat.SceneTrees.SceneNode(nothing, nothing, Dict{String,Array{UInt8,1}}(), nothing, Dict{String,MeshCat.SceneTrees.SceneNode}()), Set(Any[]), ip\"127.0.0.1\", 8715))"
      ]
     },
     "metadata": {},
     "output_type": "display_data"
    }
   ],
   "source": [
    "@test begin\n",
    "new_backend()\n",
    "set_view(xyz(8.881,6.913,0.338), u0(), 20)    \n",
    "    \n",
    "facade = Surf((i,j)-> xz(i-5,j-5), 0, 10, 0, 10)\n",
    "\n",
    "ptss = weave_ptss_centered(facade, 10, 10, 0.1, [[-1,+1,+1,+1],[+1,-1,+1,+1],[+1,+1,-1,+1],[+1,+1,+1,-1]], [[0.1],[0.1]], false, false)\n",
    "nothing\n",
    "\n",
    "stripes_with_rotation(ptss,\n",
    "                      [[0.25],[0.25]],\n",
    "                      [0.05, 0.05],\n",
    "                      [i->0, i->0],\n",
    "                      [[i->0,i->0],\n",
    "                       [i->0,i->0]])\n",
    "nothing\n",
    "  \n",
    "end"
   ]
  },
  {
   "cell_type": "markdown",
   "metadata": {},
   "source": [
    "Test `stripes_with_rotation` function.\n",
    "The expected result is an irregular weaved façade with rotated horizontal stripes."
   ]
  },
  {
   "cell_type": "code",
   "execution_count": 80,
   "metadata": {},
   "outputs": [
    {
     "name": "stderr",
     "output_type": "stream",
     "text": [
      "┌ Info: MeshCat server started. You can open the visualizer by visiting the following URL in your browser:\n",
      "│ http://localhost:8714\n",
      "└ @ MeshCat C:\\Users\\iicpe\\.julia\\packages\\MeshCat\\ECbzr\\src\\visualizer.jl:73\n"
     ]
    },
    {
     "data": {
      "text/html": [
       "    <div style=\"height: 500px; width: 100%; overflow-x: auto; overflow-y: hidden; resize: both\">\n",
       "    <iframe src=\"http://localhost:8714\" style=\"width: 100%; height: 100%; border: none\"></iframe>\n",
       "    </div>\n"
      ],
      "text/plain": [
       "MeshCat.DisplayedVisualizer(MeshCat.CoreVisualizer(MeshCat.SceneTrees.SceneNode(nothing, nothing, Dict{String,Array{UInt8,1}}(), nothing, Dict{String,MeshCat.SceneTrees.SceneNode}()), Set(Any[]), ip\"127.0.0.1\", 8714))"
      ]
     },
     "metadata": {},
     "output_type": "display_data"
    }
   ],
   "source": [
    "@test begin\n",
    "new_backend()\n",
    "set_view(xyz(8.881,6.913,0.338), u0(), 20)\n",
    "      \n",
    "facade = Surf((i,j)-> xz(i-5,j-5), 0, 10, 0, 10)\n",
    "\n",
    "ptss = weave_ptss_centered(facade, 10, 10, 0.2, [[-1,+1,+1,+1],[+1,-1,+1,+1],[+1,+1,-1,+1],[+1,+1,+1,-1]], [[0.1],[0.1]], false, false)\n",
    "\n",
    "stripes_with_rotation(ptss,\n",
    "                      [[0.25],[0.25]],\n",
    "                      [0.05, 0.05],\n",
    "                      [i->0, i->0],\n",
    "                      [[i->0,i->0],\n",
    "                       [i->pi/2*(-1+cos(2pi*i.x/10)),\n",
    "                       i->pi/2*(-1+cos(2pi*i.x/10))]])\n",
    "nothing\n",
    "    \n",
    "end"
   ]
  },
  {
   "cell_type": "markdown",
   "metadata": {},
   "source": [
    "Test `stripes_with_rotation` function.\n",
    "The expected result is an irregular weaved façade with rotated vertical stripes."
   ]
  },
  {
   "cell_type": "code",
   "execution_count": 61,
   "metadata": {},
   "outputs": [
    {
     "name": "stderr",
     "output_type": "stream",
     "text": [
      "┌ Info: MeshCat server started. You can open the visualizer by visiting the following URL in your browser:\n",
      "│ http://localhost:8707\n",
      "└ @ MeshCat C:\\Users\\iicpe\\.julia\\packages\\MeshCat\\ECbzr\\src\\visualizer.jl:73\n"
     ]
    },
    {
     "data": {
      "text/html": [
       "    <div style=\"height: 500px; width: 100%; overflow-x: auto; overflow-y: hidden; resize: both\">\n",
       "    <iframe src=\"http://localhost:8707\" style=\"width: 100%; height: 100%; border: none\"></iframe>\n",
       "    </div>\n"
      ],
      "text/plain": [
       "MeshCat.DisplayedVisualizer(MeshCat.CoreVisualizer(MeshCat.SceneTrees.SceneNode(nothing, nothing, Dict{String,Array{UInt8,1}}(), nothing, Dict{String,MeshCat.SceneTrees.SceneNode}()), Set(Any[]), ip\"127.0.0.1\", 8707))"
      ]
     },
     "metadata": {},
     "output_type": "display_data"
    }
   ],
   "source": [
    "@test begin\n",
    "new_backend()\n",
    "set_view(xyz(8.881,6.913,0.338), u0(), 20)\n",
    "    \n",
    "facade = Surf((i,j)-> xz(i-5,j-5), 0, 10, 0, 10)\n",
    "\n",
    "ptss = weave_ptss_centered(facade, 10, 10, 0.2, [[-1,+1,+1,+1],[+1,-1,+1,+1],[+1,+1,-1,+1],[+1,+1,+1,-1]], [[0.1],[0.1]], false, false)\n",
    "\n",
    "stripes_with_rotation(ptss,\n",
    "                      [[0.25],[0.25]],\n",
    "                      [0.05, 0.05],\n",
    "                      [i->0, i->0],\n",
    "                      [[i->pi/2*(-1+cos(2pi*i.z/10)),\n",
    "                       i->pi/2*(-1+cos(2pi*i.z/10))],\n",
    "                       [i->0,i->0]])\n",
    "nothing\n",
    "    \n",
    "end"
   ]
  },
  {
   "cell_type": "markdown",
   "metadata": {},
   "source": [
    "Test `stripes_with_rotation` function.\n",
    "The expected result is an irregular weaved façade with varying widths."
   ]
  },
  {
   "cell_type": "code",
   "execution_count": 63,
   "metadata": {},
   "outputs": [
    {
     "name": "stderr",
     "output_type": "stream",
     "text": [
      "┌ Info: MeshCat server started. You can open the visualizer by visiting the following URL in your browser:\n",
      "│ http://localhost:8709\n",
      "└ @ MeshCat C:\\Users\\iicpe\\.julia\\packages\\MeshCat\\ECbzr\\src\\visualizer.jl:73\n"
     ]
    },
    {
     "data": {
      "text/html": [
       "    <div style=\"height: 500px; width: 100%; overflow-x: auto; overflow-y: hidden; resize: both\">\n",
       "    <iframe src=\"http://localhost:8709\" style=\"width: 100%; height: 100%; border: none\"></iframe>\n",
       "    </div>\n"
      ],
      "text/plain": [
       "MeshCat.DisplayedVisualizer(MeshCat.CoreVisualizer(MeshCat.SceneTrees.SceneNode(nothing, nothing, Dict{String,Array{UInt8,1}}(), nothing, Dict{String,MeshCat.SceneTrees.SceneNode}()), Set(Any[]), ip\"127.0.0.1\", 8709))"
      ]
     },
     "metadata": {},
     "output_type": "display_data"
    }
   ],
   "source": [
    "@test begin\n",
    "new_backend()\n",
    "set_view(xyz(8.881,6.913,0.338), u0(), 20)\n",
    "    \n",
    "facade = Surf((i,j)-> xz(i-5,j-5), 0, 10, 0, 10)\n",
    "\n",
    "ptss = weave_ptss_centered(facade, 10, 10, 0.2, [[-1,+1,+1,+1],[+1,-1,+1,+1],[+1,+1,-1,+1],[+1,+1,+1,-1]], [[0.1],[0.1]], false, false)\n",
    "nothing\n",
    "\n",
    "stripes_with_rotation(ptss,\n",
    "                      [[0.1],[0.1]],\n",
    "                      [0.05, 0.05],\n",
    "                      [i->0.05+0.4*sin(i.z/pi/4), i->0.05+0.1*sin((i.x-48)/pi)],\n",
    "                      [[i->0,i->0],[i->0,i->0]])\n",
    "    \n",
    "nothing\n",
    "\n",
    "end"
   ]
  },
  {
   "cell_type": "markdown",
   "metadata": {},
   "source": [
    "Test `stripes_with_rotation` function.\n",
    "The expected result is an irregular weaved façade with rotated stripes and varying widths."
   ]
  },
  {
   "cell_type": "code",
   "execution_count": 78,
   "metadata": {},
   "outputs": [
    {
     "name": "stderr",
     "output_type": "stream",
     "text": [
      "┌ Info: MeshCat server started. You can open the visualizer by visiting the following URL in your browser:\n",
      "│ http://localhost:8712\n",
      "└ @ MeshCat C:\\Users\\iicpe\\.julia\\packages\\MeshCat\\ECbzr\\src\\visualizer.jl:73\n"
     ]
    },
    {
     "data": {
      "text/html": [
       "    <div style=\"height: 500px; width: 100%; overflow-x: auto; overflow-y: hidden; resize: both\">\n",
       "    <iframe src=\"http://localhost:8712\" style=\"width: 100%; height: 100%; border: none\"></iframe>\n",
       "    </div>\n"
      ],
      "text/plain": [
       "MeshCat.DisplayedVisualizer(MeshCat.CoreVisualizer(MeshCat.SceneTrees.SceneNode(nothing, nothing, Dict{String,Array{UInt8,1}}(), nothing, Dict{String,MeshCat.SceneTrees.SceneNode}()), Set(Any[]), ip\"127.0.0.1\", 8712))"
      ]
     },
     "metadata": {},
     "output_type": "display_data"
    }
   ],
   "source": [
    "@test begin\n",
    "new_backend()\n",
    "set_view(xyz(8.881,6.913,0.338), u0(), 20)\n",
    "    \n",
    "facade = Surf((i,j)-> xz(i-5,j-5), 0, 10, 0, 10)\n",
    "\n",
    "ptss = weave_ptss_centered(facade, 10, 10, 0.4, [[-1,+1,+1,+1],[+1,-1,+1,+1],[+1,+1,-1,+1],[+1,+1,+1,-1]], [[0.1],[0.1]], false, false)\n",
    "\n",
    "stripes_with_rotation(ptss,\n",
    "                      [[0.1],[0.1]],\n",
    "                      [0.05, 0.05],\n",
    "                      [i->0.4*sin(i.z/pi/4), i->0.09*sin((i.x-60)/pi)],\n",
    "                      [[i->pi/2*(-1+cos(pi*i.z/10)),\n",
    "                       i->pi/2*(-1+cos(pi*i.z/10))],\n",
    "                       [i->0,i->0]])\n",
    "    \n",
    "nothing\n",
    "    \n",
    "end"
   ]
  },
  {
   "cell_type": "markdown",
   "metadata": {},
   "source": [
    "# Optimization"
   ]
  },
  {
   "cell_type": "markdown",
   "metadata": {},
   "source": [
    "For the optimization, we designed a test cell represeting a typical office, where the south and east façade consit of a curtain wall overllaped with the weaved façade, we developed previous, to shade the interior space.\n",
    "\n",
    "\n",
    "The two metrics involved in the optimization were spatial Daylight Autonmy (sDA) and Annual Sun Exposure (ASE), and the objectives were:\n",
    "\n",
    "$$\n",
    "minimize-f(x_1, x_2, x_3) = ASE_{1000,250h}(x_1, x_2, x_3)\\\\\n",
    "maximize-g(x_1, x_2, x_3) = sDA_{300|50\\%} (x_1, x_2, x_3)\n",
    "$$\n",
    "\n",
    "\n",
    "x<sub>1</sub>, x<sub>2</sub>, and x<sub>3</sub> are the variables for our oprimization problem, representing:\n",
    "horizontal stripes number x<sub>1</sub> ∈ {6,7,…,20}, \n",
    "South horizontal stripes rotation x<sub>2</sub> ∈ {-π, -π + 0.02,…, π}, \n",
    "and East horizontal stripes width reduction factor x<sub>3</sub> ∈ {0, 0.02,…, 1.6}. The range of x<sub>3</sub> results from a periodic non-linear function with a sinusoid behavior wherein 0 means no change, and 1.6 means maximum width reduction. \n",
    "\n",
    "\n",
    "Finally, we tested optimization three algorithms, NSGA-II, OMOPSO, and GPR_SPEA2. Each algorithm analyzed 400 solutions grouped in populations or swarms of 20."
   ]
  },
  {
   "cell_type": "markdown",
   "metadata": {},
   "source": [
    "## Global Setup for Processing Data\n",
    "\n",
    "In this section, we define all the global constants that will be used for the optimization."
   ]
  },
  {
   "cell_type": "code",
   "execution_count": 66,
   "metadata": {},
   "outputs": [
    {
     "data": {
      "text/plain": [
       "3-element Array{String,1}:\n",
       " \"NSGAII_results_01.csv\"\n",
       " \"OMOPSO_results_01.csv\"\n",
       " \"GPR_SPEA2_results_01.csv\""
      ]
     },
     "execution_count": 66,
     "metadata": {},
     "output_type": "execute_result"
    }
   ],
   "source": [
    "# Folders Structure\n",
    "base_folder = pwd()\n",
    "results_folder_phase1 = joinpath(base_folder, \"algorithms\")\n",
    "\n",
    "# CSV File Configuration\n",
    "has_header = true\n",
    "files_sep = \",\"\n",
    "file_extension = \"csv\"\n",
    "\n",
    "# Optimization Settings\n",
    "runs = [1]\n",
    "nruns = length(runs)\n",
    "max_evals = 500\n",
    "\n",
    "## Problem Definition (in the files) \n",
    "### Variables\n",
    "m_stripes = :m_stripes\n",
    "rotation = :rotation\n",
    "thickness = :thickness\n",
    "vars_cols = [m_stripes, rotation, thickness]\n",
    "\n",
    "### Objectives  \n",
    "ASE = :ASE\n",
    "sDA = :sDA\n",
    "objs_cols = [ASE, sDA]\n",
    "\n",
    "relevant_cols = vcat(vars_cols, objs_cols)\n",
    "\n",
    "names_mapping = (\n",
    "     4 => m_stripes, \n",
    "     5 => rotation, \n",
    "     6 => thickness, \n",
    "     7 => ASE, \n",
    "     8 => sDA, \n",
    ")\n",
    "\n",
    "## Multi-Objective Optimization Algorithms\n",
    "### Metaheuristics\n",
    "pop_size = 20\n",
    "metaheuristics = [\"NSGAII\", \"OMOPSO\"]\n",
    "\n",
    "### Model-Based (or metamodel)\n",
    "metamodels_base = [\"GPR\"]\n",
    "metamodels_strategies = [\"SPEA2\"]\n",
    "metamodels_algorithms = [\"$(b)_$(s)\" for b in metamodels_base for s in metamodels_strategies]\n",
    "\n",
    "all_algorithms_phase1 = vcat(metaheuristics, metamodels_algorithms)\n",
    "n_algorithms_phase1 = length(all_algorithms_phase1)\n",
    "\n",
    "### Filenames with the results \n",
    "filenames_phase1 = [\"$(a)_results_0$(r).$(file_extension)\" for r in runs for a in all_algorithms_phase1]\n",
    "filenames_phase1"
   ]
  },
  {
   "cell_type": "markdown",
   "metadata": {},
   "source": [
    "## Pareto Front"
   ]
  },
  {
   "cell_type": "markdown",
   "metadata": {},
   "source": [
    "### Layout"
   ]
  },
  {
   "cell_type": "code",
   "execution_count": 67,
   "metadata": {},
   "outputs": [
    {
     "data": {
      "text/plain": [
       "layout with fields autosize, height, legend, margin, template, width, xaxis, and yaxis\n"
      ]
     },
     "execution_count": 67,
     "metadata": {},
     "output_type": "execute_result"
    }
   ],
   "source": [
    "layout_weaved = Layout(\n",
    "    template=\"plotly_white\",\n",
    "    autosize=false,\n",
    "    # Define plot size\n",
    "    width=900, \n",
    "    height=540,\n",
    "    # Legend Position\n",
    "    # showlegend = False,\n",
    "    legend=Dict(\n",
    "        :orientation=>'h',\n",
    "        :x=>-0.01,\n",
    "        :y=>-0.2\n",
    "    ),\n",
    "\n",
    "    # Define axis\n",
    "    xaxis=Dict(\n",
    "        :title=>\"sDA\",\n",
    "        :autorange=>true,\n",
    "        :showgrid=>true,\n",
    "        :zeroline=>false,\n",
    "        :showline=>true,\n",
    "        :ticks=>\"\",\n",
    "        :showticklabels=>true,\n",
    "        :tickformat=>\".\"\n",
    "    ),\n",
    "  \n",
    "    yaxis=Dict(\n",
    "        :title=>\"ASE\",\n",
    "        :autorange=>true,        \n",
    "        :showgrid=>true,\n",
    "        :zeroline=>false,\n",
    "        :showline=>true,\n",
    "        :ticks=>\"\",\n",
    "        :showticklabels=>true,\n",
    "        :tickformat=>\".\"\n",
    "    )\n",
    ")"
   ]
  },
  {
   "cell_type": "markdown",
   "metadata": {},
   "source": [
    "### Read Files"
   ]
  },
  {
   "cell_type": "code",
   "execution_count": 68,
   "metadata": {},
   "outputs": [],
   "source": [
    "# Read algorithms  \n",
    "dfs1 = load_results(filenames_phase1)\n",
    "nothing"
   ]
  },
  {
   "cell_type": "code",
   "execution_count": 69,
   "metadata": {},
   "outputs": [],
   "source": [
    "dfs1 = [rename!(df, [map(x->x[2], names_mapping) ...]) for df in dfs1]\n",
    "nothing"
   ]
  },
  {
   "cell_type": "code",
   "execution_count": 70,
   "metadata": {},
   "outputs": [
    {
     "name": "stdout",
     "output_type": "stream",
     "text": [
      "2×2 DataFrame\n",
      "│ Row │ isDominated │ x1    │\n",
      "│     │ \u001b[90mFloat64\u001b[39m     │ \u001b[90mInt64\u001b[39m │\n",
      "├─────┼─────────────┼───────┤\n",
      "│ 1   │ 1.0         │ 377   │\n",
      "│ 2   │ 0.0         │ 36    │\n",
      "2×2 DataFrame\n",
      "│ Row │ isDominated │ x1    │\n",
      "│     │ \u001b[90mFloat64\u001b[39m     │ \u001b[90mInt64\u001b[39m │\n",
      "├─────┼─────────────┼───────┤\n",
      "│ 1   │ 1.0         │ 362   │\n",
      "│ 2   │ 0.0         │ 38    │\n",
      "2×2 DataFrame\n",
      "│ Row │ isDominated │ x1    │\n",
      "│     │ \u001b[90mFloat64\u001b[39m     │ \u001b[90mInt64\u001b[39m │\n",
      "├─────┼─────────────┼───────┤\n",
      "│ 1   │ 1.0         │ 449   │\n",
      "│ 2   │ 0.0         │ 31    │\n"
     ]
    }
   ],
   "source": [
    "# Compute non_dominated_solutions (per run)\n",
    "pfs1 = [add_isdominated_cols(df) for df in dfs1]\n",
    "nothing"
   ]
  },
  {
   "cell_type": "code",
   "execution_count": 71,
   "metadata": {},
   "outputs": [
    {
     "name": "stdout",
     "output_type": "stream",
     "text": [
      "2×2 DataFrame\n",
      "│ Row │ isDominated │ x1    │\n",
      "│     │ \u001b[90mFloat64\u001b[39m     │ \u001b[90mInt64\u001b[39m │\n",
      "├─────┼─────────────┼───────┤\n",
      "│ 1   │ 1.0         │ 1179  │\n",
      "│ 2   │ 0.0         │ 43    │\n"
     ]
    }
   ],
   "source": [
    "# Computes combined Pareto Front (optimal solutions found from all the algorithms, all the runs)\n",
    "combined_pf1 = get_combined_PF(dfs1, drop_cols=relevant_cols)\n",
    "nothing"
   ]
  },
  {
   "cell_type": "code",
   "execution_count": 72,
   "metadata": {},
   "outputs": [],
   "source": [
    "#Run this cell only once!!!\n",
    "pfs1 = [unscale(pf, rotation, -pi, 0.02) for pf in pfs1]\n",
    "pfs1 = [unscale(pf, thickness, 0, 0.02) for pf in pfs1]\n",
    "nothing"
   ]
  },
  {
   "cell_type": "code",
   "execution_count": 73,
   "metadata": {},
   "outputs": [
    {
     "data": {
      "text/html": [
       "<table class=\"data-frame\"><thead><tr><th></th><th>m_stripes</th><th>rotation</th><th>thickness</th><th>ASE</th><th>sDA</th><th>isDominated</th><th>dominatedBy</th></tr><tr><th></th><th>Float64</th><th>Float64</th><th>Float64</th><th>Float64</th><th>Float64</th><th>Float64</th><th>Float64</th></tr></thead><tbody><p>6 rows × 7 columns</p><tr><th>1</th><td>15.0</td><td>-1.72159</td><td>0.16</td><td>38.0</td><td>-63.7</td><td>1.0</td><td>8.0</td></tr><tr><th>2</th><td>19.0</td><td>-1.84159</td><td>0.02</td><td>34.0</td><td>-57.3</td><td>1.0</td><td>4.0</td></tr><tr><th>3</th><td>7.0</td><td>0.158407</td><td>1.42</td><td>16.0</td><td>-26.0</td><td>1.0</td><td>50.0</td></tr><tr><th>4</th><td>14.0</td><td>1.37841</td><td>1.0</td><td>24.0</td><td>-58.7</td><td>1.0</td><td>228.0</td></tr><tr><th>5</th><td>9.0</td><td>-0.281593</td><td>1.28</td><td>32.0</td><td>-52.7</td><td>1.0</td><td>4.0</td></tr><tr><th>6</th><td>13.0</td><td>-1.08159</td><td>1.2</td><td>44.3</td><td>-78.0</td><td>1.0</td><td>68.0</td></tr></tbody></table>"
      ],
      "text/latex": [
       "\\begin{tabular}{r|ccccccc}\n",
       "\t& m\\_stripes & rotation & thickness & ASE & sDA & isDominated & dominatedBy\\\\\n",
       "\t\\hline\n",
       "\t& Float64 & Float64 & Float64 & Float64 & Float64 & Float64 & Float64\\\\\n",
       "\t\\hline\n",
       "\t1 & 15.0 & -1.72159 & 0.16 & 38.0 & -63.7 & 1.0 & 8.0 \\\\\n",
       "\t2 & 19.0 & -1.84159 & 0.02 & 34.0 & -57.3 & 1.0 & 4.0 \\\\\n",
       "\t3 & 7.0 & 0.158407 & 1.42 & 16.0 & -26.0 & 1.0 & 50.0 \\\\\n",
       "\t4 & 14.0 & 1.37841 & 1.0 & 24.0 & -58.7 & 1.0 & 228.0 \\\\\n",
       "\t5 & 9.0 & -0.281593 & 1.28 & 32.0 & -52.7 & 1.0 & 4.0 \\\\\n",
       "\t6 & 13.0 & -1.08159 & 1.2 & 44.3 & -78.0 & 1.0 & 68.0 \\\\\n",
       "\\end{tabular}\n"
      ],
      "text/plain": [
       "6×7 DataFrame. Omitted printing of 1 columns\n",
       "│ Row │ m_stripes │ rotation  │ thickness │ ASE     │ sDA     │ isDominated │\n",
       "│     │ \u001b[90mFloat64\u001b[39m   │ \u001b[90mFloat64\u001b[39m   │ \u001b[90mFloat64\u001b[39m   │ \u001b[90mFloat64\u001b[39m │ \u001b[90mFloat64\u001b[39m │ \u001b[90mFloat64\u001b[39m     │\n",
       "├─────┼───────────┼───────────┼───────────┼─────────┼─────────┼─────────────┤\n",
       "│ 1   │ 15.0      │ -1.72159  │ 0.16      │ 38.0    │ -63.7   │ 1.0         │\n",
       "│ 2   │ 19.0      │ -1.84159  │ 0.02      │ 34.0    │ -57.3   │ 1.0         │\n",
       "│ 3   │ 7.0       │ 0.158407  │ 1.42      │ 16.0    │ -26.0   │ 1.0         │\n",
       "│ 4   │ 14.0      │ 1.37841   │ 1.0       │ 24.0    │ -58.7   │ 1.0         │\n",
       "│ 5   │ 9.0       │ -0.281593 │ 1.28      │ 32.0    │ -52.7   │ 1.0         │\n",
       "│ 6   │ 13.0      │ -1.08159  │ 1.2       │ 44.3    │ -78.0   │ 1.0         │"
      ]
     },
     "execution_count": 73,
     "metadata": {},
     "output_type": "execute_result"
    }
   ],
   "source": [
    "first(pfs1[1], 6)"
   ]
  },
  {
   "cell_type": "code",
   "execution_count": 74,
   "metadata": {},
   "outputs": [],
   "source": [
    "# Since sDA is actually a maximization, let us use the symmetric operation \n",
    "pfs1 = [get_symmetric(pf, sDA) for pf in pfs1]\n",
    "combined_pf1 = get_symmetric(combined_pf1, sDA)\n",
    "nothing"
   ]
  },
  {
   "cell_type": "code",
   "execution_count": 75,
   "metadata": {},
   "outputs": [],
   "source": [
    "# Sort sDA values in ascending order\n",
    "\n",
    "## This fixes the error we were getting in the create_pfs_interactive function,\n",
    "## which would return a different point than the one we selected\n",
    "\n",
    "pfs1 = [sort(pf, [sDA], rev=false) for pf in pfs1]\n",
    "nothing"
   ]
  },
  {
   "cell_type": "code",
   "execution_count": 76,
   "metadata": {},
   "outputs": [
    {
     "data": {
      "text/html": [
       "<table class=\"data-frame\"><thead><tr><th></th><th>m_stripes</th><th>rotation</th><th>thickness</th><th>ASE</th><th>sDA</th><th>isDominated</th><th>dominatedBy</th></tr><tr><th></th><th>Float64</th><th>Float64</th><th>Float64</th><th>Float64</th><th>Float64</th><th>Float64</th><th>Float64</th></tr></thead><tbody><p>6 rows × 7 columns</p><tr><th>1</th><td>6.0</td><td>0.338407</td><td>0.04</td><td>5.3</td><td>8.7</td><td>1.0</td><td>59.0</td></tr><tr><th>2</th><td>7.0</td><td>0.218407</td><td>0.06</td><td>4.7</td><td>10.3</td><td>1.0</td><td>180.0</td></tr><tr><th>3</th><td>7.0</td><td>0.218407</td><td>0.08</td><td>4.7</td><td>10.3</td><td>1.0</td><td>180.0</td></tr><tr><th>4</th><td>6.0</td><td>0.198407</td><td>0.16</td><td>5.3</td><td>10.7</td><td>1.0</td><td>59.0</td></tr><tr><th>5</th><td>6.0</td><td>0.198407</td><td>0.14</td><td>5.3</td><td>10.7</td><td>1.0</td><td>59.0</td></tr><tr><th>6</th><td>7.0</td><td>0.278407</td><td>0.08</td><td>4.7</td><td>11.0</td><td>1.0</td><td>404.0</td></tr></tbody></table>"
      ],
      "text/latex": [
       "\\begin{tabular}{r|ccccccc}\n",
       "\t& m\\_stripes & rotation & thickness & ASE & sDA & isDominated & dominatedBy\\\\\n",
       "\t\\hline\n",
       "\t& Float64 & Float64 & Float64 & Float64 & Float64 & Float64 & Float64\\\\\n",
       "\t\\hline\n",
       "\t1 & 6.0 & 0.338407 & 0.04 & 5.3 & 8.7 & 1.0 & 59.0 \\\\\n",
       "\t2 & 7.0 & 0.218407 & 0.06 & 4.7 & 10.3 & 1.0 & 180.0 \\\\\n",
       "\t3 & 7.0 & 0.218407 & 0.08 & 4.7 & 10.3 & 1.0 & 180.0 \\\\\n",
       "\t4 & 6.0 & 0.198407 & 0.16 & 5.3 & 10.7 & 1.0 & 59.0 \\\\\n",
       "\t5 & 6.0 & 0.198407 & 0.14 & 5.3 & 10.7 & 1.0 & 59.0 \\\\\n",
       "\t6 & 7.0 & 0.278407 & 0.08 & 4.7 & 11.0 & 1.0 & 404.0 \\\\\n",
       "\\end{tabular}\n"
      ],
      "text/plain": [
       "6×7 DataFrame. Omitted printing of 1 columns\n",
       "│ Row │ m_stripes │ rotation │ thickness │ ASE     │ sDA     │ isDominated │\n",
       "│     │ \u001b[90mFloat64\u001b[39m   │ \u001b[90mFloat64\u001b[39m  │ \u001b[90mFloat64\u001b[39m   │ \u001b[90mFloat64\u001b[39m │ \u001b[90mFloat64\u001b[39m │ \u001b[90mFloat64\u001b[39m     │\n",
       "├─────┼───────────┼──────────┼───────────┼─────────┼─────────┼─────────────┤\n",
       "│ 1   │ 6.0       │ 0.338407 │ 0.04      │ 5.3     │ 8.7     │ 1.0         │\n",
       "│ 2   │ 7.0       │ 0.218407 │ 0.06      │ 4.7     │ 10.3    │ 1.0         │\n",
       "│ 3   │ 7.0       │ 0.218407 │ 0.08      │ 4.7     │ 10.3    │ 1.0         │\n",
       "│ 4   │ 6.0       │ 0.198407 │ 0.16      │ 5.3     │ 10.7    │ 1.0         │\n",
       "│ 5   │ 6.0       │ 0.198407 │ 0.14      │ 5.3     │ 10.7    │ 1.0         │\n",
       "│ 6   │ 7.0       │ 0.278407 │ 0.08      │ 4.7     │ 11.0    │ 1.0         │"
      ]
     },
     "execution_count": 76,
     "metadata": {},
     "output_type": "execute_result"
    }
   ],
   "source": [
    "first(pfs1[1], 6)"
   ]
  },
  {
   "cell_type": "markdown",
   "metadata": {},
   "source": [
    "### Pareto Front Plot"
   ]
  },
  {
   "cell_type": "code",
   "execution_count": 79,
   "metadata": {},
   "outputs": [
    {
     "data": {
      "application/vnd.plotly.v1+json": {
       "data": [
        {
         "line": {
          "color": "#43a0b5",
          "width": 1.5
         },
         "marker": {
          "color": "#43a0b5",
          "size": 5.5
         },
         "mode": "lines+markers",
         "name": "NSGAII NonDominated",
         "opacity": 1,
         "type": "scatter",
         "x": [
          23,
          23.7,
          23.7,
          25.7,
          28,
          34.3,
          36.3,
          39,
          42,
          44.7,
          46.3,
          46.7,
          46.7,
          48,
          48.3,
          48.7,
          50.3,
          50.3,
          52.3,
          52.3,
          56.7,
          59,
          59,
          61.7,
          62.3,
          63.3,
          65,
          67.3,
          69.3,
          75.7,
          76.7,
          78,
          79.7,
          80.7,
          81.3,
          82.7
         ],
         "y": [
          4.7,
          5,
          5,
          5.3,
          6,
          7,
          7.3,
          7.7,
          9.3,
          11.7,
          12.3,
          13.3,
          13.3,
          13.7,
          14,
          14.3,
          14.7,
          14.7,
          15,
          15,
          16.3,
          17.7,
          17.7,
          25.7,
          26.7,
          27.3,
          27.7,
          31.3,
          32.7,
          34.7,
          36.7,
          38,
          39.3,
          40,
          44,
          46
         ]
        },
        {
         "marker": {
          "color": "#43a0b5",
          "size": 5.5
         },
         "mode": "markers",
         "name": "NSGAII Dominated",
         "opacity": 0.7,
         "type": "scatter",
         "x": [
          8.7,
          10.3,
          10.3,
          10.7,
          10.7,
          11,
          11.7,
          13.7,
          14.7,
          16,
          16.3,
          17,
          17.3,
          17.7,
          18,
          19.3,
          19.7,
          20,
          20,
          20.3,
          20.3,
          20.7,
          21,
          21.7,
          21.7,
          21.7,
          22,
          23,
          23.3,
          23.3,
          23.7,
          23.7,
          24,
          24,
          24,
          24,
          24,
          24.3,
          24.3,
          24.7,
          24.7,
          24.7,
          25,
          25.3,
          25.7,
          25.7,
          25.7,
          26,
          26,
          26.3,
          26.3,
          26.7,
          26.7,
          26.7,
          27,
          27.3,
          28,
          28,
          28,
          29.3,
          29.3,
          29.7,
          30,
          30,
          31,
          31.3,
          31.7,
          31.7,
          32,
          32.3,
          32.7,
          32.7,
          32.7,
          33.3,
          34.3,
          34.3,
          34.3,
          34.3,
          34.7,
          34.7,
          35.3,
          35.7,
          36,
          36.7,
          37.7,
          37.7,
          38,
          38,
          38,
          38,
          38.3,
          38.3,
          38.7,
          38.7,
          38.7,
          38.7,
          38.7,
          39,
          39.3,
          39.3,
          39.3,
          39.7,
          39.7,
          40,
          40,
          40,
          40.3,
          40.7,
          40.7,
          41,
          41,
          41,
          41.7,
          41.7,
          42,
          42,
          42,
          42,
          42.3,
          42.3,
          42.7,
          42.7,
          43,
          43,
          43.3,
          43.3,
          43.3,
          43.7,
          44,
          44,
          44,
          44.3,
          44.3,
          44.7,
          45,
          45,
          45.3,
          45.3,
          45.3,
          45.7,
          46.3,
          46.3,
          46.3,
          46.7,
          46.7,
          46.7,
          46.7,
          47,
          47,
          47,
          48,
          48,
          48,
          48,
          48,
          48.7,
          48.7,
          48.7,
          49,
          49,
          49,
          49.3,
          49.3,
          49.3,
          49.3,
          49.3,
          49.7,
          50,
          50.3,
          51,
          51,
          51,
          51,
          51,
          51.3,
          51.3,
          51.3,
          52,
          52,
          52,
          52.3,
          52.3,
          52.3,
          52.3,
          52.7,
          53,
          53,
          53.3,
          53.7,
          53.7,
          54,
          54.7,
          54.7,
          54.7,
          55,
          55,
          55.3,
          55.3,
          55.3,
          55.3,
          55.7,
          55.7,
          55.7,
          56,
          56,
          56.3,
          56.3,
          56.3,
          56.7,
          56.7,
          56.7,
          57,
          57.3,
          57.3,
          57.3,
          57.3,
          58,
          58,
          58,
          58.3,
          58.7,
          58.7,
          58.7,
          58.7,
          58.7,
          59,
          59,
          59,
          59.3,
          59.3,
          59.3,
          59.3,
          59.7,
          59.7,
          59.7,
          60,
          60,
          60.3,
          60.3,
          60.3,
          60.3,
          60.3,
          60.7,
          60.7,
          60.7,
          60.7,
          61,
          61,
          61,
          61,
          61.3,
          61.7,
          61.7,
          61.7,
          62,
          62.3,
          62.3,
          62.3,
          62.3,
          62.3,
          62.7,
          62.7,
          62.7,
          63,
          63,
          63,
          63,
          63,
          63,
          63.3,
          63.3,
          63.7,
          63.7,
          63.7,
          63.7,
          64,
          64,
          64.3,
          64.3,
          64.3,
          64.7,
          64.7,
          64.7,
          65,
          65,
          65,
          65,
          65.3,
          65.3,
          65.3,
          66,
          66.7,
          66.7,
          67,
          67.3,
          67.3,
          67.3,
          68,
          68,
          68,
          68.3,
          68.3,
          68.3,
          68.7,
          68.7,
          68.7,
          68.7,
          68.7,
          69,
          69.3,
          69.3,
          69.3,
          70.3,
          71,
          71,
          71,
          71,
          71,
          71.3,
          71.3,
          71.3,
          71.7,
          71.7,
          72,
          72,
          72,
          72.3,
          72.7,
          72.7,
          73,
          73,
          73.3,
          73.7,
          73.7,
          74,
          74,
          74,
          74.3,
          74.3,
          74.7,
          74.7,
          75,
          75,
          75,
          75,
          75,
          75.3,
          75.3,
          75.7,
          75.7,
          75.7,
          76,
          76.3,
          76.7,
          76.7,
          77,
          77,
          77.3,
          77.3,
          77.7,
          78,
          78,
          78,
          78.3,
          78.3,
          78.3,
          79,
          79.7,
          79.7,
          80,
          80,
          80,
          80,
          80.3,
          80.3,
          80.7,
          81
         ],
         "y": [
          5.3,
          4.7,
          4.7,
          5.3,
          5.3,
          4.7,
          5.7,
          7,
          13.3,
          6.7,
          9.3,
          8.3,
          11.3,
          11.7,
          15.7,
          13.3,
          14,
          17.3,
          12.7,
          15.7,
          12.3,
          5.3,
          5.3,
          22.3,
          13.3,
          5,
          5.3,
          9,
          14.3,
          5.3,
          18.7,
          5.7,
          22,
          6.7,
          10.7,
          6.3,
          12.3,
          17.7,
          13,
          8.3,
          10.3,
          10.3,
          5.3,
          15.7,
          12,
          22.7,
          13.3,
          16,
          10.3,
          6.7,
          15.3,
          23,
          6.7,
          6.7,
          11.3,
          11.7,
          22,
          22.7,
          10.3,
          15.7,
          18.7,
          14.3,
          24,
          23,
          24.7,
          16,
          7.3,
          11.3,
          11.7,
          25,
          28.7,
          18,
          12,
          21.3,
          17.7,
          13.7,
          13.3,
          13.7,
          18,
          18,
          22.3,
          11.3,
          23.3,
          13,
          8,
          13.7,
          14.3,
          13.7,
          14.3,
          12.3,
          20.3,
          8,
          15.3,
          17,
          10.3,
          10.3,
          19,
          8,
          27,
          16.3,
          12,
          15,
          14,
          10.7,
          14.7,
          13.3,
          17.7,
          22,
          19,
          22,
          11.3,
          23.3,
          14.7,
          20.3,
          30.7,
          17.3,
          10.7,
          17.7,
          17.7,
          19.7,
          19.7,
          12.7,
          11.7,
          13,
          25.7,
          11.7,
          22.7,
          21.7,
          13.3,
          20.7,
          20.7,
          13.7,
          14,
          18.7,
          18,
          22.3,
          26.7,
          31.7,
          15,
          19.7,
          34.7,
          17.7,
          24.7,
          17.7,
          27,
          17,
          15,
          15.7,
          23,
          19.3,
          29,
          32,
          15.3,
          28.3,
          27.7,
          21,
          18,
          24.7,
          19.3,
          23.7,
          22.7,
          14.7,
          14.7,
          28.3,
          23.7,
          17.7,
          15.7,
          32.7,
          15.3,
          29.3,
          24,
          24.7,
          31.3,
          15,
          24.3,
          20.7,
          28,
          32.7,
          25.7,
          15.3,
          26,
          19.3,
          27.3,
          18.7,
          32,
          24,
          22,
          18.3,
          26,
          24.7,
          32.7,
          29.3,
          25,
          24.3,
          27,
          28.3,
          28,
          41,
          25.7,
          44.3,
          29.7,
          33.3,
          30,
          32.7,
          28.7,
          25,
          30,
          22.3,
          36,
          26,
          29.7,
          27,
          34,
          25.7,
          26.3,
          25.7,
          25,
          30.3,
          27,
          36,
          24,
          37.3,
          27,
          37.3,
          27,
          35,
          31.7,
          19.3,
          32.7,
          36.3,
          35.3,
          33.7,
          34.7,
          28.7,
          27.3,
          38,
          28,
          34,
          26.3,
          27,
          26.3,
          30,
          36.7,
          37.7,
          28.3,
          28.3,
          27,
          30,
          35,
          27.3,
          33.3,
          33,
          33.7,
          28.3,
          33.7,
          33.7,
          30,
          29.3,
          28.3,
          33.7,
          39.3,
          37.3,
          35.3,
          32.7,
          36.7,
          29,
          39.7,
          29,
          27.3,
          35.3,
          36.7,
          38,
          32,
          28,
          27.7,
          30.3,
          32.3,
          29,
          33.3,
          29,
          33,
          29.3,
          38.3,
          36.3,
          32.7,
          35.7,
          32.3,
          39,
          35,
          38,
          37.3,
          34.3,
          39.3,
          37,
          41.3,
          39.3,
          32.7,
          42.7,
          36.7,
          34,
          41,
          41,
          37.7,
          41.3,
          40.7,
          40,
          36,
          35.7,
          39.7,
          43,
          40.3,
          38,
          38,
          41.3,
          38.3,
          38,
          41.7,
          34.7,
          40.7,
          38.7,
          34.7,
          39.3,
          39.3,
          38.3,
          39.3,
          38.7,
          43,
          46.7,
          41.7,
          35.7,
          40.3,
          42,
          42,
          43.3,
          40.3,
          40.7,
          43.7,
          39.7,
          36.3,
          46,
          40.7,
          43,
          40.3,
          36.7,
          36,
          34.7,
          41,
          38.3,
          37,
          37,
          40,
          41.3,
          37.7,
          38.3,
          44.3,
          45.3,
          44.3,
          44,
          45.7,
          48,
          44.3,
          45,
          44.7,
          44.7,
          42.7,
          48.7,
          48,
          51.3,
          52,
          43.7,
          44,
          44.3,
          44.7,
          50.7,
          43.7,
          41,
          44
         ]
        },
        {
         "line": {
          "color": "#B5557A",
          "width": 1.5
         },
         "marker": {
          "color": "#B5557A",
          "size": 5.5
         },
         "mode": "lines+markers",
         "name": "OMOPSO NonDominated",
         "opacity": 1,
         "type": "scatter",
         "x": [
          13.3,
          13.3,
          13.3,
          19,
          20,
          24,
          28,
          32.3,
          37,
          38.7,
          41.7,
          43.3,
          45,
          47,
          49.3,
          51.3,
          51.3,
          51.7,
          53.3,
          53.3,
          56.7,
          57,
          58.7,
          59,
          61.3,
          62,
          64.3,
          67.7,
          71.7,
          72.7,
          75,
          75.7,
          76.3,
          77.7,
          79,
          80.3,
          81.3,
          82
         ],
         "y": [
          4,
          4,
          4,
          4.3,
          4.7,
          5,
          6,
          6.7,
          7,
          8,
          8.7,
          9.3,
          11.3,
          12.3,
          14.3,
          15.7,
          15.7,
          17,
          17.3,
          17.3,
          19,
          20.3,
          24,
          24.3,
          25.3,
          28,
          29,
          31.3,
          32,
          33.7,
          35.7,
          36.3,
          36.7,
          39.3,
          41.3,
          42.3,
          44.3,
          45.7
         ]
        },
        {
         "marker": {
          "color": "#B5557A",
          "size": 5.5
         },
         "mode": "markers",
         "name": "OMOPSO Dominated",
         "opacity": 0.7,
         "type": "scatter",
         "x": [
          6.7,
          6.7,
          7,
          7.3,
          9.7,
          9.7,
          10,
          10,
          10.7,
          11.3,
          11.3,
          11.7,
          11.7,
          12,
          12,
          12,
          12.3,
          12.7,
          13,
          13,
          13.3,
          13.7,
          14,
          14,
          14.7,
          15,
          15.3,
          15.7,
          16,
          16,
          17,
          17,
          18,
          18,
          18,
          19.3,
          19.7,
          20,
          20,
          20.7,
          20.7,
          21,
          21.7,
          21.7,
          22,
          22,
          22.7,
          22.7,
          22.7,
          23.3,
          23.7,
          23.7,
          23.7,
          24,
          24,
          24,
          24,
          25,
          25.7,
          25.7,
          26,
          26.3,
          26.7,
          26.7,
          26.7,
          27.3,
          27.7,
          28,
          28.7,
          29.3,
          29.3,
          29.7,
          29.7,
          30.7,
          30.7,
          31,
          31.7,
          31.7,
          32.3,
          32.7,
          32.7,
          32.7,
          33.7,
          34,
          34,
          34,
          34.7,
          34.7,
          35,
          35.3,
          35.3,
          35.7,
          35.7,
          35.7,
          35.7,
          35.7,
          36,
          36,
          36.3,
          36.7,
          37,
          37,
          37,
          38,
          38.3,
          38.7,
          39,
          39.3,
          39.3,
          39.3,
          40,
          40,
          40,
          40.7,
          40.7,
          40.7,
          40.7,
          40.7,
          41,
          41,
          41.3,
          41.3,
          42.3,
          42.3,
          42.3,
          42.7,
          42.7,
          43,
          43,
          43.3,
          43.3,
          43.3,
          43.3,
          43.7,
          44,
          44,
          44,
          44.3,
          44.7,
          45,
          45,
          45.3,
          45.3,
          45.7,
          45.7,
          46,
          46,
          46.3,
          46.3,
          46.7,
          46.7,
          47,
          47,
          47,
          47,
          47,
          47.3,
          47.3,
          47.7,
          48,
          48,
          48,
          48.3,
          48.7,
          48.7,
          49,
          49.7,
          49.7,
          50,
          50.3,
          50.3,
          50.7,
          51,
          51.3,
          51.7,
          51.7,
          51.7,
          51.7,
          52,
          52,
          52,
          52,
          52.3,
          52.7,
          52.7,
          52.7,
          53,
          53,
          53.3,
          53.3,
          53.3,
          53.3,
          53.7,
          54,
          54,
          54,
          54,
          54.3,
          54.3,
          54.7,
          54.7,
          54.7,
          54.7,
          55,
          55,
          55.3,
          55.3,
          55.7,
          55.7,
          55.7,
          55.7,
          55.7,
          55.7,
          55.7,
          56,
          56,
          56,
          56,
          56,
          56.3,
          56.3,
          56.3,
          56.7,
          56.7,
          56.7,
          56.7,
          56.7,
          56.7,
          57.3,
          57.3,
          57.3,
          57.3,
          57.3,
          57.7,
          58,
          58,
          58,
          58,
          58,
          58.3,
          58.7,
          58.7,
          59,
          59.3,
          59.3,
          59.7,
          59.7,
          59.7,
          59.7,
          60,
          60,
          60,
          60,
          60,
          60.3,
          60.3,
          60.7,
          61,
          61,
          61.3,
          61.3,
          61.7,
          62,
          62,
          62,
          62.3,
          62.3,
          62.3,
          62.3,
          62.3,
          62.3,
          62.7,
          62.7,
          62.7,
          63,
          63,
          63,
          63,
          63,
          63.3,
          63.7,
          63.7,
          64.3,
          64.3,
          64.3,
          64.3,
          64.7,
          64.7,
          64.7,
          64.7,
          64.7,
          65,
          65,
          65.3,
          65.3,
          65.7,
          66.3,
          66.3,
          66.3,
          66.3,
          66.7,
          66.7,
          66.7,
          67.3,
          67.3,
          67.3,
          68,
          68,
          68,
          68,
          68.3,
          68.3,
          68.3,
          68.3,
          68.3,
          69.7,
          69.7,
          70,
          70,
          70,
          70.3,
          70.3,
          70.7,
          70.7,
          71,
          71,
          71,
          72,
          73,
          73.3,
          73.7,
          73.7,
          73.7,
          73.7,
          73.7,
          73.7,
          74,
          74,
          74,
          74.3,
          74.3,
          75,
          75.3,
          75.7,
          77,
          77.7,
          77.7,
          78,
          78,
          78.7,
          78.7,
          79,
          79,
          79,
          79,
          79.3,
          80,
          80,
          80.3,
          80.3,
          80.7,
          81
         ],
         "y": [
          4,
          4,
          4,
          4.3,
          4,
          4,
          4.7,
          4.7,
          4.7,
          7,
          6.3,
          5.7,
          5.7,
          6.3,
          6.3,
          5.7,
          7,
          7.7,
          8,
          6,
          4.7,
          8,
          7.3,
          5.3,
          7.7,
          6.7,
          11.3,
          8.7,
          14.7,
          6.3,
          8.3,
          4.3,
          16.7,
          12.7,
          14.3,
          7.3,
          10.3,
          18.3,
          5.7,
          15.3,
          18.3,
          8.3,
          8.7,
          17,
          17,
          19.7,
          16.7,
          16.3,
          17.7,
          13.3,
          7.3,
          20.3,
          5.7,
          18.7,
          13.7,
          18.3,
          19,
          6,
          12,
          22.7,
          16,
          7,
          16,
          6.7,
          6.3,
          6.7,
          7,
          22,
          21.7,
          11.7,
          11.7,
          13,
          20.3,
          12.7,
          7,
          15.3,
          11.7,
          11.7,
          19.7,
          28.7,
          12,
          7.7,
          26,
          12,
          11.7,
          21.7,
          18.3,
          12,
          26.3,
          7.3,
          7.7,
          8.3,
          7.7,
          24,
          14.3,
          7.7,
          24.3,
          16.3,
          13.3,
          23.3,
          18,
          23.3,
          18.3,
          10.7,
          9.3,
          23.3,
          20.3,
          15.3,
          21.3,
          12.3,
          9.7,
          27,
          28.3,
          18.3,
          22,
          22,
          22,
          22,
          22.3,
          27.3,
          22.7,
          24.3,
          10,
          22.7,
          25,
          11,
          22.7,
          24,
          20.7,
          24,
          23.3,
          23,
          11,
          22.3,
          26,
          27,
          26,
          26.7,
          11.3,
          23,
          23,
          24,
          27.3,
          27,
          27,
          24,
          30.7,
          35.7,
          24,
          17.7,
          35,
          22.7,
          26,
          27.7,
          21,
          18.3,
          24,
          28,
          27,
          28.7,
          23.7,
          25,
          26.7,
          34.7,
          20,
          19.3,
          19.3,
          17.7,
          39.3,
          35.3,
          33,
          33.3,
          24.3,
          37.3,
          24.7,
          41,
          28,
          23.7,
          27.7,
          25.3,
          25.7,
          39.7,
          24,
          32,
          22,
          26,
          26,
          26,
          25.3,
          25.3,
          25.3,
          19,
          28,
          23,
          28.3,
          26,
          35.3,
          30,
          28.3,
          29.3,
          26.3,
          28,
          32,
          34.3,
          30,
          40.7,
          24,
          29.7,
          24.3,
          34.7,
          26.7,
          29.7,
          29,
          37.3,
          37.7,
          32,
          27,
          26.7,
          26.3,
          35.7,
          23.7,
          35.7,
          34.7,
          35.3,
          21.3,
          27,
          32.3,
          31.3,
          34,
          26.3,
          31.3,
          28.7,
          34,
          29.3,
          37,
          25,
          28.3,
          26,
          28,
          25.7,
          36.7,
          38.3,
          35,
          28.7,
          38.3,
          37,
          39.7,
          37.7,
          42,
          27.7,
          28.3,
          41,
          40,
          29,
          37,
          31.3,
          31.3,
          29.3,
          27.3,
          35.3,
          37,
          32,
          36.3,
          34.3,
          28.3,
          29.7,
          30,
          32.3,
          36.3,
          31,
          30,
          29.3,
          30.7,
          41,
          32.7,
          30,
          30.7,
          31.3,
          31.3,
          42,
          38,
          37.7,
          29.3,
          40,
          30.3,
          45.7,
          41.7,
          38.3,
          44.7,
          47.3,
          47.3,
          32.3,
          32.7,
          34.7,
          35.3,
          41,
          45.3,
          31.7,
          32.7,
          34.7,
          38,
          43.7,
          37.7,
          41.3,
          36,
          35.3,
          42.7,
          32,
          44.3,
          37.3,
          41,
          35.7,
          37.3,
          41,
          37,
          34.3,
          34.3,
          43.7,
          36.7,
          37.3,
          38,
          32.7,
          43.3,
          43.7,
          41.3,
          32.7,
          42.7,
          46,
          44.3,
          48.7,
          43.3,
          42.7,
          38.7,
          49.3,
          38.7,
          37,
          48,
          46.7,
          35.7,
          43.7,
          44,
          41,
          38.3,
          36.7,
          45.7,
          46,
          44,
          44.3,
          47.7,
          45.7,
          47.3,
          46.3,
          44.7,
          47,
          46.7,
          48.3,
          43,
          45.3,
          46.3,
          44.3,
          48.7,
          47.3
         ]
        },
        {
         "line": {
          "color": "#eb911c",
          "width": 1.5
         },
         "marker": {
          "color": "#eb911c",
          "size": 5.5
         },
         "mode": "lines+markers",
         "name": "GPR_SPEA2 NonDominated",
         "opacity": 1,
         "type": "scatter",
         "x": [
          28.7,
          29,
          30,
          32,
          36.3,
          37.3,
          39.3,
          41.3,
          41.7,
          42.3,
          45.7,
          46.3,
          50.7,
          56.7,
          61,
          61.3,
          62.3,
          63.7,
          63.7,
          65.7,
          66,
          67.7,
          68.3,
          68.7,
          70.7,
          75,
          76.3,
          77.3,
          78.3,
          79,
          79.7
         ],
         "y": [
          5.3,
          5.7,
          6,
          6.3,
          6.7,
          7,
          7.3,
          8,
          8.7,
          15.3,
          19.7,
          20.7,
          21.7,
          23.3,
          27.3,
          27.7,
          28.7,
          29.3,
          29.3,
          30.7,
          31,
          31.3,
          32,
          33,
          33.3,
          33.7,
          34.7,
          35.7,
          37.7,
          43.7,
          44.3
         ]
        },
        {
         "marker": {
          "color": "#eb911c",
          "size": 5.5
         },
         "mode": "markers",
         "name": "GPR_SPEA2 Dominated",
         "opacity": 0.7,
         "type": "scatter",
         "x": [
          14.7,
          18,
          23,
          24.3,
          26.3,
          27,
          27,
          27.3,
          27.7,
          27.7,
          27.7,
          28,
          28,
          28,
          28.3,
          28.7,
          28.7,
          28.7,
          29,
          29,
          29,
          29.3,
          29.3,
          29.3,
          29.3,
          29.7,
          29.7,
          29.7,
          29.7,
          30,
          30.3,
          30.7,
          30.7,
          31,
          31,
          31,
          31,
          31,
          31.3,
          31.3,
          31.3,
          31.7,
          31.7,
          31.7,
          31.7,
          31.7,
          32,
          32,
          32.3,
          32.3,
          32.3,
          32.3,
          32.3,
          32.3,
          32.7,
          32.7,
          32.7,
          32.7,
          32.7,
          32.7,
          33,
          33,
          33,
          33,
          33,
          33.3,
          33.3,
          33.3,
          33.3,
          33.3,
          33.3,
          33.3,
          33.3,
          33.7,
          33.7,
          33.7,
          33.7,
          33.7,
          34,
          34,
          34,
          34,
          34,
          34,
          34,
          34,
          34.3,
          34.3,
          34.3,
          34.3,
          34.3,
          34.7,
          34.7,
          34.7,
          34.7,
          34.7,
          34.7,
          35,
          35,
          35,
          35,
          35,
          35,
          35,
          35.3,
          35.7,
          35.7,
          35.7,
          35.7,
          35.7,
          35.7,
          36,
          36,
          36,
          36,
          36,
          36,
          36,
          36,
          36,
          36,
          36.3,
          36.3,
          36.3,
          36.3,
          36.3,
          36.3,
          36.3,
          36.3,
          36.3,
          36.3,
          36.7,
          36.7,
          36.7,
          36.7,
          36.7,
          36.7,
          36.7,
          36.7,
          36.7,
          36.7,
          36.7,
          37,
          37,
          37,
          37,
          37,
          37,
          37,
          37,
          37,
          37,
          37,
          37.3,
          37.3,
          37.3,
          37.3,
          37.3,
          37.3,
          37.3,
          37.3,
          37.3,
          37.7,
          37.7,
          37.7,
          37.7,
          37.7,
          37.7,
          37.7,
          37.7,
          37.7,
          37.7,
          37.7,
          38,
          38,
          38,
          38,
          38,
          38.3,
          38.3,
          38.3,
          38.3,
          38.3,
          38.3,
          38.3,
          38.7,
          38.7,
          38.7,
          38.7,
          38.7,
          38.7,
          38.7,
          38.7,
          38.7,
          39,
          39,
          39,
          39,
          39,
          39,
          39,
          39,
          39,
          39,
          39.3,
          39.3,
          39.3,
          39.3,
          39.3,
          39.3,
          39.7,
          39.7,
          40,
          40,
          40,
          40.3,
          40.3,
          40.3,
          40.3,
          40.7,
          40.7,
          40.7,
          40.7,
          41,
          41,
          41.3,
          41.3,
          42,
          42,
          42,
          42,
          42.3,
          42.7,
          42.7,
          43,
          44,
          44.3,
          44.3,
          44.3,
          44.3,
          44.7,
          45.3,
          45.3,
          45.7,
          45.7,
          46,
          46.7,
          46.7,
          46.7,
          47.3,
          47.7,
          47.7,
          47.7,
          48,
          48,
          48,
          48.3,
          48.3,
          48.7,
          49,
          49,
          49.3,
          49.3,
          49.3,
          50,
          50.3,
          50.3,
          50.3,
          50.7,
          51,
          51,
          51,
          51,
          51.3,
          51.3,
          51.7,
          52,
          52.3,
          53,
          53,
          53,
          53.3,
          53.7,
          54,
          54,
          54.3,
          54.3,
          54.3,
          54.7,
          55.7,
          55.7,
          56,
          56.3,
          56.3,
          56.7,
          57.7,
          58,
          58,
          58.3,
          58.3,
          58.7,
          58.7,
          59.7,
          59.7,
          59.7,
          60,
          60.7,
          61,
          61,
          61.3,
          61.3,
          61.7,
          61.7,
          62,
          62,
          62.3,
          62.3,
          62.7,
          62.7,
          62.7,
          62.7,
          63.3,
          63.3,
          63.7,
          63.7,
          64,
          64,
          64.3,
          64.3,
          64.7,
          64.7,
          65,
          65,
          65,
          65,
          65.3,
          65.3,
          65.3,
          65.3,
          65.7,
          65.7,
          66,
          66,
          66,
          66,
          66,
          66.3,
          66.3,
          66.3,
          66.3,
          66.7,
          66.7,
          66.7,
          66.7,
          66.7,
          67,
          67,
          67,
          67,
          67.3,
          67.3,
          67.3,
          67.7,
          68,
          68,
          68,
          68,
          68.3,
          68.3,
          68.3,
          68.7,
          68.7,
          69,
          69,
          69.3,
          69.7,
          69.7,
          70,
          70,
          70,
          70.3,
          70.3,
          70.3,
          70.3,
          70.7,
          71,
          71,
          71.3,
          71.3,
          71.7,
          71.7,
          72,
          72.3,
          72.7,
          73,
          73,
          73,
          73.3,
          73.7,
          74,
          74,
          74,
          74,
          74,
          74.3,
          74.3,
          74.3,
          74.3,
          74.7,
          74.7,
          74.7,
          74.7,
          75,
          75,
          75,
          75,
          75,
          75.3,
          75.3,
          75.3,
          75.7,
          75.7,
          75.7,
          75.7,
          75.7,
          75.7,
          76,
          76,
          76.3,
          76.3,
          76.3,
          76.3,
          76.3,
          76.7,
          76.7,
          76.7,
          76.7,
          77,
          77,
          77,
          77.7,
          77.7,
          78,
          78,
          78,
          78.3,
          78.3,
          78.3,
          78.7
         ],
         "y": [
          10.3,
          14,
          19,
          28,
          5.3,
          11.3,
          5.7,
          22,
          21.7,
          8.3,
          6.3,
          25.7,
          5.3,
          5.3,
          6.7,
          6,
          6.3,
          8.3,
          7.3,
          7,
          6,
          21,
          7.3,
          6.3,
          6.3,
          6.3,
          6.3,
          6.3,
          6.3,
          6.7,
          9,
          7,
          7,
          7.3,
          7.7,
          6.3,
          7.3,
          7,
          6.3,
          12.3,
          6.7,
          22.3,
          12.7,
          8.3,
          7.7,
          6.3,
          25,
          13,
          7,
          7,
          12.3,
          7,
          7,
          7.3,
          9,
          8.3,
          7.3,
          11.3,
          7.3,
          6.7,
          15,
          7.3,
          7.3,
          8,
          7.3,
          16,
          17.3,
          18.7,
          9,
          7.7,
          6.7,
          7.7,
          7.7,
          11.3,
          12.7,
          8.3,
          8.7,
          7.3,
          15.7,
          14.7,
          8,
          7.7,
          7.3,
          7.3,
          7,
          6.7,
          20.3,
          15.7,
          7,
          7.7,
          7.3,
          8,
          8.7,
          8.7,
          8.3,
          7.3,
          8,
          27,
          16.3,
          15,
          7.7,
          7.7,
          7.3,
          7.3,
          7.3,
          18.3,
          16,
          9,
          8.7,
          14.3,
          8,
          18.7,
          13.3,
          18.3,
          14.7,
          9.3,
          13.7,
          7.7,
          7.3,
          8,
          7,
          20.3,
          20.7,
          19,
          8.7,
          8,
          8,
          8,
          8.3,
          7.7,
          20,
          27.3,
          16,
          16.3,
          16.7,
          19.7,
          16.3,
          19,
          8,
          13,
          8.3,
          7.7,
          14.7,
          15,
          14.7,
          14.7,
          15,
          21,
          7.3,
          7,
          7.7,
          7.3,
          8,
          14.7,
          12.7,
          14,
          15.3,
          9,
          7.7,
          8,
          8,
          7.7,
          22.7,
          18,
          21,
          22.3,
          19.3,
          19,
          14.7,
          8.3,
          7.7,
          8,
          8,
          14.7,
          17.3,
          15,
          8,
          8,
          17,
          19.3,
          18.7,
          22,
          13.3,
          7.7,
          9.7,
          16.3,
          15,
          24,
          22,
          22.3,
          22,
          8.3,
          14.3,
          8.3,
          24.7,
          18.7,
          22,
          22,
          7.7,
          14.3,
          9.3,
          7.7,
          8,
          8,
          20.7,
          14.3,
          15,
          14.3,
          8.3,
          8.7,
          14.3,
          24,
          23.7,
          9,
          14.7,
          31,
          15,
          8.3,
          14.3,
          27.7,
          28.3,
          14.3,
          8,
          15.3,
          15,
          24.3,
          19.7,
          26,
          24.3,
          22.3,
          22.7,
          28,
          24.3,
          25.7,
          22,
          25.3,
          34.7,
          28,
          26.3,
          25,
          32.7,
          25.3,
          23,
          26.7,
          26,
          25.7,
          24.3,
          23.7,
          23,
          25.3,
          31.7,
          21.7,
          26.7,
          25.7,
          22,
          27,
          35.7,
          27,
          26,
          27.3,
          30,
          26.3,
          22.3,
          22.7,
          26,
          31.7,
          22.7,
          26,
          25.7,
          24,
          32,
          26.3,
          26.3,
          26.3,
          24,
          32.7,
          30.7,
          32,
          26.3,
          26.3,
          26.3,
          24.7,
          28,
          27,
          33,
          30.3,
          30,
          28,
          27.7,
          31.7,
          31.7,
          29,
          29,
          29,
          32.7,
          41.3,
          27.7,
          28.7,
          29.3,
          27.3,
          37,
          28.3,
          35.3,
          29.7,
          27.7,
          33,
          29,
          29,
          29,
          30,
          37,
          34.7,
          36,
          34,
          31,
          36,
          37,
          35.3,
          37,
          31,
          31,
          30.3,
          31.3,
          36.3,
          32,
          35.7,
          32,
          38.3,
          31,
          36.3,
          32.3,
          34,
          32,
          33.7,
          32.7,
          42,
          36,
          30.7,
          33.3,
          32.7,
          36.7,
          32.7,
          31.7,
          38,
          38.3,
          32,
          31.7,
          31.3,
          34.3,
          31.3,
          31.7,
          32,
          31.3,
          31.3,
          33.7,
          33.3,
          45.3,
          32,
          31.7,
          45.7,
          32.3,
          38.7,
          43.7,
          39.3,
          47,
          40.3,
          32.7,
          39,
          32.3,
          37.3,
          37.3,
          46.7,
          38,
          38.7,
          36.7,
          41.3,
          42,
          44,
          35.3,
          40.3,
          41.7,
          41,
          38.3,
          41,
          38.7,
          44,
          36.3,
          41,
          33.7,
          36.3,
          38.7,
          34.7,
          37,
          36.3,
          42.3,
          35.3,
          36,
          37,
          35.7,
          49.7,
          38.7,
          35.3,
          35.3,
          36,
          48.7,
          34.3,
          36,
          35.3,
          36,
          35.7,
          35.7,
          35.3,
          34.7,
          35.7,
          35.7,
          40.3,
          36.7,
          35.7,
          36,
          40.3,
          48,
          36,
          36.7,
          36,
          40,
          41,
          38,
          40.3,
          37,
          41,
          42,
          36.3,
          37,
          41.3,
          42.3,
          37.3,
          43.3,
          42.7,
          41.3,
          40.3,
          44.7,
          43,
          43,
          42.3,
          44.3,
          41.3,
          41.3,
          41,
          50
         ]
        }
       ],
       "layout": {
        "autosize": false,
        "height": 540,
        "legend": {
         "orientation": "h",
         "x": -0.01,
         "y": -0.2
        },
        "margin": {
         "b": 0,
         "l": 0,
         "r": 0,
         "t": 0
        },
        "template": "plotly_white",
        "width": 900,
        "xaxis": {
         "autorange": true,
         "showgrid": true,
         "showline": true,
         "showticklabels": true,
         "tickformat": ".",
         "ticks": "",
         "title": "sDA",
         "zeroline": false
        },
        "yaxis": {
         "autorange": true,
         "showgrid": true,
         "showline": true,
         "showticklabels": true,
         "tickformat": ".",
         "ticks": "",
         "title": "ASE",
         "zeroline": false
        }
       }
      },
      "application/vnd.webio.node+json": {
       "children": [
        {
         "children": [],
         "instanceArgs": {
          "namespace": "html",
          "tag": "div"
         },
         "nodeType": "DOM",
         "props": {
          "id": "plot-628ae83c-75f5-41a0-a47d-b07f5a8b733a"
         },
         "type": "node"
        }
       ],
       "instanceArgs": {
        "handlers": {
         "__get_gd_contents": [
          "(function (prop){prop==\"data\" ? (WebIO.setval({\"name\":\"__gd_contents\",\"scope\":\"1267074615712302859\",\"id\":\"ob_113\",\"type\":\"observable\"},this.plotElem.data)) : undefined; return prop==\"layout\" ? (WebIO.setval({\"name\":\"__gd_contents\",\"scope\":\"1267074615712302859\",\"id\":\"ob_113\",\"type\":\"observable\"},this.plotElem.layout)) : undefined})"
         ],
         "_commands": [
          "(function (args){var fn=args.shift(); var elem=this.plotElem; var Plotly=this.Plotly; args.unshift(elem); return Plotly[fn].apply(this,args)})"
         ],
         "_downloadImage": [
          "(function (options){return this.Plotly.downloadImage(this.plotElem,options)})"
         ],
         "_toImage": [
          "(function (options){return this.Plotly.toImage(this.plotElem,options).then((function (data){return WebIO.setval({\"name\":\"image\",\"scope\":\"1267074615712302859\",\"id\":\"ob_112\",\"type\":\"observable\"},data)}))})"
         ]
        },
        "id": "1267074615712302859",
        "imports": {
         "data": [
          {
           "name": "Plotly",
           "type": "js",
           "url": "/assetserver/97a1af6d43bec17f982ce6699d23c6a6399c0662-plotly-latest.min.js"
          },
          {
           "name": null,
           "type": "js",
           "url": "/assetserver/dda18c5c0a078ca7d31a0db6b56636033afec9a4-plotly_webio.bundle.js"
          }
         ],
         "type": "async_block"
        },
        "mount_callbacks": [
         "function () {\n    var handler = ((function (Plotly,PlotlyWebIO){PlotlyWebIO.init(WebIO); var gd=this.dom.querySelector(\"#plot-628ae83c-75f5-41a0-a47d-b07f5a8b733a\"); this.plotElem=gd; this.Plotly=Plotly; (window.Blink!==undefined) ? (gd.style.width=\"100%\", gd.style.height=\"100vh\", gd.style.marginLeft=\"0%\", gd.style.marginTop=\"0vh\") : undefined; window.onresize=(function (){return Plotly.Plots.resize(gd)}); Plotly.newPlot(gd,[{\"marker\":{\"color\":\"#43a0b5\",\"size\":5.5},\"mode\":\"lines+markers\",\"line\":{\"color\":\"#43a0b5\",\"width\":1.5},\"y\":[4.7,5.0,5.0,5.3,6.0,7.0,7.3,7.7,9.3,11.7,12.3,13.3,13.3,13.7,14.0,14.3,14.7,14.7,15.0,15.0,16.3,17.7,17.7,25.7,26.7,27.3,27.7,31.3,32.7,34.7,36.7,38.0,39.3,40.0,44.0,46.0],\"type\":\"scatter\",\"name\":\"NSGAII NonDominated\",\"opacity\":1,\"x\":[23.0,23.7,23.7,25.7,28.0,34.3,36.3,39.0,42.0,44.7,46.3,46.7,46.7,48.0,48.3,48.7,50.3,50.3,52.3,52.3,56.7,59.0,59.0,61.7,62.3,63.3,65.0,67.3,69.3,75.7,76.7,78.0,79.7,80.7,81.3,82.7]},{\"marker\":{\"color\":\"#43a0b5\",\"size\":5.5},\"mode\":\"markers\",\"y\":[5.3,4.7,4.7,5.3,5.3,4.7,5.7,7.0,13.3,6.7,9.3,8.3,11.3,11.7,15.7,13.3,14.0,17.3,12.7,15.7,12.3,5.3,5.3,22.3,13.3,5.0,5.3,9.0,14.3,5.3,18.7,5.7,22.0,6.7,10.7,6.3,12.3,17.7,13.0,8.3,10.3,10.3,5.3,15.7,12.0,22.7,13.3,16.0,10.3,6.7,15.3,23.0,6.7,6.7,11.3,11.7,22.0,22.7,10.3,15.7,18.7,14.3,24.0,23.0,24.7,16.0,7.3,11.3,11.7,25.0,28.7,18.0,12.0,21.3,17.7,13.7,13.3,13.7,18.0,18.0,22.3,11.3,23.3,13.0,8.0,13.7,14.3,13.7,14.3,12.3,20.3,8.0,15.3,17.0,10.3,10.3,19.0,8.0,27.0,16.3,12.0,15.0,14.0,10.7,14.7,13.3,17.7,22.0,19.0,22.0,11.3,23.3,14.7,20.3,30.7,17.3,10.7,17.7,17.7,19.7,19.7,12.7,11.7,13.0,25.7,11.7,22.7,21.7,13.3,20.7,20.7,13.7,14.0,18.7,18.0,22.3,26.7,31.7,15.0,19.7,34.7,17.7,24.7,17.7,27.0,17.0,15.0,15.7,23.0,19.3,29.0,32.0,15.3,28.3,27.7,21.0,18.0,24.7,19.3,23.7,22.7,14.7,14.7,28.3,23.7,17.7,15.7,32.7,15.3,29.3,24.0,24.7,31.3,15.0,24.3,20.7,28.0,32.7,25.7,15.3,26.0,19.3,27.3,18.7,32.0,24.0,22.0,18.3,26.0,24.7,32.7,29.3,25.0,24.3,27.0,28.3,28.0,41.0,25.7,44.3,29.7,33.3,30.0,32.7,28.7,25.0,30.0,22.3,36.0,26.0,29.7,27.0,34.0,25.7,26.3,25.7,25.0,30.3,27.0,36.0,24.0,37.3,27.0,37.3,27.0,35.0,31.7,19.3,32.7,36.3,35.3,33.7,34.7,28.7,27.3,38.0,28.0,34.0,26.3,27.0,26.3,30.0,36.7,37.7,28.3,28.3,27.0,30.0,35.0,27.3,33.3,33.0,33.7,28.3,33.7,33.7,30.0,29.3,28.3,33.7,39.3,37.3,35.3,32.7,36.7,29.0,39.7,29.0,27.3,35.3,36.7,38.0,32.0,28.0,27.7,30.3,32.3,29.0,33.3,29.0,33.0,29.3,38.3,36.3,32.7,35.7,32.3,39.0,35.0,38.0,37.3,34.3,39.3,37.0,41.3,39.3,32.7,42.7,36.7,34.0,41.0,41.0,37.7,41.3,40.7,40.0,36.0,35.7,39.7,43.0,40.3,38.0,38.0,41.3,38.3,38.0,41.7,34.7,40.7,38.7,34.7,39.3,39.3,38.3,39.3,38.7,43.0,46.7,41.7,35.7,40.3,42.0,42.0,43.3,40.3,40.7,43.7,39.7,36.3,46.0,40.7,43.0,40.3,36.7,36.0,34.7,41.0,38.3,37.0,37.0,40.0,41.3,37.7,38.3,44.3,45.3,44.3,44.0,45.7,48.0,44.3,45.0,44.7,44.7,42.7,48.7,48.0,51.3,52.0,43.7,44.0,44.3,44.7,50.7,43.7,41.0,44.0],\"type\":\"scatter\",\"name\":\"NSGAII Dominated\",\"opacity\":0.7,\"x\":[8.7,10.3,10.3,10.7,10.7,11.0,11.7,13.7,14.7,16.0,16.3,17.0,17.3,17.7,18.0,19.3,19.7,20.0,20.0,20.3,20.3,20.7,21.0,21.7,21.7,21.7,22.0,23.0,23.3,23.3,23.7,23.7,24.0,24.0,24.0,24.0,24.0,24.3,24.3,24.7,24.7,24.7,25.0,25.3,25.7,25.7,25.7,26.0,26.0,26.3,26.3,26.7,26.7,26.7,27.0,27.3,28.0,28.0,28.0,29.3,29.3,29.7,30.0,30.0,31.0,31.3,31.7,31.7,32.0,32.3,32.7,32.7,32.7,33.3,34.3,34.3,34.3,34.3,34.7,34.7,35.3,35.7,36.0,36.7,37.7,37.7,38.0,38.0,38.0,38.0,38.3,38.3,38.7,38.7,38.7,38.7,38.7,39.0,39.3,39.3,39.3,39.7,39.7,40.0,40.0,40.0,40.3,40.7,40.7,41.0,41.0,41.0,41.7,41.7,42.0,42.0,42.0,42.0,42.3,42.3,42.7,42.7,43.0,43.0,43.3,43.3,43.3,43.7,44.0,44.0,44.0,44.3,44.3,44.7,45.0,45.0,45.3,45.3,45.3,45.7,46.3,46.3,46.3,46.7,46.7,46.7,46.7,47.0,47.0,47.0,48.0,48.0,48.0,48.0,48.0,48.7,48.7,48.7,49.0,49.0,49.0,49.3,49.3,49.3,49.3,49.3,49.7,50.0,50.3,51.0,51.0,51.0,51.0,51.0,51.3,51.3,51.3,52.0,52.0,52.0,52.3,52.3,52.3,52.3,52.7,53.0,53.0,53.3,53.7,53.7,54.0,54.7,54.7,54.7,55.0,55.0,55.3,55.3,55.3,55.3,55.7,55.7,55.7,56.0,56.0,56.3,56.3,56.3,56.7,56.7,56.7,57.0,57.3,57.3,57.3,57.3,58.0,58.0,58.0,58.3,58.7,58.7,58.7,58.7,58.7,59.0,59.0,59.0,59.3,59.3,59.3,59.3,59.7,59.7,59.7,60.0,60.0,60.3,60.3,60.3,60.3,60.3,60.7,60.7,60.7,60.7,61.0,61.0,61.0,61.0,61.3,61.7,61.7,61.7,62.0,62.3,62.3,62.3,62.3,62.3,62.7,62.7,62.7,63.0,63.0,63.0,63.0,63.0,63.0,63.3,63.3,63.7,63.7,63.7,63.7,64.0,64.0,64.3,64.3,64.3,64.7,64.7,64.7,65.0,65.0,65.0,65.0,65.3,65.3,65.3,66.0,66.7,66.7,67.0,67.3,67.3,67.3,68.0,68.0,68.0,68.3,68.3,68.3,68.7,68.7,68.7,68.7,68.7,69.0,69.3,69.3,69.3,70.3,71.0,71.0,71.0,71.0,71.0,71.3,71.3,71.3,71.7,71.7,72.0,72.0,72.0,72.3,72.7,72.7,73.0,73.0,73.3,73.7,73.7,74.0,74.0,74.0,74.3,74.3,74.7,74.7,75.0,75.0,75.0,75.0,75.0,75.3,75.3,75.7,75.7,75.7,76.0,76.3,76.7,76.7,77.0,77.0,77.3,77.3,77.7,78.0,78.0,78.0,78.3,78.3,78.3,79.0,79.7,79.7,80.0,80.0,80.0,80.0,80.3,80.3,80.7,81.0]},{\"marker\":{\"color\":\"#B5557A\",\"size\":5.5},\"mode\":\"lines+markers\",\"line\":{\"color\":\"#B5557A\",\"width\":1.5},\"y\":[4.0,4.0,4.0,4.3,4.7,5.0,6.0,6.7,7.0,8.0,8.7,9.3,11.3,12.3,14.3,15.7,15.7,17.0,17.3,17.3,19.0,20.3,24.0,24.3,25.3,28.0,29.0,31.3,32.0,33.7,35.7,36.3,36.7,39.3,41.3,42.3,44.3,45.7],\"type\":\"scatter\",\"name\":\"OMOPSO NonDominated\",\"opacity\":1,\"x\":[13.3,13.3,13.3,19.0,20.0,24.0,28.0,32.3,37.0,38.7,41.7,43.3,45.0,47.0,49.3,51.3,51.3,51.7,53.3,53.3,56.7,57.0,58.7,59.0,61.3,62.0,64.3,67.7,71.7,72.7,75.0,75.7,76.3,77.7,79.0,80.3,81.3,82.0]},{\"marker\":{\"color\":\"#B5557A\",\"size\":5.5},\"mode\":\"markers\",\"y\":[4.0,4.0,4.0,4.3,4.0,4.0,4.7,4.7,4.7,7.0,6.3,5.7,5.7,6.3,6.3,5.7,7.0,7.7,8.0,6.0,4.7,8.0,7.3,5.3,7.7,6.7,11.3,8.7,14.7,6.3,8.3,4.3,16.7,12.7,14.3,7.3,10.3,18.3,5.7,15.3,18.3,8.3,8.7,17.0,17.0,19.7,16.7,16.3,17.7,13.3,7.3,20.3,5.7,18.7,13.7,18.3,19.0,6.0,12.0,22.7,16.0,7.0,16.0,6.7,6.3,6.7,7.0,22.0,21.7,11.7,11.7,13.0,20.3,12.7,7.0,15.3,11.7,11.7,19.7,28.7,12.0,7.7,26.0,12.0,11.7,21.7,18.3,12.0,26.3,7.3,7.7,8.3,7.7,24.0,14.3,7.7,24.3,16.3,13.3,23.3,18.0,23.3,18.3,10.7,9.3,23.3,20.3,15.3,21.3,12.3,9.7,27.0,28.3,18.3,22.0,22.0,22.0,22.0,22.3,27.3,22.7,24.3,10.0,22.7,25.0,11.0,22.7,24.0,20.7,24.0,23.3,23.0,11.0,22.3,26.0,27.0,26.0,26.7,11.3,23.0,23.0,24.0,27.3,27.0,27.0,24.0,30.7,35.7,24.0,17.7,35.0,22.7,26.0,27.7,21.0,18.3,24.0,28.0,27.0,28.7,23.7,25.0,26.7,34.7,20.0,19.3,19.3,17.7,39.3,35.3,33.0,33.3,24.3,37.3,24.7,41.0,28.0,23.7,27.7,25.3,25.7,39.7,24.0,32.0,22.0,26.0,26.0,26.0,25.3,25.3,25.3,19.0,28.0,23.0,28.3,26.0,35.3,30.0,28.3,29.3,26.3,28.0,32.0,34.3,30.0,40.7,24.0,29.7,24.3,34.7,26.7,29.7,29.0,37.3,37.7,32.0,27.0,26.7,26.3,35.7,23.7,35.7,34.7,35.3,21.3,27.0,32.3,31.3,34.0,26.3,31.3,28.7,34.0,29.3,37.0,25.0,28.3,26.0,28.0,25.7,36.7,38.3,35.0,28.7,38.3,37.0,39.7,37.7,42.0,27.7,28.3,41.0,40.0,29.0,37.0,31.3,31.3,29.3,27.3,35.3,37.0,32.0,36.3,34.3,28.3,29.7,30.0,32.3,36.3,31.0,30.0,29.3,30.7,41.0,32.7,30.0,30.7,31.3,31.3,42.0,38.0,37.7,29.3,40.0,30.3,45.7,41.7,38.3,44.7,47.3,47.3,32.3,32.7,34.7,35.3,41.0,45.3,31.7,32.7,34.7,38.0,43.7,37.7,41.3,36.0,35.3,42.7,32.0,44.3,37.3,41.0,35.7,37.3,41.0,37.0,34.3,34.3,43.7,36.7,37.3,38.0,32.7,43.3,43.7,41.3,32.7,42.7,46.0,44.3,48.7,43.3,42.7,38.7,49.3,38.7,37.0,48.0,46.7,35.7,43.7,44.0,41.0,38.3,36.7,45.7,46.0,44.0,44.3,47.7,45.7,47.3,46.3,44.7,47.0,46.7,48.3,43.0,45.3,46.3,44.3,48.7,47.3],\"type\":\"scatter\",\"name\":\"OMOPSO Dominated\",\"opacity\":0.7,\"x\":[6.7,6.7,7.0,7.3,9.7,9.7,10.0,10.0,10.7,11.3,11.3,11.7,11.7,12.0,12.0,12.0,12.3,12.7,13.0,13.0,13.3,13.7,14.0,14.0,14.7,15.0,15.3,15.7,16.0,16.0,17.0,17.0,18.0,18.0,18.0,19.3,19.7,20.0,20.0,20.7,20.7,21.0,21.7,21.7,22.0,22.0,22.7,22.7,22.7,23.3,23.7,23.7,23.7,24.0,24.0,24.0,24.0,25.0,25.7,25.7,26.0,26.3,26.7,26.7,26.7,27.3,27.7,28.0,28.7,29.3,29.3,29.7,29.7,30.7,30.7,31.0,31.7,31.7,32.3,32.7,32.7,32.7,33.7,34.0,34.0,34.0,34.7,34.7,35.0,35.3,35.3,35.7,35.7,35.7,35.7,35.7,36.0,36.0,36.3,36.7,37.0,37.0,37.0,38.0,38.3,38.7,39.0,39.3,39.3,39.3,40.0,40.0,40.0,40.7,40.7,40.7,40.7,40.7,41.0,41.0,41.3,41.3,42.3,42.3,42.3,42.7,42.7,43.0,43.0,43.3,43.3,43.3,43.3,43.7,44.0,44.0,44.0,44.3,44.7,45.0,45.0,45.3,45.3,45.7,45.7,46.0,46.0,46.3,46.3,46.7,46.7,47.0,47.0,47.0,47.0,47.0,47.3,47.3,47.7,48.0,48.0,48.0,48.3,48.7,48.7,49.0,49.7,49.7,50.0,50.3,50.3,50.7,51.0,51.3,51.7,51.7,51.7,51.7,52.0,52.0,52.0,52.0,52.3,52.7,52.7,52.7,53.0,53.0,53.3,53.3,53.3,53.3,53.7,54.0,54.0,54.0,54.0,54.3,54.3,54.7,54.7,54.7,54.7,55.0,55.0,55.3,55.3,55.7,55.7,55.7,55.7,55.7,55.7,55.7,56.0,56.0,56.0,56.0,56.0,56.3,56.3,56.3,56.7,56.7,56.7,56.7,56.7,56.7,57.3,57.3,57.3,57.3,57.3,57.7,58.0,58.0,58.0,58.0,58.0,58.3,58.7,58.7,59.0,59.3,59.3,59.7,59.7,59.7,59.7,60.0,60.0,60.0,60.0,60.0,60.3,60.3,60.7,61.0,61.0,61.3,61.3,61.7,62.0,62.0,62.0,62.3,62.3,62.3,62.3,62.3,62.3,62.7,62.7,62.7,63.0,63.0,63.0,63.0,63.0,63.3,63.7,63.7,64.3,64.3,64.3,64.3,64.7,64.7,64.7,64.7,64.7,65.0,65.0,65.3,65.3,65.7,66.3,66.3,66.3,66.3,66.7,66.7,66.7,67.3,67.3,67.3,68.0,68.0,68.0,68.0,68.3,68.3,68.3,68.3,68.3,69.7,69.7,70.0,70.0,70.0,70.3,70.3,70.7,70.7,71.0,71.0,71.0,72.0,73.0,73.3,73.7,73.7,73.7,73.7,73.7,73.7,74.0,74.0,74.0,74.3,74.3,75.0,75.3,75.7,77.0,77.7,77.7,78.0,78.0,78.7,78.7,79.0,79.0,79.0,79.0,79.3,80.0,80.0,80.3,80.3,80.7,81.0]},{\"marker\":{\"color\":\"#eb911c\",\"size\":5.5},\"mode\":\"lines+markers\",\"line\":{\"color\":\"#eb911c\",\"width\":1.5},\"y\":[5.3,5.7,6.0,6.3,6.7,7.0,7.3,8.0,8.7,15.3,19.7,20.7,21.7,23.3,27.3,27.7,28.7,29.3,29.3,30.7,31.0,31.3,32.0,33.0,33.3,33.7,34.7,35.7,37.7,43.7,44.3],\"type\":\"scatter\",\"name\":\"GPR_SPEA2 NonDominated\",\"opacity\":1,\"x\":[28.7,29.0,30.0,32.0,36.3,37.3,39.3,41.3,41.7,42.3,45.7,46.3,50.7,56.7,61.0,61.3,62.3,63.7,63.7,65.7,66.0,67.7,68.3,68.7,70.7,75.0,76.3,77.3,78.3,79.0,79.7]},{\"marker\":{\"color\":\"#eb911c\",\"size\":5.5},\"mode\":\"markers\",\"y\":[10.3,14.0,19.0,28.0,5.3,11.3,5.7,22.0,21.7,8.3,6.3,25.7,5.3,5.3,6.7,6.0,6.3,8.3,7.3,7.0,6.0,21.0,7.3,6.3,6.3,6.3,6.3,6.3,6.3,6.7,9.0,7.0,7.0,7.3,7.7,6.3,7.3,7.0,6.3,12.3,6.7,22.3,12.7,8.3,7.7,6.3,25.0,13.0,7.0,7.0,12.3,7.0,7.0,7.3,9.0,8.3,7.3,11.3,7.3,6.7,15.0,7.3,7.3,8.0,7.3,16.0,17.3,18.7,9.0,7.7,6.7,7.7,7.7,11.3,12.7,8.3,8.7,7.3,15.7,14.7,8.0,7.7,7.3,7.3,7.0,6.7,20.3,15.7,7.0,7.7,7.3,8.0,8.7,8.7,8.3,7.3,8.0,27.0,16.3,15.0,7.7,7.7,7.3,7.3,7.3,18.3,16.0,9.0,8.7,14.3,8.0,18.7,13.3,18.3,14.7,9.3,13.7,7.7,7.3,8.0,7.0,20.3,20.7,19.0,8.7,8.0,8.0,8.0,8.3,7.7,20.0,27.3,16.0,16.3,16.7,19.7,16.3,19.0,8.0,13.0,8.3,7.7,14.7,15.0,14.7,14.7,15.0,21.0,7.3,7.0,7.7,7.3,8.0,14.7,12.7,14.0,15.3,9.0,7.7,8.0,8.0,7.7,22.7,18.0,21.0,22.3,19.3,19.0,14.7,8.3,7.7,8.0,8.0,14.7,17.3,15.0,8.0,8.0,17.0,19.3,18.7,22.0,13.3,7.7,9.7,16.3,15.0,24.0,22.0,22.3,22.0,8.3,14.3,8.3,24.7,18.7,22.0,22.0,7.7,14.3,9.3,7.7,8.0,8.0,20.7,14.3,15.0,14.3,8.3,8.7,14.3,24.0,23.7,9.0,14.7,31.0,15.0,8.3,14.3,27.7,28.3,14.3,8.0,15.3,15.0,24.3,19.7,26.0,24.3,22.3,22.7,28.0,24.3,25.7,22.0,25.3,34.7,28.0,26.3,25.0,32.7,25.3,23.0,26.7,26.0,25.7,24.3,23.7,23.0,25.3,31.7,21.7,26.7,25.7,22.0,27.0,35.7,27.0,26.0,27.3,30.0,26.3,22.3,22.7,26.0,31.7,22.7,26.0,25.7,24.0,32.0,26.3,26.3,26.3,24.0,32.7,30.7,32.0,26.3,26.3,26.3,24.7,28.0,27.0,33.0,30.3,30.0,28.0,27.7,31.7,31.7,29.0,29.0,29.0,32.7,41.3,27.7,28.7,29.3,27.3,37.0,28.3,35.3,29.7,27.7,33.0,29.0,29.0,29.0,30.0,37.0,34.7,36.0,34.0,31.0,36.0,37.0,35.3,37.0,31.0,31.0,30.3,31.3,36.3,32.0,35.7,32.0,38.3,31.0,36.3,32.3,34.0,32.0,33.7,32.7,42.0,36.0,30.7,33.3,32.7,36.7,32.7,31.7,38.0,38.3,32.0,31.7,31.3,34.3,31.3,31.7,32.0,31.3,31.3,33.7,33.3,45.3,32.0,31.7,45.7,32.3,38.7,43.7,39.3,47.0,40.3,32.7,39.0,32.3,37.3,37.3,46.7,38.0,38.7,36.7,41.3,42.0,44.0,35.3,40.3,41.7,41.0,38.3,41.0,38.7,44.0,36.3,41.0,33.7,36.3,38.7,34.7,37.0,36.3,42.3,35.3,36.0,37.0,35.7,49.7,38.7,35.3,35.3,36.0,48.7,34.3,36.0,35.3,36.0,35.7,35.7,35.3,34.7,35.7,35.7,40.3,36.7,35.7,36.0,40.3,48.0,36.0,36.7,36.0,40.0,41.0,38.0,40.3,37.0,41.0,42.0,36.3,37.0,41.3,42.3,37.3,43.3,42.7,41.3,40.3,44.7,43.0,43.0,42.3,44.3,41.3,41.3,41.0,50.0],\"type\":\"scatter\",\"name\":\"GPR_SPEA2 Dominated\",\"opacity\":0.7,\"x\":[14.7,18.0,23.0,24.3,26.3,27.0,27.0,27.3,27.7,27.7,27.7,28.0,28.0,28.0,28.3,28.7,28.7,28.7,29.0,29.0,29.0,29.3,29.3,29.3,29.3,29.7,29.7,29.7,29.7,30.0,30.3,30.7,30.7,31.0,31.0,31.0,31.0,31.0,31.3,31.3,31.3,31.7,31.7,31.7,31.7,31.7,32.0,32.0,32.3,32.3,32.3,32.3,32.3,32.3,32.7,32.7,32.7,32.7,32.7,32.7,33.0,33.0,33.0,33.0,33.0,33.3,33.3,33.3,33.3,33.3,33.3,33.3,33.3,33.7,33.7,33.7,33.7,33.7,34.0,34.0,34.0,34.0,34.0,34.0,34.0,34.0,34.3,34.3,34.3,34.3,34.3,34.7,34.7,34.7,34.7,34.7,34.7,35.0,35.0,35.0,35.0,35.0,35.0,35.0,35.3,35.7,35.7,35.7,35.7,35.7,35.7,36.0,36.0,36.0,36.0,36.0,36.0,36.0,36.0,36.0,36.0,36.3,36.3,36.3,36.3,36.3,36.3,36.3,36.3,36.3,36.3,36.7,36.7,36.7,36.7,36.7,36.7,36.7,36.7,36.7,36.7,36.7,37.0,37.0,37.0,37.0,37.0,37.0,37.0,37.0,37.0,37.0,37.0,37.3,37.3,37.3,37.3,37.3,37.3,37.3,37.3,37.3,37.7,37.7,37.7,37.7,37.7,37.7,37.7,37.7,37.7,37.7,37.7,38.0,38.0,38.0,38.0,38.0,38.3,38.3,38.3,38.3,38.3,38.3,38.3,38.7,38.7,38.7,38.7,38.7,38.7,38.7,38.7,38.7,39.0,39.0,39.0,39.0,39.0,39.0,39.0,39.0,39.0,39.0,39.3,39.3,39.3,39.3,39.3,39.3,39.7,39.7,40.0,40.0,40.0,40.3,40.3,40.3,40.3,40.7,40.7,40.7,40.7,41.0,41.0,41.3,41.3,42.0,42.0,42.0,42.0,42.3,42.7,42.7,43.0,44.0,44.3,44.3,44.3,44.3,44.7,45.3,45.3,45.7,45.7,46.0,46.7,46.7,46.7,47.3,47.7,47.7,47.7,48.0,48.0,48.0,48.3,48.3,48.7,49.0,49.0,49.3,49.3,49.3,50.0,50.3,50.3,50.3,50.7,51.0,51.0,51.0,51.0,51.3,51.3,51.7,52.0,52.3,53.0,53.0,53.0,53.3,53.7,54.0,54.0,54.3,54.3,54.3,54.7,55.7,55.7,56.0,56.3,56.3,56.7,57.7,58.0,58.0,58.3,58.3,58.7,58.7,59.7,59.7,59.7,60.0,60.7,61.0,61.0,61.3,61.3,61.7,61.7,62.0,62.0,62.3,62.3,62.7,62.7,62.7,62.7,63.3,63.3,63.7,63.7,64.0,64.0,64.3,64.3,64.7,64.7,65.0,65.0,65.0,65.0,65.3,65.3,65.3,65.3,65.7,65.7,66.0,66.0,66.0,66.0,66.0,66.3,66.3,66.3,66.3,66.7,66.7,66.7,66.7,66.7,67.0,67.0,67.0,67.0,67.3,67.3,67.3,67.7,68.0,68.0,68.0,68.0,68.3,68.3,68.3,68.7,68.7,69.0,69.0,69.3,69.7,69.7,70.0,70.0,70.0,70.3,70.3,70.3,70.3,70.7,71.0,71.0,71.3,71.3,71.7,71.7,72.0,72.3,72.7,73.0,73.0,73.0,73.3,73.7,74.0,74.0,74.0,74.0,74.0,74.3,74.3,74.3,74.3,74.7,74.7,74.7,74.7,75.0,75.0,75.0,75.0,75.0,75.3,75.3,75.3,75.7,75.7,75.7,75.7,75.7,75.7,76.0,76.0,76.3,76.3,76.3,76.3,76.3,76.7,76.7,76.7,76.7,77.0,77.0,77.0,77.7,77.7,78.0,78.0,78.0,78.3,78.3,78.3,78.7]}],{\"autosize\":false,\"xaxis\":{\"showgrid\":true,\"showline\":true,\"showticklabels\":true,\"zeroline\":false,\"ticks\":\"\",\"title\":\"sDA\",\"tickformat\":\".\",\"autorange\":true},\"template\":\"plotly_white\",\"height\":540,\"margin\":{\"l\":0,\"b\":0,\"r\":0,\"t\":0},\"legend\":{\"y\":-0.2,\"orientation\":\"h\",\"x\":-0.01},\"yaxis\":{\"showgrid\":true,\"showline\":true,\"showticklabels\":true,\"zeroline\":false,\"ticks\":\"\",\"title\":\"ASE\",\"tickformat\":\".\",\"autorange\":true},\"width\":900},{}); gd.on(\"plotly_hover\",(function (data){var filtered_data=WebIO.PlotlyCommands.filterEventData(gd,data,\"hover\"); return !(filtered_data.isnil) ? (WebIO.setval({\"name\":\"hover\",\"scope\":\"1267074615712302859\",\"id\":\"ob_108\",\"type\":\"observable\"},filtered_data.out)) : undefined})); gd.on(\"plotly_unhover\",(function (){return WebIO.setval({\"name\":\"hover\",\"scope\":\"1267074615712302859\",\"id\":\"ob_108\",\"type\":\"observable\"},{})})); gd.on(\"plotly_selected\",(function (data){var filtered_data=WebIO.PlotlyCommands.filterEventData(gd,data,\"selected\"); return !(filtered_data.isnil) ? (WebIO.setval({\"name\":\"selected\",\"scope\":\"1267074615712302859\",\"id\":\"ob_109\",\"type\":\"observable\"},filtered_data.out)) : undefined})); gd.on(\"plotly_deselect\",(function (){return WebIO.setval({\"name\":\"selected\",\"scope\":\"1267074615712302859\",\"id\":\"ob_109\",\"type\":\"observable\"},{})})); gd.on(\"plotly_relayout\",(function (data){var filtered_data=WebIO.PlotlyCommands.filterEventData(gd,data,\"relayout\"); return !(filtered_data.isnil) ? (WebIO.setval({\"name\":\"relayout\",\"scope\":\"1267074615712302859\",\"id\":\"ob_111\",\"type\":\"observable\"},filtered_data.out)) : undefined})); return gd.on(\"plotly_click\",(function (data){var filtered_data=WebIO.PlotlyCommands.filterEventData(gd,data,\"click\"); return !(filtered_data.isnil) ? (WebIO.setval({\"name\":\"click\",\"scope\":\"1267074615712302859\",\"id\":\"ob_110\",\"type\":\"observable\"},filtered_data.out)) : undefined}))}));\n    (WebIO.importBlock({\"data\":[{\"name\":\"Plotly\",\"type\":\"js\",\"url\":\"/assetserver/97a1af6d43bec17f982ce6699d23c6a6399c0662-plotly-latest.min.js\"},{\"name\":null,\"type\":\"js\",\"url\":\"/assetserver/dda18c5c0a078ca7d31a0db6b56636033afec9a4-plotly_webio.bundle.js\"}],\"type\":\"async_block\"})).then((imports) => handler.apply(this, imports));\n}\n"
        ],
        "observables": {
         "__gd_contents": {
          "id": "ob_113",
          "sync": false,
          "value": {}
         },
         "__get_gd_contents": {
          "id": "ob_117",
          "sync": false,
          "value": ""
         },
         "_commands": {
          "id": "ob_114",
          "sync": false,
          "value": []
         },
         "_downloadImage": {
          "id": "ob_116",
          "sync": false,
          "value": {}
         },
         "_toImage": {
          "id": "ob_115",
          "sync": false,
          "value": {}
         },
         "click": {
          "id": "ob_110",
          "sync": false,
          "value": {}
         },
         "hover": {
          "id": "ob_108",
          "sync": false,
          "value": {}
         },
         "image": {
          "id": "ob_112",
          "sync": true,
          "value": ""
         },
         "relayout": {
          "id": "ob_111",
          "sync": false,
          "value": {}
         },
         "selected": {
          "id": "ob_109",
          "sync": false,
          "value": {}
         }
        },
        "systemjs_options": null
       },
       "nodeType": "Scope",
       "props": {},
       "type": "node"
      },
      "text/html": [
       "<div\n",
       "    class=\"webio-mountpoint\"\n",
       "    data-webio-mountpoint=\"2750369287585880563\"\n",
       ">\n",
       "    <script>\n",
       "    if (window.require && require.defined && require.defined(\"nbextensions/webio-jupyter-notebook\")) {\n",
       "        console.log(\"Jupyter WebIO extension detected, not mounting.\");\n",
       "    } else if (window.WebIO) {\n",
       "        WebIO.mount(\n",
       "            document.querySelector('[data-webio-mountpoint=\"2750369287585880563\"]'),\n",
       "            {\"props\":{},\"nodeType\":\"Scope\",\"type\":\"node\",\"instanceArgs\":{\"imports\":{\"data\":[{\"name\":\"Plotly\",\"type\":\"js\",\"url\":\"\\/assetserver\\/97a1af6d43bec17f982ce6699d23c6a6399c0662-plotly-latest.min.js\"},{\"name\":null,\"type\":\"js\",\"url\":\"\\/assetserver\\/dda18c5c0a078ca7d31a0db6b56636033afec9a4-plotly_webio.bundle.js\"}],\"type\":\"async_block\"},\"id\":\"1267074615712302859\",\"handlers\":{\"_toImage\":[\"(function (options){return this.Plotly.toImage(this.plotElem,options).then((function (data){return WebIO.setval({\\\"name\\\":\\\"image\\\",\\\"scope\\\":\\\"1267074615712302859\\\",\\\"id\\\":\\\"ob_112\\\",\\\"type\\\":\\\"observable\\\"},data)}))})\"],\"__get_gd_contents\":[\"(function (prop){prop==\\\"data\\\" ? (WebIO.setval({\\\"name\\\":\\\"__gd_contents\\\",\\\"scope\\\":\\\"1267074615712302859\\\",\\\"id\\\":\\\"ob_113\\\",\\\"type\\\":\\\"observable\\\"},this.plotElem.data)) : undefined; return prop==\\\"layout\\\" ? (WebIO.setval({\\\"name\\\":\\\"__gd_contents\\\",\\\"scope\\\":\\\"1267074615712302859\\\",\\\"id\\\":\\\"ob_113\\\",\\\"type\\\":\\\"observable\\\"},this.plotElem.layout)) : undefined})\"],\"_downloadImage\":[\"(function (options){return this.Plotly.downloadImage(this.plotElem,options)})\"],\"_commands\":[\"(function (args){var fn=args.shift(); var elem=this.plotElem; var Plotly=this.Plotly; args.unshift(elem); return Plotly[fn].apply(this,args)})\"]},\"systemjs_options\":null,\"mount_callbacks\":[\"function () {\\n    var handler = ((function (Plotly,PlotlyWebIO){PlotlyWebIO.init(WebIO); var gd=this.dom.querySelector(\\\"#plot-628ae83c-75f5-41a0-a47d-b07f5a8b733a\\\"); this.plotElem=gd; this.Plotly=Plotly; (window.Blink!==undefined) ? (gd.style.width=\\\"100%\\\", gd.style.height=\\\"100vh\\\", gd.style.marginLeft=\\\"0%\\\", gd.style.marginTop=\\\"0vh\\\") : undefined; window.onresize=(function (){return Plotly.Plots.resize(gd)}); Plotly.newPlot(gd,[{\\\"marker\\\":{\\\"color\\\":\\\"#43a0b5\\\",\\\"size\\\":5.5},\\\"mode\\\":\\\"lines+markers\\\",\\\"line\\\":{\\\"color\\\":\\\"#43a0b5\\\",\\\"width\\\":1.5},\\\"y\\\":[4.7,5.0,5.0,5.3,6.0,7.0,7.3,7.7,9.3,11.7,12.3,13.3,13.3,13.7,14.0,14.3,14.7,14.7,15.0,15.0,16.3,17.7,17.7,25.7,26.7,27.3,27.7,31.3,32.7,34.7,36.7,38.0,39.3,40.0,44.0,46.0],\\\"type\\\":\\\"scatter\\\",\\\"name\\\":\\\"NSGAII NonDominated\\\",\\\"opacity\\\":1,\\\"x\\\":[23.0,23.7,23.7,25.7,28.0,34.3,36.3,39.0,42.0,44.7,46.3,46.7,46.7,48.0,48.3,48.7,50.3,50.3,52.3,52.3,56.7,59.0,59.0,61.7,62.3,63.3,65.0,67.3,69.3,75.7,76.7,78.0,79.7,80.7,81.3,82.7]},{\\\"marker\\\":{\\\"color\\\":\\\"#43a0b5\\\",\\\"size\\\":5.5},\\\"mode\\\":\\\"markers\\\",\\\"y\\\":[5.3,4.7,4.7,5.3,5.3,4.7,5.7,7.0,13.3,6.7,9.3,8.3,11.3,11.7,15.7,13.3,14.0,17.3,12.7,15.7,12.3,5.3,5.3,22.3,13.3,5.0,5.3,9.0,14.3,5.3,18.7,5.7,22.0,6.7,10.7,6.3,12.3,17.7,13.0,8.3,10.3,10.3,5.3,15.7,12.0,22.7,13.3,16.0,10.3,6.7,15.3,23.0,6.7,6.7,11.3,11.7,22.0,22.7,10.3,15.7,18.7,14.3,24.0,23.0,24.7,16.0,7.3,11.3,11.7,25.0,28.7,18.0,12.0,21.3,17.7,13.7,13.3,13.7,18.0,18.0,22.3,11.3,23.3,13.0,8.0,13.7,14.3,13.7,14.3,12.3,20.3,8.0,15.3,17.0,10.3,10.3,19.0,8.0,27.0,16.3,12.0,15.0,14.0,10.7,14.7,13.3,17.7,22.0,19.0,22.0,11.3,23.3,14.7,20.3,30.7,17.3,10.7,17.7,17.7,19.7,19.7,12.7,11.7,13.0,25.7,11.7,22.7,21.7,13.3,20.7,20.7,13.7,14.0,18.7,18.0,22.3,26.7,31.7,15.0,19.7,34.7,17.7,24.7,17.7,27.0,17.0,15.0,15.7,23.0,19.3,29.0,32.0,15.3,28.3,27.7,21.0,18.0,24.7,19.3,23.7,22.7,14.7,14.7,28.3,23.7,17.7,15.7,32.7,15.3,29.3,24.0,24.7,31.3,15.0,24.3,20.7,28.0,32.7,25.7,15.3,26.0,19.3,27.3,18.7,32.0,24.0,22.0,18.3,26.0,24.7,32.7,29.3,25.0,24.3,27.0,28.3,28.0,41.0,25.7,44.3,29.7,33.3,30.0,32.7,28.7,25.0,30.0,22.3,36.0,26.0,29.7,27.0,34.0,25.7,26.3,25.7,25.0,30.3,27.0,36.0,24.0,37.3,27.0,37.3,27.0,35.0,31.7,19.3,32.7,36.3,35.3,33.7,34.7,28.7,27.3,38.0,28.0,34.0,26.3,27.0,26.3,30.0,36.7,37.7,28.3,28.3,27.0,30.0,35.0,27.3,33.3,33.0,33.7,28.3,33.7,33.7,30.0,29.3,28.3,33.7,39.3,37.3,35.3,32.7,36.7,29.0,39.7,29.0,27.3,35.3,36.7,38.0,32.0,28.0,27.7,30.3,32.3,29.0,33.3,29.0,33.0,29.3,38.3,36.3,32.7,35.7,32.3,39.0,35.0,38.0,37.3,34.3,39.3,37.0,41.3,39.3,32.7,42.7,36.7,34.0,41.0,41.0,37.7,41.3,40.7,40.0,36.0,35.7,39.7,43.0,40.3,38.0,38.0,41.3,38.3,38.0,41.7,34.7,40.7,38.7,34.7,39.3,39.3,38.3,39.3,38.7,43.0,46.7,41.7,35.7,40.3,42.0,42.0,43.3,40.3,40.7,43.7,39.7,36.3,46.0,40.7,43.0,40.3,36.7,36.0,34.7,41.0,38.3,37.0,37.0,40.0,41.3,37.7,38.3,44.3,45.3,44.3,44.0,45.7,48.0,44.3,45.0,44.7,44.7,42.7,48.7,48.0,51.3,52.0,43.7,44.0,44.3,44.7,50.7,43.7,41.0,44.0],\\\"type\\\":\\\"scatter\\\",\\\"name\\\":\\\"NSGAII Dominated\\\",\\\"opacity\\\":0.7,\\\"x\\\":[8.7,10.3,10.3,10.7,10.7,11.0,11.7,13.7,14.7,16.0,16.3,17.0,17.3,17.7,18.0,19.3,19.7,20.0,20.0,20.3,20.3,20.7,21.0,21.7,21.7,21.7,22.0,23.0,23.3,23.3,23.7,23.7,24.0,24.0,24.0,24.0,24.0,24.3,24.3,24.7,24.7,24.7,25.0,25.3,25.7,25.7,25.7,26.0,26.0,26.3,26.3,26.7,26.7,26.7,27.0,27.3,28.0,28.0,28.0,29.3,29.3,29.7,30.0,30.0,31.0,31.3,31.7,31.7,32.0,32.3,32.7,32.7,32.7,33.3,34.3,34.3,34.3,34.3,34.7,34.7,35.3,35.7,36.0,36.7,37.7,37.7,38.0,38.0,38.0,38.0,38.3,38.3,38.7,38.7,38.7,38.7,38.7,39.0,39.3,39.3,39.3,39.7,39.7,40.0,40.0,40.0,40.3,40.7,40.7,41.0,41.0,41.0,41.7,41.7,42.0,42.0,42.0,42.0,42.3,42.3,42.7,42.7,43.0,43.0,43.3,43.3,43.3,43.7,44.0,44.0,44.0,44.3,44.3,44.7,45.0,45.0,45.3,45.3,45.3,45.7,46.3,46.3,46.3,46.7,46.7,46.7,46.7,47.0,47.0,47.0,48.0,48.0,48.0,48.0,48.0,48.7,48.7,48.7,49.0,49.0,49.0,49.3,49.3,49.3,49.3,49.3,49.7,50.0,50.3,51.0,51.0,51.0,51.0,51.0,51.3,51.3,51.3,52.0,52.0,52.0,52.3,52.3,52.3,52.3,52.7,53.0,53.0,53.3,53.7,53.7,54.0,54.7,54.7,54.7,55.0,55.0,55.3,55.3,55.3,55.3,55.7,55.7,55.7,56.0,56.0,56.3,56.3,56.3,56.7,56.7,56.7,57.0,57.3,57.3,57.3,57.3,58.0,58.0,58.0,58.3,58.7,58.7,58.7,58.7,58.7,59.0,59.0,59.0,59.3,59.3,59.3,59.3,59.7,59.7,59.7,60.0,60.0,60.3,60.3,60.3,60.3,60.3,60.7,60.7,60.7,60.7,61.0,61.0,61.0,61.0,61.3,61.7,61.7,61.7,62.0,62.3,62.3,62.3,62.3,62.3,62.7,62.7,62.7,63.0,63.0,63.0,63.0,63.0,63.0,63.3,63.3,63.7,63.7,63.7,63.7,64.0,64.0,64.3,64.3,64.3,64.7,64.7,64.7,65.0,65.0,65.0,65.0,65.3,65.3,65.3,66.0,66.7,66.7,67.0,67.3,67.3,67.3,68.0,68.0,68.0,68.3,68.3,68.3,68.7,68.7,68.7,68.7,68.7,69.0,69.3,69.3,69.3,70.3,71.0,71.0,71.0,71.0,71.0,71.3,71.3,71.3,71.7,71.7,72.0,72.0,72.0,72.3,72.7,72.7,73.0,73.0,73.3,73.7,73.7,74.0,74.0,74.0,74.3,74.3,74.7,74.7,75.0,75.0,75.0,75.0,75.0,75.3,75.3,75.7,75.7,75.7,76.0,76.3,76.7,76.7,77.0,77.0,77.3,77.3,77.7,78.0,78.0,78.0,78.3,78.3,78.3,79.0,79.7,79.7,80.0,80.0,80.0,80.0,80.3,80.3,80.7,81.0]},{\\\"marker\\\":{\\\"color\\\":\\\"#B5557A\\\",\\\"size\\\":5.5},\\\"mode\\\":\\\"lines+markers\\\",\\\"line\\\":{\\\"color\\\":\\\"#B5557A\\\",\\\"width\\\":1.5},\\\"y\\\":[4.0,4.0,4.0,4.3,4.7,5.0,6.0,6.7,7.0,8.0,8.7,9.3,11.3,12.3,14.3,15.7,15.7,17.0,17.3,17.3,19.0,20.3,24.0,24.3,25.3,28.0,29.0,31.3,32.0,33.7,35.7,36.3,36.7,39.3,41.3,42.3,44.3,45.7],\\\"type\\\":\\\"scatter\\\",\\\"name\\\":\\\"OMOPSO NonDominated\\\",\\\"opacity\\\":1,\\\"x\\\":[13.3,13.3,13.3,19.0,20.0,24.0,28.0,32.3,37.0,38.7,41.7,43.3,45.0,47.0,49.3,51.3,51.3,51.7,53.3,53.3,56.7,57.0,58.7,59.0,61.3,62.0,64.3,67.7,71.7,72.7,75.0,75.7,76.3,77.7,79.0,80.3,81.3,82.0]},{\\\"marker\\\":{\\\"color\\\":\\\"#B5557A\\\",\\\"size\\\":5.5},\\\"mode\\\":\\\"markers\\\",\\\"y\\\":[4.0,4.0,4.0,4.3,4.0,4.0,4.7,4.7,4.7,7.0,6.3,5.7,5.7,6.3,6.3,5.7,7.0,7.7,8.0,6.0,4.7,8.0,7.3,5.3,7.7,6.7,11.3,8.7,14.7,6.3,8.3,4.3,16.7,12.7,14.3,7.3,10.3,18.3,5.7,15.3,18.3,8.3,8.7,17.0,17.0,19.7,16.7,16.3,17.7,13.3,7.3,20.3,5.7,18.7,13.7,18.3,19.0,6.0,12.0,22.7,16.0,7.0,16.0,6.7,6.3,6.7,7.0,22.0,21.7,11.7,11.7,13.0,20.3,12.7,7.0,15.3,11.7,11.7,19.7,28.7,12.0,7.7,26.0,12.0,11.7,21.7,18.3,12.0,26.3,7.3,7.7,8.3,7.7,24.0,14.3,7.7,24.3,16.3,13.3,23.3,18.0,23.3,18.3,10.7,9.3,23.3,20.3,15.3,21.3,12.3,9.7,27.0,28.3,18.3,22.0,22.0,22.0,22.0,22.3,27.3,22.7,24.3,10.0,22.7,25.0,11.0,22.7,24.0,20.7,24.0,23.3,23.0,11.0,22.3,26.0,27.0,26.0,26.7,11.3,23.0,23.0,24.0,27.3,27.0,27.0,24.0,30.7,35.7,24.0,17.7,35.0,22.7,26.0,27.7,21.0,18.3,24.0,28.0,27.0,28.7,23.7,25.0,26.7,34.7,20.0,19.3,19.3,17.7,39.3,35.3,33.0,33.3,24.3,37.3,24.7,41.0,28.0,23.7,27.7,25.3,25.7,39.7,24.0,32.0,22.0,26.0,26.0,26.0,25.3,25.3,25.3,19.0,28.0,23.0,28.3,26.0,35.3,30.0,28.3,29.3,26.3,28.0,32.0,34.3,30.0,40.7,24.0,29.7,24.3,34.7,26.7,29.7,29.0,37.3,37.7,32.0,27.0,26.7,26.3,35.7,23.7,35.7,34.7,35.3,21.3,27.0,32.3,31.3,34.0,26.3,31.3,28.7,34.0,29.3,37.0,25.0,28.3,26.0,28.0,25.7,36.7,38.3,35.0,28.7,38.3,37.0,39.7,37.7,42.0,27.7,28.3,41.0,40.0,29.0,37.0,31.3,31.3,29.3,27.3,35.3,37.0,32.0,36.3,34.3,28.3,29.7,30.0,32.3,36.3,31.0,30.0,29.3,30.7,41.0,32.7,30.0,30.7,31.3,31.3,42.0,38.0,37.7,29.3,40.0,30.3,45.7,41.7,38.3,44.7,47.3,47.3,32.3,32.7,34.7,35.3,41.0,45.3,31.7,32.7,34.7,38.0,43.7,37.7,41.3,36.0,35.3,42.7,32.0,44.3,37.3,41.0,35.7,37.3,41.0,37.0,34.3,34.3,43.7,36.7,37.3,38.0,32.7,43.3,43.7,41.3,32.7,42.7,46.0,44.3,48.7,43.3,42.7,38.7,49.3,38.7,37.0,48.0,46.7,35.7,43.7,44.0,41.0,38.3,36.7,45.7,46.0,44.0,44.3,47.7,45.7,47.3,46.3,44.7,47.0,46.7,48.3,43.0,45.3,46.3,44.3,48.7,47.3],\\\"type\\\":\\\"scatter\\\",\\\"name\\\":\\\"OMOPSO Dominated\\\",\\\"opacity\\\":0.7,\\\"x\\\":[6.7,6.7,7.0,7.3,9.7,9.7,10.0,10.0,10.7,11.3,11.3,11.7,11.7,12.0,12.0,12.0,12.3,12.7,13.0,13.0,13.3,13.7,14.0,14.0,14.7,15.0,15.3,15.7,16.0,16.0,17.0,17.0,18.0,18.0,18.0,19.3,19.7,20.0,20.0,20.7,20.7,21.0,21.7,21.7,22.0,22.0,22.7,22.7,22.7,23.3,23.7,23.7,23.7,24.0,24.0,24.0,24.0,25.0,25.7,25.7,26.0,26.3,26.7,26.7,26.7,27.3,27.7,28.0,28.7,29.3,29.3,29.7,29.7,30.7,30.7,31.0,31.7,31.7,32.3,32.7,32.7,32.7,33.7,34.0,34.0,34.0,34.7,34.7,35.0,35.3,35.3,35.7,35.7,35.7,35.7,35.7,36.0,36.0,36.3,36.7,37.0,37.0,37.0,38.0,38.3,38.7,39.0,39.3,39.3,39.3,40.0,40.0,40.0,40.7,40.7,40.7,40.7,40.7,41.0,41.0,41.3,41.3,42.3,42.3,42.3,42.7,42.7,43.0,43.0,43.3,43.3,43.3,43.3,43.7,44.0,44.0,44.0,44.3,44.7,45.0,45.0,45.3,45.3,45.7,45.7,46.0,46.0,46.3,46.3,46.7,46.7,47.0,47.0,47.0,47.0,47.0,47.3,47.3,47.7,48.0,48.0,48.0,48.3,48.7,48.7,49.0,49.7,49.7,50.0,50.3,50.3,50.7,51.0,51.3,51.7,51.7,51.7,51.7,52.0,52.0,52.0,52.0,52.3,52.7,52.7,52.7,53.0,53.0,53.3,53.3,53.3,53.3,53.7,54.0,54.0,54.0,54.0,54.3,54.3,54.7,54.7,54.7,54.7,55.0,55.0,55.3,55.3,55.7,55.7,55.7,55.7,55.7,55.7,55.7,56.0,56.0,56.0,56.0,56.0,56.3,56.3,56.3,56.7,56.7,56.7,56.7,56.7,56.7,57.3,57.3,57.3,57.3,57.3,57.7,58.0,58.0,58.0,58.0,58.0,58.3,58.7,58.7,59.0,59.3,59.3,59.7,59.7,59.7,59.7,60.0,60.0,60.0,60.0,60.0,60.3,60.3,60.7,61.0,61.0,61.3,61.3,61.7,62.0,62.0,62.0,62.3,62.3,62.3,62.3,62.3,62.3,62.7,62.7,62.7,63.0,63.0,63.0,63.0,63.0,63.3,63.7,63.7,64.3,64.3,64.3,64.3,64.7,64.7,64.7,64.7,64.7,65.0,65.0,65.3,65.3,65.7,66.3,66.3,66.3,66.3,66.7,66.7,66.7,67.3,67.3,67.3,68.0,68.0,68.0,68.0,68.3,68.3,68.3,68.3,68.3,69.7,69.7,70.0,70.0,70.0,70.3,70.3,70.7,70.7,71.0,71.0,71.0,72.0,73.0,73.3,73.7,73.7,73.7,73.7,73.7,73.7,74.0,74.0,74.0,74.3,74.3,75.0,75.3,75.7,77.0,77.7,77.7,78.0,78.0,78.7,78.7,79.0,79.0,79.0,79.0,79.3,80.0,80.0,80.3,80.3,80.7,81.0]},{\\\"marker\\\":{\\\"color\\\":\\\"#eb911c\\\",\\\"size\\\":5.5},\\\"mode\\\":\\\"lines+markers\\\",\\\"line\\\":{\\\"color\\\":\\\"#eb911c\\\",\\\"width\\\":1.5},\\\"y\\\":[5.3,5.7,6.0,6.3,6.7,7.0,7.3,8.0,8.7,15.3,19.7,20.7,21.7,23.3,27.3,27.7,28.7,29.3,29.3,30.7,31.0,31.3,32.0,33.0,33.3,33.7,34.7,35.7,37.7,43.7,44.3],\\\"type\\\":\\\"scatter\\\",\\\"name\\\":\\\"GPR_SPEA2 NonDominated\\\",\\\"opacity\\\":1,\\\"x\\\":[28.7,29.0,30.0,32.0,36.3,37.3,39.3,41.3,41.7,42.3,45.7,46.3,50.7,56.7,61.0,61.3,62.3,63.7,63.7,65.7,66.0,67.7,68.3,68.7,70.7,75.0,76.3,77.3,78.3,79.0,79.7]},{\\\"marker\\\":{\\\"color\\\":\\\"#eb911c\\\",\\\"size\\\":5.5},\\\"mode\\\":\\\"markers\\\",\\\"y\\\":[10.3,14.0,19.0,28.0,5.3,11.3,5.7,22.0,21.7,8.3,6.3,25.7,5.3,5.3,6.7,6.0,6.3,8.3,7.3,7.0,6.0,21.0,7.3,6.3,6.3,6.3,6.3,6.3,6.3,6.7,9.0,7.0,7.0,7.3,7.7,6.3,7.3,7.0,6.3,12.3,6.7,22.3,12.7,8.3,7.7,6.3,25.0,13.0,7.0,7.0,12.3,7.0,7.0,7.3,9.0,8.3,7.3,11.3,7.3,6.7,15.0,7.3,7.3,8.0,7.3,16.0,17.3,18.7,9.0,7.7,6.7,7.7,7.7,11.3,12.7,8.3,8.7,7.3,15.7,14.7,8.0,7.7,7.3,7.3,7.0,6.7,20.3,15.7,7.0,7.7,7.3,8.0,8.7,8.7,8.3,7.3,8.0,27.0,16.3,15.0,7.7,7.7,7.3,7.3,7.3,18.3,16.0,9.0,8.7,14.3,8.0,18.7,13.3,18.3,14.7,9.3,13.7,7.7,7.3,8.0,7.0,20.3,20.7,19.0,8.7,8.0,8.0,8.0,8.3,7.7,20.0,27.3,16.0,16.3,16.7,19.7,16.3,19.0,8.0,13.0,8.3,7.7,14.7,15.0,14.7,14.7,15.0,21.0,7.3,7.0,7.7,7.3,8.0,14.7,12.7,14.0,15.3,9.0,7.7,8.0,8.0,7.7,22.7,18.0,21.0,22.3,19.3,19.0,14.7,8.3,7.7,8.0,8.0,14.7,17.3,15.0,8.0,8.0,17.0,19.3,18.7,22.0,13.3,7.7,9.7,16.3,15.0,24.0,22.0,22.3,22.0,8.3,14.3,8.3,24.7,18.7,22.0,22.0,7.7,14.3,9.3,7.7,8.0,8.0,20.7,14.3,15.0,14.3,8.3,8.7,14.3,24.0,23.7,9.0,14.7,31.0,15.0,8.3,14.3,27.7,28.3,14.3,8.0,15.3,15.0,24.3,19.7,26.0,24.3,22.3,22.7,28.0,24.3,25.7,22.0,25.3,34.7,28.0,26.3,25.0,32.7,25.3,23.0,26.7,26.0,25.7,24.3,23.7,23.0,25.3,31.7,21.7,26.7,25.7,22.0,27.0,35.7,27.0,26.0,27.3,30.0,26.3,22.3,22.7,26.0,31.7,22.7,26.0,25.7,24.0,32.0,26.3,26.3,26.3,24.0,32.7,30.7,32.0,26.3,26.3,26.3,24.7,28.0,27.0,33.0,30.3,30.0,28.0,27.7,31.7,31.7,29.0,29.0,29.0,32.7,41.3,27.7,28.7,29.3,27.3,37.0,28.3,35.3,29.7,27.7,33.0,29.0,29.0,29.0,30.0,37.0,34.7,36.0,34.0,31.0,36.0,37.0,35.3,37.0,31.0,31.0,30.3,31.3,36.3,32.0,35.7,32.0,38.3,31.0,36.3,32.3,34.0,32.0,33.7,32.7,42.0,36.0,30.7,33.3,32.7,36.7,32.7,31.7,38.0,38.3,32.0,31.7,31.3,34.3,31.3,31.7,32.0,31.3,31.3,33.7,33.3,45.3,32.0,31.7,45.7,32.3,38.7,43.7,39.3,47.0,40.3,32.7,39.0,32.3,37.3,37.3,46.7,38.0,38.7,36.7,41.3,42.0,44.0,35.3,40.3,41.7,41.0,38.3,41.0,38.7,44.0,36.3,41.0,33.7,36.3,38.7,34.7,37.0,36.3,42.3,35.3,36.0,37.0,35.7,49.7,38.7,35.3,35.3,36.0,48.7,34.3,36.0,35.3,36.0,35.7,35.7,35.3,34.7,35.7,35.7,40.3,36.7,35.7,36.0,40.3,48.0,36.0,36.7,36.0,40.0,41.0,38.0,40.3,37.0,41.0,42.0,36.3,37.0,41.3,42.3,37.3,43.3,42.7,41.3,40.3,44.7,43.0,43.0,42.3,44.3,41.3,41.3,41.0,50.0],\\\"type\\\":\\\"scatter\\\",\\\"name\\\":\\\"GPR_SPEA2 Dominated\\\",\\\"opacity\\\":0.7,\\\"x\\\":[14.7,18.0,23.0,24.3,26.3,27.0,27.0,27.3,27.7,27.7,27.7,28.0,28.0,28.0,28.3,28.7,28.7,28.7,29.0,29.0,29.0,29.3,29.3,29.3,29.3,29.7,29.7,29.7,29.7,30.0,30.3,30.7,30.7,31.0,31.0,31.0,31.0,31.0,31.3,31.3,31.3,31.7,31.7,31.7,31.7,31.7,32.0,32.0,32.3,32.3,32.3,32.3,32.3,32.3,32.7,32.7,32.7,32.7,32.7,32.7,33.0,33.0,33.0,33.0,33.0,33.3,33.3,33.3,33.3,33.3,33.3,33.3,33.3,33.7,33.7,33.7,33.7,33.7,34.0,34.0,34.0,34.0,34.0,34.0,34.0,34.0,34.3,34.3,34.3,34.3,34.3,34.7,34.7,34.7,34.7,34.7,34.7,35.0,35.0,35.0,35.0,35.0,35.0,35.0,35.3,35.7,35.7,35.7,35.7,35.7,35.7,36.0,36.0,36.0,36.0,36.0,36.0,36.0,36.0,36.0,36.0,36.3,36.3,36.3,36.3,36.3,36.3,36.3,36.3,36.3,36.3,36.7,36.7,36.7,36.7,36.7,36.7,36.7,36.7,36.7,36.7,36.7,37.0,37.0,37.0,37.0,37.0,37.0,37.0,37.0,37.0,37.0,37.0,37.3,37.3,37.3,37.3,37.3,37.3,37.3,37.3,37.3,37.7,37.7,37.7,37.7,37.7,37.7,37.7,37.7,37.7,37.7,37.7,38.0,38.0,38.0,38.0,38.0,38.3,38.3,38.3,38.3,38.3,38.3,38.3,38.7,38.7,38.7,38.7,38.7,38.7,38.7,38.7,38.7,39.0,39.0,39.0,39.0,39.0,39.0,39.0,39.0,39.0,39.0,39.3,39.3,39.3,39.3,39.3,39.3,39.7,39.7,40.0,40.0,40.0,40.3,40.3,40.3,40.3,40.7,40.7,40.7,40.7,41.0,41.0,41.3,41.3,42.0,42.0,42.0,42.0,42.3,42.7,42.7,43.0,44.0,44.3,44.3,44.3,44.3,44.7,45.3,45.3,45.7,45.7,46.0,46.7,46.7,46.7,47.3,47.7,47.7,47.7,48.0,48.0,48.0,48.3,48.3,48.7,49.0,49.0,49.3,49.3,49.3,50.0,50.3,50.3,50.3,50.7,51.0,51.0,51.0,51.0,51.3,51.3,51.7,52.0,52.3,53.0,53.0,53.0,53.3,53.7,54.0,54.0,54.3,54.3,54.3,54.7,55.7,55.7,56.0,56.3,56.3,56.7,57.7,58.0,58.0,58.3,58.3,58.7,58.7,59.7,59.7,59.7,60.0,60.7,61.0,61.0,61.3,61.3,61.7,61.7,62.0,62.0,62.3,62.3,62.7,62.7,62.7,62.7,63.3,63.3,63.7,63.7,64.0,64.0,64.3,64.3,64.7,64.7,65.0,65.0,65.0,65.0,65.3,65.3,65.3,65.3,65.7,65.7,66.0,66.0,66.0,66.0,66.0,66.3,66.3,66.3,66.3,66.7,66.7,66.7,66.7,66.7,67.0,67.0,67.0,67.0,67.3,67.3,67.3,67.7,68.0,68.0,68.0,68.0,68.3,68.3,68.3,68.7,68.7,69.0,69.0,69.3,69.7,69.7,70.0,70.0,70.0,70.3,70.3,70.3,70.3,70.7,71.0,71.0,71.3,71.3,71.7,71.7,72.0,72.3,72.7,73.0,73.0,73.0,73.3,73.7,74.0,74.0,74.0,74.0,74.0,74.3,74.3,74.3,74.3,74.7,74.7,74.7,74.7,75.0,75.0,75.0,75.0,75.0,75.3,75.3,75.3,75.7,75.7,75.7,75.7,75.7,75.7,76.0,76.0,76.3,76.3,76.3,76.3,76.3,76.7,76.7,76.7,76.7,77.0,77.0,77.0,77.7,77.7,78.0,78.0,78.0,78.3,78.3,78.3,78.7]}],{\\\"autosize\\\":false,\\\"xaxis\\\":{\\\"showgrid\\\":true,\\\"showline\\\":true,\\\"showticklabels\\\":true,\\\"zeroline\\\":false,\\\"ticks\\\":\\\"\\\",\\\"title\\\":\\\"sDA\\\",\\\"tickformat\\\":\\\".\\\",\\\"autorange\\\":true},\\\"template\\\":\\\"plotly_white\\\",\\\"height\\\":540,\\\"margin\\\":{\\\"l\\\":0,\\\"b\\\":0,\\\"r\\\":0,\\\"t\\\":0},\\\"legend\\\":{\\\"y\\\":-0.2,\\\"orientation\\\":\\\"h\\\",\\\"x\\\":-0.01},\\\"yaxis\\\":{\\\"showgrid\\\":true,\\\"showline\\\":true,\\\"showticklabels\\\":true,\\\"zeroline\\\":false,\\\"ticks\\\":\\\"\\\",\\\"title\\\":\\\"ASE\\\",\\\"tickformat\\\":\\\".\\\",\\\"autorange\\\":true},\\\"width\\\":900},{}); gd.on(\\\"plotly_hover\\\",(function (data){var filtered_data=WebIO.PlotlyCommands.filterEventData(gd,data,\\\"hover\\\"); return !(filtered_data.isnil) ? (WebIO.setval({\\\"name\\\":\\\"hover\\\",\\\"scope\\\":\\\"1267074615712302859\\\",\\\"id\\\":\\\"ob_108\\\",\\\"type\\\":\\\"observable\\\"},filtered_data.out)) : undefined})); gd.on(\\\"plotly_unhover\\\",(function (){return WebIO.setval({\\\"name\\\":\\\"hover\\\",\\\"scope\\\":\\\"1267074615712302859\\\",\\\"id\\\":\\\"ob_108\\\",\\\"type\\\":\\\"observable\\\"},{})})); gd.on(\\\"plotly_selected\\\",(function (data){var filtered_data=WebIO.PlotlyCommands.filterEventData(gd,data,\\\"selected\\\"); return !(filtered_data.isnil) ? (WebIO.setval({\\\"name\\\":\\\"selected\\\",\\\"scope\\\":\\\"1267074615712302859\\\",\\\"id\\\":\\\"ob_109\\\",\\\"type\\\":\\\"observable\\\"},filtered_data.out)) : undefined})); gd.on(\\\"plotly_deselect\\\",(function (){return WebIO.setval({\\\"name\\\":\\\"selected\\\",\\\"scope\\\":\\\"1267074615712302859\\\",\\\"id\\\":\\\"ob_109\\\",\\\"type\\\":\\\"observable\\\"},{})})); gd.on(\\\"plotly_relayout\\\",(function (data){var filtered_data=WebIO.PlotlyCommands.filterEventData(gd,data,\\\"relayout\\\"); return !(filtered_data.isnil) ? (WebIO.setval({\\\"name\\\":\\\"relayout\\\",\\\"scope\\\":\\\"1267074615712302859\\\",\\\"id\\\":\\\"ob_111\\\",\\\"type\\\":\\\"observable\\\"},filtered_data.out)) : undefined})); return gd.on(\\\"plotly_click\\\",(function (data){var filtered_data=WebIO.PlotlyCommands.filterEventData(gd,data,\\\"click\\\"); return !(filtered_data.isnil) ? (WebIO.setval({\\\"name\\\":\\\"click\\\",\\\"scope\\\":\\\"1267074615712302859\\\",\\\"id\\\":\\\"ob_110\\\",\\\"type\\\":\\\"observable\\\"},filtered_data.out)) : undefined}))}));\\n    (WebIO.importBlock({\\\"data\\\":[{\\\"name\\\":\\\"Plotly\\\",\\\"type\\\":\\\"js\\\",\\\"url\\\":\\\"\\/assetserver\\/97a1af6d43bec17f982ce6699d23c6a6399c0662-plotly-latest.min.js\\\"},{\\\"name\\\":null,\\\"type\\\":\\\"js\\\",\\\"url\\\":\\\"\\/assetserver\\/dda18c5c0a078ca7d31a0db6b56636033afec9a4-plotly_webio.bundle.js\\\"}],\\\"type\\\":\\\"async_block\\\"})).then((imports) => handler.apply(this, imports));\\n}\\n\"],\"observables\":{\"_toImage\":{\"sync\":false,\"id\":\"ob_115\",\"value\":{}},\"hover\":{\"sync\":false,\"id\":\"ob_108\",\"value\":{}},\"selected\":{\"sync\":false,\"id\":\"ob_109\",\"value\":{}},\"__gd_contents\":{\"sync\":false,\"id\":\"ob_113\",\"value\":{}},\"click\":{\"sync\":false,\"id\":\"ob_110\",\"value\":{}},\"image\":{\"sync\":true,\"id\":\"ob_112\",\"value\":\"\"},\"__get_gd_contents\":{\"sync\":false,\"id\":\"ob_117\",\"value\":\"\"},\"_downloadImage\":{\"sync\":false,\"id\":\"ob_116\",\"value\":{}},\"relayout\":{\"sync\":false,\"id\":\"ob_111\",\"value\":{}},\"_commands\":{\"sync\":false,\"id\":\"ob_114\",\"value\":[]}}},\"children\":[{\"props\":{\"id\":\"plot-628ae83c-75f5-41a0-a47d-b07f5a8b733a\"},\"nodeType\":\"DOM\",\"type\":\"node\",\"instanceArgs\":{\"namespace\":\"html\",\"tag\":\"div\"},\"children\":[]}]},\n",
       "            window,\n",
       "        );\n",
       "    } else {\n",
       "        document\n",
       "            .querySelector('[data-webio-mountpoint=\"2750369287585880563\"]')\n",
       "            .innerHTML = (\n",
       "                '<div style=\"padding: 1em; background-color: #f8d6da; border: 1px solid #f5c6cb\">' +\n",
       "                '<p><strong>WebIO not detected.</strong></p>' +\n",
       "                '<p>Please read ' +\n",
       "                '<a href=\"https://juliagizmos.github.io/WebIO.jl/latest/troubleshooting/not-detected/\" target=\"_blank\">the troubleshooting guide</a> ' +\n",
       "                'for more information on how to resolve this issue.</p>' +\n",
       "                '<p><a href=\"https://juliagizmos.github.io/WebIO.jl/latest/troubleshooting/not-detected/\" target=\"_blank\">https://juliagizmos.github.io/WebIO.jl/latest/troubleshooting/not-detected/</a></p>' +\n",
       "                '</div>'\n",
       "            );\n",
       "    }\n",
       "    </script>\n",
       "</div>\n"
      ],
      "text/plain": [
       "data: [\n",
       "  \"scatter with fields line, marker, mode, name, opacity, type, x, and y\",\n",
       "  \"scatter with fields marker, mode, name, opacity, type, x, and y\",\n",
       "  \"scatter with fields line, marker, mode, name, opacity, type, x, and y\",\n",
       "  \"scatter with fields marker, mode, name, opacity, type, x, and y\",\n",
       "  \"scatter with fields line, marker, mode, name, opacity, type, x, and y\",\n",
       "  \"scatter with fields marker, mode, name, opacity, type, x, and y\"\n",
       "]\n",
       "\n",
       "layout: \"layout with fields autosize, height, legend, margin, template, width, xaxis, and yaxis\"\n",
       "\n"
      ]
     },
     "metadata": {
      "application/vnd.webio.node+json": {
       "kernelId": "39a39940-e927-4336-b049-21782b40626f"
      }
     },
     "output_type": "display_data"
    },
    {
     "data": {
      "text/plain": [
       "#175 (generic function with 1 method)"
      ]
     },
     "execution_count": 79,
     "metadata": {},
     "output_type": "execute_result"
    },
    {
     "name": "stdout",
     "output_type": "stream",
     "text": [
      "DataFrameRow\n",
      "│ Row │ m_stripes │ rotation │ thickness │ ASE     │ sDA     │\n",
      "│     │ \u001b[90mFloat64\u001b[39m   │ \u001b[90mFloat64\u001b[39m  │ \u001b[90mFloat64\u001b[39m   │ \u001b[90mFloat64\u001b[39m │ \u001b[90mFloat64\u001b[39m │\n",
      "├─────┼───────────┼──────────┼───────────┼─────────┼─────────┤\n",
      "│ 21  │ 7.0       │ 1.55841  │ 1.14      │ 16.3    │ 56.7    │\n"
     ]
    },
    {
     "name": "stderr",
     "output_type": "stream",
     "text": [
      "┌ Info: MeshCat server started. You can open the visualizer by visiting the following URL in your browser:\n",
      "│ http://localhost:8713\n",
      "└ @ MeshCat C:\\Users\\iicpe\\.julia\\packages\\MeshCat\\ECbzr\\src\\visualizer.jl:73\n"
     ]
    },
    {
     "data": {
      "text/html": [
       "    <div style=\"height: 500px; width: 100%; overflow-x: auto; overflow-y: hidden; resize: both\">\n",
       "    <iframe src=\"http://localhost:8713\" style=\"width: 100%; height: 100%; border: none\"></iframe>\n",
       "    </div>\n"
      ],
      "text/plain": [
       "MeshCat.DisplayedVisualizer(MeshCat.CoreVisualizer(MeshCat.SceneTrees.SceneNode(nothing, nothing, Dict{String,Array{UInt8,1}}(), nothing, Dict{String,MeshCat.SceneTrees.SceneNode}()), Set(Any[]), ip\"127.0.0.1\", 8713))"
      ]
     },
     "metadata": {},
     "output_type": "display_data"
    }
   ],
   "source": [
    "new_backend()\n",
    "\n",
    "create_pfs(pfs1, x=sDA, y=ASE, tpf=nothing, names=all_algorithms_phase1, \n",
    "           colorscale=nothing, colors=[\"#43a0b5\", \"#B5557A\", \"#eb911c\"],\n",
    "           draw_dominated=true, layout=layout_weaved)"
   ]
  },
  {
   "cell_type": "markdown",
   "metadata": {},
   "source": [
    "###  LEED V4 Daylight Credit\n",
    " \n",
    "To score in the LEED V4 Daylight Credit a solution must simultaneously meet the following requirements:\n",
    " \n",
    " $$ ASE < 20\\% \\\\ sDA \\geq\\ 40\\% $$"
   ]
  },
  {
   "cell_type": "markdown",
   "metadata": {},
   "source": [
    "We selected a few solutions from the Pareto fronts that meet LEED v4 Daylight Credit.\n",
    "\n",
    "| solution | algorithm | m_stripes | rotation | thickness | ASE  | sDA  |\n",
    "|----------|-----------|-----------|----------|-----------|------|------|\n",
    "| 1        | NSGAII    | 7         | 1.55841  | 1.5       | 17.7 | 59.0 |\n",
    "| 2        | OMOPSO    | 6         | 1.63841  | 0.3       | 11.3 | 45.0 |\n",
    "| 3        | GPR_SPEA2 | 6         | -2.74159 | 0.9       | 19.7 | 45.7 |\n",
    "\n",
    " \n",
    " <img src=\"./figures/ParetoFronts_Solutions.png\" width=\"1000\">"
   ]
  },
  {
   "cell_type": "markdown",
   "metadata": {},
   "source": [
    "<img src=\"./figures/Final_Solution.jpg\" width=\"1000\">"
   ]
  }
 ],
 "metadata": {
  "@webio": {
   "lastCommId": "b77632f40adf4c5b8e1cf251ce7215fe",
   "lastKernelId": "39a39940-e927-4336-b049-21782b40626f"
  },
  "kernelspec": {
   "display_name": "Julia 1.4.1",
   "language": "julia",
   "name": "julia-1.4"
  },
  "language_info": {
   "file_extension": ".jl",
   "mimetype": "application/julia",
   "name": "julia",
   "version": "1.4.1"
  },
  "toc": {
   "base_numbering": 1,
   "nav_menu": {
    "height": "280px",
    "width": "388px"
   },
   "number_sections": true,
   "sideBar": true,
   "skip_h1_title": false,
   "title_cell": "Table of Contents",
   "title_sidebar": "Contents",
   "toc_cell": false,
   "toc_position": {
    "height": "calc(100% - 180px)",
    "left": "10px",
    "top": "150px",
    "width": "224px"
   },
   "toc_section_display": true,
   "toc_window_display": true
  },
  "toc-autonumbering": true,
  "toc-showcode": false,
  "toc-showtags": false
 },
 "nbformat": 4,
 "nbformat_minor": 4
}
